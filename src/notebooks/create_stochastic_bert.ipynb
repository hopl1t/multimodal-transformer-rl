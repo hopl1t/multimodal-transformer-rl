{
 "cells": [
  {
   "cell_type": "code",
   "execution_count": 5,
   "id": "59c31c50",
   "metadata": {},
   "outputs": [],
   "source": [
    "import torch\n",
    "from transformers import BertForSequenceClassification, TrainingArguments, Trainer\n",
    "from transformers import AutoModel, AutoTokenizer\n",
    "from torch.nn import Identity\n",
    "import torch.nn as nn\n",
    "from datasets import load_dataset, load_from_disk\n",
    "from transformers import AutoTokenizer\n",
    "import pickle\n",
    "import dill\n",
    "from textattack.models.wrappers.huggingface_model_wrapper import HuggingFaceModelWrapper\n",
    "from transformers import PreTrainedModel\n",
    "from torch.utils.data import DataLoader\n",
    "import torch.nn.functional as F\n",
    "from torch.distributions.normal import Normal\n",
    "import transformers\n",
    "from transformers.modeling_outputs import SequenceClassifierOutput\n",
    "from torch.utils.data import Dataset\n",
    "from tqdm import tqdm\n",
    "from textattack import Attacker, AttackArgs\n",
    "from textattack import Attacker\n",
    "from textattack.attack_recipes import BAEGarg2019\n",
    "from textattack.datasets import HuggingFaceDataset\n",
    "from textattack.attack_results import AttackResult\n",
    "from textattack.metrics.attack_metrics import (\n",
    "    AttackQueries,\n",
    "    AttackSuccessRate,\n",
    "    WordsPerturbed,\n",
    ")\n",
    "import pickle5\n",
    "import os"
   ]
  },
  {
   "cell_type": "code",
   "execution_count": 6,
   "id": "b8d7d147",
   "metadata": {},
   "outputs": [],
   "source": [
    "class TransformerVIB(nn.Module):\n",
    "    \"\"\"\n",
    "    Classifier with stochastic layer and KL regularization\n",
    "    \"\"\"\n",
    "    def __init__(self, hidden_size, output_size, device):\n",
    "        super(TransformerVIB, self).__init__()\n",
    "        self.device = device\n",
    "        self.description = 'Vanilla IB VAE as per the paper'\n",
    "        self.hidden_size = hidden_size\n",
    "        self.k = hidden_size // 2\n",
    "        self.output_size = output_size\n",
    "        self.train_loss = []\n",
    "        self.test_loss = []\n",
    "\n",
    "        self.encoder = nn.Sequential(\n",
    "            nn.Linear(hidden_size, hidden_size),\n",
    "            nn.ReLU(),\n",
    "            nn.Linear(hidden_size, hidden_size),\n",
    "            nn.ReLU()\n",
    "        )\n",
    "        self.classifier = nn.Linear(self.k, output_size)\n",
    "        # These are cheats to make 'drill' save everythung we need in one pickle\n",
    "        self.softplus = F.softplus\n",
    "        self.normal = torch.normal\n",
    "        self.Normal = Normal\n",
    "\n",
    "        # Xavier initialization\n",
    "        for _, module in self._modules.items():\n",
    "            if isinstance(module, nn.Linear) or isinstance(module, nn.Conv2d):\n",
    "                        nn.init.xavier_uniform_(module.weight, gain=nn.init.calculate_gain('relu'))\n",
    "                        module.bias.data.zero_()\n",
    "                        continue\n",
    "            for layer in module:\n",
    "                if isinstance(layer, nn.Linear) or isinstance(layer, nn.Conv2d):\n",
    "                            nn.init.xavier_uniform_(layer.weight, gain=nn.init.calculate_gain('relu'))\n",
    "                            layer.bias.data.zero_()\n",
    "        \n",
    "\n",
    "    def reparametrize(self, mu, std, device):\n",
    "        \"\"\"\n",
    "        Performs reparameterization trick z = mu + epsilon * std\n",
    "        Where epsilon~N(0,1)\n",
    "        \"\"\"\n",
    "        mu = mu.expand(1, *mu.size())\n",
    "        std = std.expand(1, *std.size())\n",
    "        eps = self.normal(0, 1, size=std.size()).to(device)\n",
    "        return mu + eps * std        \n",
    "        \n",
    "    def forward(self, x):\n",
    "        z_params = self.encoder(x)\n",
    "        mu = z_params[:, :self.k]\n",
    "#         std = torch.nn.functional.softplus(z_params[:, self.k:] - 1, beta=1)        \n",
    "        std = self.softplus(z_params[:, self.k:] - 1, beta=1)        \n",
    "        if self.training:\n",
    "            z = self.reparametrize(mu, std, self.device)\n",
    "        else:\n",
    "            z = mu.clone().unsqueeze(0)\n",
    "        n = self.Normal(mu, std)\n",
    "        log_probs = n.log_prob(z.squeeze(0))  # These may be positive as this is a PDF\n",
    "        \n",
    "        logits = self.classifier(z)\n",
    "        return (mu, std), log_probs, logits\n",
    "   \n",
    "\n",
    "class TransformerHybridModel(nn.Module):\n",
    "    \"\"\"\n",
    "    Head is a pretrained model, classifier is VIB\n",
    "    fc_name should be 'fc2' for inception-v3 (imagenet) and mnist-cnn, '_fc' for efficient-net (CIFAR)\n",
    "    \"\"\"\n",
    "    def __init__(self, base_model, vib_model, device, fc_name, return_only_logits=False):\n",
    "        super(TransformerHybridModel, self).__init__()\n",
    "        self.device = device\n",
    "        self.base_model = base_model\n",
    "        setattr(self.base_model, fc_name, torch.nn.Identity())\n",
    "        self.vib_model = vib_model\n",
    "        self.train_loss = []\n",
    "        self.test_loss = []\n",
    "        self.freeze_base()\n",
    "        self.return_only_logits = return_only_logits\n",
    "\n",
    "    def set_return_only_logits(self, bool_value):\n",
    "        self.return_only_logits = bool_value\n",
    "    \n",
    "    def freeze_base(self):\n",
    "        # Freeze the weights of the inception_model\n",
    "        for param in self.base_model.parameters():\n",
    "            param.requires_grad = False\n",
    "\n",
    "    def unfreeze_base(self):\n",
    "        # Freeze the weights of the inception_model\n",
    "        for param in self.base_model.parameters():\n",
    "            param.requires_grad = True\n",
    "\n",
    "    def forward(self, **kwargs):\n",
    "        encoded = self.base_model(kwargs['input_ids']).logits # This is not really logits, only called that way cause we've changed the final layer to identity\n",
    "        (mu, std), log_probs, logits = self.vib_model(encoded)\n",
    "        if self.return_only_logits:\n",
    "            return logits.squeeze(0)\n",
    "        else:\n",
    "            return ((mu, std), log_probs, logits)\n",
    "\n",
    "\n",
    "class TransformerAdaptor(transformers.PreTrainedModel):\n",
    "    \"\"\"\n",
    "    Adapts between a TransformerHybridModel to a HuggingFaceModelWrapper\n",
    "    \"\"\"\n",
    "    def __init__(self, hybrid_model):\n",
    "        super(TransformerAdaptor, self).__init__(hybrid_model.base_model.config)\n",
    "        self.hybrid_model = hybrid_model\n",
    "        self.SequenceClassifierOutput = SequenceClassifierOutput  # Cheat to overload drill pickle\n",
    "    \n",
    "    def forward(self, **kwargs):\n",
    "        if self.hybrid_model.return_only_logits:\n",
    "            logits = self.hybrid_model(**kwargs)\n",
    "        else:\n",
    "            ((_, _), _, logits) = self.hybrid_model(**kwargs)\n",
    "        return self.SequenceClassifierOutput(logits=logits[0])\n"
   ]
  },
  {
   "cell_type": "code",
   "execution_count": 21,
   "id": "f0cfb2c2",
   "metadata": {},
   "outputs": [],
   "source": [
    "TEXTUAL_DATASETS = ('yelp', 'imdb', 'ag_news', 'cola', 'mnli', 'mr', 'rte')\n",
    "DEVICE = torch.device('cuda:0')\n",
    "\n",
    "def encode(examples):\n",
    "    tokenizer = AutoTokenizer.from_pretrained('bert-base-uncased')\n",
    "    if 'text' in examples.keys():\n",
    "        data = examples['text']\n",
    "    elif 'sentence' in examples.keys():\n",
    "        data = examples['sentence']\n",
    "    else:\n",
    "        raise NotImplementedError\n",
    "    return tokenizer(data, truncation=True, padding='max_length', max_length=512)\n",
    "\n",
    "class LogitsDataset(Dataset):\n",
    "    def __init__(self, data, labels):\n",
    "        self.data = data\n",
    "        self.labels = labels\n",
    "        \n",
    "    def __len__(self):\n",
    "        return len(self.data)\n",
    "    \n",
    "    def __getitem__(self, idx):\n",
    "        x = self.data[idx]\n",
    "        y = self.labels[idx]\n",
    "        return x, y\n",
    "\n",
    "def get_transformer_logits_dataloader(model, original_loader, device, batch_size=8):\n",
    "    logits_data_list = []\n",
    "    logits_labels_list = []\n",
    "    with torch.no_grad():\n",
    "        for data_dict in tqdm(original_loader):\n",
    "            x = data_dict['input_ids']\n",
    "            y = data_dict['label']\n",
    "            output = model(x.to(device))\n",
    "            logits = output.logits\n",
    "            logits_data_list.append(logits.to(torch.device('cpu')))\n",
    "            logits_labels_list.append(y.to(torch.device('cpu')))\n",
    "\n",
    "    logits_data_set = LogitsDataset(torch.concat(logits_data_list), torch.concat(logits_labels_list))\n",
    "    logits_dataloader = DataLoader(logits_data_set, batch_size=batch_size, shuffle=True)\n",
    "\n",
    "    return logits_dataloader\n",
    "\n",
    "\n",
    "def prepare_run(dataset_name, device=DEVICE):\n",
    "    if not dataset_name in TEXTUAL_DATASETS:\n",
    "        raise NotImplementedError\n",
    "    pretrained_model = BertForSequenceClassification.from_pretrained('textattack/bert-base-uncased-' + dataset_name.replace('_','-'))\n",
    "    pretrained_path = f'/D/models/pretrained/pretrained_bert_{dataset_name}.pkl'\n",
    "    with open(pretrained_path, 'wb') as f:\n",
    "        dill.dump(pretrained_model, f)\n",
    "    print(f'Saved model to {pretrained_path}')\n",
    "    vib_classifier = TransformerVIB(pretrained_model.classifier.in_features, pretrained_model.classifier.out_features, device)\n",
    "    hybrid_model = TransformerHybridModel(pretrained_model, vib_classifier, device, fc_name='classifier')\n",
    "    tokenizer = AutoTokenizer.from_pretrained('bert-base-uncased')\n",
    "    # wrapper_model = HuggingFaceModelWrapper(model, tokenizer)\n",
    "    adaptor = TransformerAdaptor(hybrid_model)\n",
    "    wrapper = HuggingFaceModelWrapper(adaptor, tokenizer)\n",
    "    \n",
    "    if dataset_name == 'cola':\n",
    "        dataset = load_dataset('glue', 'cola')\n",
    "    if dataset_name == 'mnli':\n",
    "        dataset = load_dataset('glue', 'mnli')\n",
    "    else:\n",
    "        dataset = load_dataset(dataset_name)\n",
    "    dataset = dataset.map(encode, batched=True)\n",
    "    dataset.set_format(type='torch', columns=['input_ids', 'attention_mask', 'label'])\n",
    "    train_dataset = dataset['train']\n",
    "    test_dataset = dataset['test']\n",
    "    train_dataloader = DataLoader(train_dataset, shuffle=True, batch_size=32)\n",
    "    test_dataloader = DataLoader(test_dataset, shuffle=True, batch_size=32)\n",
    "    \n",
    "    pretrained_model.classifier = torch.nn.Identity()\n",
    "    pretrained_model.to(device)\n",
    "    logits_train_dataloader = get_transformer_logits_dataloader(pretrained_model, train_dataloader, batch_size=16, device=device)\n",
    "    logits_test_dataloader = get_transformer_logits_dataloader(pretrained_model, test_dataloader, batch_size=16, device=device)\n",
    "    \n",
    "    logits_train_dataloader_path = f'/D/datasets/{dataset_name}/logits_dataloaders/logits_train_dataloader.pkl'\n",
    "    logits_test_dataloader_path = f'/D/datasets/{dataset_name}/logits_dataloaders/logits_test_dataloader.pkl'\n",
    "    \n",
    "    if (not os.path.isdir(logits_train_dataloader_path)) or (not os.path.isdir(logits_test_dataloader_path)):\n",
    "        os.makedirs(os.path.dirname(logits_train_dataloader_path), exist_ok=True)\n",
    "        os.makedirs(os.path.dirname(logits_test_dataloader_path), exist_ok=True)\n",
    "        \n",
    "    with open(logits_train_dataloader_path, 'wb') as f:\n",
    "        pickle5.dump(logits_train_dataloader, f)\n",
    "    with open(logits_test_dataloader_path, 'wb') as f:\n",
    "        pickle5.dump(logits_test_dataloader, f)\n",
    "    print('Saved dataloaders!')\n",
    "    "
   ]
  },
  {
   "cell_type": "code",
   "execution_count": null,
   "id": "9a953d5b",
   "metadata": {},
   "outputs": [
    {
     "name": "stdout",
     "output_type": "stream",
     "text": [
      "Saved model to /D/models/pretrained/pretrained_bert_imdb.pkl\n"
     ]
    },
    {
     "name": "stderr",
     "output_type": "stream",
     "text": [
      "Reusing dataset imdb (/home/nir/.cache/huggingface/datasets/imdb/plain_text/1.0.0/2fdd8b9bcadd6e7055e742a706876ba43f19faee861df134affd7a3f60fc38a1)\n"
     ]
    },
    {
     "data": {
      "application/vnd.jupyter.widget-view+json": {
       "model_id": "85cdee741d684507ba27612ed9a41098",
       "version_major": 2,
       "version_minor": 0
      },
      "text/plain": [
       "  0%|          | 0/3 [00:00<?, ?it/s]"
      ]
     },
     "metadata": {},
     "output_type": "display_data"
    },
    {
     "data": {
      "application/vnd.jupyter.widget-view+json": {
       "model_id": "89c4491fb0504a3d95aca9d96b0ad5bf",
       "version_major": 2,
       "version_minor": 0
      },
      "text/plain": [
       "  0%|          | 0/25 [00:00<?, ?ba/s]"
      ]
     },
     "metadata": {},
     "output_type": "display_data"
    },
    {
     "data": {
      "application/vnd.jupyter.widget-view+json": {
       "model_id": "c9a4ed8b75724f959d09fb22f5641602",
       "version_major": 2,
       "version_minor": 0
      },
      "text/plain": [
       "  0%|          | 0/25 [00:00<?, ?ba/s]"
      ]
     },
     "metadata": {},
     "output_type": "display_data"
    },
    {
     "data": {
      "application/vnd.jupyter.widget-view+json": {
       "model_id": "3e9ad1b7599a431c979e9fc81d8056e5",
       "version_major": 2,
       "version_minor": 0
      },
      "text/plain": [
       "  0%|          | 0/50 [00:00<?, ?ba/s]"
      ]
     },
     "metadata": {},
     "output_type": "display_data"
    },
    {
     "name": "stderr",
     "output_type": "stream",
     "text": [
      "100%|█████████████████████████████████████████████████████████████████████████████████████████████████████████████████████████████████████████████████████████████████████████████| 782/782 [09:20<00:00,  1.39it/s]\n",
      " 51%|████████████████████████████████████████████████████████████████████████████████████████                                                                                     | 398/782 [05:51<06:00,  1.06it/s]"
     ]
    }
   ],
   "source": [
    "prepare_run('imdb')"
   ]
  },
  {
   "cell_type": "code",
   "execution_count": 23,
   "id": "d1c48c17",
   "metadata": {},
   "outputs": [
    {
     "name": "stdout",
     "output_type": "stream",
     "text": [
      "> \u001b[0;32m/tmp/ipykernel_34962/1894461433.py\u001b[0m(11)\u001b[0;36mencode\u001b[0;34m()\u001b[0m\n",
      "\u001b[0;32m      9 \u001b[0;31m        \u001b[0mdata\u001b[0m \u001b[0;34m=\u001b[0m \u001b[0mexamples\u001b[0m\u001b[0;34m[\u001b[0m\u001b[0;34m'sentence'\u001b[0m\u001b[0;34m]\u001b[0m\u001b[0;34m\u001b[0m\u001b[0;34m\u001b[0m\u001b[0m\n",
      "\u001b[0m\u001b[0;32m     10 \u001b[0;31m    \u001b[0;32melse\u001b[0m\u001b[0;34m:\u001b[0m\u001b[0;34m\u001b[0m\u001b[0;34m\u001b[0m\u001b[0m\n",
      "\u001b[0m\u001b[0;32m---> 11 \u001b[0;31m        \u001b[0;32mraise\u001b[0m \u001b[0mNotImplementedError\u001b[0m\u001b[0;34m\u001b[0m\u001b[0;34m\u001b[0m\u001b[0m\n",
      "\u001b[0m\u001b[0;32m     12 \u001b[0;31m    \u001b[0;32mreturn\u001b[0m \u001b[0mtokenizer\u001b[0m\u001b[0;34m(\u001b[0m\u001b[0mdata\u001b[0m\u001b[0;34m,\u001b[0m \u001b[0mtruncation\u001b[0m\u001b[0;34m=\u001b[0m\u001b[0;32mTrue\u001b[0m\u001b[0;34m,\u001b[0m \u001b[0mpadding\u001b[0m\u001b[0;34m=\u001b[0m\u001b[0;34m'max_length'\u001b[0m\u001b[0;34m,\u001b[0m \u001b[0mmax_length\u001b[0m\u001b[0;34m=\u001b[0m\u001b[0;36m512\u001b[0m\u001b[0;34m)\u001b[0m\u001b[0;34m\u001b[0m\u001b[0;34m\u001b[0m\u001b[0m\n",
      "\u001b[0m\u001b[0;32m     13 \u001b[0;31m\u001b[0;34m\u001b[0m\u001b[0m\n",
      "\u001b[0m\n",
      "ipdb> l\n",
      "\u001b[1;32m      6 \u001b[0m    \u001b[0;32mif\u001b[0m \u001b[0;34m'text'\u001b[0m \u001b[0;32min\u001b[0m \u001b[0mexamples\u001b[0m\u001b[0;34m.\u001b[0m\u001b[0mkeys\u001b[0m\u001b[0;34m(\u001b[0m\u001b[0;34m)\u001b[0m\u001b[0;34m:\u001b[0m\u001b[0;34m\u001b[0m\u001b[0;34m\u001b[0m\u001b[0m\n",
      "\u001b[1;32m      7 \u001b[0m        \u001b[0mdata\u001b[0m \u001b[0;34m=\u001b[0m \u001b[0mexamples\u001b[0m\u001b[0;34m[\u001b[0m\u001b[0;34m'text'\u001b[0m\u001b[0;34m]\u001b[0m\u001b[0;34m\u001b[0m\u001b[0;34m\u001b[0m\u001b[0m\n",
      "\u001b[1;32m      8 \u001b[0m    \u001b[0;32melif\u001b[0m \u001b[0;34m'sentence'\u001b[0m \u001b[0;32min\u001b[0m \u001b[0mexamples\u001b[0m\u001b[0;34m.\u001b[0m\u001b[0mkeys\u001b[0m\u001b[0;34m(\u001b[0m\u001b[0;34m)\u001b[0m\u001b[0;34m:\u001b[0m\u001b[0;34m\u001b[0m\u001b[0;34m\u001b[0m\u001b[0m\n",
      "\u001b[1;32m      9 \u001b[0m        \u001b[0mdata\u001b[0m \u001b[0;34m=\u001b[0m \u001b[0mexamples\u001b[0m\u001b[0;34m[\u001b[0m\u001b[0;34m'sentence'\u001b[0m\u001b[0;34m]\u001b[0m\u001b[0;34m\u001b[0m\u001b[0;34m\u001b[0m\u001b[0m\n",
      "\u001b[1;32m     10 \u001b[0m    \u001b[0;32melse\u001b[0m\u001b[0;34m:\u001b[0m\u001b[0;34m\u001b[0m\u001b[0;34m\u001b[0m\u001b[0m\n",
      "\u001b[0;32m---> 11 \u001b[0;31m        \u001b[0;32mraise\u001b[0m \u001b[0mNotImplementedError\u001b[0m\u001b[0;34m\u001b[0m\u001b[0;34m\u001b[0m\u001b[0m\n",
      "\u001b[0m\u001b[1;32m     12 \u001b[0m    \u001b[0;32mreturn\u001b[0m \u001b[0mtokenizer\u001b[0m\u001b[0;34m(\u001b[0m\u001b[0mdata\u001b[0m\u001b[0;34m,\u001b[0m \u001b[0mtruncation\u001b[0m\u001b[0;34m=\u001b[0m\u001b[0;32mTrue\u001b[0m\u001b[0;34m,\u001b[0m \u001b[0mpadding\u001b[0m\u001b[0;34m=\u001b[0m\u001b[0;34m'max_length'\u001b[0m\u001b[0;34m,\u001b[0m \u001b[0mmax_length\u001b[0m\u001b[0;34m=\u001b[0m\u001b[0;36m512\u001b[0m\u001b[0;34m)\u001b[0m\u001b[0;34m\u001b[0m\u001b[0;34m\u001b[0m\u001b[0m\n",
      "\u001b[1;32m     13 \u001b[0m\u001b[0;34m\u001b[0m\u001b[0m\n",
      "\u001b[1;32m     14 \u001b[0m\u001b[0;32mclass\u001b[0m \u001b[0mLogitsDataset\u001b[0m\u001b[0;34m(\u001b[0m\u001b[0mDataset\u001b[0m\u001b[0;34m)\u001b[0m\u001b[0;34m:\u001b[0m\u001b[0;34m\u001b[0m\u001b[0;34m\u001b[0m\u001b[0m\n",
      "\u001b[1;32m     15 \u001b[0m    \u001b[0;32mdef\u001b[0m \u001b[0m__init__\u001b[0m\u001b[0;34m(\u001b[0m\u001b[0mself\u001b[0m\u001b[0;34m,\u001b[0m \u001b[0mdata\u001b[0m\u001b[0;34m,\u001b[0m \u001b[0mlabels\u001b[0m\u001b[0;34m)\u001b[0m\u001b[0;34m:\u001b[0m\u001b[0;34m\u001b[0m\u001b[0;34m\u001b[0m\u001b[0m\n",
      "\u001b[1;32m     16 \u001b[0m        \u001b[0mself\u001b[0m\u001b[0;34m.\u001b[0m\u001b[0mdata\u001b[0m \u001b[0;34m=\u001b[0m \u001b[0mdata\u001b[0m\u001b[0;34m\u001b[0m\u001b[0;34m\u001b[0m\u001b[0m\n",
      "\n",
      "ipdb> example.keys()\n",
      "*** NameError: name 'example' is not defined\n",
      "ipdb> examples.keys()\n",
      "KeysView({'premise': ['Conceptually cream skimming has two basic dimensions - product and geography.', 'you know during the season and i guess at at your level uh you lose them to the next level if if they decide to recall the the parent team the Braves decide to call to recall a guy from triple A then a double A guy goes up to replace him and a single A guy goes up to replace him', 'One of our number will carry out your instructions minutely.', 'How do you know? All this is their information again.', \"yeah i tell you what though if you go price some of those tennis shoes i can see why now you know they're getting up in the hundred dollar range\", \"my walkman broke so i'm upset now i just have to turn the stereo up real loud\", 'But a few Christian mosaics survive above the apse is the Virgin with the infant Jesus, with the Archangel Gabriel to the right (his companion Michael, to the left, has vanished save for a few feathers from his wings).', \"(Read  for Slate 's take on Jackson's findings.)\", 'Gays and lesbians.', \"At the end of Rue des Francs-Bourgeois is what many consider to be the city's most handsome residential square, the Place des Vosges, with its stone and red brick facades.\", 'I burst through a set of cabin doors, and fell to the ground-', 'Fun for adults and children.', \"It's not that the questions they asked weren't interesting or legitimate (though most did fall under the category of already asked and answered).\", 'Thebes held onto power until the 12th Dynasty, when its first king, Amenemhet Iwho reigned between 1980 1951 b.c. established a capital near Memphis.', \"I don't mean to be glib about your concerns, but if I were you, I might be more concerned about the near-term rate implications of this $1.\", 'Issues in Data Synthesis.', 'well you see that on television also', 'Vrenna and I both fought him and he nearly took us.', 'This analysis pooled estimates from these two studies to develop a C-R function linking PM to chronic bronchitis.', 'He turned and smiled at Vrenna.', 'We sought to identify practices that were commonly implemented by the agencies within the past 5 years.', 'The other men shuffled.', 'States must show reasonable progress in their state implementation plans toward the congressionally mandated goal of returning to natural conditions in national parks and wilderness areas.', \"well it's been very interesting\", 'He started slowly back to the bunkhouse.', \"and it's it's quite a bit i think six something is the state and and uh the rest of the pie goes elsewhere but we're in a particular part of the state that's pretty well off so it's it's like we get a lot of that back as far as local taxation goes\", \"They're made from a secret recipe handed down to the present-day villagers by their Mallorcan ancestors, who came here in the early 17th century as part of an official repopulation scheme.\", \"yeah well you're a student right\", \"it really is i heard something that their supposed to be starting a huge campaign in New York about um child abuse and stopping child abuse and it's supposed to be like it's starting there supposed to be like a big nationwide campaign and you know so hopefully that will take off and really do something i don't know there's just\", 'Postal Service were to reduce delivery frequency.', 'And in another shift in the economy, it was found that lamb could be raised more cost-effectively on lowland farms in part because of the richer, more nutritious grazing land available there and as a result Lakeland farms became less profitable.', 'The rule contains information collection requirements which will allow EPA to determine that detergent additives which are effective in controlling deposits are used and that emission control goals are realized.', \"Almost every hill has to the northeast there's a Moorish fort; no fewer than four ruined fortresses guard the harbour entrance; and two more, still in good repair the Atalaya and Galeras castles protect the sea-front arsenal, of vital importance to Spain's military.\", 'Were they in there?', \"Felicia's Journey takes place behind the eyes of its central  a young Irish girl, Felicia, who crosses the sea to England in a hopeful quest to find the father of her unborn child; and the fat, middle-aged catering manager, Hiditch, who takes a paternal interest in the lass when it becomes clear that her young man has caddishly given her the slip.\", 'In the crypt are interred the remains of Voltaire and Rousseau, Hugo and Zola, assassinated Socialist leader Jean Jaurys, and Louis Braille, the inventor of the alphabet for the blind.', \"there's a uh a couple called um oh i'm going to forgot his name now uh Dirkson\", 'Poirot, I exclaimed, with relief, and seizing him by both hands, I dragged him into the room. ', 'The word aswan actually means trade or market in ancient Egyptian, signifying its most pre-eminent activity.', 'well what the market can bear and', \"And to show just how fast Japan's new rulers were catching on, two punitive expeditions were launched against Korea and China in the grand manner of 19th-century gunboat diplomacy.\", \"When the trust fund begins running cash deficits in 2016, the government as a whole must come up with the cash to finance Social Security's cash deficit by reducing any projected non-Social Security surpluses, borrowing from the public, raising other taxes, or reducing other government spending.\", 'These organizations invest the time and effort to understand their processes and how those processes contribute to or hamper mission accomplishment.', 'and it is nice talking to you all righty', 'You have access to the facts. ', 'Build environment Engineering Manufacturing Production (all rate tooling) (1st set of production tooling)', \"As long you have your own household in order, fretting about your neighbor's spending habits is a lot like fretting about the color of his living-room rug.\", 'yeah so um also of course they they can they join the they can always join the military service they are considered citizens i believe', 'She smiled back.', 'According to the Office of the Actuary at the Health Care Financing Administration, the estimated net present value of future additional resources needed to fund HI benefits alone over the 75 years is $4.', 'Thus, with respect to the litigation services Congress has funded, there is no alternative channel for expression of the advocacy Congress seeks to restrict.', \"How do we fix this?'\", 'but that takes too much planning', 'I did not mention Monica in my lecture, but the first question I was asked was how President Clinton could do his job with all the distractions caused by the Monica Lewinsky affair.', 'Analyzing Postal Service accounts for depreciation, fuel, and maintenance for city delivery carriers, we have estimated the average city delivery vehicle cost per route.', 'Because it plays on my childhood imagination.', \"it's slow it's uh there are many better machines on the market right now for\", 'At the heart of the sanctuary, a small granite shrine once held the sacred barque of Horus himself.', 'Consider the United States Postal Service.', 'In full costume.', 'Although your journey is going to be difficult and at times you will doubt yourselves, the benefits to clients are well worth it and the satisfaction of hearing even the most recalcitrant of adversaries say that the new system is better than the one that went before is deeply rewarding.', 'Take a remarkable statistic that Shesol cites but lets pass relatively unexamined.', 'It might have seemed like manna from heaven - up to thousands of dollars dropping, often unexpectedly, into the hands of a half-million Kentucky and Indiana residents this month.', 'Get individuals to invest their time and the funding will follow.', 'i often think gee i wish i had a video camera because i could sure use ten thousand dollars so but i like things like Evening Shade with Burt Reynolds i really enjoy that and uh', 'The man on the ground thinks for a moment and yells back, You must work in management.', \"If, however, the evaluation question requires GAO to report on how satisfactory progress is or the reasons for problems in implementation, the more staff who can be on site over time, with the ricHe'st or thickest base for examining the situation as the many people involved see it, the sounder our causal conclusions and subsequent recommendations will be.\", 'The economy could be still better.', 'Hills and mountains are especially sanctified in the cult of Jainism.', 'The famous tenements (or lands ) began to be built.', 'In the midst of this amazing amalgam of cultures is a passion for continuity.', \"Putting aside stage as a horse-drawn conveyance, a popular delicatessen, a part of a rocket, and an opportunity to mock Gail Sheehy (who seems to get a free ride from News Quiz participants), this question all but demanded the invention of a violent theatrical event, and that's not easy.\", \"Entreaties to the apartment's owner have gone nowhere.\", \"Mrs. Cavendish is in her mother-in-law's room. \", \"But I thought you'd sworn off coffee.\", 'We stink all the time.', 'In an increasingly interdependent world, many pressing problems that affect Americans can be addressed only through cooperation with other countries.', \"Ca'daan continued.\", \"The rule requires broadcasters to maintain a file for public inspection containing a Children's Television Programming Report and to identify programs specifically designed to educate and inform children at the beginning of those programs and to furnish such information to the publishers of program guides.\", 'well because how how hot i mean like like in the coldest that it gets in winter down there how much is it', 'Each of the men wore leather armor and dressed in the style of heavy riders.', 'The man should have died instantly.', 'In summer the rice forms a green velvety blanket, then turns golden in autumn when it ripens and is harvested.', 'Just as the Daily Worker and New Masses , socialist papers from the 1930s, were peppered with citations of Marx and Engels, Educational Liberator is peppered with references to their libertarian equivalents--Friedrich Hayek and Ludwig von Mises.', \"To be sure that any needlework item is the genuine article (as opposed to an inferior import or machine-made piece), look for a lead seal with an M, the emblem of IBTAM meaning it's been certified by the Instituto de Bordado, Tapecaras e Arte?\\xadsanato da Madeira (Institute of Madeiran Embroidery, Tapestry, and Handicrafts), an official island organization that has a showroom/museum on Rua Visconde de Anadia, 44.\", \"I'm not into this Multivista stuff, because what is some dumpy system when compared to a beautiful hyperextension of the sun somewhere over Kuchara, when compared to the golden hue of onion fried with the kse-fi waves, when compared to the number of dividers for credit membranes in a wallet of a rich man, when compared to the magnificent smell of a briessante roll dunked in wholesome milk synthetically enriched with substances boosting the secretion of happiness hormones, that one from two years ago, not three,' Gonzo said in a tone characteristic for a man who just discovered a solution to his life problem.\", \"No matter what I ended up doing, I think I would have found some way within that profession to do public work, because that's what I was taught, Zelon said. \", 'Clark also expressed the hope that he and Redgrave could continue with their marriage.', 'The poverty, for instance, does not create the sense of shame as it does for people who live in Western countries.', 'Back on the road to Jaisalmer, one last splash of color delights the senses before you plunge into the the fields are dotted with mounds of red hot chili peppers.', \"they supplied some uh you know they were some groups uh the Vicksburg if you ever get a chance to go over to Vicksburg the battleground at Vicksburg uh there's an area there where there was uh some Texas uh groups and they had an interesting time there\", 'which i mean i think it should be anyway', 'Also, compensation committees need to understand the implications of compensation to provide incentives for management to do the right thing for the company and its shareholders versus themselves.', 'The fourth-century Roman emperor Gratianus was an early visitor, followed much later by such luminaries as the Romantic poet Alphonse de Lamartine, Queen Victoria, Saint-Sa?«ns, and Rachmaninov.', \"So, I went to court by myself and told them the truth, but it didn't do me any good.\", 'Click More Links (on the right-hand side under Miscellaneous), and from', 'and so i started watching it and all of a sudden stay tuned next week and i went what', 'no oh no oh well take care', \"'Hello, Ben.'\", 'how can you prove it', 'It displays all kinds of vehicles, from the coach that carried Napoleon to and from Moscow in 1812 to a splendid 4-horsepower Renault car from 1904 and other turn-of-the-century classics.', 'According to this executive, the town hall meetings helped improve his customer satisfaction levels because veterans identified the concerns that were most important to them, gained direct access to the VBA employees working on their benefit claims, and were better able to understand the claims process.', \"well see that isn't too bad  a couple hours\", 'In the east, Christian forces were in retreat as a new Moslem power began to rise.', 'We have been told on reasonably high authority that true charity vaunteth not itself', \"yeah and what to do when they're faced with it\", \"The  With attorneys one year out of graduate school facing an average debt of just less than $90,000 and starting salaries at legal aid organizations averaging $31,000, they couldn't afford the job.\", \"Here you'll see a shrunken head, a two-headed goat, and a statue of Marilyn Monroe made of shredded money, among other curiosities.\", \"Thursday's judge, the Honorable Charles Adams of the Coconino County Superior Court, agreed, but highly discouraged self-representation.\", 'He mostly hangs out with a group of older, Southern black men, who call him Jumper and Black Cat.', 'This elegant spa town on the edge of the Lac du Bourget has offered cures for rheumatism and other ailments for centuries.', \"right right well it's it's a beautiful city and but the problem is like first example when i was young they they took me to Las Vegas and that was the most boring place on earth\", \"'Less loud.\", \"i'm going to be able to make my own clothes\", 'The river plays a central role in all visits to Paris.', \"they're supposed to be bilingual\", 'Oh, Czarek, but will happen to us?', \"Turned out, I wasn't completely wrong.\", \"Native  'Me win, me passum heap big law ...\", 'In any case--it\\'s over.\"  ', \"The herbal extract shows success in treating mild dementia and preventing Alzheimer's memory loss.\", 'After a lightning victory over the ill-prepared French armies, the Germans marched on Paris and laid siege to the city, which finally capitulated in January 1871 in the face of dwindling food supplies.', 'That is why icons have the power they have.', 'Critical to the product development process were activities that enabled the capture of specific design and manufacturing knowledge and decision reviews to determine if the knowledge captured would support the increased investment necessary to move to the next development phase or into production.', 'Said I was foolishly proud. ', 'The word had filled his head as though the girl had whispered directly into both ears.', \"and a lot of their rules and regulations aren't real clear so we have our manager of environmental who assist the TACB which is located in Austin in writing and hey look what we've done here at TI\", \"Among these are the red brick Royal Palace, which now houses the Patan Museum (Nepal's finest and most modern museum), and, facing the palace across the narrow brick plaza, eight temples of different styles and sizes.\", \"yeah it's kind of like in Louisiana where that uh guy that's like a Ku Klux Klan member something got elected  kind of scary when you think about that\", 'or at least they try and do something about it first', \"i i'm i'm not really impressed with i mean i lived in Germany for three years i i was i'm not impressed with skiing now i like i like other you know winter sports but i'm not real thrilled about them\", \"It's a commitment to general education--a sequence of courses intended to develop critical thinking in a wide variety of disciplines--in opposition to early specialization.\", 'Theoretically scale economies in delivery are not firm specific.', 'National saving represents resources available for investment to replace old factories and equipment and to buy more and better capital goods.', 'Others complain that the superstars are over the hill, and are trotting out mediocre work.', 'Collaboration with rigorous methodologists is important, but those collaborations have to focus on what can be accomplished specifically in the ED setting.', \"you know their demographic studies that they do that show you know that everybody's IQ has dropped dramatically  or something\", 'Without the support of federal finance organizations, program managers may not be able to determine or defend the cost associated with or benefits derived from government activities.', 'The union has about 4000 members in Canada.', 'but then we started watching it and and like the new ones are pretty cool because because they got like uh like special like especially things that like fuck with your mind', 'In 2000, GNP was less than GDP because income receipts from the rest of the world were less than U.S. payments to the rest of the world.', 'Have you any tips to give us before we clear out?\"', \"and they keep taking more money from us yeah people and get and they don't have any incentive to work if we're just gonna take fifty percent of it\", 'They depended too heavily on the second great principle of contagion, and that seemed to be wrapped up with some kind of association through the signs and houses and the courses of the planets.', \"i guess the financial planners the training now we've had it for about four years here got our businesses and and and our life in line how to manage credit cards how to put away say for you know money markets and this kind of thing\", \"Richardson's need to make Picasso into a serious artist and an honorable man (instead of the inspired poetic rascal he actually was) deforms, above all, his account of Picasso's relations with women, he writes.\", \"'Uh, hi guys,' Daniel said meekly.\", 'oh um i talked to someone about San Antonio', 'A misty morning makes the scene even more evocative of the past.', 'Due to this rationalization of delivery cost in the U.S., the postal densities of the most sparsely populated areas are higher than the densities of the most sparsely populated areas of France.', 'Races are held between April and December at the Veliefendi Hippodrome near Bakerky, 15 km (9 miles) west of Istanbul.', 'The production of anhydrous ammonia in the U.S. in 2000 was approximately 17,400,000 tons (equivalent anhydrous) with apparent consumption of 22,000,000 tons and about 4,600,000 met through net imports, as shown in a 2001 edition of U.S.', 'oh yeah they do that i mean in in in north Texas they do that quite a bit where you know if you want to go to this particular movie or concert or a discounted thing the big thing down here is rodeos uh if you', 'Over the past eight years, the school acquired over $88 million of real estate in the Allston section of Boston without revealing its identity to prospective sellers.', \"uh it's but then there's so many people you get so many different opinions like well you shouldn't have well i shouldn't have to have to do this or i shouldn't have to do that and all this other stuff i don't want to get involved and\", \"um-hum so you figure one of these days you're going to go back to being an engineer is that what you think\", 'Right on the waterfront; offers a more formal atmosphere and a great place to catch a sunset.', \"To be sure that any needlework item is the genuine article (as opposed to an inferior import or machine-made piece), look for a lead seal with an M, the emblem of IBTAM meaning it's been certified by the Instituto de Bordado, Tapecaras e Arte?\\xadsanato da Madeira (Institute of Madeiran Embroidery, Tapestry, and Handicrafts), an official island organization that has a showroom/museum on Rua Visconde de Anadia, 44.\", \"However, my confidence in him, which at one time had rather waned, was fully restored since his belief in Alfred Inglethorp's innocence had been so triumphantly vindicated. \", \"(Kohler's Dictionary for Accountants) CONTRACT AUTHORITY - Contract authority is a subset of budget authority.\", 'The company once assembled, Poirot rose from his seat with the air of a popular lecturer, and bowed politely to his audience. ', 'It will be a pleasure dressing Jane.', \"Engakuji is Kamakura's largest temple complex; often wracked by fire and earthquake, 17 of the original 46 buildings have survived.\", \"In applying this requirement, the following factors may influence the auditors' assessment of control \", 'do they live close by', 'History defies laws.', 'Now conservatives are fighting back.', \" the uncompromising Vel?¡zquez portrait of ugly Queen Marianna of Austria; El Greco's powerfully mystic Christ on the Crose Ribera's gruesomely good-humored The Club Foot.\", 'There are good road connections between Sant Antoni and both CaleT?¡rida and CaleBadella, with the result that both bays have now been developed.', \"and if you yeah if you want to so at least you you know you wouldn't have any surprises you can order any type of you know service you want but you stand a good chance you know having to pick up at least part of the bill yourself\", \"The individual artisans' shops are no longer here, but you can visit a silk-weaving factory, a ceramics plant, and the Foshan Folk Art Studio, where you can observe workers making Chinese lanterns, carving sculptures, painting scrolls, and cutting intricate designs in paper.\", 'Really, Sir Ernest, protested the judge, \"these questions are not relevant.\" Sir Ernest bowed, and having shot his arrow proceeded. ', 'The house is surprisingly small and simple, with one bedroom, a tiny kitchen, and a couple of social rooms.', 'Fiction has its glories, but concealment is merely squalid.', \"um but i think in time come you're going to see that happening you're going to see um where the high risk people pay a premium but they have to find a way to prove it\", 'Are there children who need to be entertained?', 'Hopefully, Wall Street will take voluntary steps to address these issues before it is forced to act.', 'okay pro football i like two teams one the New York Giants and the second is the Raiders', \"He'd stopped wondering and now accepted; he meant to get away from here at the first chance and he was somehow sure he could.\", \"yeah it's strange because well it it's not strange because i use to be the same way and i'm even to this day  you know some vegetables really turn me off but when you read so much information that says this is a healthier way to go you know and this is what your body wants this is what your body really needs and when you think about what is what's the real reason your eating i know i know it's for taste because i'm boy am i a taste person but\", 'in public places there is one state that does that by the way', 'Once, Las Vegas showrooms were filled with top entertainment headliners, comedians, production shows, and dancing girls that could be enjoyed at a very low price.', \"uh stick on those things and they can just all that's all they have to do i mean that wouldn't cost a great deal of money and uh\", \"we have gone on trips we've bathed in streams\", 'On the mainland, an invasion of even greater significance followed in 1580, when Philip II of Spain proclaimed himself king of Portugal and marched his armies across the border.', 'This involves a morning or afternoon of theory and shallow-water work, giving you an opportunity to try out the basic techniques before committing yourself a full open-water course.', 'Initiatives completed under Phase I of the Plan include the ', \"yeah well i'm well i'm definitely for it\", \"yeah yeah glad to see y'all taken care of well the i think what changed everything and uh is uh y'all were y'all the only ones that make any money for TI here in the last two years\", \"But what he means by what he shows is anybody's guess.\", 'you know and held over for trial', 'I tipped it upside down.', 'Continue along this road to reach the pretty coastal town of Molyvos (also known by its ancient name, Mithymna), a popular spot for tourists.', 'For a screening test, high sensitivity is the most desirable parameter.', 'What involvement did other key players have in connection with these accountability failures?', \"In the violet shade of morning, Ca'daan saw Adrin standing on the dunes in sword practice.\", 'i bet even my cats could do that', 'Southeast of Saint-Jean-de-Luz is Ascain, with a village square surrounded by enchanting 17th-century houses and a typical wooden-galleried church.', 'He distinctly said you were to repair the sky.', \"Lorenzo the Magnificent and brother Giuliano lie in simple tombs beneath the sculptor's Madonna and Child, flanked by lesser artists' statues of the family patron saints Cosmas and Damian.\", 'They watched me constantly for weeks.', 'It has a staff of about 100 employees, including attorneys and support staff, in 10 branch offices.', 'First we applied three alternative concentrationresponse (C-R) functions to estimate premature mortality incidence.', \"All we've done is checked that the first two creditors divided their collective share of $125 appropriately\", 'However, little evidence remains of that era some ceramics in the museum, a few fortifications, a network of irrigation ditches.', ', chief knowledge officers or chief technical officers) that diffuse responsibility across several senior-level managers.', \"oh no well i don't find a lot of time to watch TV and a lot of the time i find it during the day when i'm rocking my little girl to sleep  so i watch a lot of reruns old shows\", 'so that will definitely help in taxes and what you will get back', 'The smart Annie was not in evidence.', 'Yes, Mistuh Reese, suh? ', 'At the heart of the sanctuary, a small granite shrine once held the sacred barque of Horus himself.', \"Postal Service's domestic rates for First-Class and Priority Mail to the inbound mail distribution described above.\", 'do you like um any rock and roll at all', 'Dining room, grill, pub.', 'What have you, my friend, he cried, \"that you remain there like, how do you say it?, ah, yes, the stuck pig?\" I explained that I was afraid of obliterating any foot-marks. ', 'But such a show would have meant the museum taking a hard look at its own, often controversial part in the art world.', \"But you will find fishermen, many of whom are direct descendants of some 600 Genoese mercenaries King Charles III rescued from captivity on Tunisia's Tabarka Island, hence the name.\", 'And while we allow people to give a kidney to their child, we do not allow them to donate their heart.', 'Unbar, Francisco! he called in Spanish.', 'The Commission is unwilling to recommend an interpretation of the statute that produces such consequences, absent an express congressional intent that such burdens be imposed.', 'Who could there be?\"', 'My wife and daughter are the ones doing Riley.', 'Take a backwaters trip through the lagoons and around the island villages.', 'Alcohol use and trauma.', \"In a culture where Xena and Hercules have hit TV shows, it's a lot more fun imagining that you are a valiant warrior doing business-as-battle than it is to admit that you're a pudgy functionary whose most daring deed is to draft a boldly worded memo.\", \"Laibson's imperfect altruists face a far subtler problem--they're not just weighing costs and benefits, they're engaged in games of strategy against their future selves.\", \"'But if they catch me...'\", 'The win brought tears to her eyes, of course, and prompted a phone call to Mom in India.', \"The New York Times ' Janet Maslin says the film works precisely because it is derivative--its stars, Matt Dillon and Gary Sinise, emulate the characters in The Usual Suspects , which gives them extraordinary opportunities to preen.\", 'The Muslim campaign for Partition was led by London-trained Bombay lawyer, Muhammad Ali Jinnah.', \"it's um it's it's amazingly less expensive than it is\", 'Automobile includes small trucks.', 'You\\'re quite safe.\" Her breath came more normally, and the colour was returning to her cheeks.', 'probably so probably so um-hum', 'After its early failure, Hubble now provides vital clues to the universe.', 'well they all come back from from the bottom', 'A library with the maximum allowable e-rate subsidy of 90 percent would still find itself paying a monthly Internet bill of $186.', 'and i was never in a minor league city until i came Dallas we were a minor league city when i came here in fifty nine and i immediately bought season tickets uh to the class triple A uh uh Dallas Rangers', 'Just a hunch.', 'The SPAN  A Guide to Legal Services Planning.', \"yeah i think they did a pretty good job but  they didn't follow it exactly but they did give it you know do it justice\", 'The Citizens of the United States of America have a right to applaud themselves for having given to mankind examples of an enlarged and liberal  a policy worthy of imitation.', 'She always says the right thing, does the right thing, wears the right clothes.', 'Leave the river briefly to loop east around Talcy, with its Romanesque church and the 13th-century chateau of Thizy, before ending your trip at Montr??al.', \"yeah and i you know i think defense really is what wins wins uh in the long run you can have the best half back there is or the best quarterback but if they don't have any blocking maybe they can't do anything\", \"'You killed Derry.'\", 'Twelve days later, I made my second.', 'The number of Arawak had already fallen dramatically, so the Spanish began to import slaves from Africa to work the land; the first Africans arrived in 1517.', \"and enjoy nature and uh kind of wipe out the stress of everyday life i'd always\", \"but i i don't ever feel the need to dress that warmly i i don't have to travel that far to work uh what what what what about uh your clothes in the winter time up there\", 'Mrs. Vandemeyer, she read, \"20 South Audley Mansions.', \"I'd call it a bad date.\", 'Traditionally a poor island, the native population has happily embraced the new seasonal lifestyle that has brought them proserity, and the old ways have almost completely disappeared.', 'For adventurous travelers looking for an introduction to the South, the rewards are rich.', 'It covers most but not all close Senate and gubernatorial races.)', 'The component may also be a contractor.', 'The point is not that investing in foreign companies is necessarily a mistake.', 'Currently OASI and DI make payments to that Account, and HI receives payment.', 'In addition to the effects on household saving choices, individual accounts may also affect the relationship and interactions between Social Security and private pensions.', 'Washington Post reports two attempts by private companies to grow embryos--a practice banned among federally funded researchers but allowed in the private sector.', 'a plausible increase in the penetration of computer ownership by households over the course of a single year.', 'But the explanation is institutional, not ideological.', 'You and Tuppence have been sticking together like Siamese twins.', 'Below the Rond-Point, the mood changes and a pleasant park leads you past two the Petit Palais, all steel and glass, and the Grand Palais.', 'Participants generally agreed that improvements in corporate governance will bring about improvements in auditing.', 'AUTHORIZING AND APPROVING ', 'Ever see a contemplative Power Ranger?', 'However, I believe that additional actions by the board and AICPA management will be needed to restore trust and confidence in the Institute over the longer-term.', 'Every tube contained a body, and every body was a famous figure from history.', 'Four sikhara domes rise above the entrance-porch in addition the mandapa hall for worshippers; a larger hall for dancing-girls; and the inner sanctuary, surrounded by an ambulatory for walking around the image of the deity.', 'The great Kanto earthquake of 1923 destroyed some 60,000 homes in Yokohama and took over 20,000 lives.', 'oh was that good i heard oh okay', 'The only adult males allowed in the Harem were the Black Eunuchs, who were in charge of security and administration.', 'Due to the amount of information now available, power has shifted from the physician to the patient.', \"i know i am um i don't know anybody in their right mind that says that that i'm doing it because i want to i\", \"Isn't that America's last bastion of mobsters, racists, and hacks?\", 'Let me try it.\" She began snapping her fingers and saying the word eagerly, but nothing happened.', 'There is also an archaeological museum that displays older relics, including examples of Mycenaean pottery.', 'There are nonetheless a number of practices and alternative strategies that senior executives in leading organizations use to help define and institute their CIO positions to effectively meet business needs.', \"By one estimate, Russia's economic output would more than double if the Russians simply sold off their natural resources instead of trying to make something out of them.\", 'Research over the last 20 years has changed the scientific view of life.', 'Perhaps he should clear out even farther and head for California.', \"yeah well uh we're not uh really sailors but i want some summer soon to um hire a sailboat with a captain since we're not you know versed in that and uh go to the Caribbean\", 'For the moment, he sought refuge in retreat, and left the room precipitately. ', 'In June you can watch dealers haggling over heaps of white silkworm cocoons.', \"The results looked like Versace melded with Blade Runner , says Newsweek 's Steven Levy.\", \"uh you know if you have a large acid spill you know well gee maybe you better check this person who's handling all these acids you know i work with a wafer fab so we do a lot with chemicals and acids and\", 'The bourgeoisie showed off its new prosperity with extravagant furnishings, silks, satins, and baubles, and in 1852 Paris opened its first department store, Au Bon Marche.', 'He waited for the group on the nearby 18 th green to finish.', \"i think so i don't know i just uh i'm unhappy with it but and well i'm i'm sort of semi fortunate right now i'm a graduate student so i don't make that much what i make isn't taxed very highly because i'm still in school\", 'He thought about ways to achieve this life goal for a long time, which means until he learned the basics of text editing, which happened at his first job at a firm trading in plastic bags landfill disposal permits.', \"Kofukuji's many surviving artworks and artifacts are housed in its newest building, the Museum of National Treasures, a fireproof repository built in 1958 to honor Kofukuji's immense cultural and historic importance.\", \"no not near as much as i'd like to i mean i've i tend to stay pretty busy at my job and uh\", 'We have a problem concerning gift etiquette.', 'The Inglethorps did not appear. ', 'equivalent to increasing national saving to 19.', \"There's a sort of bidding war going on, with law schools offering ever-increasing financial packages -- most of it loans, said Dean Glen. \", \"Today, as always, the time-honored occupations of fishing and farming support Martinique's fragile existence the delicious rum also helps.\", 'Comments regarding enforcement issues and questions raised by the regulated industry were addressed by EPA in four Detergent Rule Question and Answer Documents.', 'The Ottoman Empire surrendered when World War I ended the following year, and, following a declaration by the League of Nations (the forerunner to the United Nations), Britain became rulers of Palestine by mandate.', \"You're mad.\", 'Inside, a huge mountain of a man, even bigger than Thorn, fought with a huge two-handed axe.', 'Jon had only seen two people move that fast in his life', 'We developed technical assistance funds for creative planning projects and obtained a $15.', \"I have done my best to target unpopulated areas at unpopulated times, but the guilt still weights heavy on my soul.'\", \"5 billion, but households' wealth declined by nearly $842 billion (2 percent) largely as a result of the drop in the market value of households' stock holdings.\", \"Thurmond announced a few weeks ago that he won't run again.\", 'Auditors will need to exercise professional judgment in assessing the significance of audit results or findings.', 'Although a great deal of attention has been paid to the wealth effect from the stock market boom of the 1990s, half of American households did not own stocks as of 1998, according to the 1998 Survey of Consumer Finance.', \"Where's Tommy? \", 'Moreover, the realignment will help us to enhance our longterm capacity by improving recruitment and retention; building a succession plan; focusing on emerging issues; and leveraging technology opportunities for improvements to clients, processes, and employees.', 'The lot upon which it is being built had been vacant.', 'that if i were living in Mexico and trying to raise several children and i could see across the border where the good life would be for my children', \"Or he hasn't really thought it through, which itself would cast doubt on the depth of his faith.\", 'Network externalities are in.', 'We could use their assistance should it be needed.', \"Not a pleasant prospect and not one easily avoided---not even by any reform package or proposal that I've seen.\", \"um-hum yeah i end up well yeah i mean i do a lot of like even weekender kind of things i go out for just one or two nights uh it's not my favorite thing but i can do it a lot more often so like over at the uh particularly in the uh the fall and spring when the insects haven't come out yet uh where they're already gone uh you know i spend almost every weekend up in the mountains and i guess i live about five hours away from some place to go hiking where i am now\", 'The result was the four Raphael Rooms (Stanze di Raffaello).', 'Nonetheless, based on discussions with several states, the application review process is estimated to take approximately 38 weeks (9-10 months).', \"that can be a mess we camped at the beach one time and that was sort of miserable you just couldn't everywhere you went there was sand you couldn't even when you're eating it it was in your bed\", 'Grand row! ', 'Acidic deposition or acid rain occurs when SO2 and NOx in the atmosphere react with water, oxygen, and oxidants to form acidic compounds.', \"Pointe Pitre's cathedral, the Basilique Saint-Pierre et Saint-Paul, features unusual metal columns and balconies.\", 'Had that piquant gipsy face been at the bottom of the crime, or was it 73 the baser mainspring of money? ', 'i would sort of like to uh think about something in the way of uh uh sort of a sporty car but not any not you know a luxury type sporty one but um', \"uh no i didn't\", 'we drive sixty five oh yes well', 'Major tourist shops have forms and details.', \"Randy's Tough Love Wrap-Up\", \"yeah i'm in North Carolina\", 'He has so much experience and, as shown by the last interview, there are a lot of us out there who could benefit from it.', 'Serious auto racing arrived in Las Vegas in 1996 with the opening of the Las Vegas Motor Speedway, 17 miles (27 km) north of Downtown on Interstate 15.', 'He was watching Muller as if the sergeant, rather than his men, was the focal point of any future attack.', 'I could feel gazes on my back; people peering out from between curtains, stealing glimpses through letterboxes.', \"Good.' Natalia glared.\", 'Sophisticated research is required to tease apart the complex interactions between These variables.', 'What about me?', 'they use the the injection thing or whatever it is', ' He was here less than two days and already he thought of this town as home, something he wished to protect.', ' \"All whose true names they could find, that is,\" Garm amended.', 'Since 1917, Grand Central Market (at 317 South Broadway) has provided the city with a daily cornucopia of enticing fresh produce, fish, poultry, meat, and exotic foodstuffs.', 'According to HUD staff, after the Economic Analysis was submitted to OMB, HUD made changes in the Analysis to maintain its consistency with the rule, to which minor changes had been made as described below.', 'Had they any clue, or 103 would the whole thing remain in the category of undiscovered crimes? ', 'When he married in 1901, he and his wife (Olga Knipper of the Moscow Art Theater) went directly from the ceremony to a honeymoon in a sanitarium.', '2) House Judiciary Committee Chairman Henry Hyde said he has begun to examine impeachment procedures in the event they are justified.', 'A few schools, including Harvard, New York and Georgetown universities, already have them.', \"In such circumstances, auditors may issue a limited official use report containing such information and distribute the report only to those parties responsible for acting on the auditors' recommendations.\", \"The point isn't that polls are dishonest.\", \"but uh what's that\", 'APHIS rejected the first alternative because it believed scientific evidence permitted importation of beef from Argentina under certain conditions and not permitting such importation would be contrary to trade agreements entered into by the United States.', \"and they're going yes but in general i like to exercise i i like dance a lot so i mean i aerobics is something i'd hate to give up but\", 'He was writing a warning, not a prescription.', \"119 Cynthia was back from the hospital, and I placed my chair beside her, and told her of Poirot's wish to visit the dispensary. \", 'Sometimes such funds are devoted to retraining existing nontechnical personnel to supply them with IT expertise.', \"Rips was sufficiently enraged by Statistical Science 's acceptance of the rebuttal paper that he retained a lawyer, who advised the journal that the accusations in the article about to be published ...\", 'Stop blaming John.', \"i think on the local elections it's actually um i think um i think people vote in the larger elections because they feel like well you know the country's real important and you know if i elect if we help elect a president who's going to save us then the then the whole country will be saved but they figure local elections don't mean that much i suspect so people don't really worry about their local mayor or something figuring that you know um and i think wrongly figuring that that well what good is another mayor going to do anyway because our federal taxes are more important right now and you know and stuff like that so people think that that that they don't have um that that it doesn't doesn't matter as much whereas i think it's probably just the opposite is true i think it's probably the case that people could have more effect on a local level\", 'Kashmir remained an unresolved problem of Partition.', 'Given the assumptions and economic drivers in each of the scenarios, the AMIGA model calculates the capital investment, operation and maintenance, and fuel costs necessary to meet consumer demand for electricity.', \"and then i have a cauliflower that i would cook garlic bread green salad tea and we'd have a lemon pie for dessert\", 'All the discoveries have been made by Japp, and Japp will take all the credit. ', 'You outwitted me.', \"yeah but that's that's true just about every\", 'He was lecherous and strange.', 'For Columns 5 though 8, the only amounts that change in lines 1  and  2, compared to columns 1 through 4, are outbound attributable cost and inbound revenue.', 'You did not mention his name this afternoon, or I would have suggested your going to him for further information with my card as introduction.', 'This brought forth a small number of articulate dissensions.', \"oh yeah no that's uh that's a that's a real interesting movie and it's got a good historical perspective to it\", 'The troopers behind Muller stiffened into wooden soldiers, all expression vanishing from their features until they matched each other in exact anonymity.', 'Meanwhile, lawyers were at a premium Indians love litigation and it was ideal training for future politicians and politics had been clandestine, because it was so often fatal to express an opinion on the wrong (i.e. , losing) side.', 'In some states, it may be possible to develop and implement statewide initiatives to improve service delivery, increase resources, and enhance the capacity of the system to meet the civil legal needs of all low-income people without altering service areas or historical relationships.', 'Your guess is as good as mine.', 'Someone was applauding.', \"my dad's got a new um i guess it's an eighty nine or ninety uh Chrysler something or other it's one those transverse mounted V sixes front wheel drive\", 'Five forks guarantee real comfort, but the food will not necessarily be better than in a two-or three-fork establishment, just more expensive.', \"you know used to play it a lot when i was in school but  now that i'm married and stuff i\", 'This is a colourful Middle Eastern-Yemenite restaurant (where the downstairs is expensive, and the upstairs is less formal) with an interesting menu of meat and offal.', 'Table 7-1 shows a summary of resource demand and its effect on current supply.', 'Age, Health, and the Willingness to Pay for Mortality Risk  A Contingent', 'Yes, continued Whittington.', 'Unless otherwise noted, hotels take all major credit cards.', \"Of course, there is always the chance that the company's management has simply gone mad.\", 'This factual record provided an important context for consideration of the legal question of the meaning of the presence requirement.', 'The rest of the industry is waiting to see how much control the government demands over recovered keys.', 'The mosque is unusual in Cairo in that it has no facade it is hidden behind a protective wall with nineteen openings.', \"Warn't no Apaches, that's for certain.\", 'The Commission prepared a Final Regulatory Flexibility Analysis pursuant to section 604.', 'Kuala Kangsar has long been famous for Malay College, set amid spacious grounds near the center of town, a prestigious and exclusive school for the Malay aristocracy since it was founded by the British in 1904.', 'By the 11th century, the caliphate had splintered into a mosaic of fractious states 26 at one point, and the Balearics became an independent emirate.', \"right i think we'd have the same type of problem say with Mexico uh Canada on the other hand uh English is one of their national languages they have\", 'In this paper we examine the hypothesis that the cost model provides reasonable estimates of the unit costs of other posts of industrialized countries.', 'Should the intervention include the family?', \"It's now a school, the Colegio de Santo Domingo.\", 'These laws emphasize involving senior executives in information management decisions, appointing senior-level chief information officers, and using performance measures to assess the contribution of technology in achieving mission results.', \"i think then that's a step away from even duty i don't think they even have a sense of the responsibility\", 'It was a smaller room than the one downstairs, and there was something peculiarly airless about the atmosphere of it.', \"A delightful series of dioramas then introduce Peter Rabbit, Mrs. Tiggi-Winkle, and Squirrel Nutkin, among others, set in scenes taken from Potter's books.\", \"He held out a hand to the salamander, petted it to a gentle glow and put it back over Dave's chest.\", 'um-hum yeah it takes a lot of concentration i mean it was the type of thing i was i was making some little things for Christmas and i also made a little thing for a baby gift and uh i thought oh i can do this while i watch TV wrong', 'Its principal scandal reporter, Ambrose Evans-Pritchard, has published lots of stories on the suicide.', \"I never like to leave Canada, because I'm disappointed every time.\", 'Jon ran behind a building not yet aflame, the house where Susan had stayed a few days earlier, and prayed to any god who might be listening that they would not find any enemies behind it.', 'In her soft grey frock, with white ruffles at the wrists falling over her slender hands, she looked very beautiful. ', 'and uh i have a few health food stores that i send it to i can buy the cookies in a larger quantity than they can so i can get a deal from the uh from the main from the supplier', \"At the sight of Tommy, Julius's eyes seemed as though they would pop out of his head.\", \"Seemed that whoever the killer was, she'd let him into her home voluntarily.\", \"and even the painter couldn't give me a good estimate he said well i'll be done this afternoon you know\", \"There's a pile of money called the Social Security Trust Fund.\", 'Dave Hanson, to whom nothing is impossible, he said.', \"If Moynihan has anything to do with it, Al Gore will not get Bill Clinton's.\", 'Still, Miyajima manages to be both solemn and lively.', 'expressed about the methodology and results of the procedures to determine the federal pay gap.', 'Old salts may want to skipper their charter craft acroseopen sea to the smaller Dutch islands of Sint Eustatius or Saba, or to French Saint-Barthelemy.', 'Tomb 57, that of Khaemhat, was decorated with statues of himself and his family very rare for tombs of his class.', \"Chambers developed increasing reservations in his later years about the direction the American right was taking, distancing himself first from Joe McCarthy, then from Richard Nixon, and even from William Buckley Jr.'s National Review . But Chambers' importance lies, finally, not in his politics but in his romantic penchant for the extremes of the psychic and political undergrounds.\", 'Thank you. Tuppence felt a terrific rise in her spirits.', 'The place was a living tomb… .', 'He hired a room, and I hired one too.', 'The dramatically rising cliff of black basalt stone made the castle impregnable to all but the most wily commander.', 'somehow i hoped that as a people we could be better than than um expecting', 'He gasped for air and his head throbbed.', 'If food and medical care tripled in cost, people would of necessity spend less on other things to pay for the increase or cut down on the food and medical care they purchased.', 'yeah i i think you really have to be disciplined', \"oh okay i'll let you go\", 'In that regard, they evaluated a set of about 50 policies to improve the technology performance and characterization of the residential, commercial, industrial, transportation, and electricity generation sectors.', 'Authentic Jamaican cuisine (including jerk chicken, pork, and fish), or choose your own lobster.', 'Now, the resort and hotel complex is variously described as simply noisy to a one-stop destination for fantasy, excitement, and adventure ; your conclusion obviously depends on your point of view.', \"Given the extent of wealth it has brought to the country, it is not surprising to have a Natural Rubber Museum, which opened since 1992 at the Rubber Research Institute's Experimental Station in Sungai Buloh.\", 'Encapuchadores bind these male trees in spring to produce the pale, bleached fronds that are used in Palm Sunday celebrations.', \"up to a forty four magnum any any of them in the correct hands they're an absolutely fantastic weapon\", 'i i seems like it was on a Friday Friday or Saturday', \"I beg your pardon. A man's voice beside her made her start and turn.\", 'However, an interim program was instituted between April 4 and October 4, 1996, to maintain a basic program until EQIP could begin.', 'The Zapruder family is demanding $18 million, wanting no blood money but figuring it could fetch $70 million on the open market.', 'I am not keeping back facts. ', 'Around him stood the remainder of the Sticks.', 'He scanned the great lawyer eagerly.', 'Most organized tours generally include a night at a gazino as part of the package; otherwise you can book a table through your hotel or through a travel agent.', \"I'm in a huge, overwhelming sea of debt, said Jennifer Arons, 28, a criminal defense staff attorney at Manhattan Legal Aid. \", 'CDC Centers for Disease Control and Prevention CERT/CC CERTa Coordination Center', \"and uh when i played softball it was with the church team it was just for fun although the church team we made it to the nationals we were ranked fifteenth in the nation so i you know i'm proud of that\", 'It was at that moment that the full realization of his folly began to come home to Tommy.', 'As such, they were reviewed by OMB based on information supplied by the Departments, which included planned regulatory action documents describing the reason for the rules and an assessment of the costs and budgetary impact of the rules.', \"that it would just have to be a hobby and i'm i'm very mechanical and mechanical engineering interested me so i did that and then i you know i did that for six years and then i stayed home with my son and did nothing and found out that i was that you know it was great but i was bored part of the time too and i wanted something else\", \"um-hum yeah it's kind of it's kind of strange here the way things go uh here if you have an accident and no one's injured the police won't even show up\", \"but uh Yount has been a he's a player uh year in year out and always uh is leading the team in uh most of most of their offensive categories\", 'This is very sad news, but you will excuse me if I say that I do not see how it bears on the subject of your inquiry?', 'The next witness was Mary Cavendish. ', 'and you got to have your cranberry sauce now i like jellied kind', 'plant that emits 0.1 pounds of mercury and a plant that emits 2000 pounds of mercury - regardless of cost - is neither efficient nor necessary.', 'It was dead quiet.', \"it really is our kids are all grown and gone and away from home so our our new family is the you know our two cats and our dog we never really well we had we did have some time to devote to them you know but not nearly as much time as we have now so they've really become children they're they're real characters they really well all of them are\", 'As noted above, the LSC case count for 1999 includes all cases that meet LSC eligibility criteria, regardless of the funding mix of any particular grantee.', 'no um my husband has a grandmother in a nursing home and that has been a real mess to say the least', 'but uh because i work for uh Hal Ammon', 'yeah the current average or whatever', 'She had decided not to ask if Sir James was \"at home,\" but to adopt a more personal attitude.', 'Nor was a common start or end point identified for design review as an element of the facility acquisition process.', 'A company of handweavers has been working here since at least 1723, and visitors are able to watch them at work, but their products have become less distinctive since they expanded into a popular tourist attraction.', 'And so there are self-righteous demands for international labor  We should not, the opponents of globalization insist, be willing to buy those sneakers and shirts unless the people who make them receive decent wages and work under decent conditions.', 'Dublin is an intimate city, physically small but tightly packed, a perfect place for walking.', 'You will be able to buy it at the giftshop adjacent to the ship on your visit.', 'A third Asian neighborhood, Koreatown, lies west of downtown along Olympic Boulevard between Vermont and Western avenues.', 'The others followed.', 'Gigot thinks the tax fraud proceedings against Hubbell are legitimate and ordinary, while everyone else regards the indictments as trumped-up mini-crimes meant to squeeze Hubbell into giving Starr what he wants--cooperation.', 'U.S. economic interests through the prevention and mitigation ofmarine incidents.', 'It could be very confusing.', 'Room 5 holds objects from the final phase of Minoan civilization (1450-1400 b.c.).', 'right yeah i i spend a lot of time down in Charlotte uh and on their just the the regular TV not cable you can pick up four PB or three PBS channels', \"The magazine's humor often depended on racist and sexist stereotypes, such as wide-grinned, watermelon-eating blacks.\", 'When he looks back a year from now, Rubin said he hopes the foundation has new programs, a higher profile and a rejuvenated board.', \"But, says Lindburg, 'if you protect the panda, you're protecting the golden monkey, the monal pheasants, the takins.\", 'Adopting a unified approach to reduce SO2, NOx and mercury is better than looking at each pollutant separately because of synergistic effects.', \"In the southeast corner of the courtyard is the Turkish Sultana's House, or Hujra-i-Anup Talao (the Chamber of the Peerless Pool); animals covering every wall panel and pillar create the illusion of woodwork rather than stone.\", 'It was refurbished in the Victorian era but rendered useless by succeeding Nile dams.', 'so what do you think about it', 'Women are so large a part of the labor force that it is hard to believe that this could be true of the total if it were not also true of women.', 'Breyiana Breyiana look at me please  just a second  be quite please i can not hear i will talk to you in just a second  go ahead so she went to school out here', \"yeah actually when we were up north um but some family things changed so we ended up coming back down here and all that because it helped my husband's work but um we really would like to but we don't know if we're going to do it unless we stay here you know it\", 'yeah well i think they got i think that was almost everyone of them that he recruited uh recruited for this year', 'As a matter of fact he is.', \"here, where you should click the FIFA Online link, which you'll find on the left (under THE BASICS).\", 'Town End is full of wonderful artifacts from 17th-century daily life, such as cooking utensils bowls, pans, crockery, and hooks to hang hare and pheasants rag rugs made by the women of the household, and laundry implements such as a dolly used for stirring the clothes in the washing tub.', 'She had come to know Betty Currie very well.', 'Why come here? The torrent has started already and many other southern villages surely draw the interest of bandits.', 'It took the advent of jetliners and cruise ships for that to happen.', 'uh Malaysia four years in Malaysia and three years in the Philippines', 'By these criteria Kinsey fares well.', 'Longabaugh noted that new and creative interventions may be developed in the ED that the rest of the field will want to adapt and explore.', 'Adrienne Worthy, executive director of Legal Aid, said her agency will receive $400,000 less in federal funds in 2003, because the 2000 Census found 30,000 fewer poor people in West Virginia.', 'The show is at its best on weekend afternoons, with everything from beach boys on unicycles to rock musicians on roller blades.', 'After years of neglect it was restored, beginning in the mid-1970s, and opened to the public in 1984.', \"uh the ones we see are Americans by marriage a huge number here in Colorado Springs there's an Air Force base and an army base\", \"that's right uh-huh well you know it's just like you say there's so much stuff that needs to be done here in this country and uh you know if if you could have a thought of something like uh like a uh uh a Peace Corps sort of organization i mean this would be so useful just in uh for instance just helping old folks\", \"Flanked by some of the city's most stylish fashion boutiques and shoe stores, the quarter's main street retains the commercial tradition of its medieval name, Via de' Caleiuoli (stocking- and shoe-makers).\", \"Randall tells the Enquirer the baby, Jefferson, is named after 19 th century comic actor Joseph Jefferson but does not say if Randall actually attended any of the actor's performances.\", 'The inner courtyard, the Nasal Chowk, is one of the few that can be visited.', 'We established the program because we were concerned about the changeover, Wheeler said.', 'Sir James Peel Edgerton said you would be able to manage that for me.', \"' There were even days when I would wake up and think, 'Please God, let me die.\", 'A rickety flight of steps links with the tomb entrance before you make your way down inside to the ornate burial chamber.', \"yeah but well they vary from from place to place it's hard to tell you know how well they've been kept up how old they are and these are probably oh one of the nicest that i found and uh\", 'So the reverse hypothesis could be just as valid.', \"In the new version, Reich sticks to the transcript and accurately quotes Saxton droning on at length about studies and Godfather's Pizza.\", \"um i don't know i you know i heard a very interesting and maybe it's just the TV show or movie i was watching they were going through a trial and i think it was like on one of the the documentary TV shows where they ask for the the verdict by the jury\", \"But what about the other editors of the Daily Cal who couldn't say they'd been martyred at a campus once renowned for its leftism?\", 'Sewage was thrown into the streets from upstairs windows, accompanied by shouts of  Gardeyloo!  ', 'Such a program, coupled with appropriate measures to address local concerns, would provide significant health benefits even as we increase energy supplies and maintain reasonable electricity rates.', 'At first this resulted in an Independent Kingdom of Mallorca, under Jaume II, followed by Sanc and Jaume III.', \"An environmental expert may study the winds that flowed from the old Wingate landfill incinerator's smokestacks, and identify wide areas where people may have been exposed to toxic chemicals.\", 'You and Tuppence have been sticking together like Siamese twins.', \"if a person has done a crime so bad that the jury gives them the death penalty now the Supreme Court says we've got to give them one appeal okay i agree give them one appeal when that appeal fails within thirty days execution of sentence\", \"you mean it's that at a like a stranger a total stranger\", 'Western Spruce Budworm in the Carson National', 'News accounts agree that Arafat has finally shed his image as a terrorist and is now being honored by the White House not only as a virtual head of state but as the indispensable player in the peace process.', 'We have the advantage tonight.', \"Locked up in the desk in the boudoir, they found a will of Mrs. Inglethorp's, dated before her marriage, leaving her fortune to Alfred Inglethorp. \", 'His next two shots landed in the chests of two riders carrying long bladed sticks.', \"um i haven't kept up with uh the Texas politics other than that dirty little uh governor fight\", \"Financial  Examination of IRS' Fiscal Year 1995 Financial Statements (GAO/AIMD-96-101, July 11, 1996)\", 'Insofar as the best Japanese corporations are not the global hegemons we once thought they would be, it may be because everyone else has learned from them, which is of course exactly how competitive markets are supposed to work.', 'uh let me ask you something did you get a catalog or something from these people yet', \"We'll handle this.'\", 'It conducts numerous CLE accredited trainings each year, and coordinates bi-monthly statewide task force meetings in the areas of family, housing, public benefits, consumer, immigration and seniors law.', \"but she seems to me to be you know pretty quick and smart and she's already reading and writing and stuff like that and she just turned five last month\", 'For example, one industry case study organization sponsors a 3-month course to retrain about 2,000 legacy employees in project management skills.', 'Great billowing streaks of flame, snaking to heaven and coiling up the sky.', 'TV is the most important medium for conveying history.', \"It is especially renowned as the last center of training for the city's most celebrated residents, the geisha.\", \"One might think they'd team up, to feature a monthlong show of John Gielgud, sitting in Archie Bunker's chair, explaining the pilgrims to passers-by.\", 'Israelis are delighted that people from everywhere visit their country, and welcome you with genuine warmth.', \"Oh well, if we're not destined for matrimony in this lifetime, perhaps circumstances will someday allow me to buy you a beer or Dr Pepper or something.\", 'Adrin said nothing and Gabriel continued.', 'yeah i do that too', \"Praise goes to Kirstie Alley, who plays an aging ex-model now in the lingerie  Less frenetic than Lucy, more mature than Mary (Richard Corliss, Time ). The Washington Post 's Tom Shales dissents, calling Alley unwatchably neurotic and in a virtually perpetual feverish tizzy.\", 'Trade publishers sold 5 percent fewer books than they did the year before.', \"oh yeah that yeah they they just run all over the place don't they\", \"yeah these these people they have the big loudspeakers because they have uh democratic system just like ours where they elect their mayors and their councilmens it's really kind of funny it's it's kind of an invasion of your privacy privacy too they're going down these streets with these really loud speakers\", 'I could.', 'For the same reason regarding the statutorily mandated effective date, the 30-day delay in the effective date of a rule required by 5 U.S.C.', 'It assumes for cost-of-service areas (where most of power sales are likely to occur) that allowance allocations will not alter pricing of electricity.', \"no i've uh you you can rent people's kiln they they uh you take your pieces to their house or their ceramic shop and uh pay them there's one woman that charge ten dollars a month for fire all that i wanted\", \"well another thing that we've noticed that's uh changed over the years and uh we're not really sure exactly what we're going what we want to do with it publicly but uh the teachings uh the ideas that are taught uh don't always agree with what we would teach them either from a standpoint of morals or from a standpoint of how to handle a given situation\", 'My beloved Sox beat the Indians.', 'I do, Dave Hanson.', 'After relying exclusively on overseas trade, Venice created a new land-owning aristocracy through this expansion.', \"He's a freakish Peter Pan--the juvenile delinquent who wouldn't grow up.\", \"oh yeah they they spent more money last year than any other team in the in the league and they were you know toward the bottom of the league uh so it's like i said spending money doesn't guarantee you uh winning a pennant it really doesn't so\", 'But too often downsizing means what it has in the Union Pacific  fewer people doing more work.', 'so i i know the people at TI who are doing this and i heard about it so i called them and ask if i could could participate and uh', 'However, WTP is generally considered to be a more readily measurable and conservative measure of benefits.', 'Some 30 years after his death, the theaters had been destroyed, the actors dismissed and the playwrights sent into exile.', 'But if the Chinese did try to buy favor with the Democrats, it may have been because they already owned the Republicans.', 'We also show how the advocate component of statewide websites promotes effective representation by sharing legal resources and expertise - generally a function of legal work supervisors.', 'Kagoshima dominates the head of a deep indentation at the southern tip of Kyushu, and its harbor has played a prominent role in Japanese military history.', 'The corrida always starts on time even if the clock occasionally has to be stopped.', 'Instead, Intel makes real things.', 'The New Territories can be explored by taking the Kowloon Canton Railway (KCR), which makes 10 stops between the station in Kowloon and Sheung Shui, the last stop before entering China.', 'Because Mademoiselle Cynthia does not take sugar in her coffee.', 'For years, Congress has been working to increase the effectiveness of information and technology management in the federal government.', 'NJP operates CLEAR--Coordinated Legal Education and Referral System-- to provide telephone and internet-based referral, advice, brief service, community legal education and intake services throughout the state.', \"you're very fortunate well i ran into a problem with my car uh course we have a little colder weather up here and i had set the emergency brake after we'd had a freezing rain apparently\", 'It is wild and windswept, and its limited vegetation a far cry from the lush green interior.', 'Republicans face the prospect of running in 1998 with a discredited, unpopular speaker who is nonetheless impossible to dethrone, and with no record of accomplishment.', \"From sandy beaches, broad brown rivers, and deep forests, to rising skyscrapers and wide expressways, Malaysia is set to exceed visitors' expectations.\", 'Before 1980, federal law prohibited interest to be generated on checking accounts maintained by federally insured banks.', \"Three centuries later, not that much has changed ' a score of international banks have their offices here, along with celebrated jewelers, the Ministry of Justice, and the Ritz Hotel.\", 'They can even sit next to the driver.', \"so you don't really feel like you're really working that hard do you when you're in the water\", \"Jon, still looking through Adrin's eyes, saw a wicked sharp blade burst through the Kal's chest.\", 'Our analysis of the Clear Skies Act includes a quantitative estimate of only two environmental  recreational visibility and ozone effects on agriculture.', 'Several recently refurbished rooms display over 1,700 objects found at the tomb of Tutankhamun by Howard Ceter in 1922.', 'It is \\'up to them\\' ”as you say over here.\" Then, suddenly, he asked: \"Are you a judge of finger-marks, my friend?\"', 'So-called Houston! This one problem, Denise, or maybe Dennis, was repeating.', 'Analysis of this information revealed that no two of these organizations defined the design review process and its various elements in exactly the same manner.', 'I hoped and prayed it would not occur to John also. ', 'It is also part of the Slate magazine permanent collection, a k a The Compost, and you can see it again by clicking here.', 'okay i uh i have five children all together', \"But don't let that discourage you.\", \"What's completely intolerable is to be accurately quoted and seen--even by yourself--to be no better than you actually are.\", 'But as Mir floated in orbit, the Soviet Union fell apart.', \"Thus, on close scrutiny, the Zapruder film's ultimate revelation is that Abraham Zapruder was himself a conspirator.\", 'so we took the wiring harness out and the engine and the transmission and everything else and we put it into the the the shell that was burned we had the shell all sandblasted and painted and he he pretty much built me a car so', 'A Utility Maximizer wants to acquire many things, including cash, but also such things as trips to the beach, time to watch TV, adorable grandkids, and (probably most important in this case) professional prestige.', 'Anyway, there\\'s no way to identify the owner or owners \"Anse picked up The Three Musketeers .', '4 million, which will be divvied up nationwide.', 'yeah because everybody else is growing', 'They are heeding the call of a growing pool of law schools, which are for the first time pointing graduates in a new direction and teaching them how to get there.', \"i've had a chance to i had a chance to terminate and uh L O A and back to L O A\", \"no i'm not in Cape Cod i'm uh oh about a you know five minute ride from Rhode Island\", 'That you value your origins, that you cradle old stories and remember old morals.', \"Then he has to fudge his faith so that people who don't share it won't take it seriously.\", 'Strike a match to see the effect.', 'A number of related measures can be used to measure changes in visibility associated with reduced fine particle concentrations.', \"'Exactly,' he nodded.\", \"As an example of urgent pro bono need, Dean Glen cited the Civil Court of New York, the nation's busiest.\", 'Julius, said Tuppence firmly, \"stop walking up and down.', 'Gaaaaandhi, gone gone gone.', 'Time describes the crash landing in vivid detail (right down to an alien giving first aid to a wounded colleague), then concedes that the downed spacecraft was undoubtedly a military balloon.', \"For that, they'll need to sign certain contracts.'\", 'When the American diplomat who supervises the international peace monitors in Kosovo accused Serb police of the massacre, the Yugoslav (i.e.', 'Today, the Loire is a sleepy waterway, running deep only with heavy rains or spring thaws, and its sandbanks and mud flats become islands during the summer.', \"Sometimes the people who represent themselves don't even know the significant facts of their case.\", 'Using lower cut points for females may maximize screening test performance.', 'For certain types of work to be performed at an agency, GAO may initially provide only telephone or e-mail message notification.', 'Situated 85 km (53 miles) northwest of Paris by the A13, D181, and D5, or by train from Gare St-Lazare to Vernon with a shuttle bus from the station to Giverny.', \"Ca'daan felt his heart jump.\", 'We have examples of these in the giant outer planets.', 'okay uh are you in the market for a new car', 'White nodded.', \"um me i'm a firm believer in that if you got it spend it\", 'Adequate DO is maintained by replacing the air above the water in the bags with oxygen from a compressed gas cylinder, and sealing the bags or by use of an airstone supplied by a portable pump.', 'Not all falsehoods, of course, are lies (the key ingredient in a lie is intentionality).', 'They were pushing the pace all right.', \"Greenhouse gas emissions should be addressed in the context of climate change, which is being undertaken by the President's Cabinet level working group.\", 'I had a slew of comfortable rooms with cushions everywhere, and a fridge forever stocked with fatty foods.', 'Net personal savings', '1.7, formerly methodology transfer paper 7.', 'Over the past two decades, Comart has seen the role of Pine Tree change in response to federal funding cuts and stricter regulations.', 'Mangrove trees and shrubs grow on coastal marshland in the brackish zone between the sea and fresh water.', 'we can hook it into our uh a video or uh stereo system and uh put music to the film and that will cut out all the background the noise of the uh recorder running and that', 'U. S. Army Corps of Engineers (USACE), Construction Industry Institute (CII),3 and other FFC efforts, as well as others, to augment the study.', 'Under current law, LSC recipients may provide legal assistance to an alien if the alien is present in the United States and falls within one of several designated ', 'Edinburgh Zoo has a penguin parade every day during the summer.', 'His problem, he said, is the current hiring freeze imposed on all city agencies.', 'But a closer analysis of the weather map suggests Mother Nature actually favors the Democrats this year.', ' Elsewhere, great events were changing the shape of the world.', \"Shenzhen was China's first Special Economic Zone.\", 'Reservations for hotels, jungle lodges, and flights to and within Nepal can be hard to confirm in the busiest seasons if you wait too long.', 'What missions or functions is the acquisition to support?', 'He might have stowed them there in a hurry.', 'Still, the Johnnies will wait now.\" In the general relief at Inglethorp\\'s approaching departure, we had the most genial breakfast we had experienced since the tragedy. ', \"oh the potato they were they're delicious but they you don't get seem to get that much for the space they they do\", \"Local columnists have pointed out a number of errors and unsubstantiated stories in Davis' two books about Los  City of Quartz (1990) and Ecology of Fear (1998).\", 'However, if it is obtained in order to engage the patient in treatment, the information is protected under the above federal regulations that require the express, written permission of the patient before it can be shared with others.', \"Then after everyone's gone, stay on to see the marvelous 13th-century sculpted Angel's Pillar (Pilier des Anges) in peace.\", 'Seven thousand troops under Sir Ralph Abercromby landed east of San Juan and blockaded the city.', \"The amount recorded by both entities is the transferring entity's book value of the asset.\", 'Alternatively, he could have used his address to the Christian Coalition last Friday to criticize religious intolerance.', 'The Duddon Valley and the rolling hillsides around the village of Ulpha were much favored by Wordsworth.', 'But there are different kinds of fishing.', 'Buy soon or you may miss the chance.', 'Since NOx emissions result in formation of ground-level ozone, reducing NOx emissions will reduce ozone levels and thus reduce the deleterious effects of ozone on human health and ecosystems.', \"i think if you know the cities locally you know they'd get more programs going so that you could do that it'd make it a lot easier so\", 'White looked up at me, quite slowly.', 'An experienced diver may prefer moving onto the Sinai, where the diving is even better.', \"The value of Philly's program, observes former New Jersey Superior Court Judge Daniel R. Coburn, is that it separates the minnows from the sharks, then holds the minnows accountable and hence less likely to become sharks, let alone become the predatory Great Whites we must incarcerate.\", 'As Krishna, he is usually depicted with a blue face, an after-effect of swallowing a poison that threatened the world, and is often represented playing a flute or sporting with the milkmaids he seduced.', 'MSNBC, USA Today, and Yahoo!', '(5)(A) The term baseline heat input means, except under subpart 1 of part B and section 407, the average annual heat input used by a unit during the three years in which the unit had the highest heat input for the period 1997 through 2001.', 'As European power-brokering turned into World War I, Egypt became vital to the British, being close to the enemy Ottoman heartland, and allowing quick passage through the Suez Canal to her dominions in India, the Far East, Australia, and New Zealand.', 'you know kids', 'part of its infrastructure to help managers run the entity and achieve their aims on an ongoing basis.', 'Who is Stark? asked Jon.', 'If you would like a more novel, self-drive way of exploring the desert, hire a Quad Runner.', 'Because companies know they have to deliver high-quality products quickly and affordably, they limit the challenge for their program managers and provide strong incentives to capture design and manufacturing knowledge early in the process.', 'You enter by the Carriage Gate, where, on the rare occasions they were permitted outside, the women moun?δed their carriages.', 'Hindu ethics say that the path to salvation has three  righteousness, prosperity honestly achieved, and, not least, pleasure.', \"There are some smart people--most notably Harvard's Jeffrey Sachs--who believe that, but my view is that Asian economies had gone seriously off the rails well before last summer, and that some kind of unpleasant comeuppance was inevitable.\", \"They celebrate the U.S. women's comparative innocence.\", 'There we found an open door, flapping in the breeze.', \"uh i'm i'm not real sure that the young girls of today are being forced into the job market as many of them imply i think they're going in by choice\", 'That goddamned hamster dance.', 'At 1,467 m (4,813 ft) it dominates the lush and rugged south of Basse Terre.', \"uh i work on my own i've got an nineteen eighty Trans Am that i've had uh since it was new\", 'Rock, Folk, and  The Royal Dublin Society in Ballsbridge holds huge open-air concerts, including rock, folk, and jazz.', 'A legitimate businessman, Hughes was nonetheless eccentric and dramatic, a style suited to the Las Vegas ethos.', '...Roman, that you have an enormous amount of experience in the field of telecommunications.', \"yeah uh-huh yeah we're not too far behind i graduated in seventy one so i'm i'm same generation i i'm it's going to be a short conversation because i agree with you i i think uh i don't i don't even think it ought to be uh voluntary i think it ought to be mandatory\", 'so but uh Denny Crum ran his mouth a little bit too much', 'yeah well about that same time branches were falling off ev erywhere and we were actually in a state of emergency for two weeks', \"This is the most easily accessible of the New Territories' walled villages.\", 'One of his arms was a hook.', 'LSC strongly encourages all its grantees to obtain other funding for the client community that Congress has legislated is eligible for LSC funding.', \"No, I can't say it did. \", \"and uh you know people say you know it's expensive for to send kids to college but if if an everybody would be a little bit responsible you know it's like what what does it cost it costs five hundred dollars a semester suppose that they go to a state college and they live at home\", 'We recognize that federal agencies, including GAO, might be able to achieve some additional savings by taking more advantage of frequent flyer miles for government travel.', 'Today, a reinforced-concrete replica reproduces only the great five-storied tower, 42 m (138 ft) high, surrounded by moats and ivy-covered ramparts.', 'Today, a visit to the quarries, just outside town, reveals some of the secrets of how the ancient Egyptians worked the stone.', \"Moreover, CBO's inflated baseline assumes that discretionary spending-which is controlled through annual appropriations-will grow after 2002 at the rate of inflation.\", \"no no they don't and you know they're just real shallow people\", 'yeah yeah well i have we have a uh recreation center which is almost right across the street from our uh office', 'However, the Court has since explained that the Rust counseling activities amounted to governmental speech, sustaining view', \"that get the kind of control that's bad you know and that their governments can become so corrupt and it's like well uh you know i use to feel like\", '1. Emergency medicine physicians should increase their knowledge, skills, and confidence in alcohol screening and intervention.', 'The kiosk used by Williams is part of a statewide effort to cope with a flood of litigants who cannot afford or refuse to hire lawyers.', 'This great civilization came to a sudden, catastrophic end around 1450 b.c.', \"'He did this happen?' Natalia asked, gesturing to a window.\", 'uh-huh so that might lead you to a biased uh decision perhaps if you were uh-huh', 'oh just to see just just to check on a lab', 'I can only hope we can save them, thought Jon.', 'Why didn\\'t you kill me off at once before I regained consciousness?\" The German hesitated, and Tommy seized his advantage.', \"but i like Bradshaw as a quarterback and i think uh Joe Montana's probably one of the finest and John Elway i believe that fellow if he had some different people in front of him he would be on par with with Joe Montana because i really think that Denver did not do much for Elway and his career except make him look bad on times when he really should not have looked that bad\", \"uh shoot i can't even think of the name of it now\", 'Perfectly sickening the way those brass hats drove from the War Office to the Savoy, and from the Savoy to the War Office!', 'And yet...they looked at me with awe.', \"oh so what they're doing they're discounting for cash is the way they're because i think it is illegal to add a surcharge so\", 'The AIB delivers real-time information in the banner.', \"yes um-hum uh but you know back to the idea of parents i my my personal feelings is that parents need to be taking more responsibility i think the way i like to look at it you know a lot of people look at well whose job is it to teach the kids well it's the school's job i think whose job is it to teach the kids well primarily it's the parents job\", \"yeah we do that too we're fortunate though this year somehow how it's only March and we've already used up our entire amount i don't know if that's good or bad\", \"hm yeah i i enjoy volleyball i'm just not very good at it and i end up just\", 'Well what of it?', 'Federal Acquisition Streamlining Act of 1994 (FASA) (Public Law 103-355) a This law requires agencies to define cost, schedule, and performance goals for federal acquisition programs (to include IT projects) and monitor These programs to ensure that they remain within prescribed tolerances.', \"you know twenty dollars for tests and forty dollars for this and and you know and it creeps up on you you don't know that you know  you really you you don't know what it's gonna cost until it's all over\", 'That first glimpse of the towering, steepled abbey rising from the sea on its rock is a moment you will not forget.', 'There are two facts of significance.\"', 'This is all pure  high-toned and irritating, vibrating with barely curtailed snobbism, but also venturing hard queries and unpopular responses.', 'Cold Mountain is advanced humbug.', 'Unfortunately, these are trappings that come with billion-dollar price tags attached.', 'Respectfully yours,', \"yeah that's easy to do it's very easy to do and it's i don't it do you find it easier to i mean do with a budget do you feel like you're you do i mean i know you said you have better control but\", 'Physicians are unlikely to screen if it affects their legitimate expectation for financial remuneration for patient care.', \"I've always heard you Revolutionists held life cheap, but it seems there's a difference when it's your own life 197 in question.\", 'In between was a column of riders, lighting fast and able to cleave into any resistance the two groups of foot soldiers ran into.', 'FEMA personnel will be on hand to meet with flood victims to answer questions and provide recovery information and written materials about various assistance programs.', \"He doesn't need a cover story or another job as a high-powered media executive, so he has no incentive to lie about his departure.\", 'yeah i just wish it was a little more convenient convenient to do you know', 'Once in production, programs will cut quantities to maintain funding or once fielded, they rely on the operations and maintenance budget to pay for reliability problems not solved in development.', 'He also noted that any such upgrade would be a large and expensive effort, and that it was unclear when, if ever, hypertext links could be added to the Federal Register.', 'Comments on classified or restricted reports should be transmitted in the manner agreed to by GAO and the agency.', 'To give the reader a basis for judging the prevalence and consequences of these findings, the instances identified should be related to the population or the number of cases examined and be quantified in terms of dollar', \"The best book in many years on Washington media, says the Weekly Standard 's Andrew Ferguson.\", 'Professor Cleveland worked for two years (1994-1996) for Florida Legal Services as a Skadden Fellow, conducting civil impact litigation on behalf of Caribbean H-2A migrant farmworkers in the southeastern U.S.', 'Figure 6-3 compares the available boilermaker labor to the demand from the electric utility industry which includes the retrofits from the Clear Skies Act.', \"He and his schoolteacher wife, Linda, probably didn't know they were starting out on the poor side.\", 'This is a pity, for his caustic tone and shallow glosses undermine what is a bold and worthy  to write a readable one-volume history of the American people.', \"and it was summertime the air conditioner was on the door was closed and i couldn't knock because i had to hold the jack with the other hand i finally with my elbow rang the doorbell and mother came to the door\", \"Any sure thing attracts too many hackneyed ideas, like Wolff's, and too much foolish money.\", 'Therefore, discussion of some of the applications described here is based on relatively extensive field experience (with questions in such domains as justice, education, welfare, environment, housing, and foreign aid), while the discussion of some of the other applications is based on more constrained experience.', 'Shops are generally open from 9:30 a.m. to 7:00 p.m.', \"either either do i they they i don't know i don't know how anybody can fall into this you get cash back and buy into that because\", 'Advertisement, replied Tuppence promptly.', 'And quite a different class from them two detectives from London, what goes prying about, and asking questions. ', \"The Administration will not support any legislation that would cause a significant decline in our nation's ability to use coal as a major source of current and future electricity.\", \"Other publications can be cavalier without worrying about squashing an author's budding career.\", 'What about meals? inquired the practical Tommy.', \"The numerous six-pointed stars set in the abutments of the main arches are not the Jewish Star of David but an esoteric emblem that you'll see all over the country.\", 'Only the squeamish will object to the giant toads and harmless little white cave-racer snakes.', 'Interest on Treasury securities held by revolving funds.', 'Accordingly, we submit a total of cases closed for 1999 of 924,000.', \"The short man there--he's Garm.\", 'We saw the murder in their eyes and the blood on their hands.', \"yes it really is and that way we're not really missing anything out you know of those children uh-huh\", \"no no i'm i'm New England Massachusetts\", \"Mainly owing to the mater's activities. The village of Styles St. Mary was situated about two miles from the little station, and Styles Court lay a mile the other side of it. \", 'Moreover, the U.S. and worldwide ammonia business is struggling because of slumping domestic demand and increased global capacity for the product and other nitrogen fertilizers derived from it, such as urea.', 'A survey of the history of Spain its tradition, grandeur, art, architecture and mix of cultures is crammed into this small city on a Castilian hilltop.', \"We all knowed he was comin'.\", \"'You killed my friend.\", \"Behind the stage was the Gladiators' Barracks, where 63 skeletons were found.\", \"uh  uh my husbands retired but he's not a gardener he he he's been helping me more but he really isn't real uh real crazy about gardening\", \"and uh so that's that's one thing that's good\", \"I wouldn't worry about my youngster.\", 'two yeah yeah and then of course Indianapolis which is only a hundred miles away from us has the Colts yeah', 'Just before tea, I strolled down to tell Poirot of the new disappointment, but found, to my annoyance, that he was once more out. ', 'go to London quite a lot and see shows down there', \"The basement is a square kilometre in size, and that's the lab.\", \"yeah i don't mind the heat that much it doesn't bother me that much cold weather i just i don't know i just can't tolerate too much with the\", \"Near the centrally located Japan Railways station is the first sign of the Portuguese role in the city's fascinating history.\", 'The Legal Services Corporation Board of Directors adopted Resolution 98-011, on November 16, 1998, providing authority to establish the Commission with the express purpose of studying the presence requirement for the representation of eligible aliens.', \"LSC requires its grantees in each state to work with each other and equal justice stakeholders to develop justice communities that best respond to clients' most compelling needs, ensure the most strategic and cost-effective use of all available resources, and maximize the opportunity for clients statewide to receive timely, effective, and appropriate legal services.\", 'Consequently, the motivational mechanism is not clear.', \"You won't envy the men and women you see working in the fields under the blazing sun, but they're never too tired to return your wave with a smile.\", 'The majority of eating places in Istanbul and the Aegean resorts offer the standard fare of bread, salads, kebabs, and seafood.', 'This usually does not take up as much room as the SCR reactor itself.', 'The city also has more than a dozen specialized book shops; two of the most famous are the Bodhi Tree on Melrose which carries metaphysical and New Age titles, and Book Soup on Sunset Boulevard, which also carries international newspapers and periodicals.', 'Regardless of the timing of recording T and A data, management must have in place a system of control techniques that gives reasonable assurance that the recorded information reflects time worked, leave taken, or other absences.', 'Suddenly Julius came to such an abrupt halt that Tommy cannoned into him.', 'Real jade is extremely expensive, and you may be offered counterfeit jade, which looks exactly like the genuine article.', \"Well, I've always had a secret hankering to be a detective!\", \"i had stuff for like Sanger Harris and you know it got up like to couple of hundred dollars and i thought well that's okay cause all they wanted was ten dollars a month right  i wasn't thinking a thing about it\", \"We're told of Estella's inner struggle--of the tug of war between the punishing cock-tease that her aunt has engineered her to be and her inherent decency--but the conflict isn't palpable in Paltrow's paltry performance.\", \"He hasn't had a new thought for 20 years.\", 'Fifty km (30 miles) further south is the Temple of Edfu, the second biggest temple in Egypt, and one of the best-preserved.', \"do they are they yeah okay they're so they're still he's still doing it then huh oh i'll have to tune in\", 'Its two cinemas present a varied program of new international and archival films.', \"oh i see so if you have fresh dirt they'll\", \"it is comforting to me to see uh more concern about some of these things that that cost us money especially when we have dwindling uh resources such as oil that's burning out of control in in the Persian Gulf and and so forth just just every little bit does it makes me feel better it it makes me feel like well there may be something left for my children my nieces and nephews and so forth\", \"right yeah yeah no i i agree with you there though i mean they want to choose that particular religion then that's fine with me too you know as long as they don't try and pull me in and drag me in and and i don't like the way that they do it either and and it's their mission as they do as they go door-to-door and they go out into the public and they actually have the uh teenagers serving two years like you would say like in an army and two years in going around and doing missionary type work and i don't know i just um i just don't particularly care for that at all and that that's one thing that i feel really strongly about though is uh you know people coming up to my door especially religious organizations and wanting to uh you know to try and get me to join or you know become interested in their religion because i have my own\", 'Be it enacted by the Senate and House of Representatives of the United States in Congress assembled,', '(Actually, you could have as many judges as you wanted, as long as you ignored all but one of them.)', 'and what will a shot be will a shot be an ounce', \"On boulevard des Capucines, retrace the footsteps of Renoir, Manet, and Pissarro as they took their paintings to Nadar's house, signposted at number 35, for the historic 1874 exhibition of Impressionism.\", 'I saw a path at the side of the road.', \"well they may yeah i think eventually but some men don't see some men just don't care\", 'At the opposite extreme are massive, almost riotous processions of thousands of bellowing, sweat-drenched men fighting to carry a huge portable shrine through the streets to a symbolic destination.', 'The Liberal Humanitarians (a k a Red-Tailed Hawks)', \"An' th' stolen Mex hosses, they's drove up here an' maybe sold to some of th' same fellas what lost th' others.\", \"i told my husband well is this weird because see what people don't understand is even the people that work in the nursing home they will get old one day\", 'Here\\'s half a crown for my share.\" Tommy was holding the paper thoughtfully.', 'you ever serve that yourself when you have company', 'One of the most popular excursions from the Aegean resorts goes to the spectacular travertine terraces of Pamukkale (the Cotton Castle), which lie above the town of Denizli, about 200 km (125 miles) inland from Kuradase.', 'Attorneys praise Zelon for her thorough understanding of the law.', \"We don't have much leeway around that 'one or two drinks a day,'  he said, and what isn't known is whether encouraging moderate drinking will also encourage excessive drinking.\", 'But then I realize how superficial that attitude is.', 'Probably no one will even notice you at all.\"', \"i like it and what i've been thinking about doing is volunteering for this uh Asian center that a Doctor Falk has started that works with the school district and doing what\", 'Sir Ernest Heavywether made short work of her, and under his unmerciful bullying she contradicted herself hopelessly, and Sir Ernest sat down again with a satisfied smile on his face. ', \"you know i mean that's the kind of things you know people that she's keeping and showing that this was a big waste of time it was a waste of paper it was a waste you know to change something like that so\", \"Which brings us to the third side of Rockefeller's personality and the main theme of the book, that of empire-building.\", 'I only wanted to tell you something.', \"There is now a chapel occupying the site, which has long been a place of pilgrimage, but the building's foundations may date from the first century.\", 'Unionization is a bad idea that will only make things worse.', \"defending the decision to deny benefits will deliver the government's message in the litigation.\", \"At its southern end you'll find The Old Cataract Hotel, harking back to the days of Edwardian elegance.\", 'oh yeah before they started all this stuff', 'During the comment period APHIS also held four public hearings at which both oral and written comments were received.', 'Its spacious grounds are a magnificent example of the strolling gardens favored during the Edo period.', 'Additional circumstances associated with public safety and security concerns could also justify the exclusion of certain information in the report.', \"How terrible it is to reach the end of one's life, Monet had written in 1899, after the death of the landscapist Alfred Sisley.\", 'and so um yeah uh yeah i guess i usually do i like to cook um heavy sauces and um', 'that could be it  could be it', 'Leather Goods.', 'City Residential, Business All Businessb and Mixed Rural Park &amp; Total All Foot Curb Loop Total', \"LSC's State Planning Initiative is premised on the belief that LSC-funded programs \", \"oh that's a nightmare\", 'Then, by Heaven, snarled the Russian, \"we will see  \" But Mrs. Vandemeyer also rose to her feet, her eyes flashing.', \"Core competencies and supporting  The agencies identified core competencies and supporting behaviors for senior executives to follow that are intended to contribute to their agencies' achievement of performance goals.\", 'For those who like other horse-riding activities, there is also an equestrian center that organizes exhilarating rides on the beach and trips along guided trails through the surrounding hills.', 'Now we accept our standing and limitations.', \"and i'm sitting there thinking to myself uh-huh sure\", 'It sure is, drawled Tuppence, \"especially when old man Rysdale backs the bill.', 'On the other hand, Mrs. Inglethorp had no candlestick in the room, only a readinglamp.\"', \"The Kal pushed Ca'daan aside with one powerful hand.\", \"i don't know i think they'll go i think they'll they're good but they're not great but i think they'll\", \"restoration to his home i think that was called back because of all the flack they received but but that's the another one of the big examples of why we're in such dilemma\", 'Of course, we might do something about it, if you really converted.', \"But the real problem with diGenova and Toensing isn't their pundit addiction or their neglect of an investigation that Democrats would just as soon they neglect anyhow.\", 'You have to have a lawyer to show them you mean business.', 'RESEARCH AND DEVELOPMENT ANNUAL STEWARDSHIP INFORMATION For the Fiscal Year Ended September', \"'Daniel!' I hissed, slamming the door shut behind me.\", 'All of the men continued to watch him as if his actions were highly significant.', 'For a moment, there seemed to be a touch of friendliness and respect in them, but there was something else that Hanson liked far less.', \"Campbell's body was never recovered.\", \"and uh we do this for the community they put those on so i so i think you know we're probably reaching a successful stage and and just with voluntary i think\", 'Along these same lines, I was recently in a retail store and the clerk had on a summer dress.', 'Why not? The girl hesitated.', \"On the right, you'll come to the Art Deco Byzantine-style tower of the YMCA, designed by the firm that also planned New York's Empire State Building.\", \"i really don't watch that much TV what i do is i tape the programs i want to watch and then on the nights i can watch i'll pick out something but um\", 'For years, federal agencies have struggled with delivering promised system capabilities on time and within budget.', \"Rupert Murdoch is rumored to be interested in buying it and turning it into a West Coast version of the New York Post . A circulation-hungry Willes vs. the rapacious  That's just the kind of fight the American newspaper industry needs.\", \"It runs advertisements for its supporters at the top of shows and strikes business deals with MCI, TCI, and Disney, but still insists it's not commercial.\", 'What do you mean?', 'As I write, the house is alive with flowers and foliage, and it is starting to snow again.', \"yeah i mean they're not helping anybody that's the that's the whole point they're not doing anything for anybody except themselves\", 'Equally stunning views of Funchal and surroundings can be enjoyed at Pico dos Barcelos.', \"make sure that they didn't have to do it again  make hot dogs or some potato chips or\", 'Totals may not sum due to rounding.', 'and it it was tough understanding understanding those folks', 'And no one will be nicer.', \"to Provide Effective OversightofDesignReview   define facility requirements in relation to the agency's mission, assess facilityrelated mission impacts, and conduct facilityrelated strategic\", \"Jon placed a hand on San'doro's shoulder and stood.\", 'Pro se assistance empowers people to help themselves and makes our court system work better.', \"yeah well let's see our our topic is uh elections\", 'Cruises around Lake Annecy start from the Thiou river.', 'Second, several special rate arrangements would be discontinued.', 'A good sword, high ground, or exceptional skill may push the odds but never by much.', 'Mais me voila. The door shut.', 'His manner was unfortunate, I observed thoughtfully. ', 'There was no reason for him to claim the kinship.', 'When agencies lose major accounts, they often fire nearly everyone involved with the account.', \"This is so great because I haven't been getting any of this lately.\", \"'It's nice to see you all.'\", 'After successfully completing the performance evaluation period, the employee then begins earning a full salary.', 'Seeing himself unattractively represented in hundreds of editorial cartoons as a leathery-faced half-man, half-elephant.', 'They were locking the place down.', 'It assumes for cost-of-service areas (where most of power sales are likely to occur) that allowance allocations will not alter pricing of electricity.', \"Ca'daan looked over the camp in shock.\", 'With just one exception.', 'He had elaborated a careful plan for the following evening.', 'Guides to the Institut like to point out the east pavilion, site of the old 14th-century Tour de Nesle.', 'Of course, a no-pardon promise would be meaningless; Clinton could simply break it on his last day of office.', 'i wonder how long that last', \"oh yeah yeah it's um well of course on the green card you have to pay it when the bill comes in so there isn't any but on the Optima card it's um let's see right now it's running at about it's not too bad it's actually it's about sixteen and a half percent which is pretty good as far as credit cards go\", \"you know having the time when you have younger ones to take care of you maybe sometimes do not take as much time for the older ones but uh we were we're very active of course at church and uh Boy Scouting and Girl Scouts Four H\", \"well the the problem i had with the movie was the problem i've had with a lot of uh i guess Hollywood movies which is you know it's a formula movie and they're making the movie according to a certain formula that's a good formula but they seem to\", 'i see oh my', 'Today an economy of truth sometimes just means a lie, albeit one whose seriousness may be debatable.', 'The other half is where the gamblers come from, how they arrive here, and how they are served once they arrive.', 'Unfortunately, the civil legal needs of all low-income Americans are not being adequately met due to severe funding shortages at the federal and state level.', 'I just sort of needed it.\"', 'harsh weather', 'To accomplish this, the board must raise or lower interest rates to bring savings and investment at that target unemployment rate in line with each other.', 'He surmised, therefore, that reduction in recidivism might be a suitable outcome for emergency physicians.', 'I began to find myself in the same circle that I was in before.', \"I think it's worked,' she said about a month later before going out to a club, and her father had a vague impression that there were more or less three zits less on his daughter's face.\", 'A short distance north of Timna Park is the Hai Bar Wildlife Reserve, where rare and endangered indigenous animals are bred for eventual release back into the wild.', 'In some cases, modern buildings were erected in their place that are not admired today.', 'Though less sinister than his war club, two hits on Adrin proved that it served the job well.', 'For several years he held court in Valladolid, though eventually he returned to Madrid.', '(NBC promotes the show here.)', 'Hellenistic and Roman Periods', 'The difference, if any, between the reacquisition price and the net carrying value of the extinguished debt should be recognized as a loss or gain in accounting for interest on Treasury debt.', 'There was that lieutenant with the supply wagons.', 'You need not think that any fear of publicity, or scandal between husband and wife will deter me.\\' Then I thought I heard them coming out, so I went off quickly.\"', 'This is more than just a job.', 'They are connected by Rim of the World Drive, a scenic highway reaching elevations of 8,000 ft (2,440 m).', 'Two wide bays offer natural harbors, and tiny Navy Island sits just offshore.', 'Dutch World, where all sorts of fictional characters created by Edmund Morris come out to play with children of all ages!', 'Although merger discussions continued among the four programs, in March 2000 two of the programs did not vote in favor of the merger plan, and therefore the plan moved forward with only two  Legal Services Organization of Indiana, Inc. and Legal Services of Northwest Indiana, Inc.', 'So what do we do? asked the Kal.', 'Leading commercial companies have achieved more predictable outcomes from their product development processes because they identify and control design and manufacturing risks early and manage them effectively.', 'Or, to put it another way, in the sense of asking an entirely different  Is it really a requirement of sophistication that a place provides good bookstores, movies, plays, museums, music, cuisines, and an opportunity for erotic and intellectual freedom?', 'In a way, the one-world battle is over.', \"Yes and perhaps it doesn't, snarled Whittington.\", 'that sounds like it might be a really good idea', \"yeah the uh this this guy did too he ended up going to Leavenworth which is good i'm glad\", \"The point of David Frum's argument in the Gay Marriage dialogue seems to boil down to Look at how severely and for the worse marriage has changed in the last 30 years.\", 'Studly guys work at the Pentagon.', \"and there's The History of Yoakum County Texas there\", \"okay i'll let you go ahead\", \"Suggestions on how to improve the current process were implemented and, as a result, LSC will be sending feedback letters to applicants that filed grant proposals for 2003 funding to begin a dialogue about the applicant's delivery system based on the grant application.\", \"a) Spun the president's denial for months without bothering to check if it was true.\", 'The cruise ships crank up their flood lights, and the parties begin.', 'Although there may be several ways in which jobrelated mortality risks differ from air pollution-related mortality risks, the most important difference may be that job-related risks are incurred voluntarily, or generally assumed to be, whereas air pollution-related risks are incurred involuntarily.', 'And those are just the towns along Lake Como.', \"unless you're eating like a baked potato or something\", \"But these vouchers can't be the kind conservatives prefer, which are sharply limited in value so as to forestall real integration while directing tenants toward private-sector slums.\", \"to just to see all these things that you can can see on television now and can read about that ten years ago we didn't have this kind of information i mean we didn't know\", 'On Wednesday, April 30, police in Pecos, 80 miles from Ft.', \"i can't think of her name i got it right on the tip of my tongue and can't say it Helen something\", 'More a part of Europe than ever before, Spain joined the European Community (now European Union) in 1986, giving further boost to a booming economy.', 'Exhibit 8 provides a summary of the base WTP values used to generate estimates of the economic value of avoided health effects for this analysis, adjusted to 1999 dollars, and a brief description of the basis for these values.', \"Maybe Kubrick would have made nothing but masterpieces if he'd put big Greek or Venetian masks on all his actors.\", 'work and our congressionally driven examinations of how well agencies are pursuing', 'The Hebrew University and the Hadassah Medical Centre were built on Mount Scopus beginning in 1925 and became the pride of the Jewish community in Palestine under British control.', 'Jon could not imagine what they had faced in their own tunnel.', \"Today, the action is in the food markets and boutiques on the Grand Canal's west bank.\", \"and you know it's it's really annoying when the i asked the defense attorney later why he didn't bring up all this other trouble the guy had been in he said that that was barred uh by the court\", 'boilermaker labor per year.', 'Today it houses a small museum?\\xad.', \"you know if somebody's hungry\", \"And (as Tom wonders in the book's opening line) are we all characters in one of God's dreams?\", \"i mean they are but i don't label it as such\", \"and i don't know what the solution is\", 'was this uh done not by TI people was it', 'Over the past 27 years, LSC has helped millions of low-income citizens solve important, sometimes life-threatening, civil legal problems.', \"yeah yeah well we didn't have much we had some good ice but not a lot thank goodness not\", 'An idiosyncrasy of genius.', 'master charge', 'Clinton brought it to the galley to show the flight attendants.', 'The act requires that auditors for each of the 24 departments and agencies named in the CFO Act report, as part of their annual audits of the agenciesa financial statements, whether the agenciesa financial management systems comply substantially with federal financial management systems requirements, applicable federal accounting standards, and SGL at the transaction level.', 'Also the Treasury requires departments to disclose instances of irregular expenditures arising from erroneous benefit awards and fraud by claimants.', 'They built many impressive churches during the term of the first Latin Kingdom of Jerusalem, but in 1187 they were driven out by Muslim forces under the great warrior Saladin.', 'but a lot of women are knowledge as knowledge about football as i am', 'yeah ooh i wish i could do that', \"Despite occasional tensions, perhaps inevitable in times of economic uncertainty, today French people increasingly recognize that the immigrants from France's departements in the West Indies and from former colonies ' Algeria, Tunisia, and Morocco ' enrich the national culture and add spice to the country's cuisine.\", 'At times in recent years, the office has received its state and federal funding on a month-to-month basis, which one federal official called one step short of defunding.', 'Finally, the analysis reports, as required by paragraph 603(c), that the Commission has reduced burdens where possible and that the regulatory burdens retained are necessary to ensure the public receives the benefits of the new services in a prompt and efficient manner.', 'I have found it hard to forgive the things you said against my dear husband but I am an old woman & very fond of you Yours affectionately, Emily Inglethorpe 79 It was handed to the jury who scrutinized it attentively. ', 'Tim, we never should have got into this quagmire, but now we have no choice but to ...', \"and i had the book and i hadn't read it in so long so i read it the other day to see if i could so i can watch the movie\", 'Sunraider yearns to know who his mother is, and Hickman wants to know how Bliss became Sunraider.', 'You can take a ferryboat through the harbor, past the ingenious Plover Cove reservoir, a water catchment area appropriated by damming and draining a broad inlet from the sea.', 'oh really huh do you do they um have a policy where they counsel people if they come back positive or do they fire them right away or', 'The Chicago Museum of Contemporary Art just hired its new head away from Disney.', 'The United States has facilitated the importation of foreign agricultural workers in response to alleged shortages of workers in the United States for many years under various programs.', 'The Shore comprises a quayside and several cobbled lanes with restaurants where you can have a pleasant lunch.', \"i'm in Rochester New York everybody else but one has been in Texas\", \"That's why they'll make sure to stop him.\", 'In-depth, very extensive case studies of several water catchment areas were conducted, and the final report is based on a synthesis of the findings from the case studies-another example of integration of findings across diverse sites (U.S.', 'Advertisers frequently urge us to rebel, and they frequently urge us to conform.', \"'I do hope you will come around to seeing things my way.'\", 'A remnant of the second century a.d. wall that once supported the Temple Mount, this is the most revered place in the world for the Jewish faith.', 'you know the company insurance and and', 'have to go replace them with uh something a little hardier', 'But these are the trivia of what he left me and my sister.', \"The men promise money to the brides' families, then often treat the wives as sex slaves, or worse.\", 'The car was waiting, and I drove back.', \"you know it's it's pretty nice and friendly out there and you can't find that in all sports\", 'i mean cucumbers here grow like crazy', 'for the machine yeah', \"It's now a quiet residential refuge popular with artists and tourists seeking to escape the mobs.\", \"We strongly disagree with the Vice President's objections to our audit and access authority.\", \"And, as SurfWatch's promotional literature is happy to point out, filters can help protect management from liability for permitting sexually explicit material in the workplace.\", 'Only one son had survived to tell of the disaster.', 'APHIS performed an environmental assessment and determined that the actions required or authorized by this rule will not present a significant risk of introducing', 'They were longitudinal, were made by on-site observers who sought participant-observer roles, and constituted an inquiry structured from an evolving understanding of events and their meaning to the persons involved in them.', 'He thought philandering husbands would be the ones taking advantage of the argument about how cheating was hard to control.', \"However, a change would not seem likely to have a negative impact, since, in contrast to the current policy, it would be consistent with the airlines' position that frequent flyer miles belong to the individual traveler.\", 'Everywhere silence, and shuttered windows.', 'A narrow cobbled trail of 587 steps leads from the town to the small port below, now the domain of a fleet of donkeys that wait to carry cruise ship passengers into town.', \"but anyway well um i can't think of a whole lot more to say\", 'um so do you have a personal computer', \"what'd they do for that did they have to cast it and\", 'um yeah but you need to continue to read so you you can people learn to read you know', 'Other distinctions are possible, such as bulk and nonbulk, but the speed distinction would seem to dominate.', 'Youth is a failing only too easily outgrown.', \"i i it's okay to watch people go out and break their legs but i'm not going to climb on a couple of pieces of wood and go racing down a slick mountain side i mean that's\", 'The fire burns, and it destroys. ', \"WRITE-OFF -An action to remove an amount from an entity's assets or financial resources.\", \"From a population of 20,000 it has grown into a metropolis of 2.5 million, with tightly clustered skyscrapers and some of China's highest groseng industries.\", \"The titles alone--Mars Probe Finds Kittens and Schredinger's Cat (which covers Sacajawea's Rain Bonnet and Wittgenstein's Banana)--display Martin's knack for goofy parody.\", \"and i talked to someone about the uh the uh education system i forget exactly what the focus was on that one but that was fairly interesting and i've talked to somebody about credit card usage\", \"so let's see what well what kind of music do you not like\", 'They--hey, what\\'s that?\"  He was looking up, and Hanson followed his gaze.', 'Or does cold iron ruin your conjuring here?  Sather Karf snorted in obvious disgust, but Bork only grinned.', '5 million Americans living in households with an income below the poverty level.', 'These Year 2000 conversion efforts are often conducted under severe time constraints that, without adequate management attention, could result in a weakening of controls over the integrity of data and programs and over the confidentiality of sensitive data.'], 'hypothesis': ['Product and geography are what make cream skimming work. ', 'You lose the things to the following level if the people recall.', 'A member of my team will execute your orders with immense precision.', 'This information belongs to them.', 'The tennis shoes have a range of prices.', \"I'm upset that my walkman broke and now I have to turn the stereo up really loud.\", 'Most of the Christian mosaics were destroyed by Muslims.  ', \"Slate had an opinion on Jackson's findings.\", 'Heterosexuals.', 'Place des Vosges is constructed entirely of gray marble.', 'I burst through the doors and fell down.', 'Fun for only children.', 'All of the questions were interesting according to a focus group consulted on the subject.', 'The capital near Memphis lasted only half a century before its inhabitants abandoned it for the next capital. ', 'I am concerned more about your issues than the near-term rate implications.', 'Problems in data synthesis.', 'You can see that on television, as well.', 'Neither Vrenna nor myself have ever fought him.', 'The analysis proves that there is no link between PM and bronchitis.', 'He smiled at Vrenna who was walking slowly behind him with her mother.', 'We want to identify practices commonly used by agencies in the last 5 years', 'The other men were shuffled around.', 'Itis not necessary for there to be any improvement.', 'It has been very intriguing.', 'He returned slowly to the bunkhouse.', 'I do not know exactly where the local taxes go.', 'The recipe passed down from Mallorcan ancestors is known to everyone.', \"Well you're a mechanics student right?\", \"It's unfortunate that nobody is organizing a child abuse campaign.\", 'The postal service could deliver less frequently.', 'Another shift in the economy was found to be more nutritious.', 'The rule has data collection requirements which aid the EPA to realize their emission control goals.', 'There are no castles Atalaya and Galeras.', 'Were they supposed to be in there?', 'The woman did not care where the man was as long as it was far.', 'The remains of Voltaire and Rousseau, Hugo and Zola, assassinated Socialist leader Jean Jaurys, and Louis Braille are all interred in the crypt.', \"I can't remember their name\", 'Poirot was now back and I was sorry that he would take over what I now considered my own investigation. ', \"Aswan's meaning has not changed over time.\", \"THe market can't bear any of it.\", \"Japan's new rulers were catching on quickly.\", 'The public would generally prefer to see the government reduce its spending in other areas to finance Social Security.', 'These organizations invest lots of time to understand how some processes can contribute to or haampe', 'I talk to you every day.', 'The facts are accessible to you.', 'It is the first set of production tooling for manufacturing.', \"You should worry about the color of your neighbor's rug. \", \"They can't join the military service\", \"She was so happy she couldn't stop smiling.\", 'The net present value of future additional resources for funding HI benefits was $4.', 'This is the only channel of expression of the advocacy that Congress seeks to restrict.', 'Can we fix this?', \"It doesn't take much planning.\", 'They wanted to get through the lecture without any problems.', 'Driving cost estimates can be averaged will sufficient data.', 'The art plays on my young imagination.', \"This is the fastest machine, you won't find a better machine.\", 'Horus is a god.', 'Forget the United States Postal Service.', 'He is wearing a mascot costume.', 'The new system appears far more complex, but ultimately easier and more thorough.', 'They had data that was very relevant but under used.', 'A recent law proposed by congress has resulted in the seizure of thousands of dollars from Kentucky residents.', 'If individuals will invest their time, funding will come along, too.', 'Video cameras that I need are very expensive.', 'There was no one on the ground, man or woman.', 'If the GAO has to report on the progress, the recommendations will be much poorer quality.', 'The economy has never been better.', 'The cult of Jainism hates nature.', 'The land remained deserted.', 'A passion for continuity is not the most important of these cultures.', ' Gail Sheehy is a popular target for mocking on other shows.', \"The apartment's owner is very responsive.\", 'Mrs. Cavendish has left the building.', 'I thought that you vowed to drink more coffee.', 'We always stink.', 'We should be independent and stay away from talking and working with other nations. ', \"Ca'daan refused to stop.\", \"The rule makes broadcasters keep a file about children's television programming.\", \"It's hot all the time where I live, including winter.\", 'The men were naked.', 'The man was perfectly fine. ', 'The rice is golden and harvestable in the summer, but turns green in autumn.', 'Citations from Marx were used in socialist papers in the 30s. ', 'There is a seal to show authenticity in needlework items made in Italy.', \"He's not into this multivista stuff because what is some dumpy system compared to the magnificent smell of a cinnamon roll dunked in wholesome milk.\", 'This is like using the postition as a banker to help make regulations better for the public.', 'Clark hoped that he could continue their marriage.', \"Poverty doesn't create a sense of shame in any country.\", 'The road to Jaisalmer is bumpy and unpleasant to ride on. ', 'There were also North Carolina troops at Vicksburg.', \"I don't think it should be that way\", 'The implications of compensation to provide incentives for management to do the right thing for the company and its shareholders versus themselves should always be ignored by compensation committees.', 'Gratianus was a Roman empoeror.', \"I went and told the truth at court but it didn't do me any good.\", 'There are no links to click under Miscellaneous.', \"I wouldn't have started watching it if I'd known.\", 'Bye for now.', 'I ignored Ben', 'Can you tell me how to prove it?', 'The exhibition only displays cars from the 2000s.', 'The own hall meetings helped improve his customer satisfaction levels, said the executive.', \"I don't like waiting, not even for 10 minutes.\", 'Although the Christian forces were stronger, they were in retreat.', 'True charity vaunts itself, we have been told.', \"They'll face peer pressure and will need to say no.\", 'New attorneys have massive law school debt.', 'One of the curiosities is a two-headed goat.', 'Self-representation was encouraged by the Honorable Charles Adams.', 'The group of guys he tends to hang out with gave him the nickname Jumper.', 'The town was only established in the past fifty years.', 'I think Las Vegas is the most boring place I know.', 'Please be quiet.', 'I will be able to make my own clothing.', 'The river is central to all vacations to Paris.', \"They're supposed to be bilingual \", 'Czarek was not asked any questions on that day.', 'I was 100 percent wrong. ', 'n/a', 'It is over.', 'The herbal extract is not very good at treating dementia.  ', 'Paris was unhappy to have to surrender to the Germans.', 'That is why God moves me.', 'The knowledge captured would determine if the next step was further development or production.', 'My pride was foolish not well placed.', 'The girl spoke very quietly. ', 'There rules are not really clear so we ask our manager for help.', 'The Patan Museum is down the street from the red brick Royal Palace.', 'A Ku Klux Klan member has been elected in Louisiana.', 'They might at least try and do something about it first.', 'I am not a big fan of winter sports.', \"General education's focus is to develop students' critical thinking skills.\", 'Scale economies are flexible.', 'Old factories and equipment were never replaces, even when there was national savings.', 'Nobody complains about the superstars.', 'Working with rigorous methodologists is important.', 'The studies showed their IQ increased quite a lot.', 'Federal finance organizations are the best source of information for program managers.', 'There are 100 members in the union that live in Canada.', 'The new ones have things that can fuck with your mind.', 'The US paid more to the rest of the world than the rest of the world received in income.', 'Anything we should know?', 'People have a lot of incentive to work because they take home every penny earned.', 'The signs, houses and the courses of the planets have a great impact on daily life.', 'The financial planners do not assist people with issues related to credit cards.', 'Picasso was a gentleman and not an inspired poetic rascal.', 'Daniel greeted everyone even though he was shy.', 'I spoke with someone about Dallas.', 'A misty morning in Paris brings to mind old evocative imagery of times gone by.', 'Postal density refers to the amount of junk mail delivered in a given area.', 'There are races from April to December at Veliefendi Hippodrome.', 'The US does not produce any anhydrous ammonia each year.', 'I try to get discounted prices when I can. ', 'Over the past eight years, the school acquired more than 88 million in real estate in the Allston section of Boston while remaining completely anonymous even to its own students.', 'Opinions tend to vary.', 'One of these days, you will go back to studying.', 'It has a terrible view of the sunset.', 'There is a seal to show authenticity. ', 'I felt the real murderer should now be easier to determine.', 'Contract authority must be granted by the financial authority.', 'Poirot rose from his seat, bowed and started addressing the audience.', 'Dressing Jane will be enjoyable.', 'None of the original buildings in Engakuji are still remaining.', 'The influence of the following factors is possible.', 'Is their house near here?', 'Laws are weak when talking about the past and the future.', 'Conservatives are battling now.', 'El Greco was a extremely famous Spanish painter whose work was often religious.', 'With the good road connections, both bays have been developed.', 'You may have to foot the bill if you order any service you want.', 'Workers carve sculptures and paint scrolls with great enthusiasm.', 'Sir Ernest bent his head slightly, and continued.', 'The house is very large and boasts over ten bedrooms, a huge kitchen, and a full sized olympic pool.', 'Hiding things is just dirty, whereas there is glory in fiction', 'It would take some time before high-risk people start paying a premium.', 'No children ever want to be entertained.', 'Wall Street is facing issues, that need to be addressed. ', 'The New York Giants and Raiders are my favorite teams in football.', 'The doctors office was a terrible place and he wanted out.', \"i'm a taste person and all vegetables taste very nice unlike other types of food\", 'in public places there are absolutely no place that does that', 'Due to inflation and the production value, Las Vegas shows now cost more to see.', \"It wouldn't cost them much money to just stick on those things.\", \"In addition to bathing in streams, we've also gone to spas and saunas.\", 'Philip II of Spain invaded Portugal.', \"You won't get a chance to try out basic techniques with theory or anything.\", 'There is no Phase 1 of the plan as it will all be conducted in one step.', 'I am certainly in agreement with it.', 'In the past few years, no one has made any money for TI.', 'His presentation was extremely clear.', 'Released and no trial.', 'I turned it over.', 'Molyvos is a run down town in the center of the region, not popular at all with tourists.', 'They wanted to have low sensitivity. ', 'Nobody was concerned about the failures.', 'Adrin was lost in the night as a swordsman chased after him that many knew as \"Ca\\'daan\".', 'My cats could probably do that because they are brilliant.', 'The church was built in the 20th century.', 'He only muttered something about splitting the sky.', 'Lorenzo and Giuliano were related to one another.', 'They left me on my own for weeks.', 'The 10 branches had close to 100 employees.', 'No CR functions were applied to the incidence. ', 'The first two creditors divided their shares correctly.', 'There is little evidence left of that era.', 'Chief officers often spread their responsibility among senior-level managers. ', 'I enjoy watching the old reruns because I find them calming.', \"You'll probably get a lot bigger refund.\", 'The clever Annie was not in proof.', 'THe slave spoke to Mr Reece.', 'Horus has a shrine.', 'Usps domestic rates for priority and first class mail ate described above. ', \"So you don't like rock and roll?\", 'It has a dining room but no grill.', \"I didn't say anything when he asked me that question.\", \"The museum didn't want to look too closely into its part in the art world.\", 'Tabarka Island is part of Turkey.', \"You can't always donate organs to your child. \", 'He call Francisco in Spanish.', 'Unless congress expresses an intent that such burdens be imposed, the Commission is unwilling to recommend an interpretation of the statute that produces such consequences.', \"The speaker doesn't know who it is.\", \"My grandmother and grandmother's lesbian lover are doing Riley.\", 'Backwater rides are popular in this area. ', 'Trauma is the leading cause of alcohol abuse.', 'Xena and Hercules both have hit shows on CBS.', 'Laibson has selfish people that follow him.', 'But if they kill me', 'She called her father after she lost, smiling as she did it.', 'The movie stars Matt Dillon and Gary Sinise.', 'Muhammad Ali Jinnah went to London to campaign for Partition. ', \"It's much more expensive that way.\", 'Small trucks are not great automobiles.', 'She started recovering from the mild shock she had gone through.', 'probably yes so uh-huh', \"Hubble failed earlier becuase they weren't making enough discoveries.\", 'They bounce back from the bottom.', 'A library has a maximum subsidy of 90% for utilities.', 'Dallas was always in the majors.', 'It is just a guess', 'The SPAN A guide is a guide used for legal service planning.', 'They made a good rendition.', 'The citizens of the U.S. are supposed to be proud of themselves.', 'She does, says, and wears everything perfectly, consistently. ', 'It is recommended that you leave river briefly before ending your trip at Montréal.', 'I think a good defense is the most important thing you need to win games.', 'Derry is still alive. ', 'It took twelve days to make another.', 'The Spanish had plenty of Arawak to use as slaves.', 'I like to get out in nature and de-stress.', 'I have to catch a plane to go to work.', '\"20 South Audley Mansions\" is a book that Mrs. Vandemeyer read.', \"I'd consider it a bad date because the girl was rude to the waiter.\", 'The old ways of the native population has almost completely faded away.', 'For those who prefer more safety, other options are available.', 'The radio station covers most close gubernatorial races', 'They were prohibited from being a contractor.', 'Putting money into foreign companies poses a great risk.', 'The Account is the easiest way to keep track of payments made by OASI and DI on an annual basis.', 'Individual accounts would reduce demand for private pensions.', 'The Washington Post was the first company to report on attempts of private companies growing embryos.', 'Computer ownership by households usually increases in a year.', \"Many experts have argued that it's impossible to separate the institutional from the ideological in the circumstances.\", 'You and Tuppence have been hand in glove.', 'The mood changes below the Rond-Point, and a pleasant park leads you past two the Petit Palais, all steel and glass, and the Grand Palais.', 'The participants only agreed on a few subjects.', 'Granting permission.', 'Ever see a Power Ranger consider the consequences of their actions?', 'Trust and confidence in the Institute have been lost forever.', 'The tubes held everyday people.', 'Visitors are not permitted to walk around the image of the deity, but must sit quietly in front of it.', 'Yokohama took a long time to recover from the earthquake.', 'Yes, I heard that was really good.', 'The Black Eunuchs were responsible for the security and administration of the Harem.', 'Doctors have more power than ever thanks to better data availability.', \"I know there are people who think I'm doing it because I desire to.\", \"It's America's first wave of racists. \", \"She became frustrated when the spell didn't work. \", \"The museum is completely empty and doesn't have anything in it.\", 'There are no practices and strategies that can help CIO positions to meet business needs at the moment.', 'It is possible that Putin wants to develop the financial independence and work skills of Russians and the loss of money in less profit to merely selling off materials is worth the manufacturing expertise gained by his people as they create goods within their own country. ', 'The last 5 years of research have a higher proportion influence.', 'Maybe he should head for California to clear out even farther?', 'He has sailed a little.', 'He stayed put and sat on the floor.', 'During the summer months dealers barter for piles of silkworm cocoons.', 'Steven Levy has never seen Blade Runner.', 'Acid is handled by workers. ', 'Paris opened the first department store.', 'He was patient while hte group on the 18th hole finished.', 'I have never been a college student.', 'He thought about ways to achieve his life goals for a long time.', 'The fireproof repository built in 1958 is considered to be enough to protect the artifacts.', \"If my job wasn't so busy, I do that a lot more.\", 'The problem we have with gift etiquette is people not knowing how to choose appropriate gifts.', 'The Inglethorps were the first ones to turn up.', 'National savings are 18 now.', 'No one really cares about the new students coming to their institutions. ', 'Martinique makes more money from fishing than from farming.', 'All the issues and questions raised by the regulated industry were addressed by the EPA.', \"If the Ottoman Empire never surrendered, Palestine wouldn't have been ruled by the British.\", 'You are still sane.', 'The man was extremely large. ', 'Jon knew at least 500 people with the same speed.', 'No technical assistance funds for creative projects were developed.', 'Many people have died even though the areas were supposed to be unpopulated.', \"The value of households' stock holdings dropped and this contributed to a decline in household wealth.\", 'Thurmond was defeated in six previous elections.', 'Auditors are not responsible for the assessment of audit results.', 'There was no stock market boom in the 1990s. ', 'Do you know where Tommy is?', 'Long term capacity will be improved by the realignment.', 'The lot had been vacant.', 'I believe Mexico is the best place to raise children.', 'His faith may be lacking.', 'The public is not informed how the network works.', 'We might need help every day.', 'The prospect can be avoided by simply following the very valid proposals received.', \"I don't mind camping for a couple nights in the fall and spring.\", 'The result was 3 Raphael Rooms.', 'The application review process was discussed only with corporations. ', 'It is a bad idea to camp and eat on a beach.', \"It was a good row, but it could've been better.\", 'Water and nitrogen in the atmosphere cause the acid rain.', 'The unusual polystyrene columns and balconies of the Basilique Saint-Pierre et Saint-Paul can be found in Pointe Pitre.', 'Was that gipsy face responsible for the crime against the old woman?', \"I'm thinking about a very functional, ordinary type of car but I wouldn't mind a luxury car either\", 'I decided to do it and so I did.', 'The vehicle was a hybrid in which we drove 65.', \"The major tourist shops don't have forms.\", \"The first version of the Wrap-up of Randy's Tough Love.\", \"I'm in South Carolina.\", 'It was obvious from the interview that he was not very experienced and people should not look up to him. ', \"The Las Vegas Motor Speedway continues to be the city's top tourist attraction.\", 'Muller had something fascinating about him, so he attracted all the attention.', 'It was very strange to feel like people were watching us.', 'Natalia smiled.', 'The variables are actually quite simple and easy to understand.', 'Me too?', 'They use lethal injection.', 'The man left the town after 24 hours.', \"Everyone's true name they could find was added to the book.\", 'Up until 1917 was when the Central Market gave away free food.', 'It took staff one month to make the changes to the  Economic Analysis.', 'These villains get more naive every year.', 'His wife has never went to a sanitarium. ', 'Henry Hyde is a new house judiciary.', 'They are already in Harvard, New York and Georgetown universities.', 'Auditors can issue a limited official use report that has such information.', 'Dishonest polls is not the point being made.  ', 'However, what is that?', 'The trade agreements would be in conjunction with the agreement.', 'I hate exerising.', 'The police officer was writing a warning ticket, not a prescription from a doctor.', 'Poirot talked to Cynthia himself, asking to visit her at work at the hospital. ', 'Sometimes the funds are devoted to retraining existing nontechnical personnel so they understand how to program their computers.', \"Rips was enraged by Stastical Science's acceptance of the rebuttal and their nonchalant attitude so he retained a lawyer who would advise the journal that accusations about to be published...\", 'Quit holding John responsible.', 'I think more people vote during the presidential elections than local elections.', 'The partition problem of Kashmir remained unresolved.  ', 'The AMIGA model finds the capital investment.', 'For your birthday dinner, I will make cauliflower, garlic bread, and green salad with tea to drink, and lemon pie for dessert.', 'Japp made no discoveries, and will not be honored.', 'You have never outwitted me.', 'That is false.', 'He had a normal attitude.', 'Only the outbound attributable cost and inbound revenue change in lines 1 and 2 in columns 5 through 8.', 'He and I are good friends.', 'This brought up happy feelings and warmth.', 'That movie was thought to provoke and brought up many good points.', 'Muller was with soldiers.', 'Lawyers were at a premium and it was ideal training for future politicians and politics.', 'In no states will it be necessary to develop and implement statewide initiatives.', \"I don't know how many votes he got.\", 'A person applauded.', 'My dad has a new eighty nine or ninety Chrysler with a transverse mounted V and front wheel drive.', 'Five fork restaurants are rated higher because they are more popular and have celebrity appearances. ', 'I stopped playing it the day I got married.  ', 'The restaurant serves Middle Eastern-Yemenite food.', 'The table shows a summary of the resources in demand.', 'Age, Health, and the Willingness to Pay for Mortality Risk A Contingent are very important topics being talked about worldwide.', 'Whittington said no.', 'Hotels accept credit cards as payment unless otherwise stated.', \"It's possible that the company is not affected at all.\", 'The record gave no context regarding the legal question. ', 'The industry waits for nothing. ', 'The mosque in cairo is protected by walls. ', \"It wasn't the Apaches, certainly.\", 'The Commission put together a Final Regulatory Flexibility Analysis that went against Section 604.', 'Malay College was know for taking in any student regardless of their background.', 'The caliph was still a very important position of power.', 'We probably have the same issues as Mexico and Canada with regards to the use of the English language.', \"It isn't possible to estimate costs without going through the budget office of each country.\", \"Should the intervention include the girlfriend's family?\", 'It was established in 1854.', 'There are laws that involve how senior executives make information management decisions in public companies.', \"I don't think they feel responsible for keeping others safe. \", 'The room had a stifling atmosphere with a boarded up window.', \"Potter's Peter Rabbit is a popular childhood character.\", 'The salamander was receptive to his friendly gestures. ', 'I was making some things for gifts.', 'The suicide being covered was caused by a self-inflicted gunshot wound to the head.', 'There is no way I will ever travel outside of Canada again since it is disappointing.', 'Every building was on fire.', 'She looked hideous in her frumpy gown.', 'There are a few health food stores that can buy the cookies in bulk for a better deal.', 'Julius turned and walked away as soon as he saw Tommy walk through the door.', 'The killer broke a window in order to enter the home.', 'The painter told me exactly when they were going to finish.', 'The Social Security Trust Fund is made up of money. ', 'He said Dave Hanson.', 'Moynihan most likely has nothing to do with it.', 'There is no feeling of somberness at Myajima.', 'The methodology and results were used to determine the federal pay gap.', 'If you are looking for a different options you can take your charter ship to one of the less popular islands nearby.', 'The tomb was decorated with statues.', 'Chambers built a wall between himself and McCarthy and Nixon.', 'Tupperence felt better after this event.', 'It was no more than a living tomb.', \"He hired a room, but I didn't have enough money for one myself.\", 'The castle was secure due to its proximity to a cliff.', 'I hoped we could be better than that.', 'His head hurt terribly.', 'People would have to cut spending in other areas if food and medical care increased.', \"It really doesn't require much discipline to do.\", 'I will only let you go if you agree to take out the garbage.', 'At least 25 of the policies were responsible for the growth of the residential sector.', 'Jamaican cuisine includes jerk chicken.', 'The resort and hotel complex are very quiet.', 'Rubber has not contributed to the wealth of the country.', 'There are no celebrations on Palm Sunday.', 'A 44 magnum is a total piece of junk.', 'I think it was a Tuesday.', 'She was startled by the man and turned when he said I beg your pardon. ', 'They had a temporary program in place.', 'The Zapruder family wants nothing in return.', 'I am keeping back facts.', \"There weren't any members of the Sticks left. \", 'He ignored the lawyer.', \"No tours include a gazino night, you can't book one. \", 'Jennifer claims her debt is over the six digit mark at this point.', 'The CDC in New York was rounded and grey.', 'I played softball with the church team for the fun of it.', 'He realized the folly and became sad.', 'The review by OMB included a description of the reason for the rules.', 'I am bored with mechanical engineering and I should seek some hobbies.', \"The police don't show up if nobody is injured.\", 'Yount has not been very helpful with their offensive categories.', 'The inquiry is about birth records and the sad news is a death in the family, but the speaker is insisting on following protocols. ', 'There was another witness.', 'I only like homemade cranberry sauce, not the jellied kind.', 'Plants that emit mercury are not necessary.', \"There wasn't much noise in the air.\", 'Since our kids are all grown and gone, we have the pets to fill their spots.', 'The LSC included cases of any tupe of funding.', \"It's been a dream once we moved my husband's grandmother into the nursing home.\", 'I work for Hal Ammon.', 'Yeah the average right now.', 'She straight up asked if Sir James was \"at home\".', \"A common start or end point was not identified in the facility's construction.\", 'Tourists can view the company of handweavers work, but the historic company have less distinctive products now due to becoming a popular attraction.', 'There is very little demand for cheap goods through international labor.', 'Dublin is a dense city made for foot travel.', 'You can buy the item at the giftshop on your visit.', 'The Olympic Boulevard is east of Koreatown and so is Vermont and Western avenues.', 'The others had followed Jon.', \"There is a disagreement as to whether Hubbell's tax fraud charges are being conducted in a proper manner.\", 'Prevention of marine incidents for U.S. economic reasons.', 'It is always clear and easy to understand. ', 'Room 5 has stuff from the middle ages.', 'You can get all sorts of cable channel access in Charlotte.', 'The magazine depended on this type of humor.', 'Rubin does not want to be working on the program in a year from now.', 'Saving the Panda will not help any other animals.', 'Mercury, NOx, and SO2 are best considered in harm reduction by themselves, since they bear no relation to each other.', 'There are a number of animals on the wall panels.', 'The Nile damns were useless.', 'What do you think about flying across the country?', 'Men are a huge part of the labor force so they are the only ones that matter.', 'Please be quiet for a second; I cannot hear and will talk to you in a second.', 'We are certain of what we are going to do if we stay here. ', 'He recruited everyone for this year.', 'He is, actually. ', \"You'll have to click the FIFA link over to the right, above THE BASICS.\", 'There are many artefacts in Town End which date back to the 1600s, including laundry tools and cookware. ', 'She had come to quite dislike Betty Currie.', 'There were villages in the south.', 'There are no cruise ships in the area.', 'Six years in Malaysia and two years in the Philippines.', \"Kinsey's research is useful in the modern era.\", 'Longabaugh is an investigative journalist with more than thirty years experience.', 'Federal funds are dependent upon the populous which they serve.', 'The show is still pretty good in the morning, but not its best.', 'It was left to rot.', \"There aren't any army establishments in Colorado. \", \"There's a lot of stuff we need to do in this country.\", 'The main street has shops where you can buy shoes and stockings.', \"Randall did in fact attend many of Jefferson's performances.\", 'Nasal Chowk is not open to the public.', 'Wheeler said that the program was established because of the changeover concern. ', 'Sir James Peel Edgerton was lying when he told me you could manage that for me.', 'I had suffered severe depression during those days.', 'The steps which link the burial chamber to the entrance are quite dangerous to walk on. ', \"It's hard to tell how things have been kept up and their age because they vary so much from place to place. \", 'The opposite theory could be just as valid or worse.', \"Reich's version is accurate.\", \"It's interesting, I heard it while watching the TV.\", 'Some editors of the Daily Cal mentioned that the campus was once leftist.', 'Sewage poured into upstairs windows from the streets while people whispered to each other.', 'Significant health benefits are worth many costs, as they save the economy a lot of money anyway.', 'Jaume II followed Jaume III as leader of Mallorca.', 'Trying to identify placed where people could have been exposed to toxic chemicals is impossible.', 'You and Tuppence have barely seen each other.', 'You are allowed to appeal the death sentence. ', \"You mean it's like your childhood best friend?\", 'In the Carson National, Western Spruce Budworm, continued the presenter', 'Arafat has a distaste for terrorism and wants to be peaceful in america', 'We do not have the advantage tonight.', \"They found Mrs. Inglethorp's will, which left all her fortune to Alfred Inglethorp.\", 'He missed the riders completely.', 'There was a governor fight in Texan politics', 'There was no examination of the 1995 year.', 'Japanese corporations were global leaders in the 20th century.', 'Did those people send you anything?', 'It is too much for us.', 'Many people attend statewide task force meetings in all offered topics.', \"She can't read at all.\", 'One case study organization sponsors a course that lasts 3 months and costs $10,000 for the company to enroll in.', 'There was no fire, smoke or flames.', 'TV is the most important medium for showing history.', 'Geisha have never trained there.', 'The show was made.', 'Israelis are cold toward travelers.', 'If we are married, I will buy you a beer or a Dr. Pepper.', 'Gabriel quietly listened to Adrin recite his poem. ', 'Yes, I do that as well.', 'Kirstie Alley plays an older ex-model in the tv show.', \"Trade publisher's sell rate is increasing when compared to last year's.\", \"Don't they just run all over the place?\", 'Those people with the loudspeakers are very annoying.', 'I am able to.', 'The rule came into immediate effect.', 'Allowance allocations will definitely not alter the pricing of electricity in cost-of-service areas.', 'There are people that let you rent their kilns to finish pieces at their shop.', \"We noticed that the teachers say things we don't agree with.\", 'The Sox have never played the Indians.', 'Dave Hanson refused to admit anything at all.', 'Venice never traded with anyone.', 'He always acts very seriously and has never behaved childishly.', 'The amount of money you spend does not always indicate your level of success.', 'Downsizing in the Union Pacific leads to more people doing less work.', \"I don't know anyone at TI and that's okay because I don't want to participate anyway.\", 'WTP is considered to be a wildly inaccurate way to measure benefits.', 'Even 30 years after he died, the theaters were still standing.', \"If the Chinese tried to buy favor with the Democrats, it's because the Republicans rejected them.\", 'Legal work supervisors are usually tasked with sharing legal advice and resources.', 'The southern tip of Kyushu is full of tourist attractions.', 'Resetting the clock is a common occurrence.', 'Intel makes actual things instead, accoding to the news.', 'The Kowloon Canton Railway makes over five stops between the station and Sheung Shui.', \"Cynthia can't have sugar in her coffee due to her diet.\", 'Congress has a special budget for information and technology management in the federal government.', 'NJP provides internet-based  help and assistance for those seeking legal help.', 'I had car trouble in the cold weather. ', 'Farmers have long preferred building their houses in the interior because of this.', 'The Republican speaker has an approval rating of just 27%.', \"Malaysia is filled with so many natural and man-made wonders that's set to go beyond its tourist's expectations.\", \"Federal Law prohibited  interest to be generated on checking accounts, but now it's common practice.\", 'Seventeen international banks can be found here.', 'The seat next to the driver gives the best views.', 'Is swimming just as great an exercise as aerobics?', \"A blade went through Kal's chest.\", 'A qualitative estimate of only two environmental recreational visibility and ozone effects on agriculture is included in our analysis.', 'Many rooms have recently been refurbished, but not this one.', 'Are you capable of passing judgment on markings of fingers?', 'There is a question about the gender of the announcer.', 'Many organizations have a radically different approach to their design review process.', 'Hopefully John would realize it as well.', 'Slate Magazine does not have a permanent collection.', 'I do not have any children.', 'It is hard and many people are discouraged because of it.', \"What's completely intolerable is to be accurately quoted and still come off badly.\", 'The Mir was launched into orbit by the Soviet Union.', 'In the Zapruder film is revealed that he was a conspirator, this was a shock for the public.', 'We transferred the engine and transmission into another body.', 'Someone who does not want to acquire many things is a Utility Maximizer.', 'There is a sure fire way to identify the owner. Anse put the book down.', '4 million will be divided nationwide, according to the German Prime Minister.', 'yes, everybody else is never growing', 'They are not answering the call of the pool of the law schools.', 'I never had any opportunity to end LOA. ', 'I am about five minutes from Rhode Island, not in Cape Cod. ', 'You value your origins a lot.', 'He watches what he says to other people to not offend them.', 'If you want to see what happens, strike the match.', 'The first method is the best one to use. ', 'He responded.', 'The pro bono need is urgent. ', 'Keep walking up and down Julius!', 'Gandhi is next to me.', 'Time intentionally misleads the reader into believing the alien story.', 'Certain contracts are going to need to be signed to proceed.', 'The American diplomat is extremely happy with his job and accomplishments.', \"The Loire's sandbanks become islands in the summer.\", 'The law is very easy to understand, so representing yourself in court is the best way to win a case.', 'Females might perform higher on the screening tests if the cut points are reduced.', 'GAO might only give telephone or email messages.', 'The site can only be reached by helicopter.', \"Ca'daan had a slow, steady pulse.\", 'There are instances of this in some large bodies.', 'Are you looking for a new car?', 'White shook his head no.', \"If you've got it, spend it.\", 'Adequate DO replaces the air with water.', 'All falsehoods are lie, regardless of intentionality.', 'They were pushing the pace.', \"Greenhouse gases and climate change are being worked on by the President's Cabinet.\", 'There were fattening foods in the refrigerator.', 'There is only national and government savings.', 'It used to be paper 7.', 'The role of Pine Tree has changed over the past twenty years.', 'Mangrove trees grow on the coast and provide homes for lots of marine life.', 'We can cut out all the background noise when we hook it in.', 'The FFC is augmenting the study by funding the original researchers for three more years.', 'LSC recipients may provide legal aid to foreign people.', 'All summer visitors to the Edinburgh Zoo see the penguin parades.', 'He had a problem finding a job because of the hiring freeze.', 'Mother Nature has been a democrat for years.', 'The great events that were occurring were important.', \"Within China was Shenzhen, and it was China's first and only Special Economic Zone.\", 'There is no touristic interest in Nepal and scarcely anyone has visited in decades.', 'What is the purpose of acquisition to support?', 'They might have been put there in a rush.', 'We held a friendly morning meal, one of the best since the event occurred.', 'Potatoes need a lot of space to grow.', \"Ecology of Fear, according to the columnists, contained errors but Los City of Quartz didn't.\", 'If it is needed to contact the patient the information will not be leaked.', \"There is always a large crowd of people waiting to see the Angel's Pillar. \", 'Seven thousand men blockaded the city.', 'The amount recorded was well over $100,000.', 'He could have talked about how tolerant the coalition was.', 'Wordsworth frequently lambasted the Duddon Valley because of its hillsides.', 'There are different ways to fish.', \"Don't buy, you won't miss it. \", 'Reducing NOx emissions will have no effect on human health.', 'If the cities started more programs for children it would be more convenient.', 'White raised his eyes to mine slowly.', 'The diving experience is considered better in Sinai.', \"The value of Philly's program is that it doesn't separate the minnows from the sharks.\", 'He is usually depicted with the blue face as Krishna, an after-effect of swallowing a poison that threatened the world, and is often represented sporting with the milkmaids he seduced, or playing a flute.', 'There are news networks.', 'The baseline heat input is the lowest annual heat input over 3 years.', 'World War I ended.', 'You can predict what these kids will want to do next.', 'The new infrastructure will create more opportunities for the managers.', 'Jon asked who Stark was and what he did for a living.', 'Hire a Quad Runner to explore the desert in a more novel, self-drive way.', 'Companies know that they have to deliver the best quality products quickly.  ', 'Women were not often permitted outside without wearing the proper attire.', 'The way to achieve prosperity honestly is written in Hindu texts.', 'I think Asian economies are doing great.', 'They berate the U.S women for their comparative innocence.', 'The door was closed tightly.', 'There are always jobs available for young girls today.', 'That darn little animal dance.', 'It is located north of Basse Terre.', 'I work solo and also own a 1980 Trans Am.', 'There are open-air concerts in Ballsbridge.', 'Las vegas does not have an ethos about it.', 'Roman has a lot of experience.', 'I graduated in ninety-one so we grew up in different generations. ', 'Denny Crum talked only when he had to.', 'Branches that have fallen littered the driveways and made it a challenge to commute.', 'Other New Territories villages are hard to access.', 'He had a hook for one arm.', 'KSC helps its grantees obtain funds ', 'There were no clues. ', 'People say college is expensive.', 'GAO will end up spending more money on government travel costs if they use frequent flyer miles. ', 'The ramparts surrounding the tower are fairly new.', 'Visiting the quarries is a great way to learn how ancient Egyptians worked with stone.', \"Moreover, CBO's inflated baseline assumes that discretionary spending-which is controlled through annual appropriations-will grow after 2002 at the rate of inflation, perhaps even more, depending on how inflated the baseline becomes thereafter.\", 'They are shallow people.', 'we have access to a recreation center which is pretty much just across the street from our office', 'The Court found that the Rust counseling activities did not amount to governmental speech.', 'There is no way that the government could be corrupted.', 'Emergency medicine physicians have nothing to gain by learning about alcohol screening.', 'The kiosk is an attempt at easing the flood of litigants unable, or refusing, to hire attorneys. ', 'The cause of its end was a plague that completely wiped out the population.', 'Natalia silently stared out the window.', \"I'm sure you'll be fair to both parties\", 'To see and check the lab.  ', 'Jon wanted to save them from the angry mob.', 'The German waited too long and gave Tommy an advantage.', 'John Elway and Joe Montana played football together,', 'I never knew what it was called.', 'The hats from the War Office were made of leather.', 'Every single one of them was blind and could not see me standing there. ', 'Adding a surcharge was abused so it is now illegal.', 'The banner does not include information from AIB.', \"I think parents have a greater responsibility in what concerns their children's education than school.\", 'We still have ample funds that can sustain us till the end of this month.', \"I'm better at volleyball than others. \", 'What is it?', 'This law demands agencies define various goals for acquisition programs.', 'You know exactly how much it will cost throughout the whole process.', 'Most people who have viewed the abbey rising from the ocean comment that it is a life-changing experience. ', \"We still don't have any facts.\", 'This is obnoxious and snobby.', 'Advanced humbug means Cold Mountain.', 'These trappings are what come from the billion-dollar price tags associated with them.', 'Disrespectfully yours', 'If you have a very small budget, it makes it difficult.', 'Physicians are doctors for children.', \"I've constantly heard that you Revolutionists value life greatly.\", 'Between the light, there were many riders, quickly riding through the groups of foot soldiers.', 'FEMA refuses to help flood victims.', 'He is not going to leave the company.', 'I want it to be easier to do.', 'Once in production, the programs will not cut its quantities.', 'Ugrades are a headache. ', 'There are specific transmission methodologies for classified reports.', 'There population cannot be quantified into dollars.', 'The best book in years on Washington media according to everyone except Andrew Ferguson.', 'Professor Cleveland worked as a Skadden Fellow for two years.', 'Retrofits from the Clear Skies Act did not change demand.', 'His wife, Linda, was a teacher.', 'The book was phenomenal with no faults. ', \"The wintertime is when the air conditioning was on, I couldn't ring the doorbell because it was frozen.\", 'When something is a sure thing, hackneyed ideas and foolish money is sure to follow.', 'Discussion is solely based on extensive experience like from housing or education.', 'Shops rarely extend their business hours for eves of holidays.', \"I have fallen for the 'you get cash back' scam a lot of times.\", 'Tuppence replied right away.', 'The London detectives are very unlikable because they are too curious. ', 'Legislation that would cause a decline in using coal as a source of energy will not be supported by the Administration.', 'Some publications can be rather cavalier without fear.', 'The impractical Tommy inquired after meals.', \"The six-pointed stars that you'll see all over the country look similar to the Jewish Star of David.\", 'The little white cave-racer snakes are harmful.', 'Treasury securities interest held by revolving funds.', '924,000 cases were closed in 1999.', 'Garm is a short but bulky man.', 'We saw blood on their demon hands and murder in their evil eyes.', \"We're not really missing out on childcare benefits.\", 'No I am in the west, New Mexico. ', 'Styles St. Mary was further from the station than Styles Court. ', 'The ammonia business has been facing competition from the urea business.', 'The city is known for being really huge.', 'We all had heard that he was coming.', 'I killed my friend.', \"63 skeletons were found beyond the stage, in the Gladiator's Barracks.\", \"My husband is helping me with he garden, but he doesn't really love doing it.\", 'That is a bad thing.', 'Worry about my youngster.', 'We ill go to Indianapolis to see the Colts.', 'Poirot has returned an hour later so that I can tell him the news.', 'I would see shows in London often.', 'The basement is tiny.', 'I am alright in hot weather but it is hard for me to tolerate cold weather.', 'There is a sign near the railway station that depicts the portuguese involvement in Japan.', 'Resolution 98-011 focuses on the presence requirement for representations of aliens.', 'Legal services include the best lawyers in town.', 'We have great clarity on the motivational mechanism.', 'The people who labor outside are optimistic and kind.', 'Very few eating places in Istanbul serve kebabs.', 'This takes up a lot of space too.', \"Book Soup on Sunset Boulevard doesn't sell any newspapers or magazines.\", 'There is no need for a system of control techniques because the existing practices are always accurate.', \"Tommy wasn't watching where he was walking.\", 'People will tend to sell you fake jade, which is hard to distinguish from the real article. ', \"I've always had a hidden desire to solve crimes.\", 'Little did I know that the ten was actually a one thousand.', 'At the end of the movie, Estella embraces her inherent decency and does the right thing.', 'He has new thoughts every day.', 'The Temple of Edfu is not well preserved.', \"They don't do it anymore I will not listen\", \"It's three cinemas show old films only.\", 'If you have fresh dirt I can see that.', \"It makes me feel good to see people be concerned about our nation's expenses.\", \"I'm very interested in their religion and would like to go door-to-door with them.\", 'US Senators and Congressmen assembled and enacted and signed the bill', 'You can have a lot of judges for your crime.', \"I don't know what a shot is.\", \"The paintings of Renoir, Monet and Pissarro were at Nadar's house.\", 'There was a path leading away from the road.', 'Some men do not seem to care, but eventually I think so.', 'The destination for the portable shrine being fought over has no symbolism to it.', 'Conservative humanitarians aka red tailed hawks. ', 'They sold them to the same guys that lost the others for twice the normal price.', 'I told my husband it was totally normal.', 'Tommy was crinkling the paper in his hand and it almost fell to the ground.', \"Did you ever serve that yourself when you had a company, it's awful.\", 'Not many people take the excursion to Pamukkale, but the resorts still offer it.', 'Zelon was very intelligent ', \"It's an established fact that encouraging moderate drinking does not increase rates of binge drinking.\", 'The all thought it was a great attitude to have.', 'It would be crazy if anyone noticed you.', 'I have been thinking about volunteering for the Asian center.', 'Sir Ernest Heavywether enjoyed bullying women.', 'She has wasted time and paper.', 'Rockefeller was not interesting at all.', 'The only thing I wanted to do, was tell you something.', 'The site is now occupied by a chapel, the foundation might be a century old at the very least.', 'Unions will make things worse, they are bad. ', 'The governments message was to deny benefits.', 'The Old Cataract Hotel is at its southern end.  ', 'They were doing something illegal before they started all this stuff.', 'The APHIS held more than three public hears during the comment period.', 'In the Edo period, gardens were favored and built on spacious grounds.', 'The information excluded was in regards to individuals who were working for the government in hostile areas.', \"Monet wrote about the tragedy that is reaching the end of one's own life.\", 'I generally like to prepare heavy sauces.', \"No, that couldn't be.\", 'Genuine Leather Goods.', 'There is city residential and business zoning in Chicago.', 'LSC gives out no funding.', 'This reminded me of many past tragedies. ', 'Mrs. Vandemeyer is unable to stand on her feet. ', 'Agencies have a set of performance goals that senior executives should help achieve.', 'Horses are not allowed on any beaches locally.', \"One of the limitations was that they couldn't use weapons.\", 'I was so tired of all of these back and forths.', '\"Old man Rysdale backs the bill,\" Tuppence stated.', 'Mrs. Inglethorp had lots of candles in her room. ', \"Ca'daan was pushed aside and knocked to the ground by the Kal's powerful hand.\", \"I don't think they'll go because they're a lousy team. \", 'Everyone gave them accolades. ', 'If you truly converted to Christianity, maybe something could be done about it.', 'Both diGenova and Toensing have no personal reason to pay attention to the investigation.', 'To show them you mean business, you need a lawyer.', ' RESEARCH AND DEVELOPMENT ANNUAL STEWARDSHIP INFORMATION For the Fiscal Year Ended September every year since 1912.', 'I closed the door as gingerly as possible. ', 'All of the men completely ignored him for the day.', \"Their imposing manner didn't have any friendliness or respect in it at all.\", 'Just minutes after he hit the water, Campbell was recovered safe and sound.', 'This is done for the interests of the community.', 'The clerk did not have on a summer dress. ', 'It gave her pause.', 'The tower of the YMCA building was designed in a classic Greco-Roman style. ', \"I don't have a lot of time to watch TV.\", 'Federal agencies have long had difficulty delivering capabilities on time.', 'It is rumored that Rupert Murdoch is interested in buying it and turning it into a West Coast version of the New York Post.', 'It runs ads for its supporters at shows and strikes business deals, but insists it is not commercial.', 'When was it?', 'It is sunny and hot outside.', 'The people need help.', \"Pico dos Barcelos offers a stunning view of Funchal's surroundings although not of the city itself.\", 'Make sure to have steaks and potatoes. ', 'Rounding may cause inaccurate totals.', 'Understanding those people was easy. ', 'And not a single person will act in a more kind manner.', 'They can define the facility requirements for square footage.', \"San'doro picked up Jon so he could stand. \", 'Pro se assistance empowers people to get help and make the court system work better. ', 'Our topic is education. ', 'Cruises go around Lake Annecy which begin from the Thiou river.', 'Many special rate arrangements would be stopped.', 'A good sword gives people the slight edge if it is made of steel.', 'They typically leave the door open.', 'I could not pick out what kind of manner he had.', 'He had no reason to claim the kinship.', \"If an agency loses a big account, it's not uncommon for them to fire everyone who was associated with that account. \", \"Its great even though I've been getting some.\", \"I don't want to see you.\", 'After completing the performance evaluation period, the employee gets paid the full amount.', 'Some editorial cartoons show people unattractively.', 'The prison was on lockdown.', 'Cost-of-services areas are areas where most of power sales are likely to occur.', \"Ca'daan looked towards the campsite.\", 'The exception was written in stone. ', 'He created an intricate plan for the next night.', 'The Tour de Nesle was built as a defensive structure.', 'There would be a lot of meaningfulness and significance to a no-pardon promise.', \"I don't think it will last.\", \"It's running very high at the moment. \", 'The time is well spent with the kids but less is spent with the older ones.', 'The movie was original with a twist ending. ', 'I see, wow.', 'Politicians these days have a hard time noticing the difference between an economy of truth and one of lies.', 'The other half is where the gamblers like to congregate to do their gambling.', 'Fortunately for low-income Americans, all of their civil legal needs will be met free of charge. ', \"I didn't need it, but it looked good so I took it.\", 'good weather.', \"Accomplishing that has been the board's goal for a very long time.\", 'The doctors require a lot of things to work ', 'I had returned to the same circle of friends that  I had in high school. ', 'The father thought his daughter typically had a lot of zits.', 'The Hai Bar Wildlife Reserve is a zoo where all animals are kept in captivity their whole lives.', 'Some of the modern buildings that were erected in their place are not admired today.', 'Adrin was hit twice with a hatchet.', 'He was very glad to return to the bustling streets of Madrid.', 'NBC have declined to promote the show.', 'Only the Hellenistic Period.', 'This is the best way to represent Treasury debt.', 'The lieutenant with the supply wagons was there.', 'I thought I heard them so I left quickly.', 'This is just simply a job. ', 'The Rim of the World Drive reaches below sea level of 8,000ft. ', 'Ten wide bays offer artificial harbors, and the large Navy Island is just offshore.', 'Edmund Morris created a world called Dutch World, a place where made up characters can play with all children.', 'Among the four programs, merger discussions continued and 2 of the programs did not vote in march 2000.', 'Bob asked what they should do.', 'Desirable outcomes are achieved in part by identifying design risks early.', 'Sophistication requires that people not have intellectual freedom.', 'There are no more one-word battles.', 'Whittington growled and said \"Yes, and perhaps it doesn\\'t,\"', 'That sounds like a terrible idea', 'There was a guy who went to Leavenworth.', \"The point of David Frum's argument in the Gay Marriage dialogue seems to boil down to Look at how severely and for the worse marriage has changed in the last 30 years.\", 'There are only effeminate goblins working at the Pentagon.', \"There's no book called The History of Yoacum County there.\", 'Okay, I will go ahead.', 'There were over five hundred suggestions on how to improve the current process.', 'The president made wrong statements.', 'Cruise ships are host to well-lit parties.', 'People have no control over job related risks.', 'Those are the towns beside Lake Como. ', 'Unless you are eating a potato that has been cooked in the oven.', 'These vouchers are not the type that conservatives tend to prefer. ', 'Ten days ago we got a new TV.', 'Pecos is 580 miles from the town.', \"I'm forgetful when it comes to names.\", 'Spain still refuses to join the European Union.', 'The values used to generate the estimates are not available.', 'Kubrick made some masterpieces.', 'Congress sometimes wants the progress of agencies examined by us.', 'The Hadassah Medical Centre was built on Mount Scopus in 1925.', \"Jon couldn't figure out what was down the tunnel, but he had an idea.\", \"The food markets are all on the canal's east bank.\", 'The man standing trial had many previous arrests.', 'boilermaker labor per week.', 'It contains a small museum.', 'if a person wants to eat you understand that', \"Tom's last thought, reflected in the opening line of the book, was that we could be part of God's dream.\", 'I label them how I want.', 'I have a perfect idea of what to do.', \"It wasn't done by TI people.\", 'Over the past 27 years, LSC was funded by the government.', \"We didn't have too much ice, but there was some. \", 'An idiosyncrasy of being dull.', 'No one is in control.', 'Clinton has never flown on a plane.', 'The act does not require anything of any auditors.', 'Departments are typically reluctant to disclose mistakes in the awarding of benefits.', 'Saladin was a great Muslim warrior in 1187.', 'I have a lot of football knowledge.', \"I don't consider that to be very interesting, and I never want to try to do it myself.\", \"French people increasingly recognize that some immigrants recognize national culture and add spice to the country's cuisine.\", 'The office gets state and federal funding.', 'The commission reduced burdens on the employees.', 'I am an old lady that likes you a lot.', 'Tim was an idiot and got them into this mess. ', 'I enjoyed reading the book more than watching the movie.', 'Sunraider knows the identity of his mother.', 'You cannot take a ferry boat through the harbour.', 'I have heard that they fire the people who come in positive.', 'The new head of the Chicago Museum of Contemporary Art was just hired away from Disney.', 'The shortage of workers in the United States is the result of a bad economy.', \"If you're looking for something to eat, sadly, The Shore doesn't have any restaurants.\", 'There are only two people not in Texas.', 'There is no need to stop him.', 'Nobody has ever taken the time to study water catchment areas.', 'Advertisers urge us to do things.', \"There was a subtle threat in her voice as she said 'I believe you will come around to seeing things my way.'\", \"The remnant of the wall is an interesting historical artifact, but doesn't have much religious meaning anymore.\", 'The company has no insurance', 'Most shrubs are hardier than them.', 'But these are the answers of what he left me and my sister.', 'The wives and their families have no idea what they are getting into.', 'The car left and I stayed.', \"It's pretty nice and friendly out there in the soccer field\", 'Cucumbers grow really well here due to the rain.', 'No, do not use the machine.', 'It is a noisy residential area popular with musicians.', 'The Vice President gave the go-ahead to our audit authority.', 'In the past, management has been held liable for allowing explicit material in the workplace.', 'He was mentally scarred from the disaster.', 'They were very cautious with their evaluations.', 'They were made on site by observers, constituted an inquiry, and were longitudinal.', 'Husbands never cheat on their wives. ', 'Individuals are groups of people or businesses that work as a team to achieve a goal.', 'There was a storm coming so the windows were shuttered.  ', 'A fleet of donkeys ferries passengers from the town to the port.', \"I can't say more about immigration.\", \"You don't have any computers in your house, right?\", 'What method did they employ to get that done; was the thing poured into a mold or pressed?', 'Nobody needs to read at all.', 'Other distinctions are not possible, ', 'The idea of youth is a fault that is overcome easily by growth.', \"I would love to go mountain sliding, it's my life dream.\", 'The fire destroyed it. ', 'Write offs are used to remove financial information. ', 'Its population has increased by over two million.', \"Martin's works are enjoyed by many.\", 'I talked to someone about the education system and credit card usage.', 'Tell me about all the music you love listening to ', 'He looked down at the ground, while Hanson looked up.', 'Sather Karf has no questions regarding cold iron and conjuring.', '5 millun Americans make too much money', 'The severe time constraints on the Year 2000 conversion efforts should have absolutely no effect on the confidentiality of sensitive data.'], 'label': [1, 0, 0, 0, 1, 0, 1, 0, 2, 2, 0, 2, 1, 1, 2, 0, 0, 2, 2, 1, 0, 0, 2, 0, 0, 1, 2, 1, 2, 0, 0, 0, 2, 1, 2, 0, 0, 2, 2, 2, 0, 1, 0, 1, 0, 0, 2, 2, 1, 0, 0, 0, 2, 1, 1, 1, 2, 1, 2, 1, 1, 0, 2, 0, 1, 2, 2, 2, 2, 2, 1, 1, 2, 2, 2, 0, 2, 1, 0, 1, 2, 2, 2, 0, 1, 0, 1, 0, 2, 1, 1, 2, 2, 0, 0, 2, 1, 0, 2, 0, 2, 0, 2, 1, 2, 1, 0, 0, 2, 0, 2, 0, 0, 0, 0, 0, 2, 2, 2, 0, 2, 1, 2, 0, 0, 0, 0, 2, 0, 0, 0, 0, 1, 2, 2, 0, 2, 1, 2, 0, 0, 0, 2, 1, 2, 2, 1, 2, 1, 2, 0, 2, 1, 1, 0, 1, 2, 0, 1, 1, 1, 0, 2, 0, 0, 1, 0, 1, 0, 0, 1, 0, 2, 0, 1, 2, 0, 0, 1, 2, 2, 1, 0, 1, 0, 2, 2, 0, 2, 2, 2, 0, 2, 2, 2, 2, 1, 2, 2, 0, 2, 0, 2, 0, 0, 0, 1, 1, 0, 1, 0, 0, 2, 2, 2, 1, 2, 1, 0, 0, 1, 2, 1, 1, 1, 2, 2, 2, 0, 2, 2, 1, 1, 0, 1, 0, 1, 2, 0, 0, 0, 0, 0, 0, 0, 2, 0, 2, 0, 2, 0, 1, 0, 1, 1, 2, 1, 1, 1, 1, 0, 1, 0, 0, 1, 0, 1, 2, 2, 2, 1, 0, 0, 2, 2, 2, 1, 2, 2, 1, 1, 0, 1, 2, 0, 2, 0, 0, 0, 2, 0, 0, 1, 1, 2, 1, 2, 1, 1, 1, 2, 0, 2, 2, 1, 0, 1, 2, 2, 0, 0, 0, 2, 0, 1, 1, 2, 0, 2, 2, 1, 1, 2, 2, 1, 2, 2, 1, 2, 1, 2, 2, 1, 1, 1, 2, 2, 0, 0, 2, 1, 2, 1, 1, 2, 1, 0, 0, 0, 0, 2, 2, 1, 2, 1, 1, 0, 0, 0, 0, 1, 2, 2, 2, 2, 0, 1, 2, 1, 0, 0, 2, 1, 0, 0, 1, 1, 0, 0, 1, 2, 0, 2, 2, 2, 0, 0, 2, 2, 1, 0, 2, 2, 1, 1, 1, 1, 1, 1, 0, 1, 1, 2, 2, 0, 2, 2, 2, 0, 0, 1, 2, 0, 0, 0, 0, 0, 0, 2, 0, 0, 0, 0, 2, 1, 1, 0, 2, 2, 2, 2, 2, 0, 0, 2, 2, 2, 2, 2, 1, 1, 0, 1, 0, 1, 0, 2, 1, 0, 2, 0, 1, 0, 1, 2, 0, 0, 2, 1, 0, 2, 0, 0, 2, 1, 0, 0, 2, 2, 2, 1, 1, 2, 2, 0, 2, 1, 2, 0, 2, 0, 0, 2, 0, 2, 0, 2, 2, 1, 1, 0, 1, 2, 2, 0, 1, 1, 2, 0, 1, 1, 1, 0, 1, 1, 0, 1, 2, 1, 2, 2, 2, 0, 2, 1, 1, 2, 0, 2, 0, 2, 1, 1, 2, 1, 2, 1, 2, 0, 2, 1, 2, 2, 2, 0, 0, 2, 0, 1, 0, 2, 1, 0, 0, 2, 2, 2, 2, 0, 2, 2, 2, 2, 2, 1, 1, 1, 1, 0, 1, 1, 0, 0, 1, 1, 0, 1, 1, 1, 1, 0, 2, 1, 0, 0, 1, 2, 2, 2, 1, 1, 0, 1, 0, 2, 2, 1, 2, 2, 2, 0, 0, 1, 0, 1, 0, 0, 2, 2, 1, 0, 1, 0, 2, 0, 0, 2, 2, 0, 0, 2, 0, 2, 2, 0, 0, 0, 2, 0, 0, 1, 0, 1, 0, 1, 1, 1, 1, 1, 2, 0, 0, 0, 1, 2, 0, 1, 0, 1, 2, 2, 0, 2, 2, 1, 0, 0, 2, 0, 0, 2, 2, 1, 1, 1, 0, 0, 1, 1, 2, 2, 2, 1, 0, 2, 0, 0, 2, 0, 2, 2, 1, 0, 0, 1, 1, 0, 2, 1, 0, 1, 0, 0, 2, 2, 2, 0, 1, 2, 2, 0, 1, 0, 1, 2, 2, 2, 1, 2, 0, 2, 1, 2, 0, 2, 1, 2, 0, 0, 0, 2, 1, 0, 2, 0, 2, 2, 0, 2, 1, 0, 2, 2, 0, 2, 0, 2, 2, 0, 2, 1, 2, 0, 1, 0, 0, 2, 0, 2, 0, 0, 1, 1, 1, 2, 0, 0, 2, 1, 2, 0, 0, 2, 2, 1, 1, 0, 2, 0, 0, 0, 1, 2, 0, 2, 1, 2, 2, 1, 1, 0, 1, 1, 2, 2, 2, 2, 0, 0, 2, 1, 1, 2, 0, 1, 0, 2, 2, 1, 2, 2, 1, 2, 1, 2, 2, 1, 0, 1, 0, 2, 0, 0, 0, 2, 0, 1, 0, 0, 1, 0, 0, 2, 0, 1, 2, 1, 2, 0, 2, 1, 1, 0, 2, 1, 2, 2, 1, 1, 0, 1, 2, 2, 2, 2, 0, 2, 0, 2, 1, 0, 0, 0, 2, 2, 1, 2, 2, 0, 2, 0, 1, 2, 0, 2, 0, 0, 1, 1, 2, 0, 0, 2, 2, 0, 0, 1, 0, 0, 1, 0, 1, 2, 2, 2, 1, 2, 0, 1, 1, 2, 2, 2, 1, 1, 1, 1, 2, 0, 1, 1, 2, 2, 1, 0, 0, 2, 2, 2, 0, 0, 2, 0, 2, 0, 0, 2, 0, 0, 2, 2, 2, 1, 1, 0, 2, 0, 0, 0, 2, 2, 1, 2, 2, 0, 0, 0, 1, 2, 1, 2, 0, 0, 1, 2, 2, 0, 1, 0, 2, 2, 2, 2, 1, 0, 1, 2, 0, 0, 1, 0, 1, 1, 2, 2, 2, 0, 1, 2, 0, 2, 2, 0, 1, 2, 2, 1, 2, 1, 2, 1, 1, 2, 2, 2, 1, 1, 1, 0, 2, 2, 1, 0, 1, 2, 1, 2, 2, 0, 2, 0, 0, 0, 1, 0, 2, 2, 2, 2, 2], 'idx': [0, 1, 2, 3, 4, 5, 6, 7, 8, 9, 10, 11, 12, 13, 14, 15, 16, 17, 18, 19, 20, 21, 22, 23, 24, 25, 26, 27, 28, 29, 30, 31, 32, 33, 34, 35, 36, 37, 38, 39, 40, 41, 42, 43, 44, 45, 46, 47, 48, 49, 50, 51, 52, 53, 54, 55, 56, 57, 58, 59, 60, 61, 62, 63, 64, 65, 66, 67, 68, 69, 70, 71, 72, 73, 74, 75, 76, 77, 78, 79, 80, 81, 82, 83, 84, 85, 86, 87, 88, 89, 90, 91, 92, 93, 94, 95, 96, 97, 98, 99, 100, 101, 102, 103, 104, 105, 106, 107, 108, 109, 110, 111, 112, 113, 114, 115, 116, 117, 118, 119, 120, 121, 122, 123, 124, 125, 126, 127, 128, 129, 130, 131, 132, 133, 134, 135, 136, 137, 138, 139, 140, 141, 142, 143, 144, 145, 146, 147, 148, 149, 150, 151, 152, 153, 154, 155, 156, 157, 158, 159, 160, 161, 162, 163, 164, 165, 166, 167, 168, 169, 170, 171, 172, 173, 174, 175, 176, 177, 178, 179, 180, 181, 182, 183, 184, 185, 186, 187, 188, 189, 190, 191, 192, 193, 194, 195, 196, 197, 198, 199, 200, 201, 202, 203, 204, 205, 206, 207, 208, 209, 210, 211, 212, 213, 214, 215, 216, 217, 218, 219, 220, 221, 222, 223, 224, 225, 226, 227, 228, 229, 230, 231, 232, 233, 234, 235, 236, 237, 238, 239, 240, 241, 242, 243, 244, 245, 246, 247, 248, 249, 250, 251, 252, 253, 254, 255, 256, 257, 258, 259, 260, 261, 262, 263, 264, 265, 266, 267, 268, 269, 270, 271, 272, 273, 274, 275, 276, 277, 278, 279, 280, 281, 282, 283, 284, 285, 286, 287, 288, 289, 290, 291, 292, 293, 294, 295, 296, 297, 298, 299, 300, 301, 302, 303, 304, 305, 306, 307, 308, 309, 310, 311, 312, 313, 314, 315, 316, 317, 318, 319, 320, 321, 322, 323, 324, 325, 326, 327, 328, 329, 330, 331, 332, 333, 334, 335, 336, 337, 338, 339, 340, 341, 342, 343, 344, 345, 346, 347, 348, 349, 350, 351, 352, 353, 354, 355, 356, 357, 358, 359, 360, 361, 362, 363, 364, 365, 366, 367, 368, 369, 370, 371, 372, 373, 374, 375, 376, 377, 378, 379, 380, 381, 382, 383, 384, 385, 386, 387, 388, 389, 390, 391, 392, 393, 394, 395, 396, 397, 398, 399, 400, 401, 402, 403, 404, 405, 406, 407, 408, 409, 410, 411, 412, 413, 414, 415, 416, 417, 418, 419, 420, 421, 422, 423, 424, 425, 426, 427, 428, 429, 430, 431, 432, 433, 434, 435, 436, 437, 438, 439, 440, 441, 442, 443, 444, 445, 446, 447, 448, 449, 450, 451, 452, 453, 454, 455, 456, 457, 458, 459, 460, 461, 462, 463, 464, 465, 466, 467, 468, 469, 470, 471, 472, 473, 474, 475, 476, 477, 478, 479, 480, 481, 482, 483, 484, 485, 486, 487, 488, 489, 490, 491, 492, 493, 494, 495, 496, 497, 498, 499, 500, 501, 502, 503, 504, 505, 506, 507, 508, 509, 510, 511, 512, 513, 514, 515, 516, 517, 518, 519, 520, 521, 522, 523, 524, 525, 526, 527, 528, 529, 530, 531, 532, 533, 534, 535, 536, 537, 538, 539, 540, 541, 542, 543, 544, 545, 546, 547, 548, 549, 550, 551, 552, 553, 554, 555, 556, 557, 558, 559, 560, 561, 562, 563, 564, 565, 566, 567, 568, 569, 570, 571, 572, 573, 574, 575, 576, 577, 578, 579, 580, 581, 582, 583, 584, 585, 586, 587, 588, 589, 590, 591, 592, 593, 594, 595, 596, 597, 598, 599, 600, 601, 602, 603, 604, 605, 606, 607, 608, 609, 610, 611, 612, 613, 614, 615, 616, 617, 618, 619, 620, 621, 622, 623, 624, 625, 626, 627, 628, 629, 630, 631, 632, 633, 634, 635, 636, 637, 638, 639, 640, 641, 642, 643, 644, 645, 646, 647, 648, 649, 650, 651, 652, 653, 654, 655, 656, 657, 658, 659, 660, 661, 662, 663, 664, 665, 666, 667, 668, 669, 670, 671, 672, 673, 674, 675, 676, 677, 678, 679, 680, 681, 682, 683, 684, 685, 686, 687, 688, 689, 690, 691, 692, 693, 694, 695, 696, 697, 698, 699, 700, 701, 702, 703, 704, 705, 706, 707, 708, 709, 710, 711, 712, 713, 714, 715, 716, 717, 718, 719, 720, 721, 722, 723, 724, 725, 726, 727, 728, 729, 730, 731, 732, 733, 734, 735, 736, 737, 738, 739, 740, 741, 742, 743, 744, 745, 746, 747, 748, 749, 750, 751, 752, 753, 754, 755, 756, 757, 758, 759, 760, 761, 762, 763, 764, 765, 766, 767, 768, 769, 770, 771, 772, 773, 774, 775, 776, 777, 778, 779, 780, 781, 782, 783, 784, 785, 786, 787, 788, 789, 790, 791, 792, 793, 794, 795, 796, 797, 798, 799, 800, 801, 802, 803, 804, 805, 806, 807, 808, 809, 810, 811, 812, 813, 814, 815, 816, 817, 818, 819, 820, 821, 822, 823, 824, 825, 826, 827, 828, 829, 830, 831, 832, 833, 834, 835, 836, 837, 838, 839, 840, 841, 842, 843, 844, 845, 846, 847, 848, 849, 850, 851, 852, 853, 854, 855, 856, 857, 858, 859, 860, 861, 862, 863, 864, 865, 866, 867, 868, 869, 870, 871, 872, 873, 874, 875, 876, 877, 878, 879, 880, 881, 882, 883, 884, 885, 886, 887, 888, 889, 890, 891, 892, 893, 894, 895, 896, 897, 898, 899, 900, 901, 902, 903, 904, 905, 906, 907, 908, 909, 910, 911, 912, 913, 914, 915, 916, 917, 918, 919, 920, 921, 922, 923, 924, 925, 926, 927, 928, 929, 930, 931, 932, 933, 934, 935, 936, 937, 938, 939, 940, 941, 942, 943, 944, 945, 946, 947, 948, 949, 950, 951, 952, 953, 954, 955, 956, 957, 958, 959, 960, 961, 962, 963, 964, 965, 966, 967, 968, 969, 970, 971, 972, 973, 974, 975, 976, 977, 978, 979, 980, 981, 982, 983, 984, 985, 986, 987, 988, 989, 990, 991, 992, 993, 994, 995, 996, 997, 998, 999]})\n"
     ]
    },
    {
     "name": "stdout",
     "output_type": "stream",
     "text": [
      "ipdb> exit\n"
     ]
    }
   ],
   "source": [
    "%debug"
   ]
  },
  {
   "cell_type": "code",
   "execution_count": 22,
   "id": "06c2b37f",
   "metadata": {},
   "outputs": [
    {
     "name": "stdout",
     "output_type": "stream",
     "text": [
      "Saved model to /D/models/pretrained/pretrained_bert_mnli.pkl\n"
     ]
    },
    {
     "name": "stderr",
     "output_type": "stream",
     "text": [
      "Reusing dataset glue (/home/nir/.cache/huggingface/datasets/glue/mnli/1.0.0/dacbe3125aa31d7f70367a07a8a9e72a5a0bfeb5fc42e75c9db75b96da6053ad)\n"
     ]
    },
    {
     "data": {
      "application/vnd.jupyter.widget-view+json": {
       "model_id": "7eee12eb15164d4f981f18273e18947e",
       "version_major": 2,
       "version_minor": 0
      },
      "text/plain": [
       "  0%|          | 0/5 [00:00<?, ?it/s]"
      ]
     },
     "metadata": {},
     "output_type": "display_data"
    },
    {
     "data": {
      "application/vnd.jupyter.widget-view+json": {
       "model_id": "75310ab9da6d47b59572a5069a274bf6",
       "version_major": 2,
       "version_minor": 0
      },
      "text/plain": [
       "  0%|          | 0/393 [00:00<?, ?ba/s]"
      ]
     },
     "metadata": {},
     "output_type": "display_data"
    },
    {
     "data": {
      "text/html": [
       "<pre style=\"white-space:pre;overflow-x:auto;line-height:normal;font-family:Menlo,'DejaVu Sans Mono',consolas,'Courier New',monospace\"><span style=\"color: #800000; text-decoration-color: #800000\">╭─────────────────────────────── </span><span style=\"color: #800000; text-decoration-color: #800000; font-weight: bold\">Traceback </span><span style=\"color: #bf7f7f; text-decoration-color: #bf7f7f; font-weight: bold\">(most recent call last)</span><span style=\"color: #800000; text-decoration-color: #800000\"> ────────────────────────────────╮</span>\n",
       "<span style=\"color: #800000; text-decoration-color: #800000\">│</span> in <span style=\"color: #00ff00; text-decoration-color: #00ff00\">&lt;module&gt;</span>:<span style=\"color: #0000ff; text-decoration-color: #0000ff\">1</span>                                                                                    <span style=\"color: #800000; text-decoration-color: #800000\">│</span>\n",
       "<span style=\"color: #800000; text-decoration-color: #800000\">│</span>                                                                                                  <span style=\"color: #800000; text-decoration-color: #800000\">│</span>\n",
       "<span style=\"color: #800000; text-decoration-color: #800000\">│</span> <span style=\"color: #800000; text-decoration-color: #800000\">❱ </span>1 prepare_run(<span style=\"color: #808000; text-decoration-color: #808000\">'mnli'</span>)                                                                          <span style=\"color: #800000; text-decoration-color: #800000\">│</span>\n",
       "<span style=\"color: #800000; text-decoration-color: #800000\">│</span>   <span style=\"color: #7f7f7f; text-decoration-color: #7f7f7f\">2 </span>                                                                                             <span style=\"color: #800000; text-decoration-color: #800000\">│</span>\n",
       "<span style=\"color: #800000; text-decoration-color: #800000\">│</span>                                                                                                  <span style=\"color: #800000; text-decoration-color: #800000\">│</span>\n",
       "<span style=\"color: #800000; text-decoration-color: #800000\">│</span> in <span style=\"color: #00ff00; text-decoration-color: #00ff00\">prepare_run</span>:<span style=\"color: #0000ff; text-decoration-color: #0000ff\">66</span>                                                                                <span style=\"color: #800000; text-decoration-color: #800000\">│</span>\n",
       "<span style=\"color: #800000; text-decoration-color: #800000\">│</span>                                                                                                  <span style=\"color: #800000; text-decoration-color: #800000\">│</span>\n",
       "<span style=\"color: #800000; text-decoration-color: #800000\">│</span>   <span style=\"color: #7f7f7f; text-decoration-color: #7f7f7f\">63 │   │   </span>dataset = load_dataset(<span style=\"color: #808000; text-decoration-color: #808000\">'glue'</span>, <span style=\"color: #808000; text-decoration-color: #808000\">'mnli'</span>)                                              <span style=\"color: #800000; text-decoration-color: #800000\">│</span>\n",
       "<span style=\"color: #800000; text-decoration-color: #800000\">│</span>   <span style=\"color: #7f7f7f; text-decoration-color: #7f7f7f\">64 │   </span><span style=\"color: #0000ff; text-decoration-color: #0000ff\">else</span>:                                                                                   <span style=\"color: #800000; text-decoration-color: #800000\">│</span>\n",
       "<span style=\"color: #800000; text-decoration-color: #800000\">│</span>   <span style=\"color: #7f7f7f; text-decoration-color: #7f7f7f\">65 │   │   </span>dataset = load_dataset(dataset_name)                                                <span style=\"color: #800000; text-decoration-color: #800000\">│</span>\n",
       "<span style=\"color: #800000; text-decoration-color: #800000\">│</span> <span style=\"color: #800000; text-decoration-color: #800000\">❱ </span>66 <span style=\"color: #7f7f7f; text-decoration-color: #7f7f7f\">│   </span>dataset = dataset.map(encode, batched=<span style=\"color: #0000ff; text-decoration-color: #0000ff\">True</span>)                                             <span style=\"color: #800000; text-decoration-color: #800000\">│</span>\n",
       "<span style=\"color: #800000; text-decoration-color: #800000\">│</span>   <span style=\"color: #7f7f7f; text-decoration-color: #7f7f7f\">67 │   </span>dataset.set_format(<span style=\"color: #00ffff; text-decoration-color: #00ffff\">type</span>=<span style=\"color: #808000; text-decoration-color: #808000\">'torch'</span>, columns=[<span style=\"color: #808000; text-decoration-color: #808000\">'input_ids'</span>, <span style=\"color: #808000; text-decoration-color: #808000\">'attention_mask'</span>, <span style=\"color: #808000; text-decoration-color: #808000\">'label'</span>])      <span style=\"color: #800000; text-decoration-color: #800000\">│</span>\n",
       "<span style=\"color: #800000; text-decoration-color: #800000\">│</span>   <span style=\"color: #7f7f7f; text-decoration-color: #7f7f7f\">68 │   </span>train_dataset = dataset[<span style=\"color: #808000; text-decoration-color: #808000\">'train'</span>]                                                        <span style=\"color: #800000; text-decoration-color: #800000\">│</span>\n",
       "<span style=\"color: #800000; text-decoration-color: #800000\">│</span>   <span style=\"color: #7f7f7f; text-decoration-color: #7f7f7f\">69 │   </span>test_dataset = dataset[<span style=\"color: #808000; text-decoration-color: #808000\">'test'</span>]                                                          <span style=\"color: #800000; text-decoration-color: #800000\">│</span>\n",
       "<span style=\"color: #800000; text-decoration-color: #800000\">│</span>                                                                                                  <span style=\"color: #800000; text-decoration-color: #800000\">│</span>\n",
       "<span style=\"color: #800000; text-decoration-color: #800000\">│</span> <span style=\"color: #bfbf7f; text-decoration-color: #bfbf7f\">/home/nir/.pyenv/versions/3.7.9/lib/python3.7/site-packages/datasets/</span><span style=\"color: #808000; text-decoration-color: #808000; font-weight: bold\">dataset_dict.py</span>:<span style=\"color: #0000ff; text-decoration-color: #0000ff\">790</span> in <span style=\"color: #00ff00; text-decoration-color: #00ff00\">map</span>  <span style=\"color: #800000; text-decoration-color: #800000\">│</span>\n",
       "<span style=\"color: #800000; text-decoration-color: #800000\">│</span>                                                                                                  <span style=\"color: #800000; text-decoration-color: #800000\">│</span>\n",
       "<span style=\"color: #800000; text-decoration-color: #800000\">│</span>   <span style=\"color: #7f7f7f; text-decoration-color: #7f7f7f\"> 787 │   │   │   │   │   </span>num_proc=num_proc,                                                    <span style=\"color: #800000; text-decoration-color: #800000\">│</span>\n",
       "<span style=\"color: #800000; text-decoration-color: #800000\">│</span>   <span style=\"color: #7f7f7f; text-decoration-color: #7f7f7f\"> 788 │   │   │   │   │   </span>desc=desc,                                                            <span style=\"color: #800000; text-decoration-color: #800000\">│</span>\n",
       "<span style=\"color: #800000; text-decoration-color: #800000\">│</span>   <span style=\"color: #7f7f7f; text-decoration-color: #7f7f7f\"> 789 │   │   │   │   </span>)                                                                         <span style=\"color: #800000; text-decoration-color: #800000\">│</span>\n",
       "<span style=\"color: #800000; text-decoration-color: #800000\">│</span> <span style=\"color: #800000; text-decoration-color: #800000\">❱ </span> 790 <span style=\"color: #7f7f7f; text-decoration-color: #7f7f7f\">│   │   │   │   </span><span style=\"color: #0000ff; text-decoration-color: #0000ff\">for</span> k, dataset <span style=\"color: #ff00ff; text-decoration-color: #ff00ff\">in</span> <span style=\"color: #00ffff; text-decoration-color: #00ffff\">self</span>.items()                                            <span style=\"color: #800000; text-decoration-color: #800000\">│</span>\n",
       "<span style=\"color: #800000; text-decoration-color: #800000\">│</span>   <span style=\"color: #7f7f7f; text-decoration-color: #7f7f7f\"> 791 │   │   │   </span>}                                                                             <span style=\"color: #800000; text-decoration-color: #800000\">│</span>\n",
       "<span style=\"color: #800000; text-decoration-color: #800000\">│</span>   <span style=\"color: #7f7f7f; text-decoration-color: #7f7f7f\"> 792 │   │   </span>)                                                                                 <span style=\"color: #800000; text-decoration-color: #800000\">│</span>\n",
       "<span style=\"color: #800000; text-decoration-color: #800000\">│</span>   <span style=\"color: #7f7f7f; text-decoration-color: #7f7f7f\"> 793 </span>                                                                                          <span style=\"color: #800000; text-decoration-color: #800000\">│</span>\n",
       "<span style=\"color: #800000; text-decoration-color: #800000\">│</span>                                                                                                  <span style=\"color: #800000; text-decoration-color: #800000\">│</span>\n",
       "<span style=\"color: #800000; text-decoration-color: #800000\">│</span> <span style=\"color: #bfbf7f; text-decoration-color: #bfbf7f\">/home/nir/.pyenv/versions/3.7.9/lib/python3.7/site-packages/datasets/</span><span style=\"color: #808000; text-decoration-color: #808000; font-weight: bold\">dataset_dict.py</span>:<span style=\"color: #0000ff; text-decoration-color: #0000ff\">790</span> in      <span style=\"color: #800000; text-decoration-color: #800000\">│</span>\n",
       "<span style=\"color: #800000; text-decoration-color: #800000\">│</span> <span style=\"color: #00ff00; text-decoration-color: #00ff00\">&lt;dictcomp&gt;</span>                                                                                       <span style=\"color: #800000; text-decoration-color: #800000\">│</span>\n",
       "<span style=\"color: #800000; text-decoration-color: #800000\">│</span>                                                                                                  <span style=\"color: #800000; text-decoration-color: #800000\">│</span>\n",
       "<span style=\"color: #800000; text-decoration-color: #800000\">│</span>   <span style=\"color: #7f7f7f; text-decoration-color: #7f7f7f\"> 787 │   │   │   │   │   </span>num_proc=num_proc,                                                    <span style=\"color: #800000; text-decoration-color: #800000\">│</span>\n",
       "<span style=\"color: #800000; text-decoration-color: #800000\">│</span>   <span style=\"color: #7f7f7f; text-decoration-color: #7f7f7f\"> 788 │   │   │   │   │   </span>desc=desc,                                                            <span style=\"color: #800000; text-decoration-color: #800000\">│</span>\n",
       "<span style=\"color: #800000; text-decoration-color: #800000\">│</span>   <span style=\"color: #7f7f7f; text-decoration-color: #7f7f7f\"> 789 │   │   │   │   </span>)                                                                         <span style=\"color: #800000; text-decoration-color: #800000\">│</span>\n",
       "<span style=\"color: #800000; text-decoration-color: #800000\">│</span> <span style=\"color: #800000; text-decoration-color: #800000\">❱ </span> 790 <span style=\"color: #7f7f7f; text-decoration-color: #7f7f7f\">│   │   │   │   </span><span style=\"color: #0000ff; text-decoration-color: #0000ff\">for</span> k, dataset <span style=\"color: #ff00ff; text-decoration-color: #ff00ff\">in</span> <span style=\"color: #00ffff; text-decoration-color: #00ffff\">self</span>.items()                                            <span style=\"color: #800000; text-decoration-color: #800000\">│</span>\n",
       "<span style=\"color: #800000; text-decoration-color: #800000\">│</span>   <span style=\"color: #7f7f7f; text-decoration-color: #7f7f7f\"> 791 │   │   │   </span>}                                                                             <span style=\"color: #800000; text-decoration-color: #800000\">│</span>\n",
       "<span style=\"color: #800000; text-decoration-color: #800000\">│</span>   <span style=\"color: #7f7f7f; text-decoration-color: #7f7f7f\"> 792 │   │   </span>)                                                                                 <span style=\"color: #800000; text-decoration-color: #800000\">│</span>\n",
       "<span style=\"color: #800000; text-decoration-color: #800000\">│</span>   <span style=\"color: #7f7f7f; text-decoration-color: #7f7f7f\"> 793 </span>                                                                                          <span style=\"color: #800000; text-decoration-color: #800000\">│</span>\n",
       "<span style=\"color: #800000; text-decoration-color: #800000\">│</span>                                                                                                  <span style=\"color: #800000; text-decoration-color: #800000\">│</span>\n",
       "<span style=\"color: #800000; text-decoration-color: #800000\">│</span> <span style=\"color: #bfbf7f; text-decoration-color: #bfbf7f\">/home/nir/.pyenv/versions/3.7.9/lib/python3.7/site-packages/datasets/</span><span style=\"color: #808000; text-decoration-color: #808000; font-weight: bold\">arrow_dataset.py</span>:<span style=\"color: #0000ff; text-decoration-color: #0000ff\">2405</span> in    <span style=\"color: #800000; text-decoration-color: #800000\">│</span>\n",
       "<span style=\"color: #800000; text-decoration-color: #800000\">│</span> <span style=\"color: #00ff00; text-decoration-color: #00ff00\">map</span>                                                                                              <span style=\"color: #800000; text-decoration-color: #800000\">│</span>\n",
       "<span style=\"color: #800000; text-decoration-color: #800000\">│</span>                                                                                                  <span style=\"color: #800000; text-decoration-color: #800000\">│</span>\n",
       "<span style=\"color: #800000; text-decoration-color: #800000\">│</span>   <span style=\"color: #7f7f7f; text-decoration-color: #7f7f7f\">2402 │   │   │   │   </span>fn_kwargs=fn_kwargs,                                                      <span style=\"color: #800000; text-decoration-color: #800000\">│</span>\n",
       "<span style=\"color: #800000; text-decoration-color: #800000\">│</span>   <span style=\"color: #7f7f7f; text-decoration-color: #7f7f7f\">2403 │   │   │   │   </span>new_fingerprint=new_fingerprint,                                          <span style=\"color: #800000; text-decoration-color: #800000\">│</span>\n",
       "<span style=\"color: #800000; text-decoration-color: #800000\">│</span>   <span style=\"color: #7f7f7f; text-decoration-color: #7f7f7f\">2404 │   │   │   │   </span>disable_tqdm=disable_tqdm,                                                <span style=\"color: #800000; text-decoration-color: #800000\">│</span>\n",
       "<span style=\"color: #800000; text-decoration-color: #800000\">│</span> <span style=\"color: #800000; text-decoration-color: #800000\">❱ </span>2405 <span style=\"color: #7f7f7f; text-decoration-color: #7f7f7f\">│   │   │   │   </span>desc=desc,                                                                <span style=\"color: #800000; text-decoration-color: #800000\">│</span>\n",
       "<span style=\"color: #800000; text-decoration-color: #800000\">│</span>   <span style=\"color: #7f7f7f; text-decoration-color: #7f7f7f\">2406 │   │   │   </span>)                                                                             <span style=\"color: #800000; text-decoration-color: #800000\">│</span>\n",
       "<span style=\"color: #800000; text-decoration-color: #800000\">│</span>   <span style=\"color: #7f7f7f; text-decoration-color: #7f7f7f\">2407 │   │   </span><span style=\"color: #0000ff; text-decoration-color: #0000ff\">else</span>:                                                                             <span style=\"color: #800000; text-decoration-color: #800000\">│</span>\n",
       "<span style=\"color: #800000; text-decoration-color: #800000\">│</span>   <span style=\"color: #7f7f7f; text-decoration-color: #7f7f7f\">2408 </span>                                                                                          <span style=\"color: #800000; text-decoration-color: #800000\">│</span>\n",
       "<span style=\"color: #800000; text-decoration-color: #800000\">│</span>                                                                                                  <span style=\"color: #800000; text-decoration-color: #800000\">│</span>\n",
       "<span style=\"color: #800000; text-decoration-color: #800000\">│</span> <span style=\"color: #bfbf7f; text-decoration-color: #bfbf7f\">/home/nir/.pyenv/versions/3.7.9/lib/python3.7/site-packages/datasets/</span><span style=\"color: #808000; text-decoration-color: #808000; font-weight: bold\">arrow_dataset.py</span>:<span style=\"color: #0000ff; text-decoration-color: #0000ff\">557</span> in     <span style=\"color: #800000; text-decoration-color: #800000\">│</span>\n",
       "<span style=\"color: #800000; text-decoration-color: #800000\">│</span> <span style=\"color: #00ff00; text-decoration-color: #00ff00\">wrapper</span>                                                                                          <span style=\"color: #800000; text-decoration-color: #800000\">│</span>\n",
       "<span style=\"color: #800000; text-decoration-color: #800000\">│</span>                                                                                                  <span style=\"color: #800000; text-decoration-color: #800000\">│</span>\n",
       "<span style=\"color: #800000; text-decoration-color: #800000\">│</span>   <span style=\"color: #7f7f7f; text-decoration-color: #7f7f7f\"> 554 │   │   </span><span style=\"color: #0000ff; text-decoration-color: #0000ff\">else</span>:                                                                             <span style=\"color: #800000; text-decoration-color: #800000\">│</span>\n",
       "<span style=\"color: #800000; text-decoration-color: #800000\">│</span>   <span style=\"color: #7f7f7f; text-decoration-color: #7f7f7f\"> 555 │   │   │   </span><span style=\"color: #00ffff; text-decoration-color: #00ffff\">self</span>: <span style=\"color: #808000; text-decoration-color: #808000\">\"Dataset\"</span> = kwargs.pop(<span style=\"color: #808000; text-decoration-color: #808000\">\"self\"</span>)                                          <span style=\"color: #800000; text-decoration-color: #800000\">│</span>\n",
       "<span style=\"color: #800000; text-decoration-color: #800000\">│</span>   <span style=\"color: #7f7f7f; text-decoration-color: #7f7f7f\"> 556 │   │   # apply actual function</span>                                                           <span style=\"color: #800000; text-decoration-color: #800000\">│</span>\n",
       "<span style=\"color: #800000; text-decoration-color: #800000\">│</span> <span style=\"color: #800000; text-decoration-color: #800000\">❱ </span> 557 <span style=\"color: #7f7f7f; text-decoration-color: #7f7f7f\">│   │   </span>out: Union[<span style=\"color: #808000; text-decoration-color: #808000\">\"Dataset\"</span>, <span style=\"color: #808000; text-decoration-color: #808000\">\"DatasetDict\"</span>] = func(<span style=\"color: #00ffff; text-decoration-color: #00ffff\">self</span>, *args, **kwargs)                <span style=\"color: #800000; text-decoration-color: #800000\">│</span>\n",
       "<span style=\"color: #800000; text-decoration-color: #800000\">│</span>   <span style=\"color: #7f7f7f; text-decoration-color: #7f7f7f\"> 558 │   │   </span>datasets: List[<span style=\"color: #808000; text-decoration-color: #808000\">\"Dataset\"</span>] = <span style=\"color: #00ffff; text-decoration-color: #00ffff\">list</span>(out.values()) <span style=\"color: #0000ff; text-decoration-color: #0000ff\">if</span> <span style=\"color: #00ffff; text-decoration-color: #00ffff\">isinstance</span>(out, <span style=\"color: #00ffff; text-decoration-color: #00ffff\">dict</span>) <span style=\"color: #0000ff; text-decoration-color: #0000ff\">else</span> [ou  <span style=\"color: #800000; text-decoration-color: #800000\">│</span>\n",
       "<span style=\"color: #800000; text-decoration-color: #800000\">│</span>   <span style=\"color: #7f7f7f; text-decoration-color: #7f7f7f\"> 559 │   │   </span><span style=\"color: #0000ff; text-decoration-color: #0000ff\">for</span> dataset <span style=\"color: #ff00ff; text-decoration-color: #ff00ff\">in</span> datasets:                                                          <span style=\"color: #800000; text-decoration-color: #800000\">│</span>\n",
       "<span style=\"color: #800000; text-decoration-color: #800000\">│</span>   <span style=\"color: #7f7f7f; text-decoration-color: #7f7f7f\"> 560 │   │   │   # Remove task templates if a column mapping of the template is no longer val</span>  <span style=\"color: #800000; text-decoration-color: #800000\">│</span>\n",
       "<span style=\"color: #800000; text-decoration-color: #800000\">│</span>                                                                                                  <span style=\"color: #800000; text-decoration-color: #800000\">│</span>\n",
       "<span style=\"color: #800000; text-decoration-color: #800000\">│</span> <span style=\"color: #bfbf7f; text-decoration-color: #bfbf7f\">/home/nir/.pyenv/versions/3.7.9/lib/python3.7/site-packages/datasets/</span><span style=\"color: #808000; text-decoration-color: #808000; font-weight: bold\">arrow_dataset.py</span>:<span style=\"color: #0000ff; text-decoration-color: #0000ff\">524</span> in     <span style=\"color: #800000; text-decoration-color: #800000\">│</span>\n",
       "<span style=\"color: #800000; text-decoration-color: #800000\">│</span> <span style=\"color: #00ff00; text-decoration-color: #00ff00\">wrapper</span>                                                                                          <span style=\"color: #800000; text-decoration-color: #800000\">│</span>\n",
       "<span style=\"color: #800000; text-decoration-color: #800000\">│</span>                                                                                                  <span style=\"color: #800000; text-decoration-color: #800000\">│</span>\n",
       "<span style=\"color: #800000; text-decoration-color: #800000\">│</span>   <span style=\"color: #7f7f7f; text-decoration-color: #7f7f7f\"> 521 │   │   │   </span><span style=\"color: #808000; text-decoration-color: #808000\">\"output_all_columns\"</span>: <span style=\"color: #00ffff; text-decoration-color: #00ffff\">self</span>._output_all_columns,                               <span style=\"color: #800000; text-decoration-color: #800000\">│</span>\n",
       "<span style=\"color: #800000; text-decoration-color: #800000\">│</span>   <span style=\"color: #7f7f7f; text-decoration-color: #7f7f7f\"> 522 │   │   </span>}                                                                                 <span style=\"color: #800000; text-decoration-color: #800000\">│</span>\n",
       "<span style=\"color: #800000; text-decoration-color: #800000\">│</span>   <span style=\"color: #7f7f7f; text-decoration-color: #7f7f7f\"> 523 │   │   # apply actual function</span>                                                           <span style=\"color: #800000; text-decoration-color: #800000\">│</span>\n",
       "<span style=\"color: #800000; text-decoration-color: #800000\">│</span> <span style=\"color: #800000; text-decoration-color: #800000\">❱ </span> 524 <span style=\"color: #7f7f7f; text-decoration-color: #7f7f7f\">│   │   </span>out: Union[<span style=\"color: #808000; text-decoration-color: #808000\">\"Dataset\"</span>, <span style=\"color: #808000; text-decoration-color: #808000\">\"DatasetDict\"</span>] = func(<span style=\"color: #00ffff; text-decoration-color: #00ffff\">self</span>, *args, **kwargs)                <span style=\"color: #800000; text-decoration-color: #800000\">│</span>\n",
       "<span style=\"color: #800000; text-decoration-color: #800000\">│</span>   <span style=\"color: #7f7f7f; text-decoration-color: #7f7f7f\"> 525 │   │   </span>datasets: List[<span style=\"color: #808000; text-decoration-color: #808000\">\"Dataset\"</span>] = <span style=\"color: #00ffff; text-decoration-color: #00ffff\">list</span>(out.values()) <span style=\"color: #0000ff; text-decoration-color: #0000ff\">if</span> <span style=\"color: #00ffff; text-decoration-color: #00ffff\">isinstance</span>(out, <span style=\"color: #00ffff; text-decoration-color: #00ffff\">dict</span>) <span style=\"color: #0000ff; text-decoration-color: #0000ff\">else</span> [ou  <span style=\"color: #800000; text-decoration-color: #800000\">│</span>\n",
       "<span style=\"color: #800000; text-decoration-color: #800000\">│</span>   <span style=\"color: #7f7f7f; text-decoration-color: #7f7f7f\"> 526 │   │   # re-apply format to the output</span>                                                   <span style=\"color: #800000; text-decoration-color: #800000\">│</span>\n",
       "<span style=\"color: #800000; text-decoration-color: #800000\">│</span>   <span style=\"color: #7f7f7f; text-decoration-color: #7f7f7f\"> 527 │   │   </span><span style=\"color: #0000ff; text-decoration-color: #0000ff\">for</span> dataset <span style=\"color: #ff00ff; text-decoration-color: #ff00ff\">in</span> datasets:                                                          <span style=\"color: #800000; text-decoration-color: #800000\">│</span>\n",
       "<span style=\"color: #800000; text-decoration-color: #800000\">│</span>                                                                                                  <span style=\"color: #800000; text-decoration-color: #800000\">│</span>\n",
       "<span style=\"color: #800000; text-decoration-color: #800000\">│</span> <span style=\"color: #bfbf7f; text-decoration-color: #bfbf7f\">/home/nir/.pyenv/versions/3.7.9/lib/python3.7/site-packages/datasets/</span><span style=\"color: #808000; text-decoration-color: #808000; font-weight: bold\">fingerprint.py</span>:<span style=\"color: #0000ff; text-decoration-color: #0000ff\">480</span> in       <span style=\"color: #800000; text-decoration-color: #800000\">│</span>\n",
       "<span style=\"color: #800000; text-decoration-color: #800000\">│</span> <span style=\"color: #00ff00; text-decoration-color: #00ff00\">wrapper</span>                                                                                          <span style=\"color: #800000; text-decoration-color: #800000\">│</span>\n",
       "<span style=\"color: #800000; text-decoration-color: #800000\">│</span>                                                                                                  <span style=\"color: #800000; text-decoration-color: #800000\">│</span>\n",
       "<span style=\"color: #800000; text-decoration-color: #800000\">│</span>   <span style=\"color: #7f7f7f; text-decoration-color: #7f7f7f\">477 │   │   │   </span>                                                                               <span style=\"color: #800000; text-decoration-color: #800000\">│</span>\n",
       "<span style=\"color: #800000; text-decoration-color: #800000\">│</span>   <span style=\"color: #7f7f7f; text-decoration-color: #7f7f7f\">478 │   │   │   # Call actual function</span>                                                         <span style=\"color: #800000; text-decoration-color: #800000\">│</span>\n",
       "<span style=\"color: #800000; text-decoration-color: #800000\">│</span>   <span style=\"color: #7f7f7f; text-decoration-color: #7f7f7f\">479 │   │   │   </span>                                                                               <span style=\"color: #800000; text-decoration-color: #800000\">│</span>\n",
       "<span style=\"color: #800000; text-decoration-color: #800000\">│</span> <span style=\"color: #800000; text-decoration-color: #800000\">❱ </span>480 <span style=\"color: #7f7f7f; text-decoration-color: #7f7f7f\">│   │   │   </span>out = func(<span style=\"color: #00ffff; text-decoration-color: #00ffff\">self</span>, *args, **kwargs)                                              <span style=\"color: #800000; text-decoration-color: #800000\">│</span>\n",
       "<span style=\"color: #800000; text-decoration-color: #800000\">│</span>   <span style=\"color: #7f7f7f; text-decoration-color: #7f7f7f\">481 │   │   │   </span>                                                                               <span style=\"color: #800000; text-decoration-color: #800000\">│</span>\n",
       "<span style=\"color: #800000; text-decoration-color: #800000\">│</span>   <span style=\"color: #7f7f7f; text-decoration-color: #7f7f7f\">482 │   │   │   # Update fingerprint of in-place transforms + update in-place history of tra</span>   <span style=\"color: #800000; text-decoration-color: #800000\">│</span>\n",
       "<span style=\"color: #800000; text-decoration-color: #800000\">│</span>   <span style=\"color: #7f7f7f; text-decoration-color: #7f7f7f\">483 </span>                                                                                           <span style=\"color: #800000; text-decoration-color: #800000\">│</span>\n",
       "<span style=\"color: #800000; text-decoration-color: #800000\">│</span>                                                                                                  <span style=\"color: #800000; text-decoration-color: #800000\">│</span>\n",
       "<span style=\"color: #800000; text-decoration-color: #800000\">│</span> <span style=\"color: #bfbf7f; text-decoration-color: #bfbf7f\">/home/nir/.pyenv/versions/3.7.9/lib/python3.7/site-packages/datasets/</span><span style=\"color: #808000; text-decoration-color: #808000; font-weight: bold\">arrow_dataset.py</span>:<span style=\"color: #0000ff; text-decoration-color: #0000ff\">2779</span> in    <span style=\"color: #800000; text-decoration-color: #800000\">│</span>\n",
       "<span style=\"color: #800000; text-decoration-color: #800000\">│</span> <span style=\"color: #00ff00; text-decoration-color: #00ff00\">_map_single</span>                                                                                      <span style=\"color: #800000; text-decoration-color: #800000\">│</span>\n",
       "<span style=\"color: #800000; text-decoration-color: #800000\">│</span>                                                                                                  <span style=\"color: #800000; text-decoration-color: #800000\">│</span>\n",
       "<span style=\"color: #800000; text-decoration-color: #800000\">│</span>   <span style=\"color: #7f7f7f; text-decoration-color: #7f7f7f\">2776 │   │   │   │   │   │   │   │   </span>batch,                                                    <span style=\"color: #800000; text-decoration-color: #800000\">│</span>\n",
       "<span style=\"color: #800000; text-decoration-color: #800000\">│</span>   <span style=\"color: #7f7f7f; text-decoration-color: #7f7f7f\">2777 │   │   │   │   │   │   │   │   </span>indices,                                                  <span style=\"color: #800000; text-decoration-color: #800000\">│</span>\n",
       "<span style=\"color: #800000; text-decoration-color: #800000\">│</span>   <span style=\"color: #7f7f7f; text-decoration-color: #7f7f7f\">2778 │   │   │   │   │   │   │   │   </span>check_same_num_examples=<span style=\"color: #00ffff; text-decoration-color: #00ffff\">len</span>(input_dataset.list_indexes()  <span style=\"color: #800000; text-decoration-color: #800000\">│</span>\n",
       "<span style=\"color: #800000; text-decoration-color: #800000\">│</span> <span style=\"color: #800000; text-decoration-color: #800000\">❱ </span>2779 <span style=\"color: #7f7f7f; text-decoration-color: #7f7f7f\">│   │   │   │   │   │   │   │   </span>offset=offset,                                            <span style=\"color: #800000; text-decoration-color: #800000\">│</span>\n",
       "<span style=\"color: #800000; text-decoration-color: #800000\">│</span>   <span style=\"color: #7f7f7f; text-decoration-color: #7f7f7f\">2780 │   │   │   │   │   │   │   </span>)                                                             <span style=\"color: #800000; text-decoration-color: #800000\">│</span>\n",
       "<span style=\"color: #800000; text-decoration-color: #800000\">│</span>   <span style=\"color: #7f7f7f; text-decoration-color: #7f7f7f\">2781 │   │   │   │   │   │   </span><span style=\"color: #0000ff; text-decoration-color: #0000ff\">except</span> NumExamplesMismatchError:                                  <span style=\"color: #800000; text-decoration-color: #800000\">│</span>\n",
       "<span style=\"color: #800000; text-decoration-color: #800000\">│</span>   <span style=\"color: #7f7f7f; text-decoration-color: #7f7f7f\">2782 │   │   │   │   │   │   │   </span><span style=\"color: #0000ff; text-decoration-color: #0000ff\">raise</span> DatasetTransformationNotAllowedError(                   <span style=\"color: #800000; text-decoration-color: #800000\">│</span>\n",
       "<span style=\"color: #800000; text-decoration-color: #800000\">│</span>                                                                                                  <span style=\"color: #800000; text-decoration-color: #800000\">│</span>\n",
       "<span style=\"color: #800000; text-decoration-color: #800000\">│</span> <span style=\"color: #bfbf7f; text-decoration-color: #bfbf7f\">/home/nir/.pyenv/versions/3.7.9/lib/python3.7/site-packages/datasets/</span><span style=\"color: #808000; text-decoration-color: #808000; font-weight: bold\">arrow_dataset.py</span>:<span style=\"color: #0000ff; text-decoration-color: #0000ff\">2655</span> in    <span style=\"color: #800000; text-decoration-color: #800000\">│</span>\n",
       "<span style=\"color: #800000; text-decoration-color: #800000\">│</span> <span style=\"color: #00ff00; text-decoration-color: #00ff00\">apply_function_on_filtered_inputs</span>                                                                <span style=\"color: #800000; text-decoration-color: #800000\">│</span>\n",
       "<span style=\"color: #800000; text-decoration-color: #800000\">│</span>                                                                                                  <span style=\"color: #800000; text-decoration-color: #800000\">│</span>\n",
       "<span style=\"color: #800000; text-decoration-color: #800000\">│</span>   <span style=\"color: #7f7f7f; text-decoration-color: #7f7f7f\">2652 │   │   │   │   </span>additional_args += (effective_indices,)                                   <span style=\"color: #800000; text-decoration-color: #800000\">│</span>\n",
       "<span style=\"color: #800000; text-decoration-color: #800000\">│</span>   <span style=\"color: #7f7f7f; text-decoration-color: #7f7f7f\">2653 │   │   │   </span><span style=\"color: #0000ff; text-decoration-color: #0000ff\">if</span> with_rank:                                                                 <span style=\"color: #800000; text-decoration-color: #800000\">│</span>\n",
       "<span style=\"color: #800000; text-decoration-color: #800000\">│</span>   <span style=\"color: #7f7f7f; text-decoration-color: #7f7f7f\">2654 │   │   │   │   </span>additional_args += (rank,)                                                <span style=\"color: #800000; text-decoration-color: #800000\">│</span>\n",
       "<span style=\"color: #800000; text-decoration-color: #800000\">│</span> <span style=\"color: #800000; text-decoration-color: #800000\">❱ </span>2655 <span style=\"color: #7f7f7f; text-decoration-color: #7f7f7f\">│   │   │   </span>processed_inputs = function(*fn_args, *additional_args, **fn_kwargs)          <span style=\"color: #800000; text-decoration-color: #800000\">│</span>\n",
       "<span style=\"color: #800000; text-decoration-color: #800000\">│</span>   <span style=\"color: #7f7f7f; text-decoration-color: #7f7f7f\">2656 │   │   │   </span><span style=\"color: #0000ff; text-decoration-color: #0000ff\">if</span> update_data <span style=\"color: #ff00ff; text-decoration-color: #ff00ff\">is</span> <span style=\"color: #0000ff; text-decoration-color: #0000ff\">None</span>:                                                       <span style=\"color: #800000; text-decoration-color: #800000\">│</span>\n",
       "<span style=\"color: #800000; text-decoration-color: #800000\">│</span>   <span style=\"color: #7f7f7f; text-decoration-color: #7f7f7f\">2657 │   │   │   │   # Check if the function returns updated examples</span>                          <span style=\"color: #800000; text-decoration-color: #800000\">│</span>\n",
       "<span style=\"color: #800000; text-decoration-color: #800000\">│</span>   <span style=\"color: #7f7f7f; text-decoration-color: #7f7f7f\">2658 │   │   │   │   </span>update_data = <span style=\"color: #00ffff; text-decoration-color: #00ffff\">isinstance</span>(processed_inputs, (Mapping, pa.Table))           <span style=\"color: #800000; text-decoration-color: #800000\">│</span>\n",
       "<span style=\"color: #800000; text-decoration-color: #800000\">│</span>                                                                                                  <span style=\"color: #800000; text-decoration-color: #800000\">│</span>\n",
       "<span style=\"color: #800000; text-decoration-color: #800000\">│</span> <span style=\"color: #bfbf7f; text-decoration-color: #bfbf7f\">/home/nir/.pyenv/versions/3.7.9/lib/python3.7/site-packages/datasets/</span><span style=\"color: #808000; text-decoration-color: #808000; font-weight: bold\">arrow_dataset.py</span>:<span style=\"color: #0000ff; text-decoration-color: #0000ff\">2347</span> in    <span style=\"color: #800000; text-decoration-color: #800000\">│</span>\n",
       "<span style=\"color: #800000; text-decoration-color: #800000\">│</span> <span style=\"color: #00ff00; text-decoration-color: #00ff00\">decorated</span>                                                                                        <span style=\"color: #800000; text-decoration-color: #800000\">│</span>\n",
       "<span style=\"color: #800000; text-decoration-color: #800000\">│</span>                                                                                                  <span style=\"color: #800000; text-decoration-color: #800000\">│</span>\n",
       "<span style=\"color: #800000; text-decoration-color: #800000\">│</span>   <span style=\"color: #7f7f7f; text-decoration-color: #7f7f7f\">2344 │   │   │   │   │   </span>Example(item, features=<span style=\"color: #00ffff; text-decoration-color: #00ffff\">self</span>.features) <span style=\"color: #0000ff; text-decoration-color: #0000ff\">if</span> <span style=\"color: #ff00ff; text-decoration-color: #ff00ff\">not</span> batched <span style=\"color: #0000ff; text-decoration-color: #0000ff\">else</span> Batch(item  <span style=\"color: #800000; text-decoration-color: #800000\">│</span>\n",
       "<span style=\"color: #800000; text-decoration-color: #800000\">│</span>   <span style=\"color: #7f7f7f; text-decoration-color: #7f7f7f\">2345 │   │   │   │   </span>)                                                                         <span style=\"color: #800000; text-decoration-color: #800000\">│</span>\n",
       "<span style=\"color: #800000; text-decoration-color: #800000\">│</span>   <span style=\"color: #7f7f7f; text-decoration-color: #7f7f7f\">2346 │   │   │   │   # Use the LazyDict internally, while mapping the function</span>                 <span style=\"color: #800000; text-decoration-color: #800000\">│</span>\n",
       "<span style=\"color: #800000; text-decoration-color: #800000\">│</span> <span style=\"color: #800000; text-decoration-color: #800000\">❱ </span>2347 <span style=\"color: #7f7f7f; text-decoration-color: #7f7f7f\">│   │   │   │   </span>result = f(decorated_item, *args, **kwargs)                               <span style=\"color: #800000; text-decoration-color: #800000\">│</span>\n",
       "<span style=\"color: #800000; text-decoration-color: #800000\">│</span>   <span style=\"color: #7f7f7f; text-decoration-color: #7f7f7f\">2348 │   │   │   │   # Return a standard dict</span>                                                  <span style=\"color: #800000; text-decoration-color: #800000\">│</span>\n",
       "<span style=\"color: #800000; text-decoration-color: #800000\">│</span>   <span style=\"color: #7f7f7f; text-decoration-color: #7f7f7f\">2349 │   │   │   │   </span><span style=\"color: #0000ff; text-decoration-color: #0000ff\">return</span> result.data <span style=\"color: #0000ff; text-decoration-color: #0000ff\">if</span> <span style=\"color: #00ffff; text-decoration-color: #00ffff\">isinstance</span>(result, LazyDict) <span style=\"color: #0000ff; text-decoration-color: #0000ff\">else</span> result            <span style=\"color: #800000; text-decoration-color: #800000\">│</span>\n",
       "<span style=\"color: #800000; text-decoration-color: #800000\">│</span>   <span style=\"color: #7f7f7f; text-decoration-color: #7f7f7f\">2350 </span>                                                                                          <span style=\"color: #800000; text-decoration-color: #800000\">│</span>\n",
       "<span style=\"color: #800000; text-decoration-color: #800000\">│</span>                                                                                                  <span style=\"color: #800000; text-decoration-color: #800000\">│</span>\n",
       "<span style=\"color: #800000; text-decoration-color: #800000\">│</span> in <span style=\"color: #00ff00; text-decoration-color: #00ff00\">encode</span>:<span style=\"color: #0000ff; text-decoration-color: #0000ff\">11</span>                                                                                     <span style=\"color: #800000; text-decoration-color: #800000\">│</span>\n",
       "<span style=\"color: #800000; text-decoration-color: #800000\">│</span>                                                                                                  <span style=\"color: #800000; text-decoration-color: #800000\">│</span>\n",
       "<span style=\"color: #800000; text-decoration-color: #800000\">│</span>   <span style=\"color: #7f7f7f; text-decoration-color: #7f7f7f\"> 8 │   </span><span style=\"color: #0000ff; text-decoration-color: #0000ff\">elif</span> <span style=\"color: #808000; text-decoration-color: #808000\">'sentence'</span> <span style=\"color: #ff00ff; text-decoration-color: #ff00ff\">in</span> examples.keys():                                                     <span style=\"color: #800000; text-decoration-color: #800000\">│</span>\n",
       "<span style=\"color: #800000; text-decoration-color: #800000\">│</span>   <span style=\"color: #7f7f7f; text-decoration-color: #7f7f7f\"> 9 │   │   </span>data = examples[<span style=\"color: #808000; text-decoration-color: #808000\">'sentence'</span>]                                                         <span style=\"color: #800000; text-decoration-color: #800000\">│</span>\n",
       "<span style=\"color: #800000; text-decoration-color: #800000\">│</span>   <span style=\"color: #7f7f7f; text-decoration-color: #7f7f7f\">10 │   </span><span style=\"color: #0000ff; text-decoration-color: #0000ff\">else</span>:                                                                                   <span style=\"color: #800000; text-decoration-color: #800000\">│</span>\n",
       "<span style=\"color: #800000; text-decoration-color: #800000\">│</span> <span style=\"color: #800000; text-decoration-color: #800000\">❱ </span>11 <span style=\"color: #7f7f7f; text-decoration-color: #7f7f7f\">│   │   </span><span style=\"color: #0000ff; text-decoration-color: #0000ff\">raise</span> <span style=\"color: #00ffff; text-decoration-color: #00ffff\">NotImplementedError</span>                                                           <span style=\"color: #800000; text-decoration-color: #800000\">│</span>\n",
       "<span style=\"color: #800000; text-decoration-color: #800000\">│</span>   <span style=\"color: #7f7f7f; text-decoration-color: #7f7f7f\">12 │   </span><span style=\"color: #0000ff; text-decoration-color: #0000ff\">return</span> tokenizer(data, truncation=<span style=\"color: #0000ff; text-decoration-color: #0000ff\">True</span>, padding=<span style=\"color: #808000; text-decoration-color: #808000\">'max_length'</span>, max_length=<span style=\"color: #0000ff; text-decoration-color: #0000ff\">512</span>)           <span style=\"color: #800000; text-decoration-color: #800000\">│</span>\n",
       "<span style=\"color: #800000; text-decoration-color: #800000\">│</span>   <span style=\"color: #7f7f7f; text-decoration-color: #7f7f7f\">13 </span>                                                                                            <span style=\"color: #800000; text-decoration-color: #800000\">│</span>\n",
       "<span style=\"color: #800000; text-decoration-color: #800000\">│</span>   <span style=\"color: #7f7f7f; text-decoration-color: #7f7f7f\">14 </span><span style=\"color: #0000ff; text-decoration-color: #0000ff\">class</span> <span style=\"color: #00ff00; text-decoration-color: #00ff00; text-decoration: underline\">LogitsDataset</span>(Dataset):                                                               <span style=\"color: #800000; text-decoration-color: #800000\">│</span>\n",
       "<span style=\"color: #800000; text-decoration-color: #800000\">╰──────────────────────────────────────────────────────────────────────────────────────────────────╯</span>\n",
       "<span style=\"color: #ff0000; text-decoration-color: #ff0000; font-weight: bold\">NotImplementedError</span>\n",
       "</pre>\n"
      ],
      "text/plain": [
       "\u001b[31m╭─\u001b[0m\u001b[31m──────────────────────────────\u001b[0m\u001b[31m \u001b[0m\u001b[1;31mTraceback \u001b[0m\u001b[1;2;31m(most recent call last)\u001b[0m\u001b[31m \u001b[0m\u001b[31m───────────────────────────────\u001b[0m\u001b[31m─╮\u001b[0m\n",
       "\u001b[31m│\u001b[0m in \u001b[92m<module>\u001b[0m:\u001b[94m1\u001b[0m                                                                                    \u001b[31m│\u001b[0m\n",
       "\u001b[31m│\u001b[0m                                                                                                  \u001b[31m│\u001b[0m\n",
       "\u001b[31m│\u001b[0m \u001b[31m❱ \u001b[0m1 prepare_run(\u001b[33m'\u001b[0m\u001b[33mmnli\u001b[0m\u001b[33m'\u001b[0m)                                                                          \u001b[31m│\u001b[0m\n",
       "\u001b[31m│\u001b[0m   \u001b[2m2 \u001b[0m                                                                                             \u001b[31m│\u001b[0m\n",
       "\u001b[31m│\u001b[0m                                                                                                  \u001b[31m│\u001b[0m\n",
       "\u001b[31m│\u001b[0m in \u001b[92mprepare_run\u001b[0m:\u001b[94m66\u001b[0m                                                                                \u001b[31m│\u001b[0m\n",
       "\u001b[31m│\u001b[0m                                                                                                  \u001b[31m│\u001b[0m\n",
       "\u001b[31m│\u001b[0m   \u001b[2m63 \u001b[0m\u001b[2m│   │   \u001b[0mdataset = load_dataset(\u001b[33m'\u001b[0m\u001b[33mglue\u001b[0m\u001b[33m'\u001b[0m, \u001b[33m'\u001b[0m\u001b[33mmnli\u001b[0m\u001b[33m'\u001b[0m)                                              \u001b[31m│\u001b[0m\n",
       "\u001b[31m│\u001b[0m   \u001b[2m64 \u001b[0m\u001b[2m│   \u001b[0m\u001b[94melse\u001b[0m:                                                                                   \u001b[31m│\u001b[0m\n",
       "\u001b[31m│\u001b[0m   \u001b[2m65 \u001b[0m\u001b[2m│   │   \u001b[0mdataset = load_dataset(dataset_name)                                                \u001b[31m│\u001b[0m\n",
       "\u001b[31m│\u001b[0m \u001b[31m❱ \u001b[0m66 \u001b[2m│   \u001b[0mdataset = dataset.map(encode, batched=\u001b[94mTrue\u001b[0m)                                             \u001b[31m│\u001b[0m\n",
       "\u001b[31m│\u001b[0m   \u001b[2m67 \u001b[0m\u001b[2m│   \u001b[0mdataset.set_format(\u001b[96mtype\u001b[0m=\u001b[33m'\u001b[0m\u001b[33mtorch\u001b[0m\u001b[33m'\u001b[0m, columns=[\u001b[33m'\u001b[0m\u001b[33minput_ids\u001b[0m\u001b[33m'\u001b[0m, \u001b[33m'\u001b[0m\u001b[33mattention_mask\u001b[0m\u001b[33m'\u001b[0m, \u001b[33m'\u001b[0m\u001b[33mlabel\u001b[0m\u001b[33m'\u001b[0m])      \u001b[31m│\u001b[0m\n",
       "\u001b[31m│\u001b[0m   \u001b[2m68 \u001b[0m\u001b[2m│   \u001b[0mtrain_dataset = dataset[\u001b[33m'\u001b[0m\u001b[33mtrain\u001b[0m\u001b[33m'\u001b[0m]                                                        \u001b[31m│\u001b[0m\n",
       "\u001b[31m│\u001b[0m   \u001b[2m69 \u001b[0m\u001b[2m│   \u001b[0mtest_dataset = dataset[\u001b[33m'\u001b[0m\u001b[33mtest\u001b[0m\u001b[33m'\u001b[0m]                                                          \u001b[31m│\u001b[0m\n",
       "\u001b[31m│\u001b[0m                                                                                                  \u001b[31m│\u001b[0m\n",
       "\u001b[31m│\u001b[0m \u001b[2;33m/home/nir/.pyenv/versions/3.7.9/lib/python3.7/site-packages/datasets/\u001b[0m\u001b[1;33mdataset_dict.py\u001b[0m:\u001b[94m790\u001b[0m in \u001b[92mmap\u001b[0m  \u001b[31m│\u001b[0m\n",
       "\u001b[31m│\u001b[0m                                                                                                  \u001b[31m│\u001b[0m\n",
       "\u001b[31m│\u001b[0m   \u001b[2m 787 \u001b[0m\u001b[2m│   │   │   │   │   \u001b[0mnum_proc=num_proc,                                                    \u001b[31m│\u001b[0m\n",
       "\u001b[31m│\u001b[0m   \u001b[2m 788 \u001b[0m\u001b[2m│   │   │   │   │   \u001b[0mdesc=desc,                                                            \u001b[31m│\u001b[0m\n",
       "\u001b[31m│\u001b[0m   \u001b[2m 789 \u001b[0m\u001b[2m│   │   │   │   \u001b[0m)                                                                         \u001b[31m│\u001b[0m\n",
       "\u001b[31m│\u001b[0m \u001b[31m❱ \u001b[0m 790 \u001b[2m│   │   │   │   \u001b[0m\u001b[94mfor\u001b[0m k, dataset \u001b[95min\u001b[0m \u001b[96mself\u001b[0m.items()                                            \u001b[31m│\u001b[0m\n",
       "\u001b[31m│\u001b[0m   \u001b[2m 791 \u001b[0m\u001b[2m│   │   │   \u001b[0m}                                                                             \u001b[31m│\u001b[0m\n",
       "\u001b[31m│\u001b[0m   \u001b[2m 792 \u001b[0m\u001b[2m│   │   \u001b[0m)                                                                                 \u001b[31m│\u001b[0m\n",
       "\u001b[31m│\u001b[0m   \u001b[2m 793 \u001b[0m                                                                                          \u001b[31m│\u001b[0m\n",
       "\u001b[31m│\u001b[0m                                                                                                  \u001b[31m│\u001b[0m\n",
       "\u001b[31m│\u001b[0m \u001b[2;33m/home/nir/.pyenv/versions/3.7.9/lib/python3.7/site-packages/datasets/\u001b[0m\u001b[1;33mdataset_dict.py\u001b[0m:\u001b[94m790\u001b[0m in      \u001b[31m│\u001b[0m\n",
       "\u001b[31m│\u001b[0m \u001b[92m<dictcomp>\u001b[0m                                                                                       \u001b[31m│\u001b[0m\n",
       "\u001b[31m│\u001b[0m                                                                                                  \u001b[31m│\u001b[0m\n",
       "\u001b[31m│\u001b[0m   \u001b[2m 787 \u001b[0m\u001b[2m│   │   │   │   │   \u001b[0mnum_proc=num_proc,                                                    \u001b[31m│\u001b[0m\n",
       "\u001b[31m│\u001b[0m   \u001b[2m 788 \u001b[0m\u001b[2m│   │   │   │   │   \u001b[0mdesc=desc,                                                            \u001b[31m│\u001b[0m\n",
       "\u001b[31m│\u001b[0m   \u001b[2m 789 \u001b[0m\u001b[2m│   │   │   │   \u001b[0m)                                                                         \u001b[31m│\u001b[0m\n",
       "\u001b[31m│\u001b[0m \u001b[31m❱ \u001b[0m 790 \u001b[2m│   │   │   │   \u001b[0m\u001b[94mfor\u001b[0m k, dataset \u001b[95min\u001b[0m \u001b[96mself\u001b[0m.items()                                            \u001b[31m│\u001b[0m\n",
       "\u001b[31m│\u001b[0m   \u001b[2m 791 \u001b[0m\u001b[2m│   │   │   \u001b[0m}                                                                             \u001b[31m│\u001b[0m\n",
       "\u001b[31m│\u001b[0m   \u001b[2m 792 \u001b[0m\u001b[2m│   │   \u001b[0m)                                                                                 \u001b[31m│\u001b[0m\n",
       "\u001b[31m│\u001b[0m   \u001b[2m 793 \u001b[0m                                                                                          \u001b[31m│\u001b[0m\n",
       "\u001b[31m│\u001b[0m                                                                                                  \u001b[31m│\u001b[0m\n",
       "\u001b[31m│\u001b[0m \u001b[2;33m/home/nir/.pyenv/versions/3.7.9/lib/python3.7/site-packages/datasets/\u001b[0m\u001b[1;33marrow_dataset.py\u001b[0m:\u001b[94m2405\u001b[0m in    \u001b[31m│\u001b[0m\n",
       "\u001b[31m│\u001b[0m \u001b[92mmap\u001b[0m                                                                                              \u001b[31m│\u001b[0m\n",
       "\u001b[31m│\u001b[0m                                                                                                  \u001b[31m│\u001b[0m\n",
       "\u001b[31m│\u001b[0m   \u001b[2m2402 \u001b[0m\u001b[2m│   │   │   │   \u001b[0mfn_kwargs=fn_kwargs,                                                      \u001b[31m│\u001b[0m\n",
       "\u001b[31m│\u001b[0m   \u001b[2m2403 \u001b[0m\u001b[2m│   │   │   │   \u001b[0mnew_fingerprint=new_fingerprint,                                          \u001b[31m│\u001b[0m\n",
       "\u001b[31m│\u001b[0m   \u001b[2m2404 \u001b[0m\u001b[2m│   │   │   │   \u001b[0mdisable_tqdm=disable_tqdm,                                                \u001b[31m│\u001b[0m\n",
       "\u001b[31m│\u001b[0m \u001b[31m❱ \u001b[0m2405 \u001b[2m│   │   │   │   \u001b[0mdesc=desc,                                                                \u001b[31m│\u001b[0m\n",
       "\u001b[31m│\u001b[0m   \u001b[2m2406 \u001b[0m\u001b[2m│   │   │   \u001b[0m)                                                                             \u001b[31m│\u001b[0m\n",
       "\u001b[31m│\u001b[0m   \u001b[2m2407 \u001b[0m\u001b[2m│   │   \u001b[0m\u001b[94melse\u001b[0m:                                                                             \u001b[31m│\u001b[0m\n",
       "\u001b[31m│\u001b[0m   \u001b[2m2408 \u001b[0m                                                                                          \u001b[31m│\u001b[0m\n",
       "\u001b[31m│\u001b[0m                                                                                                  \u001b[31m│\u001b[0m\n",
       "\u001b[31m│\u001b[0m \u001b[2;33m/home/nir/.pyenv/versions/3.7.9/lib/python3.7/site-packages/datasets/\u001b[0m\u001b[1;33marrow_dataset.py\u001b[0m:\u001b[94m557\u001b[0m in     \u001b[31m│\u001b[0m\n",
       "\u001b[31m│\u001b[0m \u001b[92mwrapper\u001b[0m                                                                                          \u001b[31m│\u001b[0m\n",
       "\u001b[31m│\u001b[0m                                                                                                  \u001b[31m│\u001b[0m\n",
       "\u001b[31m│\u001b[0m   \u001b[2m 554 \u001b[0m\u001b[2m│   │   \u001b[0m\u001b[94melse\u001b[0m:                                                                             \u001b[31m│\u001b[0m\n",
       "\u001b[31m│\u001b[0m   \u001b[2m 555 \u001b[0m\u001b[2m│   │   │   \u001b[0m\u001b[96mself\u001b[0m: \u001b[33m\"\u001b[0m\u001b[33mDataset\u001b[0m\u001b[33m\"\u001b[0m = kwargs.pop(\u001b[33m\"\u001b[0m\u001b[33mself\u001b[0m\u001b[33m\"\u001b[0m)                                          \u001b[31m│\u001b[0m\n",
       "\u001b[31m│\u001b[0m   \u001b[2m 556 \u001b[0m\u001b[2m│   │   \u001b[0m\u001b[2m# apply actual function\u001b[0m                                                           \u001b[31m│\u001b[0m\n",
       "\u001b[31m│\u001b[0m \u001b[31m❱ \u001b[0m 557 \u001b[2m│   │   \u001b[0mout: Union[\u001b[33m\"\u001b[0m\u001b[33mDataset\u001b[0m\u001b[33m\"\u001b[0m, \u001b[33m\"\u001b[0m\u001b[33mDatasetDict\u001b[0m\u001b[33m\"\u001b[0m] = func(\u001b[96mself\u001b[0m, *args, **kwargs)                \u001b[31m│\u001b[0m\n",
       "\u001b[31m│\u001b[0m   \u001b[2m 558 \u001b[0m\u001b[2m│   │   \u001b[0mdatasets: List[\u001b[33m\"\u001b[0m\u001b[33mDataset\u001b[0m\u001b[33m\"\u001b[0m] = \u001b[96mlist\u001b[0m(out.values()) \u001b[94mif\u001b[0m \u001b[96misinstance\u001b[0m(out, \u001b[96mdict\u001b[0m) \u001b[94melse\u001b[0m [ou  \u001b[31m│\u001b[0m\n",
       "\u001b[31m│\u001b[0m   \u001b[2m 559 \u001b[0m\u001b[2m│   │   \u001b[0m\u001b[94mfor\u001b[0m dataset \u001b[95min\u001b[0m datasets:                                                          \u001b[31m│\u001b[0m\n",
       "\u001b[31m│\u001b[0m   \u001b[2m 560 \u001b[0m\u001b[2m│   │   │   \u001b[0m\u001b[2m# Remove task templates if a column mapping of the template is no longer val\u001b[0m  \u001b[31m│\u001b[0m\n",
       "\u001b[31m│\u001b[0m                                                                                                  \u001b[31m│\u001b[0m\n",
       "\u001b[31m│\u001b[0m \u001b[2;33m/home/nir/.pyenv/versions/3.7.9/lib/python3.7/site-packages/datasets/\u001b[0m\u001b[1;33marrow_dataset.py\u001b[0m:\u001b[94m524\u001b[0m in     \u001b[31m│\u001b[0m\n",
       "\u001b[31m│\u001b[0m \u001b[92mwrapper\u001b[0m                                                                                          \u001b[31m│\u001b[0m\n",
       "\u001b[31m│\u001b[0m                                                                                                  \u001b[31m│\u001b[0m\n",
       "\u001b[31m│\u001b[0m   \u001b[2m 521 \u001b[0m\u001b[2m│   │   │   \u001b[0m\u001b[33m\"\u001b[0m\u001b[33moutput_all_columns\u001b[0m\u001b[33m\"\u001b[0m: \u001b[96mself\u001b[0m._output_all_columns,                               \u001b[31m│\u001b[0m\n",
       "\u001b[31m│\u001b[0m   \u001b[2m 522 \u001b[0m\u001b[2m│   │   \u001b[0m}                                                                                 \u001b[31m│\u001b[0m\n",
       "\u001b[31m│\u001b[0m   \u001b[2m 523 \u001b[0m\u001b[2m│   │   \u001b[0m\u001b[2m# apply actual function\u001b[0m                                                           \u001b[31m│\u001b[0m\n",
       "\u001b[31m│\u001b[0m \u001b[31m❱ \u001b[0m 524 \u001b[2m│   │   \u001b[0mout: Union[\u001b[33m\"\u001b[0m\u001b[33mDataset\u001b[0m\u001b[33m\"\u001b[0m, \u001b[33m\"\u001b[0m\u001b[33mDatasetDict\u001b[0m\u001b[33m\"\u001b[0m] = func(\u001b[96mself\u001b[0m, *args, **kwargs)                \u001b[31m│\u001b[0m\n",
       "\u001b[31m│\u001b[0m   \u001b[2m 525 \u001b[0m\u001b[2m│   │   \u001b[0mdatasets: List[\u001b[33m\"\u001b[0m\u001b[33mDataset\u001b[0m\u001b[33m\"\u001b[0m] = \u001b[96mlist\u001b[0m(out.values()) \u001b[94mif\u001b[0m \u001b[96misinstance\u001b[0m(out, \u001b[96mdict\u001b[0m) \u001b[94melse\u001b[0m [ou  \u001b[31m│\u001b[0m\n",
       "\u001b[31m│\u001b[0m   \u001b[2m 526 \u001b[0m\u001b[2m│   │   \u001b[0m\u001b[2m# re-apply format to the output\u001b[0m                                                   \u001b[31m│\u001b[0m\n",
       "\u001b[31m│\u001b[0m   \u001b[2m 527 \u001b[0m\u001b[2m│   │   \u001b[0m\u001b[94mfor\u001b[0m dataset \u001b[95min\u001b[0m datasets:                                                          \u001b[31m│\u001b[0m\n",
       "\u001b[31m│\u001b[0m                                                                                                  \u001b[31m│\u001b[0m\n",
       "\u001b[31m│\u001b[0m \u001b[2;33m/home/nir/.pyenv/versions/3.7.9/lib/python3.7/site-packages/datasets/\u001b[0m\u001b[1;33mfingerprint.py\u001b[0m:\u001b[94m480\u001b[0m in       \u001b[31m│\u001b[0m\n",
       "\u001b[31m│\u001b[0m \u001b[92mwrapper\u001b[0m                                                                                          \u001b[31m│\u001b[0m\n",
       "\u001b[31m│\u001b[0m                                                                                                  \u001b[31m│\u001b[0m\n",
       "\u001b[31m│\u001b[0m   \u001b[2m477 \u001b[0m\u001b[2m│   │   │   \u001b[0m                                                                               \u001b[31m│\u001b[0m\n",
       "\u001b[31m│\u001b[0m   \u001b[2m478 \u001b[0m\u001b[2m│   │   │   \u001b[0m\u001b[2m# Call actual function\u001b[0m                                                         \u001b[31m│\u001b[0m\n",
       "\u001b[31m│\u001b[0m   \u001b[2m479 \u001b[0m\u001b[2m│   │   │   \u001b[0m                                                                               \u001b[31m│\u001b[0m\n",
       "\u001b[31m│\u001b[0m \u001b[31m❱ \u001b[0m480 \u001b[2m│   │   │   \u001b[0mout = func(\u001b[96mself\u001b[0m, *args, **kwargs)                                              \u001b[31m│\u001b[0m\n",
       "\u001b[31m│\u001b[0m   \u001b[2m481 \u001b[0m\u001b[2m│   │   │   \u001b[0m                                                                               \u001b[31m│\u001b[0m\n",
       "\u001b[31m│\u001b[0m   \u001b[2m482 \u001b[0m\u001b[2m│   │   │   \u001b[0m\u001b[2m# Update fingerprint of in-place transforms + update in-place history of tra\u001b[0m   \u001b[31m│\u001b[0m\n",
       "\u001b[31m│\u001b[0m   \u001b[2m483 \u001b[0m                                                                                           \u001b[31m│\u001b[0m\n",
       "\u001b[31m│\u001b[0m                                                                                                  \u001b[31m│\u001b[0m\n",
       "\u001b[31m│\u001b[0m \u001b[2;33m/home/nir/.pyenv/versions/3.7.9/lib/python3.7/site-packages/datasets/\u001b[0m\u001b[1;33marrow_dataset.py\u001b[0m:\u001b[94m2779\u001b[0m in    \u001b[31m│\u001b[0m\n",
       "\u001b[31m│\u001b[0m \u001b[92m_map_single\u001b[0m                                                                                      \u001b[31m│\u001b[0m\n",
       "\u001b[31m│\u001b[0m                                                                                                  \u001b[31m│\u001b[0m\n",
       "\u001b[31m│\u001b[0m   \u001b[2m2776 \u001b[0m\u001b[2m│   │   │   │   │   │   │   │   \u001b[0mbatch,                                                    \u001b[31m│\u001b[0m\n",
       "\u001b[31m│\u001b[0m   \u001b[2m2777 \u001b[0m\u001b[2m│   │   │   │   │   │   │   │   \u001b[0mindices,                                                  \u001b[31m│\u001b[0m\n",
       "\u001b[31m│\u001b[0m   \u001b[2m2778 \u001b[0m\u001b[2m│   │   │   │   │   │   │   │   \u001b[0mcheck_same_num_examples=\u001b[96mlen\u001b[0m(input_dataset.list_indexes()  \u001b[31m│\u001b[0m\n",
       "\u001b[31m│\u001b[0m \u001b[31m❱ \u001b[0m2779 \u001b[2m│   │   │   │   │   │   │   │   \u001b[0moffset=offset,                                            \u001b[31m│\u001b[0m\n",
       "\u001b[31m│\u001b[0m   \u001b[2m2780 \u001b[0m\u001b[2m│   │   │   │   │   │   │   \u001b[0m)                                                             \u001b[31m│\u001b[0m\n",
       "\u001b[31m│\u001b[0m   \u001b[2m2781 \u001b[0m\u001b[2m│   │   │   │   │   │   \u001b[0m\u001b[94mexcept\u001b[0m NumExamplesMismatchError:                                  \u001b[31m│\u001b[0m\n",
       "\u001b[31m│\u001b[0m   \u001b[2m2782 \u001b[0m\u001b[2m│   │   │   │   │   │   │   \u001b[0m\u001b[94mraise\u001b[0m DatasetTransformationNotAllowedError(                   \u001b[31m│\u001b[0m\n",
       "\u001b[31m│\u001b[0m                                                                                                  \u001b[31m│\u001b[0m\n",
       "\u001b[31m│\u001b[0m \u001b[2;33m/home/nir/.pyenv/versions/3.7.9/lib/python3.7/site-packages/datasets/\u001b[0m\u001b[1;33marrow_dataset.py\u001b[0m:\u001b[94m2655\u001b[0m in    \u001b[31m│\u001b[0m\n",
       "\u001b[31m│\u001b[0m \u001b[92mapply_function_on_filtered_inputs\u001b[0m                                                                \u001b[31m│\u001b[0m\n",
       "\u001b[31m│\u001b[0m                                                                                                  \u001b[31m│\u001b[0m\n",
       "\u001b[31m│\u001b[0m   \u001b[2m2652 \u001b[0m\u001b[2m│   │   │   │   \u001b[0madditional_args += (effective_indices,)                                   \u001b[31m│\u001b[0m\n",
       "\u001b[31m│\u001b[0m   \u001b[2m2653 \u001b[0m\u001b[2m│   │   │   \u001b[0m\u001b[94mif\u001b[0m with_rank:                                                                 \u001b[31m│\u001b[0m\n",
       "\u001b[31m│\u001b[0m   \u001b[2m2654 \u001b[0m\u001b[2m│   │   │   │   \u001b[0madditional_args += (rank,)                                                \u001b[31m│\u001b[0m\n",
       "\u001b[31m│\u001b[0m \u001b[31m❱ \u001b[0m2655 \u001b[2m│   │   │   \u001b[0mprocessed_inputs = function(*fn_args, *additional_args, **fn_kwargs)          \u001b[31m│\u001b[0m\n",
       "\u001b[31m│\u001b[0m   \u001b[2m2656 \u001b[0m\u001b[2m│   │   │   \u001b[0m\u001b[94mif\u001b[0m update_data \u001b[95mis\u001b[0m \u001b[94mNone\u001b[0m:                                                       \u001b[31m│\u001b[0m\n",
       "\u001b[31m│\u001b[0m   \u001b[2m2657 \u001b[0m\u001b[2m│   │   │   │   \u001b[0m\u001b[2m# Check if the function returns updated examples\u001b[0m                          \u001b[31m│\u001b[0m\n",
       "\u001b[31m│\u001b[0m   \u001b[2m2658 \u001b[0m\u001b[2m│   │   │   │   \u001b[0mupdate_data = \u001b[96misinstance\u001b[0m(processed_inputs, (Mapping, pa.Table))           \u001b[31m│\u001b[0m\n",
       "\u001b[31m│\u001b[0m                                                                                                  \u001b[31m│\u001b[0m\n",
       "\u001b[31m│\u001b[0m \u001b[2;33m/home/nir/.pyenv/versions/3.7.9/lib/python3.7/site-packages/datasets/\u001b[0m\u001b[1;33marrow_dataset.py\u001b[0m:\u001b[94m2347\u001b[0m in    \u001b[31m│\u001b[0m\n",
       "\u001b[31m│\u001b[0m \u001b[92mdecorated\u001b[0m                                                                                        \u001b[31m│\u001b[0m\n",
       "\u001b[31m│\u001b[0m                                                                                                  \u001b[31m│\u001b[0m\n",
       "\u001b[31m│\u001b[0m   \u001b[2m2344 \u001b[0m\u001b[2m│   │   │   │   │   \u001b[0mExample(item, features=\u001b[96mself\u001b[0m.features) \u001b[94mif\u001b[0m \u001b[95mnot\u001b[0m batched \u001b[94melse\u001b[0m Batch(item  \u001b[31m│\u001b[0m\n",
       "\u001b[31m│\u001b[0m   \u001b[2m2345 \u001b[0m\u001b[2m│   │   │   │   \u001b[0m)                                                                         \u001b[31m│\u001b[0m\n",
       "\u001b[31m│\u001b[0m   \u001b[2m2346 \u001b[0m\u001b[2m│   │   │   │   \u001b[0m\u001b[2m# Use the LazyDict internally, while mapping the function\u001b[0m                 \u001b[31m│\u001b[0m\n",
       "\u001b[31m│\u001b[0m \u001b[31m❱ \u001b[0m2347 \u001b[2m│   │   │   │   \u001b[0mresult = f(decorated_item, *args, **kwargs)                               \u001b[31m│\u001b[0m\n",
       "\u001b[31m│\u001b[0m   \u001b[2m2348 \u001b[0m\u001b[2m│   │   │   │   \u001b[0m\u001b[2m# Return a standard dict\u001b[0m                                                  \u001b[31m│\u001b[0m\n",
       "\u001b[31m│\u001b[0m   \u001b[2m2349 \u001b[0m\u001b[2m│   │   │   │   \u001b[0m\u001b[94mreturn\u001b[0m result.data \u001b[94mif\u001b[0m \u001b[96misinstance\u001b[0m(result, LazyDict) \u001b[94melse\u001b[0m result            \u001b[31m│\u001b[0m\n",
       "\u001b[31m│\u001b[0m   \u001b[2m2350 \u001b[0m                                                                                          \u001b[31m│\u001b[0m\n",
       "\u001b[31m│\u001b[0m                                                                                                  \u001b[31m│\u001b[0m\n",
       "\u001b[31m│\u001b[0m in \u001b[92mencode\u001b[0m:\u001b[94m11\u001b[0m                                                                                     \u001b[31m│\u001b[0m\n",
       "\u001b[31m│\u001b[0m                                                                                                  \u001b[31m│\u001b[0m\n",
       "\u001b[31m│\u001b[0m   \u001b[2m 8 \u001b[0m\u001b[2m│   \u001b[0m\u001b[94melif\u001b[0m \u001b[33m'\u001b[0m\u001b[33msentence\u001b[0m\u001b[33m'\u001b[0m \u001b[95min\u001b[0m examples.keys():                                                     \u001b[31m│\u001b[0m\n",
       "\u001b[31m│\u001b[0m   \u001b[2m 9 \u001b[0m\u001b[2m│   │   \u001b[0mdata = examples[\u001b[33m'\u001b[0m\u001b[33msentence\u001b[0m\u001b[33m'\u001b[0m]                                                         \u001b[31m│\u001b[0m\n",
       "\u001b[31m│\u001b[0m   \u001b[2m10 \u001b[0m\u001b[2m│   \u001b[0m\u001b[94melse\u001b[0m:                                                                                   \u001b[31m│\u001b[0m\n",
       "\u001b[31m│\u001b[0m \u001b[31m❱ \u001b[0m11 \u001b[2m│   │   \u001b[0m\u001b[94mraise\u001b[0m \u001b[96mNotImplementedError\u001b[0m                                                           \u001b[31m│\u001b[0m\n",
       "\u001b[31m│\u001b[0m   \u001b[2m12 \u001b[0m\u001b[2m│   \u001b[0m\u001b[94mreturn\u001b[0m tokenizer(data, truncation=\u001b[94mTrue\u001b[0m, padding=\u001b[33m'\u001b[0m\u001b[33mmax_length\u001b[0m\u001b[33m'\u001b[0m, max_length=\u001b[94m512\u001b[0m)           \u001b[31m│\u001b[0m\n",
       "\u001b[31m│\u001b[0m   \u001b[2m13 \u001b[0m                                                                                            \u001b[31m│\u001b[0m\n",
       "\u001b[31m│\u001b[0m   \u001b[2m14 \u001b[0m\u001b[94mclass\u001b[0m \u001b[4;92mLogitsDataset\u001b[0m(Dataset):                                                               \u001b[31m│\u001b[0m\n",
       "\u001b[31m╰──────────────────────────────────────────────────────────────────────────────────────────────────╯\u001b[0m\n",
       "\u001b[1;91mNotImplementedError\u001b[0m\n"
      ]
     },
     "metadata": {},
     "output_type": "display_data"
    }
   ],
   "source": [
    "prepare_run('mnli')"
   ]
  },
  {
   "cell_type": "code",
   "execution_count": 18,
   "id": "57c6030f",
   "metadata": {},
   "outputs": [],
   "source": [
    "dataset_name = 'imdb'\n",
    "path = f'/D/datasets/{dataset_name}/logits_dataloaders/logits_test_dataloader.pkl'"
   ]
  },
  {
   "cell_type": "code",
   "execution_count": 19,
   "id": "a51c8ce4",
   "metadata": {},
   "outputs": [],
   "source": [
    "with open(path, 'rb') as f:\n",
    "    d = pickle5.load(f)"
   ]
  },
  {
   "cell_type": "code",
   "execution_count": 20,
   "id": "80da5428",
   "metadata": {},
   "outputs": [
    {
     "data": {
      "text/plain": [
       "64"
      ]
     },
     "execution_count": 20,
     "metadata": {},
     "output_type": "execute_result"
    }
   ],
   "source": [
    "d.batch_size"
   ]
  },
  {
   "cell_type": "code",
   "execution_count": 22,
   "id": "2d554dad",
   "metadata": {},
   "outputs": [
    {
     "name": "stderr",
     "output_type": "stream",
     "text": [
      "Using custom data configuration default\n",
      "Reusing dataset ag_news (/home/nir/.cache/huggingface/datasets/ag_news/default/0.0.0/bc2bcb40336ace1a0374767fc29bb0296cdaf8a6da7298436239c54d79180548)\n"
     ]
    },
    {
     "data": {
      "application/vnd.jupyter.widget-view+json": {
       "model_id": "bab0dfdeb36a42e9bbb19ad5d1932e98",
       "version_major": 2,
       "version_minor": 0
      },
      "text/plain": [
       "  0%|          | 0/2 [00:00<?, ?it/s]"
      ]
     },
     "metadata": {},
     "output_type": "display_data"
    },
    {
     "name": "stderr",
     "output_type": "stream",
     "text": [
      "Loading cached processed dataset at /home/nir/.cache/huggingface/datasets/ag_news/default/0.0.0/bc2bcb40336ace1a0374767fc29bb0296cdaf8a6da7298436239c54d79180548/cache-c0116fa0901f1ef2.arrow\n",
      "Loading cached processed dataset at /home/nir/.cache/huggingface/datasets/ag_news/default/0.0.0/bc2bcb40336ace1a0374767fc29bb0296cdaf8a6da7298436239c54d79180548/cache-dde21c7e7fb16503.arrow\n"
     ]
    }
   ],
   "source": [
    "device = torch.device('cuda:0')\n",
    "dataset_name = 'ag_news'\n",
    "pretrained_model = BertForSequenceClassification.from_pretrained('textattack/bert-base-uncased-' + dataset_name.replace('_','-'))\n",
    "\n",
    "# vib_classifier = TransformerVIB(pretrained_model.classifier.in_features, pretrained_model.classifier.out_features, device)\n",
    "# hybrid_model = TransformerHybridModel(pretrained_model, vib_classifier, device, fc_name='classifier')\n",
    "\n",
    "tokenizer = AutoTokenizer.from_pretrained('bert-base-uncased')\n",
    "# wrapper_model = HuggingFaceModelWrapper(model, tokenizer)\n",
    "# adaptor = TransformerAdaptor(hybrid_model)\n",
    "# wrapper = HuggingFaceModelWrapper(adaptor, tokenizer)\n",
    "wrapper = HuggingFaceModelWrapper(pretrained_model, tokenizer)\n",
    "\n",
    "dataset = load_dataset(dataset_name)\n",
    "dataset = dataset.map(encode, batched=True)\n",
    "dataset.set_format(type='torch', columns=['input_ids', 'attention_mask', 'label'])\n",
    "train_dataset = dataset['train']\n",
    "test_dataset = dataset['test']\n",
    "train_dataloader = DataLoader(train_dataset, shuffle=True, batch_size=128)\n",
    "test_dataloader = DataLoader(test_dataset, shuffle=True, batch_size=128)\n"
   ]
  },
  {
   "cell_type": "code",
   "execution_count": 4,
   "id": "8fb73c8a",
   "metadata": {},
   "outputs": [
    {
     "data": {
      "text/plain": [
       "BertForSequenceClassification(\n",
       "  (bert): BertModel(\n",
       "    (embeddings): BertEmbeddings(\n",
       "      (word_embeddings): Embedding(30522, 768, padding_idx=0)\n",
       "      (position_embeddings): Embedding(512, 768)\n",
       "      (token_type_embeddings): Embedding(2, 768)\n",
       "      (LayerNorm): LayerNorm((768,), eps=1e-12, elementwise_affine=True)\n",
       "      (dropout): Dropout(p=0.1, inplace=False)\n",
       "    )\n",
       "    (encoder): BertEncoder(\n",
       "      (layer): ModuleList(\n",
       "        (0): BertLayer(\n",
       "          (attention): BertAttention(\n",
       "            (self): BertSelfAttention(\n",
       "              (query): Linear(in_features=768, out_features=768, bias=True)\n",
       "              (key): Linear(in_features=768, out_features=768, bias=True)\n",
       "              (value): Linear(in_features=768, out_features=768, bias=True)\n",
       "              (dropout): Dropout(p=0.1, inplace=False)\n",
       "            )\n",
       "            (output): BertSelfOutput(\n",
       "              (dense): Linear(in_features=768, out_features=768, bias=True)\n",
       "              (LayerNorm): LayerNorm((768,), eps=1e-12, elementwise_affine=True)\n",
       "              (dropout): Dropout(p=0.1, inplace=False)\n",
       "            )\n",
       "          )\n",
       "          (intermediate): BertIntermediate(\n",
       "            (dense): Linear(in_features=768, out_features=3072, bias=True)\n",
       "            (intermediate_act_fn): GELUActivation()\n",
       "          )\n",
       "          (output): BertOutput(\n",
       "            (dense): Linear(in_features=3072, out_features=768, bias=True)\n",
       "            (LayerNorm): LayerNorm((768,), eps=1e-12, elementwise_affine=True)\n",
       "            (dropout): Dropout(p=0.1, inplace=False)\n",
       "          )\n",
       "        )\n",
       "        (1): BertLayer(\n",
       "          (attention): BertAttention(\n",
       "            (self): BertSelfAttention(\n",
       "              (query): Linear(in_features=768, out_features=768, bias=True)\n",
       "              (key): Linear(in_features=768, out_features=768, bias=True)\n",
       "              (value): Linear(in_features=768, out_features=768, bias=True)\n",
       "              (dropout): Dropout(p=0.1, inplace=False)\n",
       "            )\n",
       "            (output): BertSelfOutput(\n",
       "              (dense): Linear(in_features=768, out_features=768, bias=True)\n",
       "              (LayerNorm): LayerNorm((768,), eps=1e-12, elementwise_affine=True)\n",
       "              (dropout): Dropout(p=0.1, inplace=False)\n",
       "            )\n",
       "          )\n",
       "          (intermediate): BertIntermediate(\n",
       "            (dense): Linear(in_features=768, out_features=3072, bias=True)\n",
       "            (intermediate_act_fn): GELUActivation()\n",
       "          )\n",
       "          (output): BertOutput(\n",
       "            (dense): Linear(in_features=3072, out_features=768, bias=True)\n",
       "            (LayerNorm): LayerNorm((768,), eps=1e-12, elementwise_affine=True)\n",
       "            (dropout): Dropout(p=0.1, inplace=False)\n",
       "          )\n",
       "        )\n",
       "        (2): BertLayer(\n",
       "          (attention): BertAttention(\n",
       "            (self): BertSelfAttention(\n",
       "              (query): Linear(in_features=768, out_features=768, bias=True)\n",
       "              (key): Linear(in_features=768, out_features=768, bias=True)\n",
       "              (value): Linear(in_features=768, out_features=768, bias=True)\n",
       "              (dropout): Dropout(p=0.1, inplace=False)\n",
       "            )\n",
       "            (output): BertSelfOutput(\n",
       "              (dense): Linear(in_features=768, out_features=768, bias=True)\n",
       "              (LayerNorm): LayerNorm((768,), eps=1e-12, elementwise_affine=True)\n",
       "              (dropout): Dropout(p=0.1, inplace=False)\n",
       "            )\n",
       "          )\n",
       "          (intermediate): BertIntermediate(\n",
       "            (dense): Linear(in_features=768, out_features=3072, bias=True)\n",
       "            (intermediate_act_fn): GELUActivation()\n",
       "          )\n",
       "          (output): BertOutput(\n",
       "            (dense): Linear(in_features=3072, out_features=768, bias=True)\n",
       "            (LayerNorm): LayerNorm((768,), eps=1e-12, elementwise_affine=True)\n",
       "            (dropout): Dropout(p=0.1, inplace=False)\n",
       "          )\n",
       "        )\n",
       "        (3): BertLayer(\n",
       "          (attention): BertAttention(\n",
       "            (self): BertSelfAttention(\n",
       "              (query): Linear(in_features=768, out_features=768, bias=True)\n",
       "              (key): Linear(in_features=768, out_features=768, bias=True)\n",
       "              (value): Linear(in_features=768, out_features=768, bias=True)\n",
       "              (dropout): Dropout(p=0.1, inplace=False)\n",
       "            )\n",
       "            (output): BertSelfOutput(\n",
       "              (dense): Linear(in_features=768, out_features=768, bias=True)\n",
       "              (LayerNorm): LayerNorm((768,), eps=1e-12, elementwise_affine=True)\n",
       "              (dropout): Dropout(p=0.1, inplace=False)\n",
       "            )\n",
       "          )\n",
       "          (intermediate): BertIntermediate(\n",
       "            (dense): Linear(in_features=768, out_features=3072, bias=True)\n",
       "            (intermediate_act_fn): GELUActivation()\n",
       "          )\n",
       "          (output): BertOutput(\n",
       "            (dense): Linear(in_features=3072, out_features=768, bias=True)\n",
       "            (LayerNorm): LayerNorm((768,), eps=1e-12, elementwise_affine=True)\n",
       "            (dropout): Dropout(p=0.1, inplace=False)\n",
       "          )\n",
       "        )\n",
       "        (4): BertLayer(\n",
       "          (attention): BertAttention(\n",
       "            (self): BertSelfAttention(\n",
       "              (query): Linear(in_features=768, out_features=768, bias=True)\n",
       "              (key): Linear(in_features=768, out_features=768, bias=True)\n",
       "              (value): Linear(in_features=768, out_features=768, bias=True)\n",
       "              (dropout): Dropout(p=0.1, inplace=False)\n",
       "            )\n",
       "            (output): BertSelfOutput(\n",
       "              (dense): Linear(in_features=768, out_features=768, bias=True)\n",
       "              (LayerNorm): LayerNorm((768,), eps=1e-12, elementwise_affine=True)\n",
       "              (dropout): Dropout(p=0.1, inplace=False)\n",
       "            )\n",
       "          )\n",
       "          (intermediate): BertIntermediate(\n",
       "            (dense): Linear(in_features=768, out_features=3072, bias=True)\n",
       "            (intermediate_act_fn): GELUActivation()\n",
       "          )\n",
       "          (output): BertOutput(\n",
       "            (dense): Linear(in_features=3072, out_features=768, bias=True)\n",
       "            (LayerNorm): LayerNorm((768,), eps=1e-12, elementwise_affine=True)\n",
       "            (dropout): Dropout(p=0.1, inplace=False)\n",
       "          )\n",
       "        )\n",
       "        (5): BertLayer(\n",
       "          (attention): BertAttention(\n",
       "            (self): BertSelfAttention(\n",
       "              (query): Linear(in_features=768, out_features=768, bias=True)\n",
       "              (key): Linear(in_features=768, out_features=768, bias=True)\n",
       "              (value): Linear(in_features=768, out_features=768, bias=True)\n",
       "              (dropout): Dropout(p=0.1, inplace=False)\n",
       "            )\n",
       "            (output): BertSelfOutput(\n",
       "              (dense): Linear(in_features=768, out_features=768, bias=True)\n",
       "              (LayerNorm): LayerNorm((768,), eps=1e-12, elementwise_affine=True)\n",
       "              (dropout): Dropout(p=0.1, inplace=False)\n",
       "            )\n",
       "          )\n",
       "          (intermediate): BertIntermediate(\n",
       "            (dense): Linear(in_features=768, out_features=3072, bias=True)\n",
       "            (intermediate_act_fn): GELUActivation()\n",
       "          )\n",
       "          (output): BertOutput(\n",
       "            (dense): Linear(in_features=3072, out_features=768, bias=True)\n",
       "            (LayerNorm): LayerNorm((768,), eps=1e-12, elementwise_affine=True)\n",
       "            (dropout): Dropout(p=0.1, inplace=False)\n",
       "          )\n",
       "        )\n",
       "        (6): BertLayer(\n",
       "          (attention): BertAttention(\n",
       "            (self): BertSelfAttention(\n",
       "              (query): Linear(in_features=768, out_features=768, bias=True)\n",
       "              (key): Linear(in_features=768, out_features=768, bias=True)\n",
       "              (value): Linear(in_features=768, out_features=768, bias=True)\n",
       "              (dropout): Dropout(p=0.1, inplace=False)\n",
       "            )\n",
       "            (output): BertSelfOutput(\n",
       "              (dense): Linear(in_features=768, out_features=768, bias=True)\n",
       "              (LayerNorm): LayerNorm((768,), eps=1e-12, elementwise_affine=True)\n",
       "              (dropout): Dropout(p=0.1, inplace=False)\n",
       "            )\n",
       "          )\n",
       "          (intermediate): BertIntermediate(\n",
       "            (dense): Linear(in_features=768, out_features=3072, bias=True)\n",
       "            (intermediate_act_fn): GELUActivation()\n",
       "          )\n",
       "          (output): BertOutput(\n",
       "            (dense): Linear(in_features=3072, out_features=768, bias=True)\n",
       "            (LayerNorm): LayerNorm((768,), eps=1e-12, elementwise_affine=True)\n",
       "            (dropout): Dropout(p=0.1, inplace=False)\n",
       "          )\n",
       "        )\n",
       "        (7): BertLayer(\n",
       "          (attention): BertAttention(\n",
       "            (self): BertSelfAttention(\n",
       "              (query): Linear(in_features=768, out_features=768, bias=True)\n",
       "              (key): Linear(in_features=768, out_features=768, bias=True)\n",
       "              (value): Linear(in_features=768, out_features=768, bias=True)\n",
       "              (dropout): Dropout(p=0.1, inplace=False)\n",
       "            )\n",
       "            (output): BertSelfOutput(\n",
       "              (dense): Linear(in_features=768, out_features=768, bias=True)\n",
       "              (LayerNorm): LayerNorm((768,), eps=1e-12, elementwise_affine=True)\n",
       "              (dropout): Dropout(p=0.1, inplace=False)\n",
       "            )\n",
       "          )\n",
       "          (intermediate): BertIntermediate(\n",
       "            (dense): Linear(in_features=768, out_features=3072, bias=True)\n",
       "            (intermediate_act_fn): GELUActivation()\n",
       "          )\n",
       "          (output): BertOutput(\n",
       "            (dense): Linear(in_features=3072, out_features=768, bias=True)\n",
       "            (LayerNorm): LayerNorm((768,), eps=1e-12, elementwise_affine=True)\n",
       "            (dropout): Dropout(p=0.1, inplace=False)\n",
       "          )\n",
       "        )\n",
       "        (8): BertLayer(\n",
       "          (attention): BertAttention(\n",
       "            (self): BertSelfAttention(\n",
       "              (query): Linear(in_features=768, out_features=768, bias=True)\n",
       "              (key): Linear(in_features=768, out_features=768, bias=True)\n",
       "              (value): Linear(in_features=768, out_features=768, bias=True)\n",
       "              (dropout): Dropout(p=0.1, inplace=False)\n",
       "            )\n",
       "            (output): BertSelfOutput(\n",
       "              (dense): Linear(in_features=768, out_features=768, bias=True)\n",
       "              (LayerNorm): LayerNorm((768,), eps=1e-12, elementwise_affine=True)\n",
       "              (dropout): Dropout(p=0.1, inplace=False)\n",
       "            )\n",
       "          )\n",
       "          (intermediate): BertIntermediate(\n",
       "            (dense): Linear(in_features=768, out_features=3072, bias=True)\n",
       "            (intermediate_act_fn): GELUActivation()\n",
       "          )\n",
       "          (output): BertOutput(\n",
       "            (dense): Linear(in_features=3072, out_features=768, bias=True)\n",
       "            (LayerNorm): LayerNorm((768,), eps=1e-12, elementwise_affine=True)\n",
       "            (dropout): Dropout(p=0.1, inplace=False)\n",
       "          )\n",
       "        )\n",
       "        (9): BertLayer(\n",
       "          (attention): BertAttention(\n",
       "            (self): BertSelfAttention(\n",
       "              (query): Linear(in_features=768, out_features=768, bias=True)\n",
       "              (key): Linear(in_features=768, out_features=768, bias=True)\n",
       "              (value): Linear(in_features=768, out_features=768, bias=True)\n",
       "              (dropout): Dropout(p=0.1, inplace=False)\n",
       "            )\n",
       "            (output): BertSelfOutput(\n",
       "              (dense): Linear(in_features=768, out_features=768, bias=True)\n",
       "              (LayerNorm): LayerNorm((768,), eps=1e-12, elementwise_affine=True)\n",
       "              (dropout): Dropout(p=0.1, inplace=False)\n",
       "            )\n",
       "          )\n",
       "          (intermediate): BertIntermediate(\n",
       "            (dense): Linear(in_features=768, out_features=3072, bias=True)\n",
       "            (intermediate_act_fn): GELUActivation()\n",
       "          )\n",
       "          (output): BertOutput(\n",
       "            (dense): Linear(in_features=3072, out_features=768, bias=True)\n",
       "            (LayerNorm): LayerNorm((768,), eps=1e-12, elementwise_affine=True)\n",
       "            (dropout): Dropout(p=0.1, inplace=False)\n",
       "          )\n",
       "        )\n",
       "        (10): BertLayer(\n",
       "          (attention): BertAttention(\n",
       "            (self): BertSelfAttention(\n",
       "              (query): Linear(in_features=768, out_features=768, bias=True)\n",
       "              (key): Linear(in_features=768, out_features=768, bias=True)\n",
       "              (value): Linear(in_features=768, out_features=768, bias=True)\n",
       "              (dropout): Dropout(p=0.1, inplace=False)\n",
       "            )\n",
       "            (output): BertSelfOutput(\n",
       "              (dense): Linear(in_features=768, out_features=768, bias=True)\n",
       "              (LayerNorm): LayerNorm((768,), eps=1e-12, elementwise_affine=True)\n",
       "              (dropout): Dropout(p=0.1, inplace=False)\n",
       "            )\n",
       "          )\n",
       "          (intermediate): BertIntermediate(\n",
       "            (dense): Linear(in_features=768, out_features=3072, bias=True)\n",
       "            (intermediate_act_fn): GELUActivation()\n",
       "          )\n",
       "          (output): BertOutput(\n",
       "            (dense): Linear(in_features=3072, out_features=768, bias=True)\n",
       "            (LayerNorm): LayerNorm((768,), eps=1e-12, elementwise_affine=True)\n",
       "            (dropout): Dropout(p=0.1, inplace=False)\n",
       "          )\n",
       "        )\n",
       "        (11): BertLayer(\n",
       "          (attention): BertAttention(\n",
       "            (self): BertSelfAttention(\n",
       "              (query): Linear(in_features=768, out_features=768, bias=True)\n",
       "              (key): Linear(in_features=768, out_features=768, bias=True)\n",
       "              (value): Linear(in_features=768, out_features=768, bias=True)\n",
       "              (dropout): Dropout(p=0.1, inplace=False)\n",
       "            )\n",
       "            (output): BertSelfOutput(\n",
       "              (dense): Linear(in_features=768, out_features=768, bias=True)\n",
       "              (LayerNorm): LayerNorm((768,), eps=1e-12, elementwise_affine=True)\n",
       "              (dropout): Dropout(p=0.1, inplace=False)\n",
       "            )\n",
       "          )\n",
       "          (intermediate): BertIntermediate(\n",
       "            (dense): Linear(in_features=768, out_features=3072, bias=True)\n",
       "            (intermediate_act_fn): GELUActivation()\n",
       "          )\n",
       "          (output): BertOutput(\n",
       "            (dense): Linear(in_features=3072, out_features=768, bias=True)\n",
       "            (LayerNorm): LayerNorm((768,), eps=1e-12, elementwise_affine=True)\n",
       "            (dropout): Dropout(p=0.1, inplace=False)\n",
       "          )\n",
       "        )\n",
       "      )\n",
       "    )\n",
       "    (pooler): BertPooler(\n",
       "      (dense): Linear(in_features=768, out_features=768, bias=True)\n",
       "      (activation): Tanh()\n",
       "    )\n",
       "  )\n",
       "  (dropout): Dropout(p=0.1, inplace=False)\n",
       "  (classifier): Linear(in_features=768, out_features=4, bias=True)\n",
       ")"
      ]
     },
     "execution_count": 4,
     "metadata": {},
     "output_type": "execute_result"
    }
   ],
   "source": [
    "BertForSequenceClassification.from_pretrained('textattack/bert-base-uncased-ag-news')"
   ]
  },
  {
   "cell_type": "code",
   "execution_count": 41,
   "id": "5b4b6645",
   "metadata": {},
   "outputs": [
    {
     "name": "stderr",
     "output_type": "stream",
     "text": [
      "Reusing dataset yelp_polarity (/home/nir/.cache/huggingface/datasets/yelp_polarity/plain_text/1.0.0/14f90415c754f47cf9087eadac25823a395fef4400c7903c5897f55cfaaa6f61)\n"
     ]
    },
    {
     "data": {
      "application/vnd.jupyter.widget-view+json": {
       "model_id": "203577aba4e9447198f7969df0e29f49",
       "version_major": 2,
       "version_minor": 0
      },
      "text/plain": [
       "  0%|          | 0/2 [00:00<?, ?it/s]"
      ]
     },
     "metadata": {},
     "output_type": "display_data"
    }
   ],
   "source": [
    "dataset = load_dataset('yelp_polarity')"
   ]
  },
  {
   "cell_type": "code",
   "execution_count": 58,
   "id": "6e06297d",
   "metadata": {},
   "outputs": [
    {
     "name": "stderr",
     "output_type": "stream",
     "text": [
      "Reusing dataset imdb (/home/nir/.cache/huggingface/datasets/imdb/plain_text/1.0.0/2fdd8b9bcadd6e7055e742a706876ba43f19faee861df134affd7a3f60fc38a1)\n"
     ]
    },
    {
     "data": {
      "application/vnd.jupyter.widget-view+json": {
       "model_id": "917856a7ddff4caebb4817d002d91624",
       "version_major": 2,
       "version_minor": 0
      },
      "text/plain": [
       "  0%|          | 0/3 [00:00<?, ?it/s]"
      ]
     },
     "metadata": {},
     "output_type": "display_data"
    },
    {
     "name": "stderr",
     "output_type": "stream",
     "text": [
      "textattack: Loading \u001b[94mdatasets\u001b[0m dataset \u001b[94mimdb\u001b[0m, split \u001b[94mtest\u001b[0m.\n"
     ]
    }
   ],
   "source": [
    "dataset = HuggingFaceDataset(\"imdb\", None, \"test\")"
   ]
  },
  {
   "cell_type": "code",
   "execution_count": 55,
   "id": "038c4c0b",
   "metadata": {},
   "outputs": [
    {
     "name": "stderr",
     "output_type": "stream",
     "text": [
      "Reusing dataset glue (/home/nir/.cache/huggingface/datasets/glue/mnli/1.0.0/dacbe3125aa31d7f70367a07a8a9e72a5a0bfeb5fc42e75c9db75b96da6053ad)\n"
     ]
    },
    {
     "data": {
      "application/vnd.jupyter.widget-view+json": {
       "model_id": "28db13197a6e4a6ca22b6782735723b8",
       "version_major": 2,
       "version_minor": 0
      },
      "text/plain": [
       "  0%|          | 0/5 [00:00<?, ?it/s]"
      ]
     },
     "metadata": {},
     "output_type": "display_data"
    },
    {
     "name": "stderr",
     "output_type": "stream",
     "text": [
      "textattack: Loading \u001b[94mdatasets\u001b[0m dataset \u001b[94mglue\u001b[0m, subset \u001b[94mmnli\u001b[0m, split \u001b[94mvalidation_matched\u001b[0m.\n"
     ]
    }
   ],
   "source": [
    "dataset = HuggingFaceDataset(\"glue\", 'mnli', \"validation_matched\")\n"
   ]
  },
  {
   "cell_type": "code",
   "execution_count": null,
   "id": "715d7557",
   "metadata": {},
   "outputs": [],
   "source": [
    "mnli"
   ]
  },
  {
   "cell_type": "code",
   "execution_count": null,
   "id": "fb4fc243",
   "metadata": {},
   "outputs": [],
   "source": [
    "    if dataset_name == 'cola':\n",
    "        dataset = load_dataset('glue', 'cola')\n",
    "    else:\n",
    "        dataset = load_dataset(dataset_name)"
   ]
  },
  {
   "cell_type": "code",
   "execution_count": 35,
   "id": "79759a5e",
   "metadata": {},
   "outputs": [
    {
     "name": "stderr",
     "output_type": "stream",
     "text": [
      "Some weights of the model checkpoint at bert-base-uncased were not used when initializing BertForMaskedLM: ['cls.seq_relationship.bias', 'cls.seq_relationship.weight']\n",
      "- This IS expected if you are initializing BertForMaskedLM from the checkpoint of a model trained on another task or with another architecture (e.g. initializing a BertForSequenceClassification model from a BertForPreTraining model).\n",
      "- This IS NOT expected if you are initializing BertForMaskedLM from the checkpoint of a model that you expect to be exactly identical (initializing a BertForSequenceClassification model from a BertForSequenceClassification model).\n",
      "textattack: Unknown if model of class <class 'transformers.models.bert.modeling_bert.BertForSequenceClassification'> compatible with goal function <class 'textattack.goal_functions.classification.untargeted_classification.UntargetedClassification'>.\n",
      "Using custom data configuration default\n",
      "Reusing dataset ag_news (/home/nir/.cache/huggingface/datasets/ag_news/default/0.0.0/bc2bcb40336ace1a0374767fc29bb0296cdaf8a6da7298436239c54d79180548)\n"
     ]
    },
    {
     "data": {
      "application/vnd.jupyter.widget-view+json": {
       "model_id": "0bc355e62360437cb0a398e13f7bb9d6",
       "version_major": 2,
       "version_minor": 0
      },
      "text/plain": [
       "  0%|          | 0/2 [00:00<?, ?it/s]"
      ]
     },
     "metadata": {},
     "output_type": "display_data"
    },
    {
     "name": "stderr",
     "output_type": "stream",
     "text": [
      "textattack: Loading \u001b[94mdatasets\u001b[0m dataset \u001b[94mag_news\u001b[0m, split \u001b[94mtest\u001b[0m.\n",
      "[Succeeded / Failed / Skipped / Total] 35 / 203 / 12 / 250: 100%|█████████████████████████████████████████████████████████████████████████████████████████████████████████████████| 250/250 [22:46<00:00,  5.47s/it]\n"
     ]
    },
    {
     "name": "stdout",
     "output_type": "stream",
     "text": [
      "\n"
     ]
    },
    {
     "name": "stderr",
     "output_type": "stream",
     "text": [
      "Token indices sequence length is longer than the specified maximum sequence length for this model (1929 > 1024). Running this sequence through the model will result in indexing errors\n"
     ]
    },
    {
     "name": "stdout",
     "output_type": "stream",
     "text": [
      "\n"
     ]
    },
    {
     "name": "stderr",
     "output_type": "stream",
     "text": [
      "Token indices sequence length is longer than the specified maximum sequence length for this model (1929 > 1024). Running this sequence through the model will result in indexing errors\n"
     ]
    }
   ],
   "source": [
    "attack = BAEGarg2019.build(wrapper)\n",
    "attack_args = AttackArgs(\n",
    "    num_examples=250,\n",
    "    disable_stdout=True,\n",
    "    silent=True,\n",
    "    enable_advance_metrics=True\n",
    ")\n",
    "\n",
    "\n",
    "dataset = HuggingFaceDataset(\"ag_news\", None, \"test\")\n",
    "\n",
    "\n",
    "attacker = Attacker(attack, dataset, attack_args)\n",
    "results_iterable = attacker.attack_dataset()\n",
    "attack_log_manager = attacker.attack_log_manager\n",
    "attack_log_manager.log_summary()\n",
    "\n",
    "attack_success_stats = AttackSuccessRate().calculate(attack_log_manager.results)\n",
    "words_perturbed_stats = WordsPerturbed().calculate(attack_log_manager.results)\n",
    "attack_query_stats = AttackQueries().calculate(attack_log_manager.results)\n",
    "acc_under_attack = str(attack_success_stats[\"attack_accuracy_perc\"])\n",
    "avg_pertrubed_words_prct = str(words_perturbed_stats[\"avg_word_perturbed_perc\"])\n"
   ]
  },
  {
   "cell_type": "code",
   "execution_count": 36,
   "id": "84b6b0a4",
   "metadata": {},
   "outputs": [
    {
     "data": {
      "text/plain": [
       "0.14705882352941177"
      ]
     },
     "execution_count": 36,
     "metadata": {},
     "output_type": "execute_result"
    }
   ],
   "source": [
    "TEXTUAL_DATASETS = ('yelp', 'imdb', 'ag_news', 'cola', 'mnli', 'mr', 'rte')\n",
    "\n",
    "HuggingFaceDataset(\"ag_news\", None, \"test\")"
   ]
  },
  {
   "cell_type": "code",
   "execution_count": null,
   "id": "64f025b0",
   "metadata": {},
   "outputs": [],
   "source": [
    "prepare_run('ag_news')"
   ]
  },
  {
   "cell_type": "code",
   "execution_count": 4,
   "id": "d3da924e",
   "metadata": {
    "collapsed": true
   },
   "outputs": [
    {
     "name": "stdout",
     "output_type": "stream",
     "text": [
      "Saved model to /D/models/pretrained/pretrained_bert_imdb.pkl\n"
     ]
    },
    {
     "name": "stderr",
     "output_type": "stream",
     "text": [
      "Reusing dataset imdb (/home/nir/.cache/huggingface/datasets/imdb/plain_text/1.0.0/2fdd8b9bcadd6e7055e742a706876ba43f19faee861df134affd7a3f60fc38a1)\n"
     ]
    },
    {
     "data": {
      "application/vnd.jupyter.widget-view+json": {
       "model_id": "8751504be8a844a7a901ba8af19258a7",
       "version_major": 2,
       "version_minor": 0
      },
      "text/plain": [
       "  0%|          | 0/3 [00:00<?, ?it/s]"
      ]
     },
     "metadata": {},
     "output_type": "display_data"
    },
    {
     "name": "stderr",
     "output_type": "stream",
     "text": [
      "Loading cached processed dataset at /home/nir/.cache/huggingface/datasets/imdb/plain_text/1.0.0/2fdd8b9bcadd6e7055e742a706876ba43f19faee861df134affd7a3f60fc38a1/cache-db90c0ff00a96f4f.arrow\n",
      "Loading cached processed dataset at /home/nir/.cache/huggingface/datasets/imdb/plain_text/1.0.0/2fdd8b9bcadd6e7055e742a706876ba43f19faee861df134affd7a3f60fc38a1/cache-15e9c56cb46bd75b.arrow\n"
     ]
    },
    {
     "data": {
      "application/vnd.jupyter.widget-view+json": {
       "model_id": "73e49b7a6ceb47b792a114a43e05a663",
       "version_major": 2,
       "version_minor": 0
      },
      "text/plain": [
       "  0%|          | 0/50 [00:00<?, ?ba/s]"
      ]
     },
     "metadata": {},
     "output_type": "display_data"
    },
    {
     "name": "stderr",
     "output_type": "stream",
     "text": [
      "100%|█████████████████████████████████████████████████████████████████████████████████████████████████████████████████████████████████████████████████████████████████████████████| 196/196 [09:45<00:00,  2.99s/it]\n",
      "100%|█████████████████████████████████████████████████████████████████████████████████████████████████████████████████████████████████████████████████████████████████████████████| 196/196 [11:48<00:00,  3.61s/it]\n"
     ]
    },
    {
     "data": {
      "text/html": [
       "<pre style=\"white-space:pre;overflow-x:auto;line-height:normal;font-family:Menlo,'DejaVu Sans Mono',consolas,'Courier New',monospace\"><span style=\"color: #800000; text-decoration-color: #800000\">╭─────────────────────────────── </span><span style=\"color: #800000; text-decoration-color: #800000; font-weight: bold\">Traceback </span><span style=\"color: #bf7f7f; text-decoration-color: #bf7f7f; font-weight: bold\">(most recent call last)</span><span style=\"color: #800000; text-decoration-color: #800000\"> ────────────────────────────────╮</span>\n",
       "<span style=\"color: #800000; text-decoration-color: #800000\">│</span> in <span style=\"color: #00ff00; text-decoration-color: #00ff00\">&lt;module&gt;</span>:<span style=\"color: #0000ff; text-decoration-color: #0000ff\">1</span>                                                                                    <span style=\"color: #800000; text-decoration-color: #800000\">│</span>\n",
       "<span style=\"color: #800000; text-decoration-color: #800000\">│</span>                                                                                                  <span style=\"color: #800000; text-decoration-color: #800000\">│</span>\n",
       "<span style=\"color: #800000; text-decoration-color: #800000\">│</span> <span style=\"color: #800000; text-decoration-color: #800000\">❱ </span>1 prepare_run(<span style=\"color: #808000; text-decoration-color: #808000\">'imdb'</span>)                                                                          <span style=\"color: #800000; text-decoration-color: #800000\">│</span>\n",
       "<span style=\"color: #800000; text-decoration-color: #800000\">│</span>   <span style=\"color: #7f7f7f; text-decoration-color: #7f7f7f\">2 </span>                                                                                             <span style=\"color: #800000; text-decoration-color: #800000\">│</span>\n",
       "<span style=\"color: #800000; text-decoration-color: #800000\">│</span>                                                                                                  <span style=\"color: #800000; text-decoration-color: #800000\">│</span>\n",
       "<span style=\"color: #800000; text-decoration-color: #800000\">│</span> in <span style=\"color: #00ff00; text-decoration-color: #00ff00\">prepare_run</span>:<span style=\"color: #0000ff; text-decoration-color: #0000ff\">74</span>                                                                                <span style=\"color: #800000; text-decoration-color: #800000\">│</span>\n",
       "<span style=\"color: #800000; text-decoration-color: #800000\">│</span>                                                                                                  <span style=\"color: #800000; text-decoration-color: #800000\">│</span>\n",
       "<span style=\"color: #800000; text-decoration-color: #800000\">│</span>   <span style=\"color: #7f7f7f; text-decoration-color: #7f7f7f\">71 │   │   </span>os.makedirs(os.path.dirname(logits_train_dataloader_path), exist_ok=<span style=\"color: #0000ff; text-decoration-color: #0000ff\">True</span>)           <span style=\"color: #800000; text-decoration-color: #800000\">│</span>\n",
       "<span style=\"color: #800000; text-decoration-color: #800000\">│</span>   <span style=\"color: #7f7f7f; text-decoration-color: #7f7f7f\">72 │   │   </span>os.makedirs(os.path.dirname(logits_test_dataloader_path), exist_ok=<span style=\"color: #0000ff; text-decoration-color: #0000ff\">True</span>)            <span style=\"color: #800000; text-decoration-color: #800000\">│</span>\n",
       "<span style=\"color: #800000; text-decoration-color: #800000\">│</span>   <span style=\"color: #7f7f7f; text-decoration-color: #7f7f7f\">73 │   </span>                                                                                        <span style=\"color: #800000; text-decoration-color: #800000\">│</span>\n",
       "<span style=\"color: #800000; text-decoration-color: #800000\">│</span> <span style=\"color: #800000; text-decoration-color: #800000\">❱ </span>74 <span style=\"color: #7f7f7f; text-decoration-color: #7f7f7f\">│   </span><span style=\"color: #0000ff; text-decoration-color: #0000ff\">with</span> <span style=\"color: #00ffff; text-decoration-color: #00ffff\">open</span>(logits_train_dataloader_path, <span style=\"color: #808000; text-decoration-color: #808000\">'wb'</span>) <span style=\"color: #0000ff; text-decoration-color: #0000ff\">as</span> f:                                     <span style=\"color: #800000; text-decoration-color: #800000\">│</span>\n",
       "<span style=\"color: #800000; text-decoration-color: #800000\">│</span>   <span style=\"color: #7f7f7f; text-decoration-color: #7f7f7f\">75 │   │   </span>pickle5.dump(logits_train_dataloader, f)                                            <span style=\"color: #800000; text-decoration-color: #800000\">│</span>\n",
       "<span style=\"color: #800000; text-decoration-color: #800000\">│</span>   <span style=\"color: #7f7f7f; text-decoration-color: #7f7f7f\">76 │   </span><span style=\"color: #0000ff; text-decoration-color: #0000ff\">with</span> <span style=\"color: #00ffff; text-decoration-color: #00ffff\">open</span>(logits_test_dataloader_path, <span style=\"color: #808000; text-decoration-color: #808000\">'wb'</span>) <span style=\"color: #0000ff; text-decoration-color: #0000ff\">as</span> f:                                      <span style=\"color: #800000; text-decoration-color: #800000\">│</span>\n",
       "<span style=\"color: #800000; text-decoration-color: #800000\">│</span>   <span style=\"color: #7f7f7f; text-decoration-color: #7f7f7f\">77 │   │   </span>pickle5.dump(logits_test_dataloader, f)                                             <span style=\"color: #800000; text-decoration-color: #800000\">│</span>\n",
       "<span style=\"color: #800000; text-decoration-color: #800000\">╰──────────────────────────────────────────────────────────────────────────────────────────────────╯</span>\n",
       "<span style=\"color: #ff0000; text-decoration-color: #ff0000; font-weight: bold\">IsADirectoryError: </span><span style=\"font-weight: bold\">[</span>Errno <span style=\"color: #008080; text-decoration-color: #008080; font-weight: bold\">21</span><span style=\"font-weight: bold\">]</span> Is a directory: <span style=\"color: #008000; text-decoration-color: #008000\">'/D/datasets/imdb/logits_dataloaders/logits_train_dataloader.pkl'</span>\n",
       "</pre>\n"
      ],
      "text/plain": [
       "\u001b[31m╭─\u001b[0m\u001b[31m──────────────────────────────\u001b[0m\u001b[31m \u001b[0m\u001b[1;31mTraceback \u001b[0m\u001b[1;2;31m(most recent call last)\u001b[0m\u001b[31m \u001b[0m\u001b[31m───────────────────────────────\u001b[0m\u001b[31m─╮\u001b[0m\n",
       "\u001b[31m│\u001b[0m in \u001b[92m<module>\u001b[0m:\u001b[94m1\u001b[0m                                                                                    \u001b[31m│\u001b[0m\n",
       "\u001b[31m│\u001b[0m                                                                                                  \u001b[31m│\u001b[0m\n",
       "\u001b[31m│\u001b[0m \u001b[31m❱ \u001b[0m1 prepare_run(\u001b[33m'\u001b[0m\u001b[33mimdb\u001b[0m\u001b[33m'\u001b[0m)                                                                          \u001b[31m│\u001b[0m\n",
       "\u001b[31m│\u001b[0m   \u001b[2m2 \u001b[0m                                                                                             \u001b[31m│\u001b[0m\n",
       "\u001b[31m│\u001b[0m                                                                                                  \u001b[31m│\u001b[0m\n",
       "\u001b[31m│\u001b[0m in \u001b[92mprepare_run\u001b[0m:\u001b[94m74\u001b[0m                                                                                \u001b[31m│\u001b[0m\n",
       "\u001b[31m│\u001b[0m                                                                                                  \u001b[31m│\u001b[0m\n",
       "\u001b[31m│\u001b[0m   \u001b[2m71 \u001b[0m\u001b[2m│   │   \u001b[0mos.makedirs(os.path.dirname(logits_train_dataloader_path), exist_ok=\u001b[94mTrue\u001b[0m)           \u001b[31m│\u001b[0m\n",
       "\u001b[31m│\u001b[0m   \u001b[2m72 \u001b[0m\u001b[2m│   │   \u001b[0mos.makedirs(os.path.dirname(logits_test_dataloader_path), exist_ok=\u001b[94mTrue\u001b[0m)            \u001b[31m│\u001b[0m\n",
       "\u001b[31m│\u001b[0m   \u001b[2m73 \u001b[0m\u001b[2m│   \u001b[0m                                                                                        \u001b[31m│\u001b[0m\n",
       "\u001b[31m│\u001b[0m \u001b[31m❱ \u001b[0m74 \u001b[2m│   \u001b[0m\u001b[94mwith\u001b[0m \u001b[96mopen\u001b[0m(logits_train_dataloader_path, \u001b[33m'\u001b[0m\u001b[33mwb\u001b[0m\u001b[33m'\u001b[0m) \u001b[94mas\u001b[0m f:                                     \u001b[31m│\u001b[0m\n",
       "\u001b[31m│\u001b[0m   \u001b[2m75 \u001b[0m\u001b[2m│   │   \u001b[0mpickle5.dump(logits_train_dataloader, f)                                            \u001b[31m│\u001b[0m\n",
       "\u001b[31m│\u001b[0m   \u001b[2m76 \u001b[0m\u001b[2m│   \u001b[0m\u001b[94mwith\u001b[0m \u001b[96mopen\u001b[0m(logits_test_dataloader_path, \u001b[33m'\u001b[0m\u001b[33mwb\u001b[0m\u001b[33m'\u001b[0m) \u001b[94mas\u001b[0m f:                                      \u001b[31m│\u001b[0m\n",
       "\u001b[31m│\u001b[0m   \u001b[2m77 \u001b[0m\u001b[2m│   │   \u001b[0mpickle5.dump(logits_test_dataloader, f)                                             \u001b[31m│\u001b[0m\n",
       "\u001b[31m╰──────────────────────────────────────────────────────────────────────────────────────────────────╯\u001b[0m\n",
       "\u001b[1;91mIsADirectoryError: \u001b[0m\u001b[1m[\u001b[0mErrno \u001b[1;36m21\u001b[0m\u001b[1m]\u001b[0m Is a directory: \u001b[32m'/D/datasets/imdb/logits_dataloaders/logits_train_dataloader.pkl'\u001b[0m\n"
      ]
     },
     "metadata": {},
     "output_type": "display_data"
    }
   ],
   "source": [
    "prepare_run('imdb')"
   ]
  },
  {
   "cell_type": "code",
   "execution_count": 18,
   "id": "75b2f2c8",
   "metadata": {},
   "outputs": [
    {
     "name": "stdout",
     "output_type": "stream",
     "text": [
      "Saved model to /D/models/pretrained/pretrained_bert_cola.pkl\n"
     ]
    },
    {
     "name": "stderr",
     "output_type": "stream",
     "text": [
      "Reusing dataset glue (/home/nir/.cache/huggingface/datasets/glue/cola/1.0.0/dacbe3125aa31d7f70367a07a8a9e72a5a0bfeb5fc42e75c9db75b96da6053ad)\n"
     ]
    },
    {
     "data": {
      "application/vnd.jupyter.widget-view+json": {
       "model_id": "3d5bba979e8e4181a307036d708af116",
       "version_major": 2,
       "version_minor": 0
      },
      "text/plain": [
       "  0%|          | 0/3 [00:00<?, ?it/s]"
      ]
     },
     "metadata": {},
     "output_type": "display_data"
    },
    {
     "data": {
      "application/vnd.jupyter.widget-view+json": {
       "model_id": "cff25b43ebc0429fb02553d13d221414",
       "version_major": 2,
       "version_minor": 0
      },
      "text/plain": [
       "  0%|          | 0/9 [00:00<?, ?ba/s]"
      ]
     },
     "metadata": {},
     "output_type": "display_data"
    },
    {
     "data": {
      "application/vnd.jupyter.widget-view+json": {
       "model_id": "f974eb0ea4da44cdae26bb89184f08aa",
       "version_major": 2,
       "version_minor": 0
      },
      "text/plain": [
       "  0%|          | 0/2 [00:00<?, ?ba/s]"
      ]
     },
     "metadata": {},
     "output_type": "display_data"
    },
    {
     "data": {
      "application/vnd.jupyter.widget-view+json": {
       "model_id": "a16a6fe4fd4e430b9f7fe52d1f4c8eec",
       "version_major": 2,
       "version_minor": 0
      },
      "text/plain": [
       "  0%|          | 0/2 [00:00<?, ?ba/s]"
      ]
     },
     "metadata": {},
     "output_type": "display_data"
    },
    {
     "name": "stderr",
     "output_type": "stream",
     "text": [
      "100%|█████████████████████████████████████████████████████████████████████████████████████████████████████████████████████████| 67/67 [03:21<00:00,  3.01s/it]\n",
      "100%|███████████████████████████████████████████████████████████████████████████████████████████████████████████████████████████| 9/9 [00:28<00:00,  3.22s/it]"
     ]
    },
    {
     "name": "stdout",
     "output_type": "stream",
     "text": [
      "Saved dataloaders!\n"
     ]
    },
    {
     "name": "stderr",
     "output_type": "stream",
     "text": [
      "\n"
     ]
    }
   ],
   "source": [
    "prepare_run('cola')"
   ]
  },
  {
   "cell_type": "code",
   "execution_count": 19,
   "id": "8fa7bb02",
   "metadata": {
    "collapsed": true
   },
   "outputs": [
    {
     "name": "stdout",
     "output_type": "stream",
     "text": [
      "Saved model to /D/models/pretrained/pretrained_bert_mnli.pkl\n"
     ]
    },
    {
     "data": {
      "text/html": [
       "<pre style=\"white-space:pre;overflow-x:auto;line-height:normal;font-family:Menlo,'DejaVu Sans Mono',consolas,'Courier New',monospace\"><span style=\"color: #800000; text-decoration-color: #800000\">╭─────────────────────────────── </span><span style=\"color: #800000; text-decoration-color: #800000; font-weight: bold\">Traceback </span><span style=\"color: #bf7f7f; text-decoration-color: #bf7f7f; font-weight: bold\">(most recent call last)</span><span style=\"color: #800000; text-decoration-color: #800000\"> ────────────────────────────────╮</span>\n",
       "<span style=\"color: #800000; text-decoration-color: #800000\">│</span> in <span style=\"color: #00ff00; text-decoration-color: #00ff00\">&lt;module&gt;</span>:<span style=\"color: #0000ff; text-decoration-color: #0000ff\">1</span>                                                                                    <span style=\"color: #800000; text-decoration-color: #800000\">│</span>\n",
       "<span style=\"color: #800000; text-decoration-color: #800000\">│</span>                                                                                                  <span style=\"color: #800000; text-decoration-color: #800000\">│</span>\n",
       "<span style=\"color: #800000; text-decoration-color: #800000\">│</span> <span style=\"color: #800000; text-decoration-color: #800000\">❱ </span>1 prepare_run(<span style=\"color: #808000; text-decoration-color: #808000\">'mnli'</span>)                                                                          <span style=\"color: #800000; text-decoration-color: #800000\">│</span>\n",
       "<span style=\"color: #800000; text-decoration-color: #800000\">│</span>   <span style=\"color: #7f7f7f; text-decoration-color: #7f7f7f\">2 </span>                                                                                             <span style=\"color: #800000; text-decoration-color: #800000\">│</span>\n",
       "<span style=\"color: #800000; text-decoration-color: #800000\">│</span>                                                                                                  <span style=\"color: #800000; text-decoration-color: #800000\">│</span>\n",
       "<span style=\"color: #800000; text-decoration-color: #800000\">│</span> in <span style=\"color: #00ff00; text-decoration-color: #00ff00\">prepare_run</span>:<span style=\"color: #0000ff; text-decoration-color: #0000ff\">63</span>                                                                                <span style=\"color: #800000; text-decoration-color: #800000\">│</span>\n",
       "<span style=\"color: #800000; text-decoration-color: #800000\">│</span>                                                                                                  <span style=\"color: #800000; text-decoration-color: #800000\">│</span>\n",
       "<span style=\"color: #800000; text-decoration-color: #800000\">│</span>   <span style=\"color: #7f7f7f; text-decoration-color: #7f7f7f\">60 │   </span><span style=\"color: #0000ff; text-decoration-color: #0000ff\">if</span> dataset_name == <span style=\"color: #808000; text-decoration-color: #808000\">'cola'</span>:                                                              <span style=\"color: #800000; text-decoration-color: #800000\">│</span>\n",
       "<span style=\"color: #800000; text-decoration-color: #800000\">│</span>   <span style=\"color: #7f7f7f; text-decoration-color: #7f7f7f\">61 │   │   </span>dataset = load_dataset(<span style=\"color: #808000; text-decoration-color: #808000\">'glue'</span>, <span style=\"color: #808000; text-decoration-color: #808000\">'cola'</span>)                                              <span style=\"color: #800000; text-decoration-color: #800000\">│</span>\n",
       "<span style=\"color: #800000; text-decoration-color: #800000\">│</span>   <span style=\"color: #7f7f7f; text-decoration-color: #7f7f7f\">62 │   </span><span style=\"color: #0000ff; text-decoration-color: #0000ff\">else</span>:                                                                                   <span style=\"color: #800000; text-decoration-color: #800000\">│</span>\n",
       "<span style=\"color: #800000; text-decoration-color: #800000\">│</span> <span style=\"color: #800000; text-decoration-color: #800000\">❱ </span>63 <span style=\"color: #7f7f7f; text-decoration-color: #7f7f7f\">│   │   </span>dataset = load_dataset(dataset_name)                                                <span style=\"color: #800000; text-decoration-color: #800000\">│</span>\n",
       "<span style=\"color: #800000; text-decoration-color: #800000\">│</span>   <span style=\"color: #7f7f7f; text-decoration-color: #7f7f7f\">64 │   </span>dataset = dataset.map(encode, batched=<span style=\"color: #0000ff; text-decoration-color: #0000ff\">True</span>)                                             <span style=\"color: #800000; text-decoration-color: #800000\">│</span>\n",
       "<span style=\"color: #800000; text-decoration-color: #800000\">│</span>   <span style=\"color: #7f7f7f; text-decoration-color: #7f7f7f\">65 │   </span>dataset.set_format(<span style=\"color: #00ffff; text-decoration-color: #00ffff\">type</span>=<span style=\"color: #808000; text-decoration-color: #808000\">'torch'</span>, columns=[<span style=\"color: #808000; text-decoration-color: #808000\">'input_ids'</span>, <span style=\"color: #808000; text-decoration-color: #808000\">'attention_mask'</span>, <span style=\"color: #808000; text-decoration-color: #808000\">'label'</span>])      <span style=\"color: #800000; text-decoration-color: #800000\">│</span>\n",
       "<span style=\"color: #800000; text-decoration-color: #800000\">│</span>   <span style=\"color: #7f7f7f; text-decoration-color: #7f7f7f\">66 │   </span>train_dataset = dataset[<span style=\"color: #808000; text-decoration-color: #808000\">'train'</span>]                                                        <span style=\"color: #800000; text-decoration-color: #800000\">│</span>\n",
       "<span style=\"color: #800000; text-decoration-color: #800000\">│</span>                                                                                                  <span style=\"color: #800000; text-decoration-color: #800000\">│</span>\n",
       "<span style=\"color: #800000; text-decoration-color: #800000\">│</span> <span style=\"color: #bfbf7f; text-decoration-color: #bfbf7f\">/home/nir/.pyenv/versions/3.7.9/lib/python3.7/site-packages/datasets/</span><span style=\"color: #808000; text-decoration-color: #808000; font-weight: bold\">load.py</span>:<span style=\"color: #0000ff; text-decoration-color: #0000ff\">1734</span> in             <span style=\"color: #800000; text-decoration-color: #800000\">│</span>\n",
       "<span style=\"color: #800000; text-decoration-color: #800000\">│</span> <span style=\"color: #00ff00; text-decoration-color: #00ff00\">load_dataset</span>                                                                                     <span style=\"color: #800000; text-decoration-color: #800000\">│</span>\n",
       "<span style=\"color: #800000; text-decoration-color: #800000\">│</span>                                                                                                  <span style=\"color: #800000; text-decoration-color: #800000\">│</span>\n",
       "<span style=\"color: #800000; text-decoration-color: #800000\">│</span>   <span style=\"color: #7f7f7f; text-decoration-color: #7f7f7f\">1731 │   │   </span>download_mode=download_mode,                                                      <span style=\"color: #800000; text-decoration-color: #800000\">│</span>\n",
       "<span style=\"color: #800000; text-decoration-color: #800000\">│</span>   <span style=\"color: #7f7f7f; text-decoration-color: #7f7f7f\">1732 │   │   </span>revision=revision,                                                                <span style=\"color: #800000; text-decoration-color: #800000\">│</span>\n",
       "<span style=\"color: #800000; text-decoration-color: #800000\">│</span>   <span style=\"color: #7f7f7f; text-decoration-color: #7f7f7f\">1733 │   │   </span>use_auth_token=use_auth_token,                                                    <span style=\"color: #800000; text-decoration-color: #800000\">│</span>\n",
       "<span style=\"color: #800000; text-decoration-color: #800000\">│</span> <span style=\"color: #800000; text-decoration-color: #800000\">❱ </span>1734 <span style=\"color: #7f7f7f; text-decoration-color: #7f7f7f\">│   │   </span>**config_kwargs,                                                                  <span style=\"color: #800000; text-decoration-color: #800000\">│</span>\n",
       "<span style=\"color: #800000; text-decoration-color: #800000\">│</span>   <span style=\"color: #7f7f7f; text-decoration-color: #7f7f7f\">1735 │   </span>)                                                                                     <span style=\"color: #800000; text-decoration-color: #800000\">│</span>\n",
       "<span style=\"color: #800000; text-decoration-color: #800000\">│</span>   <span style=\"color: #7f7f7f; text-decoration-color: #7f7f7f\">1736 │   </span>                                                                                      <span style=\"color: #800000; text-decoration-color: #800000\">│</span>\n",
       "<span style=\"color: #800000; text-decoration-color: #800000\">│</span>   <span style=\"color: #7f7f7f; text-decoration-color: #7f7f7f\">1737 │   # Return iterable dataset in case of streaming</span>                                        <span style=\"color: #800000; text-decoration-color: #800000\">│</span>\n",
       "<span style=\"color: #800000; text-decoration-color: #800000\">│</span>                                                                                                  <span style=\"color: #800000; text-decoration-color: #800000\">│</span>\n",
       "<span style=\"color: #800000; text-decoration-color: #800000\">│</span> <span style=\"color: #bfbf7f; text-decoration-color: #bfbf7f\">/home/nir/.pyenv/versions/3.7.9/lib/python3.7/site-packages/datasets/</span><span style=\"color: #808000; text-decoration-color: #808000; font-weight: bold\">load.py</span>:<span style=\"color: #0000ff; text-decoration-color: #0000ff\">1506</span> in             <span style=\"color: #800000; text-decoration-color: #800000\">│</span>\n",
       "<span style=\"color: #800000; text-decoration-color: #800000\">│</span> <span style=\"color: #00ff00; text-decoration-color: #00ff00\">load_dataset_builder</span>                                                                             <span style=\"color: #800000; text-decoration-color: #800000\">│</span>\n",
       "<span style=\"color: #800000; text-decoration-color: #800000\">│</span>                                                                                                  <span style=\"color: #800000; text-decoration-color: #800000\">│</span>\n",
       "<span style=\"color: #800000; text-decoration-color: #800000\">│</span>   <span style=\"color: #7f7f7f; text-decoration-color: #7f7f7f\">1503 │   │   </span>download_config=download_config,                                                  <span style=\"color: #800000; text-decoration-color: #800000\">│</span>\n",
       "<span style=\"color: #800000; text-decoration-color: #800000\">│</span>   <span style=\"color: #7f7f7f; text-decoration-color: #7f7f7f\">1504 │   │   </span>download_mode=download_mode,                                                      <span style=\"color: #800000; text-decoration-color: #800000\">│</span>\n",
       "<span style=\"color: #800000; text-decoration-color: #800000\">│</span>   <span style=\"color: #7f7f7f; text-decoration-color: #7f7f7f\">1505 │   │   </span>data_dir=data_dir,                                                                <span style=\"color: #800000; text-decoration-color: #800000\">│</span>\n",
       "<span style=\"color: #800000; text-decoration-color: #800000\">│</span> <span style=\"color: #800000; text-decoration-color: #800000\">❱ </span>1506 <span style=\"color: #7f7f7f; text-decoration-color: #7f7f7f\">│   │   </span>data_files=data_files,                                                            <span style=\"color: #800000; text-decoration-color: #800000\">│</span>\n",
       "<span style=\"color: #800000; text-decoration-color: #800000\">│</span>   <span style=\"color: #7f7f7f; text-decoration-color: #7f7f7f\">1507 │   </span>)                                                                                     <span style=\"color: #800000; text-decoration-color: #800000\">│</span>\n",
       "<span style=\"color: #800000; text-decoration-color: #800000\">│</span>   <span style=\"color: #7f7f7f; text-decoration-color: #7f7f7f\">1508 │   </span>                                                                                      <span style=\"color: #800000; text-decoration-color: #800000\">│</span>\n",
       "<span style=\"color: #800000; text-decoration-color: #800000\">│</span>   <span style=\"color: #7f7f7f; text-decoration-color: #7f7f7f\">1509 │   # Get dataset builder class from the processing script</span>                                <span style=\"color: #800000; text-decoration-color: #800000\">│</span>\n",
       "<span style=\"color: #800000; text-decoration-color: #800000\">│</span>                                                                                                  <span style=\"color: #800000; text-decoration-color: #800000\">│</span>\n",
       "<span style=\"color: #800000; text-decoration-color: #800000\">│</span> <span style=\"color: #bfbf7f; text-decoration-color: #bfbf7f\">/home/nir/.pyenv/versions/3.7.9/lib/python3.7/site-packages/datasets/</span><span style=\"color: #808000; text-decoration-color: #808000; font-weight: bold\">load.py</span>:<span style=\"color: #0000ff; text-decoration-color: #0000ff\">1246</span> in             <span style=\"color: #800000; text-decoration-color: #800000\">│</span>\n",
       "<span style=\"color: #800000; text-decoration-color: #800000\">│</span> <span style=\"color: #00ff00; text-decoration-color: #00ff00\">dataset_module_factory</span>                                                                           <span style=\"color: #800000; text-decoration-color: #800000\">│</span>\n",
       "<span style=\"color: #800000; text-decoration-color: #800000\">│</span>                                                                                                  <span style=\"color: #800000; text-decoration-color: #800000\">│</span>\n",
       "<span style=\"color: #800000; text-decoration-color: #800000\">│</span>   <span style=\"color: #7f7f7f; text-decoration-color: #7f7f7f\">1243 │   │   │   │   │   </span><span style=\"color: #0000ff; text-decoration-color: #0000ff\">raise</span> <span style=\"color: #00ffff; text-decoration-color: #00ffff\">FileNotFoundError</span>(                                              <span style=\"color: #800000; text-decoration-color: #800000\">│</span>\n",
       "<span style=\"color: #800000; text-decoration-color: #800000\">│</span>   <span style=\"color: #7f7f7f; text-decoration-color: #7f7f7f\">1244 │   │   │   │   │   │   </span><span style=\"color: #808000; text-decoration-color: #808000\">f\"Couldn't find a dataset script at {</span>relative_to_absolute_path(c  <span style=\"color: #800000; text-decoration-color: #800000\">│</span>\n",
       "<span style=\"color: #800000; text-decoration-color: #800000\">│</span>   <span style=\"color: #7f7f7f; text-decoration-color: #7f7f7f\">1245 │   │   │   │   │   │   </span><span style=\"color: #808000; text-decoration-color: #808000\">f\"Couldn't find '{</span>path<span style=\"color: #808000; text-decoration-color: #808000\">}' on the Hugging Face Hub either: {</span><span style=\"color: #00ffff; text-decoration-color: #00ffff\">type</span>(e  <span style=\"color: #800000; text-decoration-color: #800000\">│</span>\n",
       "<span style=\"color: #800000; text-decoration-color: #800000\">│</span> <span style=\"color: #800000; text-decoration-color: #800000\">❱ </span>1246 <span style=\"color: #7f7f7f; text-decoration-color: #7f7f7f\">│   │   │   │   │   </span>) <span style=\"color: #0000ff; text-decoration-color: #0000ff\">from</span> <span style=\"color: #00ffff; text-decoration-color: #00ffff\">None</span>                                                           <span style=\"color: #800000; text-decoration-color: #800000\">│</span>\n",
       "<span style=\"color: #800000; text-decoration-color: #800000\">│</span>   <span style=\"color: #7f7f7f; text-decoration-color: #7f7f7f\">1247 │   │   │   │   </span><span style=\"color: #0000ff; text-decoration-color: #0000ff\">raise</span> e1 <span style=\"color: #0000ff; text-decoration-color: #0000ff\">from</span> <span style=\"color: #00ffff; text-decoration-color: #00ffff\">None</span>                                                        <span style=\"color: #800000; text-decoration-color: #800000\">│</span>\n",
       "<span style=\"color: #800000; text-decoration-color: #800000\">│</span>   <span style=\"color: #7f7f7f; text-decoration-color: #7f7f7f\">1248 │   </span><span style=\"color: #0000ff; text-decoration-color: #0000ff\">else</span>:                                                                                 <span style=\"color: #800000; text-decoration-color: #800000\">│</span>\n",
       "<span style=\"color: #800000; text-decoration-color: #800000\">│</span>   <span style=\"color: #7f7f7f; text-decoration-color: #7f7f7f\">1249 │   │   </span><span style=\"color: #0000ff; text-decoration-color: #0000ff\">raise</span> <span style=\"color: #00ffff; text-decoration-color: #00ffff\">FileNotFoundError</span>(                                                          <span style=\"color: #800000; text-decoration-color: #800000\">│</span>\n",
       "<span style=\"color: #800000; text-decoration-color: #800000\">╰──────────────────────────────────────────────────────────────────────────────────────────────────╯</span>\n",
       "<span style=\"color: #ff0000; text-decoration-color: #ff0000; font-weight: bold\">FileNotFoundError: </span>Couldn't find a dataset script at <span style=\"color: #800080; text-decoration-color: #800080\">/home/nir/multimodal-transformer-rl/src/notebooks/mnli/</span><span style=\"color: #ff00ff; text-decoration-color: #ff00ff\">mnli.py</span>\n",
       "or any data file in the same directory. Couldn't find <span style=\"color: #008000; text-decoration-color: #008000\">'mnli'</span> on the Hugging Face Hub either: FileNotFoundError: \n",
       "Couldn't find file at <span style=\"color: #0000ff; text-decoration-color: #0000ff; text-decoration: underline\">https://raw.githubusercontent.com/huggingface/datasets/main/datasets/mnli/mnli.py</span>\n",
       "</pre>\n"
      ],
      "text/plain": [
       "\u001b[31m╭─\u001b[0m\u001b[31m──────────────────────────────\u001b[0m\u001b[31m \u001b[0m\u001b[1;31mTraceback \u001b[0m\u001b[1;2;31m(most recent call last)\u001b[0m\u001b[31m \u001b[0m\u001b[31m───────────────────────────────\u001b[0m\u001b[31m─╮\u001b[0m\n",
       "\u001b[31m│\u001b[0m in \u001b[92m<module>\u001b[0m:\u001b[94m1\u001b[0m                                                                                    \u001b[31m│\u001b[0m\n",
       "\u001b[31m│\u001b[0m                                                                                                  \u001b[31m│\u001b[0m\n",
       "\u001b[31m│\u001b[0m \u001b[31m❱ \u001b[0m1 prepare_run(\u001b[33m'\u001b[0m\u001b[33mmnli\u001b[0m\u001b[33m'\u001b[0m)                                                                          \u001b[31m│\u001b[0m\n",
       "\u001b[31m│\u001b[0m   \u001b[2m2 \u001b[0m                                                                                             \u001b[31m│\u001b[0m\n",
       "\u001b[31m│\u001b[0m                                                                                                  \u001b[31m│\u001b[0m\n",
       "\u001b[31m│\u001b[0m in \u001b[92mprepare_run\u001b[0m:\u001b[94m63\u001b[0m                                                                                \u001b[31m│\u001b[0m\n",
       "\u001b[31m│\u001b[0m                                                                                                  \u001b[31m│\u001b[0m\n",
       "\u001b[31m│\u001b[0m   \u001b[2m60 \u001b[0m\u001b[2m│   \u001b[0m\u001b[94mif\u001b[0m dataset_name == \u001b[33m'\u001b[0m\u001b[33mcola\u001b[0m\u001b[33m'\u001b[0m:                                                              \u001b[31m│\u001b[0m\n",
       "\u001b[31m│\u001b[0m   \u001b[2m61 \u001b[0m\u001b[2m│   │   \u001b[0mdataset = load_dataset(\u001b[33m'\u001b[0m\u001b[33mglue\u001b[0m\u001b[33m'\u001b[0m, \u001b[33m'\u001b[0m\u001b[33mcola\u001b[0m\u001b[33m'\u001b[0m)                                              \u001b[31m│\u001b[0m\n",
       "\u001b[31m│\u001b[0m   \u001b[2m62 \u001b[0m\u001b[2m│   \u001b[0m\u001b[94melse\u001b[0m:                                                                                   \u001b[31m│\u001b[0m\n",
       "\u001b[31m│\u001b[0m \u001b[31m❱ \u001b[0m63 \u001b[2m│   │   \u001b[0mdataset = load_dataset(dataset_name)                                                \u001b[31m│\u001b[0m\n",
       "\u001b[31m│\u001b[0m   \u001b[2m64 \u001b[0m\u001b[2m│   \u001b[0mdataset = dataset.map(encode, batched=\u001b[94mTrue\u001b[0m)                                             \u001b[31m│\u001b[0m\n",
       "\u001b[31m│\u001b[0m   \u001b[2m65 \u001b[0m\u001b[2m│   \u001b[0mdataset.set_format(\u001b[96mtype\u001b[0m=\u001b[33m'\u001b[0m\u001b[33mtorch\u001b[0m\u001b[33m'\u001b[0m, columns=[\u001b[33m'\u001b[0m\u001b[33minput_ids\u001b[0m\u001b[33m'\u001b[0m, \u001b[33m'\u001b[0m\u001b[33mattention_mask\u001b[0m\u001b[33m'\u001b[0m, \u001b[33m'\u001b[0m\u001b[33mlabel\u001b[0m\u001b[33m'\u001b[0m])      \u001b[31m│\u001b[0m\n",
       "\u001b[31m│\u001b[0m   \u001b[2m66 \u001b[0m\u001b[2m│   \u001b[0mtrain_dataset = dataset[\u001b[33m'\u001b[0m\u001b[33mtrain\u001b[0m\u001b[33m'\u001b[0m]                                                        \u001b[31m│\u001b[0m\n",
       "\u001b[31m│\u001b[0m                                                                                                  \u001b[31m│\u001b[0m\n",
       "\u001b[31m│\u001b[0m \u001b[2;33m/home/nir/.pyenv/versions/3.7.9/lib/python3.7/site-packages/datasets/\u001b[0m\u001b[1;33mload.py\u001b[0m:\u001b[94m1734\u001b[0m in             \u001b[31m│\u001b[0m\n",
       "\u001b[31m│\u001b[0m \u001b[92mload_dataset\u001b[0m                                                                                     \u001b[31m│\u001b[0m\n",
       "\u001b[31m│\u001b[0m                                                                                                  \u001b[31m│\u001b[0m\n",
       "\u001b[31m│\u001b[0m   \u001b[2m1731 \u001b[0m\u001b[2m│   │   \u001b[0mdownload_mode=download_mode,                                                      \u001b[31m│\u001b[0m\n",
       "\u001b[31m│\u001b[0m   \u001b[2m1732 \u001b[0m\u001b[2m│   │   \u001b[0mrevision=revision,                                                                \u001b[31m│\u001b[0m\n",
       "\u001b[31m│\u001b[0m   \u001b[2m1733 \u001b[0m\u001b[2m│   │   \u001b[0muse_auth_token=use_auth_token,                                                    \u001b[31m│\u001b[0m\n",
       "\u001b[31m│\u001b[0m \u001b[31m❱ \u001b[0m1734 \u001b[2m│   │   \u001b[0m**config_kwargs,                                                                  \u001b[31m│\u001b[0m\n",
       "\u001b[31m│\u001b[0m   \u001b[2m1735 \u001b[0m\u001b[2m│   \u001b[0m)                                                                                     \u001b[31m│\u001b[0m\n",
       "\u001b[31m│\u001b[0m   \u001b[2m1736 \u001b[0m\u001b[2m│   \u001b[0m                                                                                      \u001b[31m│\u001b[0m\n",
       "\u001b[31m│\u001b[0m   \u001b[2m1737 \u001b[0m\u001b[2m│   \u001b[0m\u001b[2m# Return iterable dataset in case of streaming\u001b[0m                                        \u001b[31m│\u001b[0m\n",
       "\u001b[31m│\u001b[0m                                                                                                  \u001b[31m│\u001b[0m\n",
       "\u001b[31m│\u001b[0m \u001b[2;33m/home/nir/.pyenv/versions/3.7.9/lib/python3.7/site-packages/datasets/\u001b[0m\u001b[1;33mload.py\u001b[0m:\u001b[94m1506\u001b[0m in             \u001b[31m│\u001b[0m\n",
       "\u001b[31m│\u001b[0m \u001b[92mload_dataset_builder\u001b[0m                                                                             \u001b[31m│\u001b[0m\n",
       "\u001b[31m│\u001b[0m                                                                                                  \u001b[31m│\u001b[0m\n",
       "\u001b[31m│\u001b[0m   \u001b[2m1503 \u001b[0m\u001b[2m│   │   \u001b[0mdownload_config=download_config,                                                  \u001b[31m│\u001b[0m\n",
       "\u001b[31m│\u001b[0m   \u001b[2m1504 \u001b[0m\u001b[2m│   │   \u001b[0mdownload_mode=download_mode,                                                      \u001b[31m│\u001b[0m\n",
       "\u001b[31m│\u001b[0m   \u001b[2m1505 \u001b[0m\u001b[2m│   │   \u001b[0mdata_dir=data_dir,                                                                \u001b[31m│\u001b[0m\n",
       "\u001b[31m│\u001b[0m \u001b[31m❱ \u001b[0m1506 \u001b[2m│   │   \u001b[0mdata_files=data_files,                                                            \u001b[31m│\u001b[0m\n",
       "\u001b[31m│\u001b[0m   \u001b[2m1507 \u001b[0m\u001b[2m│   \u001b[0m)                                                                                     \u001b[31m│\u001b[0m\n",
       "\u001b[31m│\u001b[0m   \u001b[2m1508 \u001b[0m\u001b[2m│   \u001b[0m                                                                                      \u001b[31m│\u001b[0m\n",
       "\u001b[31m│\u001b[0m   \u001b[2m1509 \u001b[0m\u001b[2m│   \u001b[0m\u001b[2m# Get dataset builder class from the processing script\u001b[0m                                \u001b[31m│\u001b[0m\n",
       "\u001b[31m│\u001b[0m                                                                                                  \u001b[31m│\u001b[0m\n",
       "\u001b[31m│\u001b[0m \u001b[2;33m/home/nir/.pyenv/versions/3.7.9/lib/python3.7/site-packages/datasets/\u001b[0m\u001b[1;33mload.py\u001b[0m:\u001b[94m1246\u001b[0m in             \u001b[31m│\u001b[0m\n",
       "\u001b[31m│\u001b[0m \u001b[92mdataset_module_factory\u001b[0m                                                                           \u001b[31m│\u001b[0m\n",
       "\u001b[31m│\u001b[0m                                                                                                  \u001b[31m│\u001b[0m\n",
       "\u001b[31m│\u001b[0m   \u001b[2m1243 \u001b[0m\u001b[2m│   │   │   │   │   \u001b[0m\u001b[94mraise\u001b[0m \u001b[96mFileNotFoundError\u001b[0m(                                              \u001b[31m│\u001b[0m\n",
       "\u001b[31m│\u001b[0m   \u001b[2m1244 \u001b[0m\u001b[2m│   │   │   │   │   │   \u001b[0m\u001b[33mf\u001b[0m\u001b[33m\"\u001b[0m\u001b[33mCouldn\u001b[0m\u001b[33m'\u001b[0m\u001b[33mt find a dataset script at \u001b[0m\u001b[33m{\u001b[0mrelative_to_absolute_path(c  \u001b[31m│\u001b[0m\n",
       "\u001b[31m│\u001b[0m   \u001b[2m1245 \u001b[0m\u001b[2m│   │   │   │   │   │   \u001b[0m\u001b[33mf\u001b[0m\u001b[33m\"\u001b[0m\u001b[33mCouldn\u001b[0m\u001b[33m'\u001b[0m\u001b[33mt find \u001b[0m\u001b[33m'\u001b[0m\u001b[33m{\u001b[0mpath\u001b[33m}\u001b[0m\u001b[33m'\u001b[0m\u001b[33m on the Hugging Face Hub either: \u001b[0m\u001b[33m{\u001b[0m\u001b[96mtype\u001b[0m(e  \u001b[31m│\u001b[0m\n",
       "\u001b[31m│\u001b[0m \u001b[31m❱ \u001b[0m1246 \u001b[2m│   │   │   │   │   \u001b[0m) \u001b[94mfrom\u001b[0m \u001b[96mNone\u001b[0m                                                           \u001b[31m│\u001b[0m\n",
       "\u001b[31m│\u001b[0m   \u001b[2m1247 \u001b[0m\u001b[2m│   │   │   │   \u001b[0m\u001b[94mraise\u001b[0m e1 \u001b[94mfrom\u001b[0m \u001b[96mNone\u001b[0m                                                        \u001b[31m│\u001b[0m\n",
       "\u001b[31m│\u001b[0m   \u001b[2m1248 \u001b[0m\u001b[2m│   \u001b[0m\u001b[94melse\u001b[0m:                                                                                 \u001b[31m│\u001b[0m\n",
       "\u001b[31m│\u001b[0m   \u001b[2m1249 \u001b[0m\u001b[2m│   │   \u001b[0m\u001b[94mraise\u001b[0m \u001b[96mFileNotFoundError\u001b[0m(                                                          \u001b[31m│\u001b[0m\n",
       "\u001b[31m╰──────────────────────────────────────────────────────────────────────────────────────────────────╯\u001b[0m\n",
       "\u001b[1;91mFileNotFoundError: \u001b[0mCouldn't find a dataset script at \u001b[35m/home/nir/multimodal-transformer-rl/src/notebooks/mnli/\u001b[0m\u001b[95mmnli.py\u001b[0m\n",
       "or any data file in the same directory. Couldn't find \u001b[32m'mnli'\u001b[0m on the Hugging Face Hub either: FileNotFoundError: \n",
       "Couldn't find file at \u001b[4;94mhttps://raw.githubusercontent.com/huggingface/datasets/main/datasets/mnli/mnli.py\u001b[0m\n"
      ]
     },
     "metadata": {},
     "output_type": "display_data"
    }
   ],
   "source": [
    "prepare_run('mnli')"
   ]
  },
  {
   "cell_type": "code",
   "execution_count": 18,
   "id": "a752ed89",
   "metadata": {},
   "outputs": [
    {
     "data": {
      "application/vnd.jupyter.widget-view+json": {
       "model_id": "0011b63db65249b0a7c2c41ddd7e6445",
       "version_major": 2,
       "version_minor": 0
      },
      "text/plain": [
       "Downloading (…)lve/main/config.json:   0%|          | 0.00/515 [00:00<?, ?B/s]"
      ]
     },
     "metadata": {},
     "output_type": "display_data"
    },
    {
     "data": {
      "application/vnd.jupyter.widget-view+json": {
       "model_id": "4615254322c74f4a89e3848bd7dffe3a",
       "version_major": 2,
       "version_minor": 0
      },
      "text/plain": [
       "Downloading pytorch_model.bin:   0%|          | 0.00/438M [00:00<?, ?B/s]"
      ]
     },
     "metadata": {},
     "output_type": "display_data"
    },
    {
     "data": {
      "text/plain": [
       "2"
      ]
     },
     "execution_count": 18,
     "metadata": {},
     "output_type": "execute_result"
    }
   ],
   "source": [
    "# Download the model\n",
    "# TEXTUAL_DATASETS = ('yelp', 'imdb', 'ag_news', 'cola', 'mnli')\n",
    "#\n",
    "model = BertForSequenceClassification.from_pretrained('textattack/bert-base-uncased-rte')\n",
    "model.classifier.out_features"
   ]
  },
  {
   "cell_type": "code",
   "execution_count": 8,
   "id": "f491bf55",
   "metadata": {},
   "outputs": [
    {
     "data": {
      "text/plain": [
       "2"
      ]
     },
     "execution_count": 8,
     "metadata": {},
     "output_type": "execute_result"
    }
   ],
   "source": [
    "model.classifier.out_features"
   ]
  },
  {
   "cell_type": "code",
   "execution_count": 169,
   "id": "69bfefae",
   "metadata": {},
   "outputs": [],
   "source": [
    "with open('/D/models/pretrained/pretrained_bert_yelp.pkl', 'wb') as f:\n",
    "    dill.dump(model, f)"
   ]
  },
  {
   "cell_type": "code",
   "execution_count": 4,
   "id": "cfb698b0",
   "metadata": {},
   "outputs": [],
   "source": [
    "device = torch.device('cuda:0')"
   ]
  },
  {
   "cell_type": "code",
   "execution_count": 4,
   "id": "683e00c3",
   "metadata": {},
   "outputs": [],
   "source": [
    "vib_classifier = TransformerVIB(768, 2, device)\n",
    "hybrid_model = TransformerHybridModel(model, vib_classifier, device, fc_name='classifier')\n",
    "\n",
    "tokenizer = AutoTokenizer.from_pretrained('bert-base-uncased')\n",
    "# wrapper_model = HuggingFaceModelWrapper(model, tokenizer)\n",
    "\n",
    "adaptor = TransformerAdaptor(hybrid_model)\n",
    "\n",
    "wrapper = HuggingFaceModelWrapper(adaptor, tokenizer)"
   ]
  },
  {
   "cell_type": "code",
   "execution_count": 163,
   "id": "71cc04ab",
   "metadata": {},
   "outputs": [],
   "source": [
    "with open('/D/models/bert/bert_yelp_vib.pkl', 'wb') as f:\n",
    "    dill.dump(hybrid_model, f)\n",
    "    \n",
    "with open('/D/models/bert/bert_yelp_vib_wrapper.pkl', 'wb') as f:\n",
    "    dill.dump(wrapper, f)\n",
    "    \n",
    "with open('/D/models/bert/bert_yelp_vib_adaptor.pkl', 'wb') as f:\n",
    "    dill.dump(adaptor, f)"
   ]
  },
  {
   "cell_type": "markdown",
   "id": "c70babf4",
   "metadata": {},
   "source": [
    "### Yelp dataset"
   ]
  },
  {
   "cell_type": "code",
   "execution_count": 3,
   "id": "58ab91f5",
   "metadata": {},
   "outputs": [
    {
     "name": "stderr",
     "output_type": "stream",
     "text": [
      "Reusing dataset yelp_polarity (/home/nir/.cache/huggingface/datasets/yelp_polarity/plain_text/1.0.0/14f90415c754f47cf9087eadac25823a395fef4400c7903c5897f55cfaaa6f61)\n"
     ]
    },
    {
     "data": {
      "application/vnd.jupyter.widget-view+json": {
       "model_id": "f7d2eaa9f4014ef8a5389e2ca65f4633",
       "version_major": 2,
       "version_minor": 0
      },
      "text/plain": [
       "  0%|          | 0/2 [00:00<?, ?it/s]"
      ]
     },
     "metadata": {},
     "output_type": "display_data"
    }
   ],
   "source": [
    "# Load Yelp Polarity dataset\n",
    "dataset = load_dataset('yelp_polarity')"
   ]
  },
  {
   "cell_type": "code",
   "execution_count": 4,
   "id": "bab387c7",
   "metadata": {},
   "outputs": [
    {
     "name": "stderr",
     "output_type": "stream",
     "text": [
      "Loading cached processed dataset at /home/nir/.cache/huggingface/datasets/yelp_polarity/plain_text/1.0.0/14f90415c754f47cf9087eadac25823a395fef4400c7903c5897f55cfaaa6f61/cache-f43dc4f27a40156d.arrow\n",
      "Loading cached processed dataset at /home/nir/.cache/huggingface/datasets/yelp_polarity/plain_text/1.0.0/14f90415c754f47cf9087eadac25823a395fef4400c7903c5897f55cfaaa6f61/cache-85110606db85e919.arrow\n"
     ]
    }
   ],
   "source": [
    "tokenizer = AutoTokenizer.from_pretrained('bert-base-uncased')\n",
    "def encode(examples):\n",
    "    return tokenizer(examples['text'], truncation=True, padding='max_length', max_length=512)\n",
    "\n",
    "dataset = dataset.map(encode, batched=True)\n",
    "dataset.set_format(type='torch', columns=['input_ids', 'attention_mask', 'label'])\n",
    "\n",
    "dataset.save_to_disk('/D/datasets/yelp/')\n",
    "\n",
    "train_dataset = dataset['train']\n",
    "test_dataset = dataset['test']"
   ]
  },
  {
   "cell_type": "code",
   "execution_count": 8,
   "id": "70b6af13",
   "metadata": {},
   "outputs": [],
   "source": [
    "# test_dataset = load_from_disk('/D/datasets/yelp/test')"
   ]
  },
  {
   "cell_type": "code",
   "execution_count": 13,
   "id": "29791ade",
   "metadata": {},
   "outputs": [],
   "source": []
  },
  {
   "cell_type": "code",
   "execution_count": 8,
   "id": "192ac17d",
   "metadata": {},
   "outputs": [],
   "source": [
    "train_dataloader = DataLoader(train_dataset, shuffle=True, batch_size=128)\n",
    "test_dataloader = DataLoader(test_dataset, shuffle=True, batch_size=128)"
   ]
  },
  {
   "cell_type": "code",
   "execution_count": 37,
   "id": "eeea3d5c",
   "metadata": {},
   "outputs": [
    {
     "name": "stderr",
     "output_type": "stream",
     "text": [
      "100%|███████████████████████████████████████████████████████████████████████████████████████████████████████████████████| 4375/4375 [4:04:53<00:00,  3.36s/it]\n",
      "100%|███████████████████████████████████████████████████████████████████████████████████████████████████████████████████████| 297/297 [16:40<00:00,  3.37s/it]\n"
     ]
    }
   ],
   "source": [
    "model.classifier = torch.nn.Identity()\n",
    "DEVICE = torch.device('cuda:0')\n",
    "model.to(DEVICE)\n",
    "logits_trian_dataloader = get_transformer_logits_dataloader(model, train_dataloader, batch_size=64, device=DEVICE)\n",
    "logits_test_dataloader = get_transformer_logits_dataloader(model, test_dataloader, batch_size=64, device=DEVICE)"
   ]
  },
  {
   "cell_type": "code",
   "execution_count": 15,
   "id": "8ce86faf",
   "metadata": {},
   "outputs": [],
   "source": [
    "LOGITS_TRAIN_DATALOADER_PATH = '/D/datasets/yelp/logits_dataloaders/logits_train_dataloader.pkl'\n",
    "LOGITS_TEST_DATALOADER_PATH = '/D/datasets/yelp/logits_dataloaders/logits_test_dataloader.pkl'"
   ]
  },
  {
   "cell_type": "code",
   "execution_count": 40,
   "id": "844ac533",
   "metadata": {},
   "outputs": [
    {
     "name": "stdout",
     "output_type": "stream",
     "text": [
      "Saved dataloaders!\n"
     ]
    }
   ],
   "source": [
    "# Save\n",
    "with open(LOGITS_TRAIN_DATALOADER_PATH, 'wb') as f:\n",
    "    pickle5.dump(logits_trian_dataloader, f)\n",
    "with open(LOGITS_TEST_DATALOADER_PATH, 'wb') as f:\n",
    "    pickle5.dump(logits_test_dataloader, f)\n",
    "print('Saved dataloaders!')"
   ]
  },
  {
   "cell_type": "code",
   "execution_count": 16,
   "id": "7e2197ae",
   "metadata": {},
   "outputs": [],
   "source": [
    "import pickle5\n",
    "with open(LOGITS_TRAIN_DATALOADER_PATH, 'rb') as f:\n",
    "    logits_trian_dataloader = pickle5.load(f)\n",
    "with open(LOGITS_TEST_DATALOADER_PATH, 'rb') as f:\n",
    "    logits_test_dataloader = pickle5.load(f)"
   ]
  },
  {
   "cell_type": "code",
   "execution_count": 17,
   "id": "ad29f9e7",
   "metadata": {},
   "outputs": [],
   "source": [
    "device = torch.device('cuda:0')\n",
    "vib_classifier = TransformerVIB(768, 2, device)"
   ]
  },
  {
   "cell_type": "code",
   "execution_count": 5,
   "id": "50bda224",
   "metadata": {},
   "outputs": [],
   "source": [
    "model = BertForSequenceClassification.from_pretrained('textattack/bert-base-uncased-yelp-polarity')\n",
    "DEVICE = torch.device('cuda:0')\n",
    "_ = model.to(DEVICE)"
   ]
  },
  {
   "cell_type": "code",
   "execution_count": 6,
   "id": "fe6d4355",
   "metadata": {},
   "outputs": [],
   "source": [
    "test_dataloader = DataLoader(test_dataset, shuffle=True, batch_size=32)"
   ]
  },
  {
   "cell_type": "code",
   "execution_count": 7,
   "id": "0957a899",
   "metadata": {},
   "outputs": [],
   "source": [
    "def test_model(model, test_data_loader, device):\n",
    "    model.eval()\n",
    "    total_correct = 0\n",
    "    total_incorrect = 0\n",
    "    with torch.no_grad():\n",
    "        for data_dict in tqdm(test_data_loader):\n",
    "            x = data_dict['input_ids']\n",
    "            y = data_dict['label']\n",
    "            output = model(x.to(device))\n",
    "            logits = output['logits']\n",
    "            predictions = torch.argmax(torch.softmax(logits, dim=-1), dim=1)#.to(torch.device('cpu'))\n",
    "            correct_classifications = sum(predictions == y.to(device))\n",
    "            incorrect_classifications = len(x) - correct_classifications\n",
    "            total_correct += correct_classifications\n",
    "            total_incorrect += incorrect_classifications\n",
    "    model.train()\n",
    "    print(f\"acc: {print(total_correct / (total_correct + total_incorrect))}\")"
   ]
  },
  {
   "cell_type": "code",
   "execution_count": 8,
   "id": "364dc6b3",
   "metadata": {},
   "outputs": [
    {
     "name": "stderr",
     "output_type": "stream",
     "text": [
      "100%|█████████████████████████████████████████████████████████████████████████████████████████████████████████████████████| 1188/1188 [15:03<00:00,  1.31it/s]"
     ]
    },
    {
     "name": "stdout",
     "output_type": "stream",
     "text": [
      "tensor(0.8969, device='cuda:0')\n",
      "acc: None\n"
     ]
    },
    {
     "name": "stderr",
     "output_type": "stream",
     "text": [
      "\n"
     ]
    }
   ],
   "source": [
    "test_model(model, test_dataloader, DEVICE)"
   ]
  },
  {
   "cell_type": "code",
   "execution_count": 26,
   "id": "46966ffb",
   "metadata": {},
   "outputs": [],
   "source": [
    "with open('/D/models/pretrained/pretrained_bert_yelp.pkl', 'rb') as f:\n",
    "    m = pickle.load(f)\n",
    "# torch.load('/D/models/pretrained/pretrained_bert_yelp.pkl')"
   ]
  },
  {
   "cell_type": "code",
   "execution_count": 10,
   "id": "59abbdba",
   "metadata": {},
   "outputs": [
    {
     "name": "stderr",
     "output_type": "stream",
     "text": [
      "Reusing dataset yelp_polarity (/home/nir/.cache/huggingface/datasets/yelp_polarity/plain_text/1.0.0/14f90415c754f47cf9087eadac25823a395fef4400c7903c5897f55cfaaa6f61)\n"
     ]
    },
    {
     "data": {
      "application/vnd.jupyter.widget-view+json": {
       "model_id": "1bf46d834fbd4029ba9c0cf2a91b958b",
       "version_major": 2,
       "version_minor": 0
      },
      "text/plain": [
       "  0%|          | 0/2 [00:00<?, ?it/s]"
      ]
     },
     "metadata": {},
     "output_type": "display_data"
    },
    {
     "name": "stderr",
     "output_type": "stream",
     "text": [
      "textattack: Loading \u001b[94mdatasets\u001b[0m dataset \u001b[94myelp_polarity\u001b[0m, split \u001b[94mtest\u001b[0m.\n",
      "Some weights of the model checkpoint at bert-base-uncased were not used when initializing BertForMaskedLM: ['cls.seq_relationship.bias', 'cls.seq_relationship.weight']\n",
      "- This IS expected if you are initializing BertForMaskedLM from the checkpoint of a model trained on another task or with another architecture (e.g. initializing a BertForSequenceClassification model from a BertForPreTraining model).\n",
      "- This IS NOT expected if you are initializing BertForMaskedLM from the checkpoint of a model that you expect to be exactly identical (initializing a BertForSequenceClassification model from a BertForSequenceClassification model).\n",
      "textattack: Unknown if model of class <class 'transformers.models.bert.modeling_bert.BertForSequenceClassification'> compatible with goal function <class 'textattack.goal_functions.classification.untargeted_classification.UntargetedClassification'>.\n",
      "  0%|                                                                                                                                                                                       | 0/250 [00:00<?, ?it/s]2023-07-20 15:49:22.573193: I tensorflow/compiler/xla/stream_executor/cuda/cuda_gpu_executor.cc:981] successful NUMA node read from SysFS had negative value (-1), but there must be at least one NUMA node, so returning NUMA node zero\n",
      "2023-07-20 15:49:22.595801: I tensorflow/compiler/xla/stream_executor/cuda/cuda_gpu_executor.cc:981] successful NUMA node read from SysFS had negative value (-1), but there must be at least one NUMA node, so returning NUMA node zero\n",
      "2023-07-20 15:49:22.595947: I tensorflow/compiler/xla/stream_executor/cuda/cuda_gpu_executor.cc:981] successful NUMA node read from SysFS had negative value (-1), but there must be at least one NUMA node, so returning NUMA node zero\n",
      "2023-07-20 15:49:22.596793: I tensorflow/core/platform/cpu_feature_guard.cc:193] This TensorFlow binary is optimized with oneAPI Deep Neural Network Library (oneDNN) to use the following CPU instructions in performance-critical operations:  AVX2 AVX512F AVX512_VNNI FMA\n",
      "To enable them in other operations, rebuild TensorFlow with the appropriate compiler flags.\n",
      "2023-07-20 15:49:22.597577: I tensorflow/compiler/xla/stream_executor/cuda/cuda_gpu_executor.cc:981] successful NUMA node read from SysFS had negative value (-1), but there must be at least one NUMA node, so returning NUMA node zero\n",
      "2023-07-20 15:49:22.597705: I tensorflow/compiler/xla/stream_executor/cuda/cuda_gpu_executor.cc:981] successful NUMA node read from SysFS had negative value (-1), but there must be at least one NUMA node, so returning NUMA node zero\n",
      "2023-07-20 15:49:22.597806: I tensorflow/compiler/xla/stream_executor/cuda/cuda_gpu_executor.cc:981] successful NUMA node read from SysFS had negative value (-1), but there must be at least one NUMA node, so returning NUMA node zero\n",
      "2023-07-20 15:49:22.598008: I tensorflow/compiler/xla/stream_executor/cuda/cuda_gpu_executor.cc:981] successful NUMA node read from SysFS had negative value (-1), but there must be at least one NUMA node, so returning NUMA node zero\n",
      "2023-07-20 15:49:22.598122: I tensorflow/compiler/xla/stream_executor/cuda/cuda_gpu_executor.cc:981] successful NUMA node read from SysFS had negative value (-1), but there must be at least one NUMA node, so returning NUMA node zero\n",
      "2023-07-20 15:49:22.598227: I tensorflow/compiler/xla/stream_executor/cuda/cuda_gpu_executor.cc:981] successful NUMA node read from SysFS had negative value (-1), but there must be at least one NUMA node, so returning NUMA node zero\n",
      "2023-07-20 15:49:22.598340: I tensorflow/core/common_runtime/gpu/gpu_device.cc:1613] Created device /job:localhost/replica:0/task:0/device:GPU:0 with 10020 MB memory:  -> device: 0, name: NVIDIA GeForce RTX 3080 Laptop GPU, pci bus id: 0000:01:00.0, compute capability: 8.6\n",
      "2023-07-20 15:49:25.868140: I tensorflow/tsl/platform/default/subprocess.cc:304] Start cannot spawn child process: No such file or directory\n",
      "2023-07-20 15:49:25.868620: I tensorflow/tsl/platform/default/subprocess.cc:304] Start cannot spawn child process: No such file or directory\n",
      "2023-07-20 15:49:25.871599: W tensorflow/compiler/xla/stream_executor/gpu/asm_compiler.cc:85] Couldn't get ptxas version string: INTERNAL: Couldn't invoke ptxas --version\n",
      "2023-07-20 15:49:25.871922: I tensorflow/tsl/platform/default/subprocess.cc:304] Start cannot spawn child process: No such file or directory\n",
      "2023-07-20 15:49:25.871939: W tensorflow/compiler/xla/stream_executor/gpu/asm_compiler.cc:85] Couldn't get ptxas version string: INTERNAL: Couldn't invoke ptxas --version\n",
      "2023-07-20 15:49:25.872016: I tensorflow/tsl/platform/default/subprocess.cc:304] Start cannot spawn child process: No such file or directory\n",
      "2023-07-20 15:49:25.872053: W tensorflow/compiler/mlir/tools/kernel_gen/transforms/gpu_kernel_to_blob_pass.cc:189] Failed to compile generated PTX with ptxas. Falling back to compilation by driver.\n",
      "2023-07-20 15:49:25.872281: I tensorflow/tsl/platform/default/subprocess.cc:304] Start cannot spawn child process: No such file or directory\n",
      "2023-07-20 15:49:25.872297: W tensorflow/compiler/xla/stream_executor/gpu/asm_compiler.cc:85] Couldn't get ptxas version string: INTERNAL: Couldn't invoke ptxas --version\n",
      "2023-07-20 15:49:25.872314: I tensorflow/tsl/platform/default/subprocess.cc:304] Start cannot spawn child process: No such file or directory\n",
      "2023-07-20 15:49:25.872357: W tensorflow/compiler/mlir/tools/kernel_gen/transforms/gpu_kernel_to_blob_pass.cc:189] Failed to compile generated PTX with ptxas. Falling back to compilation by driver.\n",
      "2023-07-20 15:49:25.872595: I tensorflow/tsl/platform/default/subprocess.cc:304] Start cannot spawn child process: No such file or directory\n",
      "2023-07-20 15:49:25.872609: W tensorflow/compiler/xla/stream_executor/gpu/asm_compiler.cc:85] Couldn't get ptxas version string: INTERNAL: Couldn't invoke ptxas --version\n",
      "2023-07-20 15:49:25.872624: I tensorflow/tsl/platform/default/subprocess.cc:304] Start cannot spawn child process: No such file or directory\n",
      "2023-07-20 15:49:25.872653: W tensorflow/compiler/mlir/tools/kernel_gen/transforms/gpu_kernel_to_blob_pass.cc:189] Failed to compile generated PTX with ptxas. Falling back to compilation by driver.\n",
      "2023-07-20 15:49:25.872991: I tensorflow/tsl/platform/default/subprocess.cc:304] Start cannot spawn child process: No such file or directory\n",
      "2023-07-20 15:49:25.873016: W tensorflow/compiler/mlir/tools/kernel_gen/transforms/gpu_kernel_to_blob_pass.cc:189] Failed to compile generated PTX with ptxas. Falling back to compilation by driver.\n",
      "2023-07-20 15:49:25.873025: I tensorflow/tsl/platform/default/subprocess.cc:304] Start cannot spawn child process: No such file or directory\n",
      "2023-07-20 15:49:25.873042: W tensorflow/compiler/xla/stream_executor/gpu/asm_compiler.cc:85] Couldn't get ptxas version string: INTERNAL: Couldn't invoke ptxas --version\n",
      "2023-07-20 15:49:25.873306: I tensorflow/tsl/platform/default/subprocess.cc:304] Start cannot spawn child process: No such file or directory\n",
      "2023-07-20 15:49:25.873320: W tensorflow/compiler/xla/stream_executor/gpu/asm_compiler.cc:85] Couldn't get ptxas version string: INTERNAL: Couldn't invoke ptxas --version\n",
      "2023-07-20 15:49:25.873397: I tensorflow/tsl/platform/default/subprocess.cc:304] Start cannot spawn child process: No such file or directory\n",
      "2023-07-20 15:49:25.873421: W tensorflow/compiler/mlir/tools/kernel_gen/transforms/gpu_kernel_to_blob_pass.cc:189] Failed to compile generated PTX with ptxas. Falling back to compilation by driver.\n",
      "2023-07-20 15:49:25.873637: I tensorflow/tsl/platform/default/subprocess.cc:304] Start cannot spawn child process: No such file or directory\n",
      "2023-07-20 15:49:25.873655: W tensorflow/compiler/xla/stream_executor/gpu/asm_compiler.cc:85] Couldn't get ptxas version string: INTERNAL: Couldn't invoke ptxas --version\n",
      "2023-07-20 15:49:25.873663: I tensorflow/tsl/platform/default/subprocess.cc:304] Start cannot spawn child process: No such file or directory\n",
      "2023-07-20 15:49:25.873700: W tensorflow/compiler/mlir/tools/kernel_gen/transforms/gpu_kernel_to_blob_pass.cc:189] Failed to compile generated PTX with ptxas. Falling back to compilation by driver.\n",
      "2023-07-20 15:49:25.873951: I tensorflow/tsl/platform/default/subprocess.cc:304] Start cannot spawn child process: No such file or directory\n",
      "2023-07-20 15:49:25.873964: W tensorflow/compiler/xla/stream_executor/gpu/asm_compiler.cc:85] Couldn't get ptxas version string: INTERNAL: Couldn't invoke ptxas --version\n",
      "2023-07-20 15:49:25.873978: I tensorflow/tsl/platform/default/subprocess.cc:304] Start cannot spawn child process: No such file or directory\n",
      "2023-07-20 15:49:25.874009: W tensorflow/compiler/mlir/tools/kernel_gen/transforms/gpu_kernel_to_blob_pass.cc:189] Failed to compile generated PTX with ptxas. Falling back to compilation by driver.\n",
      "2023-07-20 15:49:25.874222: I tensorflow/tsl/platform/default/subprocess.cc:304] Start cannot spawn child process: No such file or directory\n",
      "2023-07-20 15:49:25.874239: W tensorflow/compiler/xla/stream_executor/gpu/asm_compiler.cc:85] Couldn't get ptxas version string: INTERNAL: Couldn't invoke ptxas --version\n",
      "2023-07-20 15:49:25.874319: I tensorflow/tsl/platform/default/subprocess.cc:304] Start cannot spawn child process: No such file or directory\n",
      "2023-07-20 15:49:25.874344: W tensorflow/compiler/mlir/tools/kernel_gen/transforms/gpu_kernel_to_blob_pass.cc:189] Failed to compile generated PTX with ptxas. Falling back to compilation by driver.\n",
      "2023-07-20 15:49:25.874577: I tensorflow/tsl/platform/default/subprocess.cc:304] Start cannot spawn child process: No such file or directory\n",
      "2023-07-20 15:49:25.874591: I tensorflow/tsl/platform/default/subprocess.cc:304] Start cannot spawn child process: No such file or directory\n",
      "2023-07-20 15:49:25.874596: W tensorflow/compiler/xla/stream_executor/gpu/asm_compiler.cc:85] Couldn't get ptxas version string: INTERNAL: Couldn't invoke ptxas --version\n",
      "2023-07-20 15:49:25.874622: W tensorflow/compiler/mlir/tools/kernel_gen/transforms/gpu_kernel_to_blob_pass.cc:189] Failed to compile generated PTX with ptxas. Falling back to compilation by driver.\n",
      "2023-07-20 15:49:25.874907: I tensorflow/tsl/platform/default/subprocess.cc:304] Start cannot spawn child process: No such file or directory\n",
      "2023-07-20 15:49:25.874916: W tensorflow/compiler/xla/stream_executor/gpu/asm_compiler.cc:85] Couldn't get ptxas version string: INTERNAL: Couldn't invoke ptxas --version\n",
      "2023-07-20 15:49:25.874944: I tensorflow/tsl/platform/default/subprocess.cc:304] Start cannot spawn child process: No such file or directory\n",
      "2023-07-20 15:49:25.874976: W tensorflow/compiler/mlir/tools/kernel_gen/transforms/gpu_kernel_to_blob_pass.cc:189] Failed to compile generated PTX with ptxas. Falling back to compilation by driver.\n",
      "2023-07-20 15:49:25.875203: I tensorflow/tsl/platform/default/subprocess.cc:304] Start cannot spawn child process: No such file or directory\n",
      "2023-07-20 15:49:25.875211: I tensorflow/tsl/platform/default/subprocess.cc:304] Start cannot spawn child process: No such file or directory\n",
      "2023-07-20 15:49:25.875218: W tensorflow/compiler/xla/stream_executor/gpu/asm_compiler.cc:85] Couldn't get ptxas version string: INTERNAL: Couldn't invoke ptxas --version\n",
      "2023-07-20 15:49:25.875238: W tensorflow/compiler/mlir/tools/kernel_gen/transforms/gpu_kernel_to_blob_pass.cc:189] Failed to compile generated PTX with ptxas. Falling back to compilation by driver.\n",
      "2023-07-20 15:49:25.875530: I tensorflow/tsl/platform/default/subprocess.cc:304] Start cannot spawn child process: No such file or directory\n",
      "2023-07-20 15:49:25.875541: W tensorflow/compiler/xla/stream_executor/gpu/asm_compiler.cc:85] Couldn't get ptxas version string: INTERNAL: Couldn't invoke ptxas --version\n",
      "2023-07-20 15:49:25.875555: I tensorflow/tsl/platform/default/subprocess.cc:304] Start cannot spawn child process: No such file or directory\n",
      "2023-07-20 15:49:25.875583: W tensorflow/compiler/mlir/tools/kernel_gen/transforms/gpu_kernel_to_blob_pass.cc:189] Failed to compile generated PTX with ptxas. Falling back to compilation by driver.\n",
      "2023-07-20 15:49:25.875844: I tensorflow/tsl/platform/default/subprocess.cc:304] Start cannot spawn child process: No such file or directory\n",
      "2023-07-20 15:49:25.875869: W tensorflow/compiler/mlir/tools/kernel_gen/transforms/gpu_kernel_to_blob_pass.cc:189] Failed to compile generated PTX with ptxas. Falling back to compilation by driver.\n"
     ]
    },
    {
     "name": "stderr",
     "output_type": "stream",
     "text": [
      "2023-07-20 15:49:26.189628: I tensorflow/compiler/xla/stream_executor/cuda/cuda_blas.cc:630] TensorFloat-32 will be used for the matrix multiplication. This will only be logged once.\n",
      "[Succeeded / Failed / Skipped / Total] 148 / 98 / 4 / 250: 100%|██████████████████████████████████████████████████████████████████████████████████████████████████████████████████| 250/250 [55:29<00:00, 13.32s/it]\n"
     ]
    },
    {
     "name": "stdout",
     "output_type": "stream",
     "text": [
      "\n"
     ]
    },
    {
     "name": "stderr",
     "output_type": "stream",
     "text": [
      "Token indices sequence length is longer than the specified maximum sequence length for this model (32148 > 1024). Running this sequence through the model will result in indexing errors\n"
     ]
    },
    {
     "name": "stdout",
     "output_type": "stream",
     "text": [
      "\n"
     ]
    },
    {
     "name": "stderr",
     "output_type": "stream",
     "text": [
      "Token indices sequence length is longer than the specified maximum sequence length for this model (32148 > 1024). Running this sequence through the model will result in indexing errors\n"
     ]
    }
   ],
   "source": [
    "model = BertForSequenceClassification.from_pretrained('textattack/bert-base-uncased-yelp-polarity')\n",
    "model.eval()\n",
    "tokenizer = AutoTokenizer.from_pretrained('bert-base-uncased')\n",
    "\n",
    "dataset = HuggingFaceDataset(\"yelp_polarity\", None, \"test\")\n",
    "\n",
    "model_wrapper = HuggingFaceModelWrapper(model, tokenizer)\n",
    "\n",
    "attack = BAEGarg2019.build(model_wrapper)\n",
    "attack_args = AttackArgs(\n",
    "    num_examples=250,\n",
    "    disable_stdout=True,\n",
    "    silent=True,\n",
    "    enable_advance_metrics=True\n",
    ")\n",
    "\n",
    "attacker = Attacker(attack, dataset, attack_args)\n",
    "results_iterable = attacker.attack_dataset()\n",
    "attack_log_manager = attacker.attack_log_manager\n",
    "attack_log_manager.log_summary()\n",
    "\n",
    "attack_success_stats = AttackSuccessRate().calculate(attack_log_manager.results)\n",
    "words_perturbed_stats = WordsPerturbed().calculate(attack_log_manager.results)\n",
    "attack_query_stats = AttackQueries().calculate(attack_log_manager.results)\n",
    "acc_under_attack = str(attack_success_stats[\"attack_accuracy_perc\"])\n",
    "avg_pertrubed_words_prct = str(words_perturbed_stats[\"avg_word_perturbed_perc\"])\n"
   ]
  },
  {
   "cell_type": "code",
   "execution_count": 19,
   "id": "c6e879b8",
   "metadata": {},
   "outputs": [
    {
     "data": {
      "text/plain": [
       "60.16"
      ]
     },
     "execution_count": 19,
     "metadata": {},
     "output_type": "execute_result"
    }
   ],
   "source": [
    "attack_success_stats['attack_success_rate']"
   ]
  },
  {
   "cell_type": "code",
   "execution_count": 11,
   "id": "7ff88b08",
   "metadata": {},
   "outputs": [
    {
     "data": {
      "text/plain": [
       "0.6016260162601627"
      ]
     },
     "execution_count": 11,
     "metadata": {},
     "output_type": "execute_result"
    }
   ],
   "source": [
    "148 / (148 + 98)"
   ]
  },
  {
   "cell_type": "code",
   "execution_count": 15,
   "id": "363b6599",
   "metadata": {},
   "outputs": [
    {
     "data": {
      "text/plain": [
       "60.8"
      ]
     },
     "execution_count": 15,
     "metadata": {},
     "output_type": "execute_result"
    }
   ],
   "source": [
    "100 - float(acc_under_attack)"
   ]
  },
  {
   "cell_type": "code",
   "execution_count": 15,
   "id": "e8c96eef",
   "metadata": {},
   "outputs": [],
   "source": [
    "summary_table_rows = [\n",
    "    [\n",
    "        \"Number of successful attacks:\",\n",
    "        attack_success_stats[\"successful_attacks\"],\n",
    "    ],\n",
    "    [\"Number of failed attacks:\", attack_success_stats[\"failed_attacks\"]],\n",
    "    [\"Number of skipped attacks:\", attack_success_stats[\"skipped_attacks\"]],\n",
    "    [\n",
    "        \"Original accuracy:\",\n",
    "        str(attack_success_stats[\"original_accuracy\"]) + \"%\",\n",
    "    ],\n",
    "    [\n",
    "        \"Accuracy under attack:\",\n",
    "        str(attack_success_stats[\"attack_accuracy_perc\"]) + \"%\",\n",
    "    ],\n",
    "    [\n",
    "        \"Attack success rate:\",\n",
    "        str(attack_success_stats[\"attack_success_rate\"]) + \"%\",\n",
    "    ],\n",
    "    [\n",
    "        \"Average perturbed word %:\",\n",
    "        str(words_perturbed_stats[\"avg_word_perturbed_perc\"]) + \"%\",\n",
    "    ],\n",
    "    [\n",
    "        \"Average num. words per input:\",\n",
    "        words_perturbed_stats[\"avg_word_perturbed\"],\n",
    "    ],\n",
    "]"
   ]
  },
  {
   "cell_type": "code",
   "execution_count": 16,
   "id": "3b42dd82",
   "metadata": {},
   "outputs": [
    {
     "data": {
      "text/plain": [
       "98.4"
      ]
     },
     "execution_count": 16,
     "metadata": {},
     "output_type": "execute_result"
    }
   ],
   "source": [
    "attack_success_stats[\"original_accuracy\"]"
   ]
  },
  {
   "cell_type": "code",
   "execution_count": 17,
   "id": "4dcfa42f",
   "metadata": {},
   "outputs": [
    {
     "name": "stdout",
     "output_type": "stream",
     "text": [
      "['Number of successful attacks:', 148]\n",
      "['Number of failed attacks:', 98]\n",
      "['Number of skipped attacks:', 4]\n",
      "['Original accuracy:', '98.4%']\n",
      "['Accuracy under attack:', '39.2%']\n",
      "['Attack success rate:', '60.16%']\n",
      "['Average perturbed word %:', '7.01%']\n",
      "['Average num. words per input:', 136.34]\n"
     ]
    }
   ],
   "source": [
    "for row in summary_table_rows:\n",
    "    print(row)"
   ]
  },
  {
   "cell_type": "code",
   "execution_count": 11,
   "id": "56e0da10",
   "metadata": {},
   "outputs": [],
   "source": [
    "attack_log_manager.log_summary_rows(\n",
    "    summary_table_rows, \"Attack Results\", \"attack_results_summary\"\n",
    ")"
   ]
  }
 ],
 "metadata": {
  "kernelspec": {
   "display_name": "Python 3 (ipykernel)",
   "language": "python",
   "name": "python3"
  },
  "language_info": {
   "codemirror_mode": {
    "name": "ipython",
    "version": 3
   },
   "file_extension": ".py",
   "mimetype": "text/x-python",
   "name": "python",
   "nbconvert_exporter": "python",
   "pygments_lexer": "ipython3",
   "version": "3.7.9"
  }
 },
 "nbformat": 4,
 "nbformat_minor": 5
}
