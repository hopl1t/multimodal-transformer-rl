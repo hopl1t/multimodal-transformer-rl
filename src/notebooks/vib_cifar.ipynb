{
 "cells": [
  {
   "cell_type": "code",
   "execution_count": 1,
   "metadata": {
    "colab": {
     "base_uri": "https://localhost:8080/"
    },
    "id": "7ICm1f5hd1nw",
    "outputId": "3726af7b-ad41-47b3-dfcb-fe5eb5930062"
   },
   "outputs": [
    {
     "name": "stdout",
     "output_type": "stream",
     "text": [
      "Requirement already satisfied: umap-learn in /Users/nirweingarten/.pyenv/versions/anaconda3-5.3.1/lib/python3.7/site-packages (0.5.1)\n",
      "Requirement already satisfied: scikit-learn>=0.22 in /Users/nirweingarten/.pyenv/versions/anaconda3-5.3.1/lib/python3.7/site-packages (from umap-learn) (1.0.2)\n",
      "Requirement already satisfied: scipy>=1.0 in /Users/nirweingarten/.pyenv/versions/anaconda3-5.3.1/lib/python3.7/site-packages (from umap-learn) (1.7.3)\n",
      "Requirement already satisfied: pynndescent>=0.5 in /Users/nirweingarten/.pyenv/versions/anaconda3-5.3.1/lib/python3.7/site-packages (from umap-learn) (0.5.4)\n",
      "Requirement already satisfied: numpy>=1.17 in /Users/nirweingarten/.pyenv/versions/anaconda3-5.3.1/lib/python3.7/site-packages (from umap-learn) (1.21.5)\n",
      "Requirement already satisfied: numba>=0.49 in /Users/nirweingarten/.pyenv/versions/anaconda3-5.3.1/lib/python3.7/site-packages (from umap-learn) (0.55.1)\n",
      "Requirement already satisfied: llvmlite<0.39,>=0.38.0rc1 in /Users/nirweingarten/.pyenv/versions/anaconda3-5.3.1/lib/python3.7/site-packages (from numba>=0.49->umap-learn) (0.38.0)\n",
      "Requirement already satisfied: setuptools in /Users/nirweingarten/.pyenv/versions/anaconda3-5.3.1/lib/python3.7/site-packages (from numba>=0.49->umap-learn) (65.6.3)\n",
      "Requirement already satisfied: joblib>=0.11 in /Users/nirweingarten/.pyenv/versions/anaconda3-5.3.1/lib/python3.7/site-packages (from pynndescent>=0.5->umap-learn) (1.1.1)\n",
      "Requirement already satisfied: threadpoolctl>=2.0.0 in /Users/nirweingarten/.pyenv/versions/anaconda3-5.3.1/lib/python3.7/site-packages (from scikit-learn>=0.22->umap-learn) (2.2.0)\n"
     ]
    }
   ],
   "source": [
    "!pip install umap-learn"
   ]
  },
  {
   "cell_type": "code",
   "execution_count": 1,
   "metadata": {
    "id": "ia1CgXHpXAQy"
   },
   "outputs": [],
   "source": [
    "import numpy as np\n",
    "import torch\n",
    "import math\n",
    "import umap.umap_ as umap\n",
    "import os\n",
    "import pickle\n",
    "import torch.nn as nn\n",
    "import torch.optim as optim\n",
    "import torch.nn.functional as F\n",
    "import pandas as pd\n",
    "from torch.autograd import Variable\n",
    "from torch.optim import lr_scheduler\n",
    "from torch.utils.data import DataLoader\n",
    "from torchvision import transforms\n",
    "from pathlib import Path\n",
    "import torch.nn.init as init\n",
    "from torch.nn.parameter import Parameter\n",
    "from torch.distributions.normal import Normal\n",
    "from torchvision.datasets import FashionMNIST\n",
    "import matplotlib.pyplot as plt\n",
    "from sklearn.preprocessing import StandardScaler"
   ]
  },
  {
   "cell_type": "code",
   "execution_count": 2,
   "metadata": {
    "id": "PvYihkeHcQf4"
   },
   "outputs": [],
   "source": [
    "# DATA_DIR = '/content/drive/MyDrive/AML_project/datasets/FMNIST_DATASET'\n",
    "DATA_DIR = '/tmp/vae_datasets'\n",
    "BATCH_SIZE = 200\n",
    "SEED = 42\n",
    "LOAD_MODEL = False\n",
    "NUM_MINIBATCHES = 4"
   ]
  },
  {
   "cell_type": "code",
   "execution_count": 3,
   "metadata": {
    "id": "KsotD6OTcS5r"
   },
   "outputs": [],
   "source": [
    "if torch.cuda.is_available():\n",
    "    device = torch.device('cuda')\n",
    "else:\n",
    "    device = torch.device('cpu')\n",
    "\n",
    "if os.path.isdir(DATA_DIR):\n",
    "    train_data = FashionMNIST(root=DATA_DIR, train=True, transform=transforms.ToTensor())\n",
    "    test_data = FashionMNIST(root=DATA_DIR, train=False, transform=transforms.ToTensor())\n",
    "else:\n",
    "    os.mkdir(DATA_DIR)\n",
    "    train_data = FashionMNIST(root=DATA_DIR, train=True, download=True, transform=transforms.ToTensor())\n",
    "    test_data = FashionMNIST(root=DATA_DIR, train=False, download=True, transform=transforms.ToTensor())\n",
    "\n",
    "train_loader = DataLoader(train_data,\n",
    "                          batch_size=BATCH_SIZE,\n",
    "                          shuffle=True,\n",
    "                          num_workers=1,\n",
    "                          drop_last=True)\n",
    "\n",
    "test_loader = DataLoader(test_data,\n",
    "                         batch_size=BATCH_SIZE,\n",
    "                         shuffle=False,\n",
    "                         num_workers=1,\n",
    "                         drop_last=False)\n",
    "\n",
    "fmnist_classes = ('T-shirt/top', 'Trouser', 'Pullover', 'Dress',\n",
    "           'Coat', 'Sandal', 'Shirt', 'Sneaker', 'Bag', 'Ankle boot')"
   ]
  },
  {
   "cell_type": "code",
   "execution_count": 14,
   "metadata": {
    "id": "vjRwZvYvXA74"
   },
   "outputs": [],
   "source": [
    "def display(images, length):\n",
    "    f, axes = plt.subplots(1, length, sharex='col', sharey='row')\n",
    "    plt.figure(figsize=(18, 6))\n",
    "    for i, image in enumerate(images):\n",
    "        image = image.data.cpu().view(28, 28)\n",
    "        if len(images) > 1:\n",
    "            _ = axes[i].imshow(image, cmap='gray')\n",
    "        else:\n",
    "            _ = axes.imshow(image, cmap='gray')\n",
    "def reparametrize(mu, std, device):\n",
    "    \"\"\"\n",
    "    Performs reparameterization trick z = mu + epsilon * std\n",
    "    Where epsilon~N(0,1)\n",
    "    \"\"\"\n",
    "    mu = mu.expand(1, *mu.size())\n",
    "    std = std.expand(1, *std.size())\n",
    "    eps = torch.normal(0, 1, size=std.size()).to(device)\n",
    "    return mu + eps * std\n",
    "\n",
    "class FMNIST_VANILA_VAE(nn.Module):\n",
    "    \"\"\"\n",
    "    Just your regular variational auto encoder (not IB)\n",
    "    \"\"\"\n",
    "    def __init__(self, k, device):\n",
    "        super(FMNIST_VANILA_VAE, self).__init__()\n",
    "        self.device = device\n",
    "        self.description = 'Vanilla IB VAE as per the paper'\n",
    "        self.k = k\n",
    "        self.train_loss = []\n",
    "        self.test_loss = []\n",
    "\n",
    "        self.encoder = nn.Sequential(\n",
    "            nn.Linear(784, 1024),\n",
    "            nn.ReLU(True),\n",
    "            nn.Linear(1024, 1024),\n",
    "            nn.ReLU(True),\n",
    "            nn.Linear(1024, 2 * self.k))\n",
    "\n",
    "        self.decoder = nn.Sequential(\n",
    "                nn.Linear(self.k, 1024),\n",
    "                nn.ReLU(True),\n",
    "                nn.Linear(1024, 28*28),\n",
    "                nn.Sigmoid())\n",
    "\n",
    "        # Xavier initialization\n",
    "        for _, module in self._modules.items():\n",
    "            for layer in module:\n",
    "                if isinstance(layer, nn.Linear) or isinstance(layer, nn.Conv2d):\n",
    "                            nn.init.xavier_uniform_(layer.weight, gain=nn.init.calculate_gain('relu'))\n",
    "                            layer.bias.data.zero_()\n",
    "\n",
    "    def forward(self, x):\n",
    "        # squiwsh from shape (100,1,28,28) to (100,784)\n",
    "        x = x.view(x.size(0),-1)\n",
    "        z_params = self.encoder(x)\n",
    "        mu = z_params[:, :self.k]\n",
    "        # softplus transformation (soft relu) and a -5 bias is added as in the paper\n",
    "        std = F.softplus(z_params[:, self.k:] - 5, beta=1)\n",
    "        if self.training:\n",
    "            z = reparametrize(mu, std, self.device)\n",
    "        else:\n",
    "            z = mu.clone().unsqueeze(0)\n",
    "        decoded = self.decoder(z)\n",
    "        return (mu, std), decoded[0]\n",
    "\n",
    "def general_gaussians_kld(mu1, mu2, std1, std2):\n",
    "    # https://discuss.pytorch.org/t/kl-divergence-between-two-multivariate-gaussian/53024/8\n",
    "    # Assuming diagonal covariance\n",
    "    sigma1 = torch.diag_embed(std1 ** 2)\n",
    "    sigma2 = torch.diag_embed(std2 ** 2)\n",
    "    sigma2_inverse = torch.linalg.inv(sigma2)\n",
    "    term1 = torch.log(sigma2.det() + 1e-8) - torch.log(sigma1.det() + 1e-8)\n",
    "#     term2 = torch.trace(torch.bmm(sigma2_inverse, sigma1))\n",
    "    term2 = torch.bmm(sigma2_inverse, sigma1).diagonal(offset=0, dim1=-1, dim2=-2).sum(-1)\n",
    "#     term3 = (mu2 - mu1) @ sigma2_inverse @ (mu2 - mu1)\n",
    "    term3 = torch.bmm(torch.bmm((mu2 - mu1).unsqueeze(1), sigma2_inverse), (mu2 - mu1).unsqueeze(2))\n",
    "    return 0.5 * (term1 -1 + term2 + term3)\n",
    "    \n",
    "def vae_loss(x_hat, x, mu, std, beta):\n",
    "    reconstruction_loss = F.mse_loss(x_hat.view(-1, 28*28), x.view(-1, 28*28), reduction='sum')\n",
    "    normalization_loss = -0.5 * (1 + 2 * std.log() - mu.pow(2) - std.pow(2)).sum()\n",
    "    # KLD = 0.5 * torch.sum(logvar.exp() - logvar - 1 + mu.pow(2))\n",
    "    return reconstruction_loss + beta * normalization_loss\n",
    "\n",
    "def kl_divergence_gaussian(mean_q, std_q, mean_p, std_p):\n",
    "    \"\"\"\n",
    "    Computes the KL divergence between two multivariate Gaussian distributions with diagonal covariance matrices.\n",
    "    \n",
    "    Args:\n",
    "        mean_q (torch.Tensor): Mean of the first Gaussian distribution (shape: [batch_size, num_dimensions]).\n",
    "        std_q (torch.Tensor): Standard deviation of the first Gaussian distribution (shape: [batch_size, num_dimensions]).\n",
    "        mean_p (torch.Tensor): Mean of the second Gaussian distribution (shape: [batch_size, num_dimensions]).\n",
    "        std_p (torch.Tensor): Standard deviation of the second Gaussian distribution (shape: [batch_size, num_dimensions]).\n",
    "        \n",
    "    Returns:\n",
    "        torch.Tensor: KL divergence between the two distributions (shape: [batch_size]).\n",
    "    \"\"\"\n",
    "    num_dimensions = mean_q.shape[1]\n",
    "    \n",
    "    # Compute the diagonal covariance matrices for both distributions\n",
    "    cov_q = torch.diag_embed(std_q**2)\n",
    "    cov_p = torch.diag_embed(std_p**2)\n",
    "    \n",
    "    # Compute the inverse of the covariance matrix of the second distribution\n",
    "    cov_q_inv = torch.inverse(cov_q)\n",
    "    \n",
    "    # Compute the trace term of the KL divergence\n",
    "    trace_term = torch.sum(cov_q_inv * cov_q, dim=(1,2))\n",
    "    \n",
    "    # Compute the difference between the means\n",
    "    mean_diff = mean_p - mean_q\n",
    "    \n",
    "    # Compute the quadratic term of the KL divergence\n",
    "    quadratic_term = torch.sum(mean_diff.unsqueeze(-1) * torch.matmul(cov_q_inv, mean_diff.unsqueeze(-1)), dim=(1,2))\n",
    "    \n",
    "    # Compute the log determinant term of the KL divergence\n",
    "    logdet_term = torch.sum(torch.log(cov_q.det() + 1e-8) - torch.log(cov_p.det() + 1e-8), dim=-1)\n",
    "    \n",
    "    # Compute the KL divergence\n",
    "    kl_div = 0.5 * (trace_term + quadratic_term - num_dimensions + logdet_term)\n",
    "    \n",
    "    return kl_div\n",
    "\n"
   ]
  },
  {
   "cell_type": "code",
   "execution_count": 15,
   "metadata": {
    "id": "mSez1NLzXmRa"
   },
   "outputs": [],
   "source": [
    "def loop_data(model, dataloader, beta,\n",
    "              is_train, model_save_path, epochs,\n",
    "              device, optimizer=None, scheduler=None, eta=0.001):\n",
    "    \"\"\"\n",
    "    loops over the dataset, collects metrics and train \n",
    "    a model if is_train is True\n",
    "    \"\"\"\n",
    "    if is_train:\n",
    "        model.train()\n",
    "    else:\n",
    "        model.eval()\n",
    "        epochs = 1\n",
    "\n",
    "    for e in range(epochs):\n",
    "        epoch_loss = 0        \n",
    "        for batch_num, (images, labels) in enumerate(dataloader):\n",
    "            # Compute base z distribution\n",
    "            x = images.to(device)\n",
    "            y = labels.to(device)\n",
    "            (mu, std), decoded = model(x)\n",
    "            batch_loss = vae_loss(decoded.view(-1, 28*28), x.view(-1, 28*28), mu, std, beta)\n",
    "                \n",
    "            if is_train:\n",
    "                optimizer.zero_grad()\n",
    "                batch_loss.backward()\n",
    "                optimizer.step()\n",
    "\n",
    "            epoch_loss += batch_loss.item()\n",
    "\n",
    "            if is_train and (batch_num % 100) == 0:\n",
    "                print('batch loss:{:.2f}'.format(batch_loss.item()))\n",
    "        \n",
    "        epoch_loss /= batch_num\n",
    "        if is_train:\n",
    "            model.train_loss.append(epoch_loss)\n",
    "        else:\n",
    "            model.test_loss.append(epoch_loss)\n",
    "        \n",
    "        if len(model.test_loss) > 1 and not is_train:\n",
    "            if (epoch_loss < min(model.test_loss)):\n",
    "                torch.save(model, model_save_path)\n",
    "                print('Saved model to {}'.format(model_save_path))\n",
    "\n",
    "        if not is_train:\n",
    "            print('[TEST RESULTS]')\n",
    "            print('epoch loss:{:.2f}'.format(epoch_loss))\n"
   ]
  },
  {
   "cell_type": "code",
   "execution_count": 16,
   "metadata": {
    "id": "Hz3ADl1icex_",
    "scrolled": true
   },
   "outputs": [
    {
     "name": "stdout",
     "output_type": "stream",
     "text": [
      "batch loss:30293.46\n",
      "batch loss:5420.70\n",
      "batch loss:3996.36\n",
      "[TEST RESULTS]\n",
      "epoch loss:3548.70\n",
      "batch loss:3377.12\n",
      "batch loss:3122.13\n",
      "batch loss:2803.73\n",
      "[TEST RESULTS]\n",
      "epoch loss:2650.94\n",
      "batch loss:2655.70\n",
      "batch loss:2416.85\n",
      "batch loss:2362.13\n",
      "[TEST RESULTS]\n",
      "epoch loss:2217.22\n",
      "batch loss:2216.69\n",
      "batch loss:2141.38\n",
      "batch loss:2000.01\n",
      "[TEST RESULTS]\n",
      "epoch loss:1924.06\n",
      "batch loss:1935.34\n",
      "batch loss:2125.02\n",
      "batch loss:1773.56\n",
      "[TEST RESULTS]\n",
      "epoch loss:1751.85\n",
      "batch loss:1746.84\n",
      "batch loss:1760.09\n",
      "batch loss:2182.35\n",
      "[TEST RESULTS]\n",
      "epoch loss:1609.46\n",
      "batch loss:1580.96\n",
      "batch loss:1436.93\n",
      "batch loss:1843.46\n",
      "[TEST RESULTS]\n",
      "epoch loss:1586.71\n",
      "batch loss:1546.57\n",
      "batch loss:1604.68\n",
      "batch loss:1363.43\n",
      "[TEST RESULTS]\n",
      "epoch loss:1559.18\n",
      "batch loss:1401.59\n",
      "batch loss:1321.83\n",
      "batch loss:1388.42\n",
      "[TEST RESULTS]\n",
      "epoch loss:1377.38\n",
      "batch loss:1307.32\n",
      "batch loss:1234.07\n",
      "batch loss:1282.98\n",
      "[TEST RESULTS]\n",
      "epoch loss:1266.72\n",
      "batch loss:1282.56\n",
      "batch loss:1251.73\n",
      "batch loss:1283.85\n",
      "[TEST RESULTS]\n",
      "epoch loss:1251.23\n",
      "batch loss:1231.17\n",
      "batch loss:1218.96\n",
      "batch loss:1205.71\n",
      "[TEST RESULTS]\n",
      "epoch loss:1317.96\n",
      "batch loss:1281.96\n",
      "batch loss:1326.20\n",
      "batch loss:1201.24\n",
      "[TEST RESULTS]\n",
      "epoch loss:1150.66\n",
      "batch loss:1200.32\n",
      "batch loss:1200.31\n",
      "batch loss:1073.68\n",
      "[TEST RESULTS]\n",
      "epoch loss:1087.89\n",
      "batch loss:1019.83\n",
      "batch loss:1029.99\n",
      "batch loss:1067.24\n",
      "[TEST RESULTS]\n",
      "epoch loss:1077.48\n",
      "batch loss:966.87\n",
      "batch loss:1038.19\n",
      "batch loss:1044.15\n",
      "[TEST RESULTS]\n",
      "epoch loss:1263.58\n",
      "batch loss:1161.06\n",
      "batch loss:962.84\n",
      "batch loss:948.00\n",
      "[TEST RESULTS]\n",
      "epoch loss:1014.04\n",
      "batch loss:1014.96\n",
      "batch loss:1058.09\n",
      "batch loss:932.63\n",
      "[TEST RESULTS]\n",
      "epoch loss:983.72\n",
      "batch loss:897.21\n",
      "batch loss:1024.21\n",
      "batch loss:1029.26\n",
      "[TEST RESULTS]\n",
      "epoch loss:961.70\n",
      "batch loss:922.74\n",
      "batch loss:950.69\n",
      "batch loss:940.59\n",
      "[TEST RESULTS]\n",
      "epoch loss:1008.69\n",
      "batch loss:925.79\n",
      "batch loss:926.13\n",
      "batch loss:1006.34\n",
      "[TEST RESULTS]\n",
      "epoch loss:959.03\n",
      "batch loss:940.59\n",
      "batch loss:844.35\n",
      "batch loss:894.20\n",
      "[TEST RESULTS]\n",
      "epoch loss:925.24\n",
      "batch loss:784.04\n",
      "batch loss:932.83\n",
      "batch loss:869.82\n",
      "[TEST RESULTS]\n",
      "epoch loss:913.25\n",
      "batch loss:928.80\n",
      "batch loss:816.27\n",
      "batch loss:1049.17\n",
      "[TEST RESULTS]\n",
      "epoch loss:873.44\n",
      "batch loss:831.34\n",
      "batch loss:811.88\n",
      "batch loss:941.73\n",
      "[TEST RESULTS]\n",
      "epoch loss:898.94\n",
      "batch loss:862.14\n",
      "batch loss:941.26\n",
      "batch loss:869.55\n",
      "[TEST RESULTS]\n",
      "epoch loss:905.66\n",
      "batch loss:803.65\n",
      "batch loss:838.15\n",
      "batch loss:1025.63\n",
      "[TEST RESULTS]\n",
      "epoch loss:842.63\n",
      "batch loss:837.95\n",
      "batch loss:871.35\n",
      "batch loss:740.09\n",
      "[TEST RESULTS]\n",
      "epoch loss:826.34\n",
      "batch loss:754.89\n",
      "batch loss:925.44\n",
      "batch loss:799.83\n",
      "[TEST RESULTS]\n",
      "epoch loss:825.09\n",
      "batch loss:776.95\n",
      "batch loss:762.40\n",
      "batch loss:738.91\n",
      "[TEST RESULTS]\n",
      "epoch loss:1045.68\n",
      "batch loss:1098.07\n",
      "batch loss:822.78\n",
      "batch loss:767.77\n",
      "[TEST RESULTS]\n",
      "epoch loss:811.24\n",
      "batch loss:769.71\n",
      "batch loss:843.70\n",
      "batch loss:714.59\n",
      "[TEST RESULTS]\n",
      "epoch loss:912.55\n",
      "batch loss:904.87\n",
      "batch loss:841.09\n",
      "batch loss:814.77\n",
      "[TEST RESULTS]\n",
      "epoch loss:801.55\n",
      "batch loss:832.43\n",
      "batch loss:713.66\n",
      "batch loss:775.46\n",
      "[TEST RESULTS]\n",
      "epoch loss:768.89\n",
      "batch loss:826.34\n",
      "batch loss:712.43\n",
      "batch loss:856.73\n",
      "[TEST RESULTS]\n",
      "epoch loss:757.36\n",
      "batch loss:652.16\n",
      "batch loss:755.09\n",
      "batch loss:722.95\n",
      "[TEST RESULTS]\n",
      "epoch loss:753.23\n",
      "batch loss:685.07\n",
      "batch loss:707.43\n",
      "batch loss:743.71\n",
      "[TEST RESULTS]\n",
      "epoch loss:755.95\n",
      "batch loss:710.17\n",
      "batch loss:687.92\n",
      "batch loss:733.51\n",
      "[TEST RESULTS]\n",
      "epoch loss:741.50\n",
      "batch loss:761.95\n",
      "batch loss:693.95\n",
      "batch loss:821.45\n",
      "[TEST RESULTS]\n",
      "epoch loss:739.04\n",
      "batch loss:678.21\n",
      "batch loss:753.58\n",
      "batch loss:803.16\n",
      "[TEST RESULTS]\n",
      "epoch loss:799.29\n",
      "batch loss:809.98\n",
      "batch loss:698.58\n",
      "batch loss:726.60\n",
      "[TEST RESULTS]\n",
      "epoch loss:728.88\n",
      "batch loss:709.81\n",
      "batch loss:735.71\n",
      "batch loss:709.25\n",
      "[TEST RESULTS]\n",
      "epoch loss:715.53\n",
      "batch loss:702.50\n",
      "batch loss:674.36\n",
      "batch loss:652.52\n",
      "[TEST RESULTS]\n",
      "epoch loss:714.64\n",
      "batch loss:650.91\n",
      "batch loss:782.67\n",
      "batch loss:687.51\n",
      "[TEST RESULTS]\n",
      "epoch loss:705.22\n",
      "batch loss:650.85\n",
      "batch loss:695.79\n",
      "batch loss:714.46\n",
      "[TEST RESULTS]\n",
      "epoch loss:710.86\n",
      "batch loss:656.17\n",
      "batch loss:729.26\n",
      "batch loss:720.48\n",
      "[TEST RESULTS]\n",
      "epoch loss:722.18\n",
      "batch loss:711.70\n",
      "batch loss:656.67\n",
      "batch loss:735.04\n",
      "[TEST RESULTS]\n",
      "epoch loss:702.28\n",
      "batch loss:722.68\n",
      "batch loss:631.09\n",
      "batch loss:656.42\n",
      "[TEST RESULTS]\n",
      "epoch loss:711.34\n",
      "batch loss:680.07\n",
      "batch loss:812.10\n",
      "batch loss:681.48\n",
      "[TEST RESULTS]\n",
      "epoch loss:728.89\n",
      "batch loss:720.76\n",
      "batch loss:682.49\n",
      "batch loss:668.98\n",
      "[TEST RESULTS]\n",
      "epoch loss:689.45\n",
      "batch loss:692.78\n",
      "batch loss:638.78\n",
      "batch loss:672.87\n",
      "[TEST RESULTS]\n",
      "epoch loss:668.57\n",
      "batch loss:641.04\n",
      "batch loss:659.05\n",
      "batch loss:654.02\n",
      "[TEST RESULTS]\n",
      "epoch loss:679.60\n",
      "batch loss:635.24\n",
      "batch loss:649.77\n",
      "batch loss:679.39\n",
      "[TEST RESULTS]\n",
      "epoch loss:689.03\n",
      "batch loss:694.17\n",
      "batch loss:654.78\n",
      "batch loss:634.92\n",
      "[TEST RESULTS]\n",
      "epoch loss:666.90\n",
      "batch loss:627.84\n",
      "batch loss:752.06\n",
      "batch loss:663.74\n",
      "[TEST RESULTS]\n",
      "epoch loss:659.42\n",
      "batch loss:663.46\n",
      "batch loss:697.69\n",
      "batch loss:679.71\n",
      "[TEST RESULTS]\n",
      "epoch loss:659.20\n",
      "batch loss:669.74\n",
      "batch loss:665.12\n",
      "batch loss:659.80\n",
      "[TEST RESULTS]\n",
      "epoch loss:657.96\n",
      "batch loss:606.77\n",
      "batch loss:595.81\n",
      "batch loss:609.16\n",
      "[TEST RESULTS]\n",
      "epoch loss:648.15\n",
      "batch loss:578.51\n",
      "batch loss:675.93\n",
      "batch loss:621.05\n",
      "[TEST RESULTS]\n",
      "epoch loss:652.19\n",
      "batch loss:591.51\n",
      "batch loss:650.76\n",
      "batch loss:595.37\n",
      "[TEST RESULTS]\n",
      "epoch loss:659.50\n",
      "batch loss:621.37\n",
      "batch loss:607.34\n",
      "batch loss:650.00\n",
      "[TEST RESULTS]\n",
      "epoch loss:641.04\n",
      "batch loss:642.81\n",
      "batch loss:605.94\n",
      "batch loss:642.36\n",
      "[TEST RESULTS]\n",
      "epoch loss:641.51\n",
      "batch loss:654.61\n",
      "batch loss:646.28\n",
      "batch loss:607.91\n",
      "[TEST RESULTS]\n",
      "epoch loss:633.67\n",
      "batch loss:602.23\n",
      "batch loss:608.57\n",
      "batch loss:577.66\n",
      "[TEST RESULTS]\n",
      "epoch loss:683.82\n",
      "batch loss:647.88\n",
      "batch loss:597.38\n",
      "batch loss:649.05\n",
      "[TEST RESULTS]\n",
      "epoch loss:648.86\n",
      "batch loss:593.26\n",
      "batch loss:668.23\n",
      "batch loss:573.59\n",
      "[TEST RESULTS]\n",
      "epoch loss:638.42\n",
      "batch loss:625.12\n",
      "batch loss:601.64\n",
      "batch loss:590.30\n",
      "[TEST RESULTS]\n",
      "epoch loss:649.68\n",
      "batch loss:651.36\n",
      "batch loss:557.86\n",
      "batch loss:587.07\n",
      "[TEST RESULTS]\n",
      "epoch loss:649.36\n",
      "batch loss:612.04\n",
      "batch loss:628.89\n",
      "batch loss:620.86\n",
      "[TEST RESULTS]\n",
      "epoch loss:620.52\n",
      "batch loss:576.65\n",
      "batch loss:643.33\n",
      "batch loss:624.80\n",
      "[TEST RESULTS]\n",
      "epoch loss:628.31\n",
      "batch loss:569.80\n",
      "batch loss:670.52\n",
      "batch loss:601.58\n",
      "[TEST RESULTS]\n",
      "epoch loss:619.01\n",
      "batch loss:577.91\n",
      "batch loss:616.73\n",
      "batch loss:606.73\n",
      "[TEST RESULTS]\n",
      "epoch loss:616.55\n",
      "batch loss:586.92\n",
      "batch loss:593.27\n",
      "batch loss:603.52\n",
      "[TEST RESULTS]\n",
      "epoch loss:609.17\n",
      "batch loss:595.90\n",
      "batch loss:607.73\n",
      "batch loss:532.15\n",
      "[TEST RESULTS]\n",
      "epoch loss:607.28\n",
      "batch loss:590.95\n",
      "batch loss:610.34\n",
      "batch loss:648.74\n",
      "[TEST RESULTS]\n",
      "epoch loss:620.30\n",
      "batch loss:616.92\n",
      "batch loss:618.58\n",
      "batch loss:573.06\n",
      "[TEST RESULTS]\n",
      "epoch loss:603.43\n",
      "batch loss:578.87\n",
      "batch loss:613.29\n",
      "batch loss:619.68\n",
      "[TEST RESULTS]\n",
      "epoch loss:603.06\n",
      "batch loss:572.40\n",
      "batch loss:566.41\n",
      "batch loss:590.13\n",
      "[TEST RESULTS]\n",
      "epoch loss:603.18\n",
      "batch loss:556.68\n",
      "batch loss:634.37\n",
      "batch loss:568.21\n",
      "[TEST RESULTS]\n",
      "epoch loss:607.19\n",
      "batch loss:574.94\n",
      "batch loss:564.94\n",
      "batch loss:565.50\n",
      "[TEST RESULTS]\n",
      "epoch loss:596.64\n",
      "batch loss:638.81\n",
      "batch loss:577.89\n",
      "batch loss:600.01\n",
      "[TEST RESULTS]\n",
      "epoch loss:595.45\n",
      "batch loss:627.69\n",
      "batch loss:565.96\n",
      "batch loss:579.32\n",
      "[TEST RESULTS]\n",
      "epoch loss:595.46\n",
      "batch loss:579.97\n",
      "batch loss:588.22\n",
      "batch loss:543.19\n",
      "[TEST RESULTS]\n",
      "epoch loss:608.40\n",
      "batch loss:617.72\n",
      "batch loss:556.36\n",
      "batch loss:568.21\n",
      "[TEST RESULTS]\n",
      "epoch loss:591.49\n",
      "batch loss:548.17\n",
      "batch loss:556.33\n",
      "batch loss:566.14\n",
      "[TEST RESULTS]\n",
      "epoch loss:593.72\n",
      "batch loss:578.24\n",
      "batch loss:527.89\n",
      "batch loss:533.43\n",
      "[TEST RESULTS]\n",
      "epoch loss:588.46\n",
      "batch loss:563.49\n",
      "batch loss:582.06\n",
      "batch loss:586.23\n",
      "[TEST RESULTS]\n",
      "epoch loss:596.47\n",
      "batch loss:598.31\n",
      "batch loss:560.70\n",
      "batch loss:582.14\n",
      "[TEST RESULTS]\n",
      "epoch loss:586.05\n",
      "batch loss:552.57\n",
      "batch loss:545.07\n",
      "batch loss:573.51\n",
      "[TEST RESULTS]\n",
      "epoch loss:589.72\n",
      "batch loss:561.57\n",
      "batch loss:509.83\n",
      "batch loss:648.74\n",
      "[TEST RESULTS]\n",
      "epoch loss:585.54\n",
      "batch loss:538.86\n",
      "batch loss:579.78\n",
      "batch loss:544.14\n",
      "[TEST RESULTS]\n",
      "epoch loss:581.66\n",
      "batch loss:567.70\n",
      "batch loss:566.96\n",
      "batch loss:561.52\n",
      "[TEST RESULTS]\n",
      "epoch loss:581.22\n",
      "batch loss:579.13\n",
      "batch loss:541.18\n",
      "batch loss:555.48\n",
      "[TEST RESULTS]\n",
      "epoch loss:578.97\n",
      "batch loss:501.43\n",
      "batch loss:557.05\n"
     ]
    },
    {
     "name": "stdout",
     "output_type": "stream",
     "text": [
      "batch loss:558.32\n",
      "[TEST RESULTS]\n",
      "epoch loss:585.64\n",
      "batch loss:564.48\n",
      "batch loss:559.49\n",
      "batch loss:596.10\n",
      "[TEST RESULTS]\n",
      "epoch loss:577.14\n",
      "batch loss:594.58\n",
      "batch loss:554.68\n",
      "batch loss:539.93\n",
      "[TEST RESULTS]\n",
      "epoch loss:577.63\n",
      "batch loss:531.22\n",
      "batch loss:546.92\n",
      "batch loss:537.32\n",
      "[TEST RESULTS]\n",
      "epoch loss:579.03\n",
      "batch loss:565.82\n",
      "batch loss:534.53\n",
      "batch loss:574.55\n",
      "[TEST RESULTS]\n",
      "epoch loss:575.03\n",
      "batch loss:534.97\n",
      "batch loss:526.26\n",
      "batch loss:538.55\n",
      "[TEST RESULTS]\n",
      "epoch loss:574.96\n",
      "batch loss:556.73\n",
      "batch loss:513.44\n",
      "batch loss:557.34\n",
      "[TEST RESULTS]\n",
      "epoch loss:572.56\n",
      "----- Training complete -----\n"
     ]
    }
   ],
   "source": [
    "# MODEL_SAVE_PATH = '/content/drive/MyDrive/AML_project/saved_models/fmnist_vanilla_vae.h5'\n",
    "MODEL_SAVE_PATH = '/users/nirweingarten/Desktop/junk/fmnist_vanilla_vae.h5'\n",
    "K = 256\n",
    "LR = 1e-4\n",
    "EPOCHS = 100\n",
    "BETA = 1e-3\n",
    "\n",
    "model = FMNIST_VANILA_VAE(K, device).to(device)\n",
    "optimizer = optim.Adam(model.parameters(), LR, betas=(0.5,0.999))\n",
    "scheduler = lr_scheduler.ExponentialLR(optimizer, gamma=0.97)\n",
    "\n",
    "for epoch in range(EPOCHS):\n",
    "    loop_data(model, train_loader, BETA, is_train=True, \n",
    "              model_save_path=MODEL_SAVE_PATH, epochs=1, device=device,\n",
    "              optimizer=optimizer, scheduler=scheduler)\n",
    "\n",
    "    loop_data(model, test_loader, BETA, is_train=False, \n",
    "              model_save_path=MODEL_SAVE_PATH, epochs=1, device=device,\n",
    "              optimizer=optimizer, scheduler=scheduler)\n",
    "\n",
    "    if (epoch % 2) == 0 and (epoch != 0):\n",
    "        scheduler.step()\n",
    "\n",
    "print(\"----- Training complete -----\")"
   ]
  },
  {
   "cell_type": "code",
   "execution_count": 17,
   "metadata": {},
   "outputs": [
    {
     "data": {
      "text/plain": [
       "[<matplotlib.lines.Line2D at 0x7f3e0dd433a0>]"
      ]
     },
     "execution_count": 17,
     "metadata": {},
     "output_type": "execute_result"
    },
    {
     "data": {
      "image/png": "[encoded data removed]",
      "text/plain": [
       "<Figure size 640x480 with 1 Axes>"
      ]
     },
     "metadata": {},
     "output_type": "display_data"
    }
   ],
   "source": [
    "plt.plot(model.train_loss)"
   ]
  },
  {
   "cell_type": "code",
   "execution_count": 18,
   "metadata": {},
   "outputs": [
    {
     "data": {
      "text/plain": [
       "[<matplotlib.lines.Line2D at 0x7f3e0c4188e0>]"
      ]
     },
     "execution_count": 18,
     "metadata": {},
     "output_type": "execute_result"
    },
    {
     "data": {
      "image/png": "[encoded data removed]",
      "text/plain": [
       "<Figure size 640x480 with 1 Axes>"
      ]
     },
     "metadata": {},
     "output_type": "display_data"
    }
   ],
   "source": [
    "plt.plot(model.test_loss)"
   ]
  },
  {
   "cell_type": "code",
   "execution_count": 19,
   "metadata": {},
   "outputs": [
    {
     "data": {
      "text/plain": [
       "572.5600972078284"
      ]
     },
     "execution_count": 19,
     "metadata": {},
     "output_type": "execute_result"
    }
   ],
   "source": [
    "model.test_loss[-1]"
   ]
  },
  {
   "cell_type": "code",
   "execution_count": 320,
   "metadata": {},
   "outputs": [],
   "source": [
    "# kl_divergence_gaussian(torch.tensor([[0,0]], dtype=torch.float), torch.tensor([[1,1]], dtype=torch.float), torch.tensor([[0,0]], dtype=torch.float), torch.tensor([[2,1]], dtype=torch.float))\n",
    "\n",
    "mu1 = torch.tensor([[1]], dtype=torch.float)\n",
    "std1 = torch.tensor([[2]], dtype=torch.float)\n",
    "mu2 = torch.tensor([[1]], dtype=torch.float)\n",
    "std2 = torch.tensor([[1]], dtype=torch.float)\n",
    "\n",
    "\n",
    "mu3 = torch.tensor([[1], [1]], dtype=torch.float)\n",
    "std3 = torch.tensor([[2], [2]], dtype=torch.float)\n",
    "mu4 = torch.tensor([[1], [1]], dtype=torch.float)\n",
    "std4 = torch.tensor([[1], [1]], dtype=torch.float)\n",
    "\n",
    "# kl_divergence_gaussian(mu1, std1, mu2, std2)\n"
   ]
  },
  {
   "cell_type": "code",
   "execution_count": 321,
   "metadata": {},
   "outputs": [
    {
     "data": {
      "text/plain": [
       "tensor([[0.8069]])"
      ]
     },
     "execution_count": 321,
     "metadata": {},
     "output_type": "execute_result"
    },
    {
     "data": {
      "text/plain": [
       "tensor([[0.8069],\n",
       "        [0.8069]])"
      ]
     },
     "execution_count": 321,
     "metadata": {},
     "output_type": "execute_result"
    }
   ],
   "source": [
    "n1 = Normal(mu1, std1)\n",
    "n2 = Normal(mu2, std2)\n",
    "n3 = Normal(mu3, std3)\n",
    "n4 = Normal(mu4, std4)\n",
    "\n",
    "torch.distributions.kl_divergence(n1, n2)\n",
    "torch.distributions.kl_divergence(n3, n4)\n",
    "\n",
    "# n.log_prob(torch.tensor([0,0], dtype=torch.float))"
   ]
  },
  {
   "cell_type": "code",
   "execution_count": 202,
   "metadata": {},
   "outputs": [
    {
     "data": {
      "text/plain": [
       "torch.Size([200])"
      ]
     },
     "execution_count": 202,
     "metadata": {},
     "output_type": "execute_result"
    }
   ],
   "source": [
    "n.log_prob(z).mean(axis=-1).shape"
   ]
  },
  {
   "cell_type": "code",
   "execution_count": 199,
   "metadata": {},
   "outputs": [
    {
     "data": {
      "text/plain": [
       "torch.Size([200, 256])"
      ]
     },
     "execution_count": 199,
     "metadata": {},
     "output_type": "execute_result"
    }
   ],
   "source": [
    "n.log_prob(z).shape"
   ]
  },
  {
   "cell_type": "code",
   "execution_count": 196,
   "metadata": {},
   "outputs": [
    {
     "data": {
      "text/plain": [
       "tensor(False)"
      ]
     },
     "execution_count": 196,
     "metadata": {},
     "output_type": "execute_result"
    }
   ],
   "source": [
    "torch.any(n.log_prob(z) >= 1) #.exp()"
   ]
  },
  {
   "cell_type": "code",
   "execution_count": 175,
   "metadata": {},
   "outputs": [],
   "source": [
    "n = Normal(torch.tensor([0,1]), torch.tensor([1, 1]))\n",
    "p = n.log_prob(torch.tensor([[-1,2],[0,0]], dtype=torch.float))"
   ]
  },
  {
   "cell_type": "code",
   "execution_count": 176,
   "metadata": {},
   "outputs": [
    {
     "data": {
      "text/plain": [
       "tensor([[0.2420, 0.2420],\n",
       "        [0.3989, 0.2420]])"
      ]
     },
     "execution_count": 176,
     "metadata": {},
     "output_type": "execute_result"
    }
   ],
   "source": [
    "p.exp()"
   ]
  },
  {
   "cell_type": "code",
   "execution_count": 106,
   "metadata": {},
   "outputs": [
    {
     "data": {
      "text/plain": [
       "tensor(9.)"
      ]
     },
     "execution_count": 106,
     "metadata": {},
     "output_type": "execute_result"
    },
    {
     "data": {
      "text/plain": [
       "tensor(24.)"
      ]
     },
     "execution_count": 106,
     "metadata": {},
     "output_type": "execute_result"
    },
    {
     "data": {
      "text/plain": [
       "tensor([2., 3., 4.])"
      ]
     },
     "execution_count": 106,
     "metadata": {},
     "output_type": "execute_result"
    },
    {
     "data": {
      "text/plain": [
       "tensor(9.)"
      ]
     },
     "execution_count": 106,
     "metadata": {},
     "output_type": "execute_result"
    }
   ],
   "source": [
    "term3 = (mu2 - mu1) @ sigma2_inverse @ (mu2 - mu1)\n",
    "\n",
    "torch.matmul((mu2 - mu1).T, sigma2_inverse)\n",
    "\n",
    "torch.matmul((mu2 - mu1).unsqueeze(1), sigma2_inverse)  # 200, 1, 256\n",
    "\n",
    "\n",
    "torch.bmm(torch.matmul((mu2 - mu1).unsqueeze(1), sigma2_inverse), mu1-mu2)\n",
    "\n",
    "\n",
    "torch.matmul(torch.matmul((mu2 - mu1).unsqueeze(1), sigma2_inverse), mu2 - mu1)\n",
    "\n",
    "torch.matmul(mu2 - mu1, torch.matmul((mu2 - mu1).unsqueeze(1), sigma2_inverse))\n",
    "\n",
    "\n",
    "v = torch.tensor([2,3,4], dtype=torch.float)\n",
    "\n",
    "V = v.diag()\n",
    "\n",
    "V.trace()\n",
    "V.det()\n",
    "\n",
    "V @ torch.ones_like(v)\n",
    "\n",
    "\n",
    "V.diagonal(offset=0, dim1=-1, dim2=-2).sum(-1)\n"
   ]
  },
  {
   "cell_type": "code",
   "execution_count": 83,
   "metadata": {
    "colab": {
     "base_uri": "https://localhost:8080/",
     "height": 126
    },
    "id": "embgzCFiUzNS",
    "outputId": "ce6db8b9-7f82-4da0-d6e7-c2f879f8c51a"
   },
   "outputs": [
    {
     "data": {
      "image/png": "[encoded data removed]",
      "text/plain": [
       "<Figure size 432x288 with 5 Axes>"
      ]
     },
     "metadata": {
      "needs_background": "light",
      "tags": []
     },
     "output_type": "display_data"
    },
    {
     "data": {
      "text/plain": [
       "<Figure size 1296x432 with 0 Axes>"
      ]
     },
     "metadata": {
      "tags": []
     },
     "output_type": "display_data"
    }
   ],
   "source": [
    "display(images[0:5], 5)"
   ]
  },
  {
   "cell_type": "code",
   "execution_count": 108,
   "metadata": {
    "colab": {
     "base_uri": "https://localhost:8080/",
     "height": 218
    },
    "id": "ppfB4BSMeKkX",
    "outputId": "2ae5e405-0f47-4029-f545-40641d323db4"
   },
   "outputs": [
    {
     "data": {
      "image/png": "[encoded data removed]",
      "text/plain": [
       "<Figure size 432x288 with 2 Axes>"
      ]
     },
     "metadata": {
      "needs_background": "light",
      "tags": []
     },
     "output_type": "display_data"
    },
    {
     "data": {
      "text/plain": [
       "<Figure size 1296x432 with 0 Axes>"
      ]
     },
     "metadata": {
      "tags": []
     },
     "output_type": "display_data"
    }
   ],
   "source": [
    "I = 23\n",
    "x = images[I]\n",
    "(_, _), x_hat = model(x.cuda())\n",
    "x_hat = x_hat.view(-1, 28*28)\n",
    "display([x, x_hat], 2)"
   ]
  },
  {
   "cell_type": "code",
   "execution_count": 192,
   "metadata": {
    "id": "4ImvEo9-aK_w"
   },
   "outputs": [],
   "source": [
    "latent_list = []\n",
    "label_list = []\n",
    "label_text_list = []\n",
    "model.eval()\n",
    "for idx, (image_batch, label_batch) in enumerate(train_loader):\n",
    "    with torch.no_grad():\n",
    "        (mu, _), _ = model(image_batch.to(device))\n",
    "        latent_list += [mu1.unsqueeze(0).cpu() for mu1 in mu]\n",
    "    label_list += [int(label) for label in label_batch]\n",
    "    label_text_list += [fmnist_classes[int(label)] for label in label_batch]\n",
    "    if idx > 100:\n",
    "        break\n",
    "latent_array = np.array([tensor.cpu().numpy()[0] for tensor in latent_list])"
   ]
  },
  {
   "cell_type": "code",
   "execution_count": 193,
   "metadata": {
    "id": "zZx1GTbja2rn"
   },
   "outputs": [],
   "source": [
    "reducer = umap.UMAP()\n",
    "scaler = StandardScaler().partial_fit(latent_array)\n",
    "scaled_data = scaler.transform(latent_array)\n",
    "embedding = reducer.fit_transform(scaled_data)"
   ]
  },
  {
   "cell_type": "code",
   "execution_count": 200,
   "metadata": {
    "colab": {
     "base_uri": "https://localhost:8080/",
     "height": 470
    },
    "id": "XspCVkcVbOTA",
    "outputId": "e604c53e-8707-437e-9ece-ffdf5dc9a68d"
   },
   "outputs": [
    {
     "data": {
      "text/plain": [
       "Text(0.5, 1.0, 'Casted latent instances')"
      ]
     },
     "execution_count": 200,
     "metadata": {
      "tags": []
     },
     "output_type": "execute_result"
    },
    {
     "data": {
      "image/png": "[encoded data removed]",
      "text/plain": [
       "<Figure size 504x504 with 1 Axes>"
      ]
     },
     "metadata": {
      "needs_background": "light",
      "tags": []
     },
     "output_type": "display_data"
    }
   ],
   "source": [
    "labels = pd.Series(label_text_list)\n",
    "fig, axes = plt.subplots(1, 1, figsize=(7, 7))\n",
    "c = [[c for c in range(1,11)][x] for x in labels\\\n",
    "       .map({label: i for i, label in enumerate(labels.unique())})]\n",
    "\n",
    "scatter = axes.scatter(\n",
    "                    embedding[:, 0],\n",
    "                    embedding[:, 1],\n",
    "                    c=c,\n",
    "                    cmap='tab20c')\n",
    "\n",
    "# TODO: fix legend real class correlation\n",
    "legend1 = axes.legend(scatter.legend_elements()[0],\\\n",
    "                    [text for text in fmnist_classes],\\\n",
    "                    fontsize=18, prop={'size': 12})\n",
    "\n",
    "axes.add_artist(legend1)\n",
    "fig.canvas.draw()\n",
    "axes.set_title('Casted latent instances', fontsize=25)\n",
    "# plt.savefig('test.png')"
   ]
  },
  {
   "cell_type": "markdown",
   "metadata": {
    "id": "Wkxhz_ozxLhV"
   },
   "source": [
    "### Generate some instaces"
   ]
  },
  {
   "cell_type": "code",
   "execution_count": 213,
   "metadata": {
    "colab": {
     "base_uri": "https://localhost:8080/",
     "height": 282
    },
    "id": "gGTYWyTq3YYl",
    "outputId": "ea89382c-33ee-43e7-9fcb-a7663fd92775"
   },
   "outputs": [
    {
     "data": {
      "image/png": "[encoded data removed]",
      "text/plain": [
       "<Figure size 432x288 with 1 Axes>"
      ]
     },
     "metadata": {
      "needs_background": "light",
      "tags": []
     },
     "output_type": "display_data"
    },
    {
     "data": {
      "text/plain": [
       "<Figure size 1296x432 with 0 Axes>"
      ]
     },
     "metadata": {
      "tags": []
     },
     "output_type": "display_data"
    }
   ],
   "source": [
    "display(images[2], 1)"
   ]
  },
  {
   "cell_type": "code",
   "execution_count": 256,
   "metadata": {
    "colab": {
     "base_uri": "https://localhost:8080/",
     "height": 218
    },
    "id": "zl-0b8C56jl_",
    "outputId": "8afda1e0-079c-404c-d2ff-f20c9972111a"
   },
   "outputs": [
    {
     "data": {
      "image/png": "[encoded data removed]",
      "text/plain": [
       "<Figure size 432x288 with 2 Axes>"
      ]
     },
     "metadata": {
      "needs_background": "light",
      "tags": []
     },
     "output_type": "display_data"
    },
    {
     "data": {
      "text/plain": [
       "<Figure size 1296x432 with 0 Axes>"
      ]
     },
     "metadata": {
      "tags": []
     },
     "output_type": "display_data"
    }
   ],
   "source": [
    "# i = np.random.randint(0,199)\n",
    "i = 2\n",
    "(mu, sigma), _ = model(images[i].to(device))\n",
    "z1 = torch.normal(mu, sigma).to(device)\n",
    "sample = model.decoder(z1)\n",
    "display([images[i], sample], 2)"
   ]
  },
  {
   "cell_type": "code",
   "execution_count": 257,
   "metadata": {
    "colab": {
     "base_uri": "https://localhost:8080/",
     "height": 218
    },
    "id": "nYW1FRH48QaI",
    "outputId": "82616c23-2954-4c30-8bb1-efbba67b67e9"
   },
   "outputs": [
    {
     "data": {
      "image/png": "[encoded data removed]",
      "text/plain": [
       "<Figure size 432x288 with 2 Axes>"
      ]
     },
     "metadata": {
      "needs_background": "light",
      "tags": []
     },
     "output_type": "display_data"
    },
    {
     "data": {
      "text/plain": [
       "<Figure size 1296x432 with 0 Axes>"
      ]
     },
     "metadata": {
      "tags": []
     },
     "output_type": "display_data"
    }
   ],
   "source": [
    "# i = np.random.randint(0,199)\n",
    "i = 3\n",
    "(mu, sigma), _ = model(images[i].to(device))\n",
    "z2 = torch.normal(mu, sigma).to(device)\n",
    "sample = model.decoder(z2)\n",
    "display([images[i], sample], 2)"
   ]
  },
  {
   "cell_type": "code",
   "execution_count": 266,
   "metadata": {
    "colab": {
     "base_uri": "https://localhost:8080/",
     "height": 282
    },
    "id": "-jNA_pP7_IWo",
    "outputId": "ba0d3ae8-819d-4150-c5e1-71da61fe6d58"
   },
   "outputs": [
    {
     "data": {
      "image/png": "[encoded data removed]",
      "text/plain": [
       "<Figure size 432x288 with 1 Axes>"
      ]
     },
     "metadata": {
      "needs_background": "light",
      "tags": []
     },
     "output_type": "display_data"
    },
    {
     "data": {
      "text/plain": [
       "<Figure size 1296x432 with 0 Axes>"
      ]
     },
     "metadata": {
      "tags": []
     },
     "output_type": "display_data"
    }
   ],
   "source": [
    "inv_transformed_points = reducer.inverse_transform([[-1,-2]])\n",
    "sample = model.decoder(torch.tensor(inv_transformed_points).to(device))\n",
    "display([sample], 1)"
   ]
  },
  {
   "cell_type": "code",
   "execution_count": 268,
   "metadata": {
    "colab": {
     "base_uri": "https://localhost:8080/",
     "height": 282
    },
    "id": "X5_B106V_kxG",
    "outputId": "9807c685-c0a0-4780-9ea2-2f88305f0bd1"
   },
   "outputs": [
    {
     "data": {
      "image/png": "[encoded data removed]",
      "text/plain": [
       "<Figure size 432x288 with 1 Axes>"
      ]
     },
     "metadata": {
      "needs_background": "light",
      "tags": []
     },
     "output_type": "display_data"
    },
    {
     "data": {
      "text/plain": [
       "<Figure size 1296x432 with 0 Axes>"
      ]
     },
     "metadata": {
      "tags": []
     },
     "output_type": "display_data"
    }
   ],
   "source": [
    "inv_transformed_points = reducer.inverse_transform([[7,8]])\n",
    "sample = model.decoder(torch.tensor(inv_transformed_points).to(device))\n",
    "display([sample], 1)"
   ]
  },
  {
   "cell_type": "code",
   "execution_count": 277,
   "metadata": {
    "colab": {
     "base_uri": "https://localhost:8080/",
     "height": 166
    },
    "id": "dKPkyNGMAM43",
    "outputId": "d837096f-dc17-425c-ef75-595a8817139a"
   },
   "outputs": [
    {
     "data": {
      "image/png": "[encoded data removed]",
      "text/plain": [
       "<Figure size 432x288 with 3 Axes>"
      ]
     },
     "metadata": {
      "needs_background": "light",
      "tags": []
     },
     "output_type": "display_data"
    },
    {
     "data": {
      "text/plain": [
       "<Figure size 1296x432 with 0 Axes>"
      ]
     },
     "metadata": {
      "tags": []
     },
     "output_type": "display_data"
    }
   ],
   "source": [
    "i1=2\n",
    "i2=4\n",
    "(mu, sigma), _ = model(images[i1].to(device))\n",
    "z1 = torch.normal(mu, sigma).to(device)\n",
    "(mu, sigma), _ = model(images[i2].to(device))\n",
    "z2 = torch.normal(mu, sigma).to(device)\n",
    "sample = model.decoder((z1+z2))\n",
    "display([images[i1], images[i2], sample], 3)"
   ]
  },
  {
   "cell_type": "code",
   "execution_count": 278,
   "metadata": {
    "colab": {
     "base_uri": "https://localhost:8080/",
     "height": 166
    },
    "id": "Pr1IIqFpBKKb",
    "outputId": "63516b85-3029-4dac-d4c2-85134ed7ef12"
   },
   "outputs": [
    {
     "data": {
      "image/png": "[encoded data removed]",
      "text/plain": [
       "<Figure size 432x288 with 3 Axes>"
      ]
     },
     "metadata": {
      "needs_background": "light",
      "tags": []
     },
     "output_type": "display_data"
    },
    {
     "data": {
      "text/plain": [
       "<Figure size 1296x432 with 0 Axes>"
      ]
     },
     "metadata": {
      "tags": []
     },
     "output_type": "display_data"
    }
   ],
   "source": [
    "i1=2\n",
    "i2=4\n",
    "(mu, sigma), _ = model(images[i1].to(device))\n",
    "z1 = torch.normal(mu, sigma).to(device)\n",
    "(mu, sigma), _ = model(images[i2].to(device))\n",
    "z2 = torch.normal(mu, sigma).to(device)\n",
    "sample = model.decoder((z1+2*z2))\n",
    "display([images[i1], images[i2], sample], 3)"
   ]
  },
  {
   "cell_type": "code",
   "execution_count": 279,
   "metadata": {
    "colab": {
     "base_uri": "https://localhost:8080/",
     "height": 166
    },
    "id": "hTHVQagkBOAB",
    "outputId": "a290e38f-54ca-40f6-ae07-4dfa2071e478"
   },
   "outputs": [
    {
     "data": {
      "image/png": "[encoded data removed]",
      "text/plain": [
       "<Figure size 432x288 with 3 Axes>"
      ]
     },
     "metadata": {
      "needs_background": "light",
      "tags": []
     },
     "output_type": "display_data"
    },
    {
     "data": {
      "text/plain": [
       "<Figure size 1296x432 with 0 Axes>"
      ]
     },
     "metadata": {
      "tags": []
     },
     "output_type": "display_data"
    }
   ],
   "source": [
    "i1=2\n",
    "i2=4\n",
    "(mu, sigma), _ = model(images[i1].to(device))\n",
    "z1 = torch.normal(mu, sigma).to(device)\n",
    "(mu, sigma), _ = model(images[i2].to(device))\n",
    "z2 = torch.normal(mu, sigma).to(device)\n",
    "sample = model.decoder((2*z1+z2))\n",
    "display([images[i1], images[i2], sample], 3)"
   ]
  },
  {
   "cell_type": "code",
   "execution_count": 282,
   "metadata": {
    "colab": {
     "base_uri": "https://localhost:8080/",
     "height": 166
    },
    "id": "sTne3ThfBT5m",
    "outputId": "072209c1-8549-468a-f539-28b9fbecd649"
   },
   "outputs": [
    {
     "data": {
      "image/png": "[encoded data removed]",
      "text/plain": [
       "<Figure size 432x288 with 3 Axes>"
      ]
     },
     "metadata": {
      "needs_background": "light",
      "tags": []
     },
     "output_type": "display_data"
    },
    {
     "data": {
      "text/plain": [
       "<Figure size 1296x432 with 0 Axes>"
      ]
     },
     "metadata": {
      "tags": []
     },
     "output_type": "display_data"
    }
   ],
   "source": [
    "i1=3\n",
    "i2=6\n",
    "(mu, sigma), _ = model(images[i1].to(device))\n",
    "z1 = torch.normal(mu, sigma).to(device)\n",
    "(mu, sigma), _ = model(images[i2].to(device))\n",
    "z2 = torch.normal(mu, sigma).to(device)\n",
    "sample = model.decoder((z1+z2)/2)\n",
    "display([images[i1], images[i2], sample], 3)"
   ]
  },
  {
   "cell_type": "code",
   "execution_count": 321,
   "metadata": {
    "colab": {
     "base_uri": "https://localhost:8080/",
     "height": 166
    },
    "id": "kVbAqXJLBf7V",
    "outputId": "cb86aad4-2d7a-4fd7-9dd0-2bad25fdcd26"
   },
   "outputs": [
    {
     "data": {
      "image/png": "[encoded data removed]",
      "text/plain": [
       "<Figure size 432x288 with 3 Axes>"
      ]
     },
     "metadata": {
      "needs_background": "light",
      "tags": []
     },
     "output_type": "display_data"
    },
    {
     "data": {
      "text/plain": [
       "<Figure size 1296x432 with 0 Axes>"
      ]
     },
     "metadata": {
      "tags": []
     },
     "output_type": "display_data"
    }
   ],
   "source": [
    "i1=10\n",
    "i2=35\n",
    "(mu, sigma), _ = model(images[i1].to(device))\n",
    "z1 = torch.normal(mu, sigma).to(device)\n",
    "(mu, sigma), _ = model(images[i2].to(device))\n",
    "z2 = torch.normal(mu, sigma).to(device)\n",
    "sample = model.decoder((2*z1+z2)/2)\n",
    "display([images[i1], images[i2], sample], 3)"
   ]
  }
 ],
 "metadata": {
  "accelerator": "GPU",
  "colab": {
   "collapsed_sections": [],
   "name": "vanilla_vae.ipynb",
   "provenance": []
  },
  "kernelspec": {
   "display_name": "Python 3 (ipykernel)",
   "language": "python",
   "name": "python3"
  },
  "language_info": {
   "codemirror_mode": {
    "name": "ipython",
    "version": 3
   },
   "file_extension": ".py",
   "mimetype": "text/x-python",
   "name": "python",
   "nbconvert_exporter": "python",
   "pygments_lexer": "ipython3",
   "version": "3.7.9"
  }
 },
 "nbformat": 4,
 "nbformat_minor": 1
}
