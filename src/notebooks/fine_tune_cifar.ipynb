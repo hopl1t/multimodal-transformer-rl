{
 "cells": [
  {
   "cell_type": "code",
   "execution_count": null,
   "id": "3e4936df",
   "metadata": {},
   "outputs": [],
   "source": [
    "import os\n",
    "import torch\n",
    "import torch.optim as optim\n",
    "import torch.nn.functional as F\n",
    "from torchvision import transforms\n",
    "from torchvision.datasets import CIFAR100\n",
    "from torch.utils.data import DataLoader\n",
    "from efficientnet_pytorch import EfficientNet\n",
    "\n",
    "dataset_dir = '/D/datasets/CIFAR'\n",
    "batch_size = 32\n",
    "NUM_WORKERS = 4\n",
    "num_epochs = 25\n",
    "\n",
    "train_transform = transforms.Compose([\n",
    "    transforms.Resize(224),\n",
    "    transforms.RandomHorizontalFlip(),\n",
    "    transforms.RandomCrop(224, padding=4),\n",
    "    transforms.ToTensor(),\n",
    "    transforms.Normalize((0.4914, 0.4822, 0.4465), (0.2023, 0.1994, 0.2010)),\n",
    "])\n",
    "test_transform = transforms.Compose([\n",
    "    transforms.Resize(224),\n",
    "    transforms.ToTensor(),\n",
    "    transforms.Normalize((0.4914, 0.4822, 0.4465), (0.2023, 0.1994, 0.2010)),\n",
    "])\n",
    "\n",
    "if os.path.isdir(dataset_dir):\n",
    "    train_data = CIFAR100(root=dataset_dir, train=True, transform=train_transform)\n",
    "    test_data = CIFAR100(root=dataset_dir, train=False, transform=test_transform)\n",
    "else:\n",
    "    os.mkdir(dataset_dir)\n",
    "    train_data = CIFAR100(root=dataset_dir, train=True, download=True, transform=train_transform)\n",
    "    test_data = CIFAR100(root=dataset_dir, train=False, download=True, transform=test_transform)\n",
    "\n",
    "train_loader = DataLoader(train_data, batch_size=batch_size, shuffle=True, num_workers=NUM_WORKERS, drop_last=True)\n",
    "test_loader = DataLoader(test_data, batch_size=batch_size, shuffle=False, num_workers=NUM_WORKERS, drop_last=False)\n",
    "\n",
    "efficientnet = EfficientNet.from_pretrained('efficientnet-b0')\n",
    "efficientnet._fc = torch.nn.Linear(efficientnet._fc.in_features, 100)  # Adjust the number of output classes to 100 for CIFAR100\n",
    "\n",
    "device = torch.device(\"cuda\" if torch.cuda.is_available() else \"cpu\")\n",
    "_ = efficientnet.to(device)\n"
   ]
  },
  {
   "cell_type": "code",
   "execution_count": null,
   "id": "cdee77a6",
   "metadata": {},
   "outputs": [],
   "source": [
    "optimizer = optim.Adam(efficientnet.parameters(), lr=0.001)\n",
    "scheduler = optim.lr_scheduler.StepLR(optimizer, step_size=10, gamma=0.1)\n",
    "\n",
    "def train(epoch):\n",
    "    efficientnet.train()\n",
    "    for batch_idx, (data, target) in enumerate(train_loader):\n",
    "        data, target = data.to(device), target.to(device)\n",
    "        optimizer.zero_grad()\n",
    "        output = efficientnet(data)\n",
    "        loss = F.cross_entropy(output, target)\n",
    "        loss.backward()\n",
    "        optimizer.step()\n",
    "\n",
    "        if batch_idx % 100 == 0:\n",
    "            print(f'Train Epoch: {epoch} [{batch_idx * len(data)}/{len(train_loader.dataset)} ({100. * batch_idx / len(train_loader):.0f}%)]\\tLoss: {loss.item():.6f}')\n",
    "\n",
    "def test():\n",
    "    efficientnet.eval()\n",
    "    test_loss = 0\n",
    "    correct = 0\n",
    "    with torch.no_grad():\n",
    "        for data, target in test_loader:\n",
    "            data, target = data.to(device), target.to(device)\n",
    "            output = efficientnet(data)\n",
    "            test_loss += F.cross_entropy(output, target, reduction='sum').item()\n",
    "            pred = output.argmax(dim=1, keepdim=True)\n",
    "            correct += pred.eq(target.view_as(pred)).sum().item()\n",
    "\n",
    "    test_loss /= len(test_loader.dataset)\n",
    "    print(f'\\nTest set: Average loss: {test_loss:.4f}, Accuracy: {correct}/{len(test_loader.dataset)} ({100. * correct / len(test_loader.dataset):.0f}%)\\n')\n",
    "\n",
    "for epoch in range(1, num_epochs + 1):\n",
    "    train(epoch)\n",
    "    test()\n",
    "    scheduler.step()"
   ]
  },
  {
   "cell_type": "code",
   "execution_count": null,
   "id": "193b8ac5",
   "metadata": {},
   "outputs": [],
   "source": [
    "test_model(efficientnet, test_loader)\n"
   ]
  },
  {
   "cell_type": "code",
   "execution_count": null,
   "id": "4d8cc4bd",
   "metadata": {},
   "outputs": [],
   "source": [
    "torch.save(efficientnet, '/D/models/cifar_efficientnet.pkl')"
   ]
  },
  {
   "cell_type": "code",
   "execution_count": null,
   "id": "f568c64b",
   "metadata": {},
   "outputs": [],
   "source": [
    "efficientnet._fc = torch.nn.Identity()\n",
    "cifar_logits_trian_dataloader = get_logits_dataloader(efficientnet, train_loader, batch_size=32, whiten=False)\n",
    "cifar_logits_val_dataloader = get_logits_dataloader(efficientnet, test_loader, batch_size=32, whiten=False)"
   ]
  },
  {
   "cell_type": "code",
   "execution_count": null,
   "id": "a7e2583c",
   "metadata": {},
   "outputs": [],
   "source": [
    "with open('/D/datasets/CIFAR/logits_dataloaders/logits_train_dataloader.pkl', 'wb') as f:\n",
    "    pickle.dump(cifar_logits_trian_dataloader, f)\n",
    "with open('/D/datasets/CIFAR/logits_dataloaders/logits_test_dataloader.pkl', 'wb') as f:\n",
    "    pickle.dump(cifar_logits_val_dataloader, f)"
   ]
  }
 ],
 "metadata": {
  "kernelspec": {
   "display_name": "Python 3 (ipykernel)",
   "language": "python",
   "name": "python3"
  },
  "language_info": {
   "codemirror_mode": {
    "name": "ipython",
    "version": 3
   },
   "file_extension": ".py",
   "mimetype": "text/x-python",
   "name": "python",
   "nbconvert_exporter": "python",
   "pygments_lexer": "ipython3",
   "version": "3.7.9"
  }
 },
 "nbformat": 4,
 "nbformat_minor": 5
}
